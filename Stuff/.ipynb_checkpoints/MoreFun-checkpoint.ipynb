{
 "cells": [
  {
   "cell_type": "markdown",
   "id": "6638270b-2f08-4624-99ea-9e275c3bb32e",
   "metadata": {},
   "source": [
    "# Test Problems from More et Al\n",
    "## Testing Unconstrained Optimzation Software\n",
    "p26 and on\n",
    "\n",
    "21. An extended Rosenbrock function.  Has coefficeint 10 rather than the steeper and harder 100 common more recently. Also has (or it may be a typo) a different interconnection.  I am going to make a number of different Rosenbrock function.  The steepness parameter is called $a$ in all the variants.  \n",
    "    1. The function as written on p26 with $a=10.0$.\n",
    "    2. The standard separable Rosenbrock function with $a=100.0$.\n",
    "    3. The standard non-separable Rosenbrock function with $a=100.0$.\n",
    "1. Extemde"
   ]
  },
  {
   "cell_type": "code",
   "execution_count": 44,
   "id": "5700c5fc-1891-42be-aae7-0cd0fd4b323d",
   "metadata": {},
   "outputs": [
    {
     "data": {
      "text/plain": [
       "brown (generic function with 1 method)"
      ]
     },
     "execution_count": 44,
     "metadata": {},
     "output_type": "execute_result"
    }
   ],
   "source": [
    "# 21 Rosenbrock\n",
    "\n",
    "function rosenMore(x)\n",
    "    # The Rosenbrock function as in More et al\n",
    "    n=size(x)[1]\n",
    "    a=10.0;\n",
    "    # n needs to be even.\n",
    "    m=div(n,2)\n",
    "    msum=0.0\n",
    "    for i in 2:m\n",
    "        msum+=a*(x[2*i]-x[i-1]^2)^2\n",
    "    end\n",
    "    msum+=(1-x[2*m-1])^2\n",
    "    msum\n",
    "end\n",
    "\n",
    "function rosenSep(x)\n",
    "    # The standard separable Rosenbrock as in https://en.wikipedia.org/wiki/Rosenbrock_function\n",
    "    n=size(x)[1]\n",
    "    a=100.0\n",
    "    # n needs to be even.\n",
    "    m=div(n,2)\n",
    "    msum=0.0\n",
    "    for i in 2:m\n",
    "        msum+=a*(x[2*i]-x[2*i-1]^2)^2\n",
    "        msum+=(1-x[2*i-1])^2\n",
    "    end\n",
    "    msum\n",
    "end\n",
    "\n",
    "function rosenNoSep(x)\n",
    "    # The standard Non-Separable Rosenbrock as in https://en.wikipedia.org/wiki/Rosenbrock_function\n",
    "    n=size(x)[1]\n",
    "    a=100.0\n",
    "    msum=0.0\n",
    "    for i in 2:n\n",
    "        msum+=a*(x[i]-x[i-1]^2)^2\n",
    "    end\n",
    "    msum+=(1-x[n])^2\n",
    "    msum\n",
    "end\n",
    "\n",
    "# 22 extended Powell Singular\n",
    "function powellSing(x)\n",
    "    # The function from More et al\n",
    "    n=size(x)[1]\n",
    "    # n needs to be a multiple of 4\n",
    "    m=div(n,4)\n",
    "    msum=0.0\n",
    "    for i in 1:m\n",
    "        msum+=(x[4i-3]-10.0*x[4i-2])^2\n",
    "        msum+=5.0*(x[4i-1]-x[4])^2\n",
    "        msum+=(x[4i-2]-2.0*x[4i-1])^2\n",
    "        msum+=10.0*(x[4i-3]- x[4i])^2\n",
    "    end\n",
    "    msum\n",
    "end\n",
    "\n",
    "# 23 Penalty Function One\n",
    "function penaltyOne(x)\n",
    "    # The function from More et al\n",
    "    n=size(x)[1]\n",
    "    a=0.000001\n",
    "    msum=0.0\n",
    "    for i in 1:n\n",
    "        msum+=a*(x[i]-1.0)^2\n",
    "    end\n",
    "    msum+=(sum(x.*x) -0.25)^2\n",
    "    msum\n",
    "end\n",
    "\n",
    "# 24 Penalty Function Two\n",
    "function penaltyTwo(x)\n",
    "    # The function from More et al\n",
    "    n=size(x)[1]\n",
    "    a=0.000001\n",
    "    b=0.1\n",
    "    expMinusATenth=exp(-0.1)\n",
    "    msum=x[1]-0.2\n",
    "    for i in 2:n\n",
    "        y = exp(b*i)+exp(b*(i-1.0)) \n",
    "        msum+=a*(exp(b*x[i])+exp(b*x[i-1]) -y)^2\n",
    "    end\n",
    "    for i in n+1:2n-1\n",
    "        msum+=a*(exp(b*x[i-n+1])-expMinusATenth)^2\n",
    "    end\n",
    "    nsum=0.0\n",
    "    for j in 1:n \n",
    "        nsum+=(n-j+1.0)*x[j]^2\n",
    "    end\n",
    "    msum+=(nsum -1.0)^2\n",
    "    msum\n",
    "end\n",
    "\n",
    "# 25 Variably Dimensioned Function\n",
    "function varDim(x)\n",
    "    # The function from More et al p27\n",
    "    # I am reading the $f_{n+2}$ term as a square in the paper i.e a quadratic term. \n",
    "    # The $f_{n+1}$ seems redundant!  \n",
    "    n=size(x)[1]\n",
    "    msum=0.0\n",
    "    for j in 1:n\n",
    "        msum+=(x[j]-1.0)^2\n",
    "    end\n",
    "    nsum=0.0\n",
    "    for j in 1:n\n",
    "        nsum+=j*(x[j]-1.0)^2\n",
    "    end\n",
    "    msum+= nsum^2 + nsum^4 \n",
    "    msum\n",
    "end\n",
    "\n",
    "# 26 Trignometric Function\n",
    "function trig(x)\n",
    "    # The function from More et al p27\n",
    "    n=size(x)[1]\n",
    "    cosSum=0.0\n",
    "    for j in 1:n\n",
    "        cosSum+=(cos(x[j]))^2\n",
    "    end\n",
    "    msum=0.0\n",
    "    for i in 1:n    \n",
    "        msum+=(n-cosSum + i*(1-cos(x[i]))-sin(x[i]))^2\n",
    "    end\n",
    "    msum\n",
    "end\n",
    "\n",
    "# 27 Brown almost linear\n",
    "function brown(x)\n",
    "    # The function from More et al p27\n",
    "    n=size(x)[1]\n",
    "    msum=0.0\n",
    "    for i in 1:n-1    \n",
    "        msum+=(x[i]+ sum(x)-(n+1.0))^2\n",
    "    end\n",
    "    msum+=(prod(x)-1.0)^2\n",
    "end\n",
    "\n",
    "# 28 Brown almost linear\n",
    "function brown(x)\n",
    "    # The function from More et al p27\n",
    "    n=size(x)[1]\n",
    "    msum=0.0\n",
    "    for i in 1:n-1    \n",
    "        msum+=(x[i]+ sum(x)-(n+1.0))^2\n",
    "    end\n",
    "    msum+=(prod(x)-1.0)^2\n",
    "end\n",
    "\n"
   ]
  },
  {
   "cell_type": "code",
   "execution_count": 46,
   "id": "2488eea4-6cd5-4298-b9c5-86bad28b10a2",
   "metadata": {},
   "outputs": [
    {
     "data": {
      "text/plain": [
       "(0.0653996828544878, 5.224396999650231, 104.23219052163802, 3.6846992669843965, 2.191709574550702, 10.522764413381344, 36.24629358560471, 8.147241889974019, 14.203441700168772)"
      ]
     },
     "execution_count": 46,
     "metadata": {},
     "output_type": "execute_result"
    }
   ],
   "source": [
    "n=4;\n",
    "x=rand(n)\n",
    "(rosenMore(x),rosenSep(x),rosenNoSep(x),powellSing(x),penaltyOne(x),penaltyTwo(x),varDim(x),trig(x),brown(x))"
   ]
  },
  {
   "cell_type": "code",
   "execution_count": 17,
   "id": "2b061561-7ba0-4ebe-8907-637213090812",
   "metadata": {},
   "outputs": [
    {
     "data": {
      "text/plain": [
       "3-element Vector{Int64}:\n",
       "  0\n",
       "  4\n",
       " 27"
      ]
     },
     "execution_count": 17,
     "metadata": {},
     "output_type": "execute_result"
    }
   ],
   "source": [
    "x = [1,2,3]\n",
    "[0,1,3].*x.*x"
   ]
  },
  {
   "cell_type": "code",
   "execution_count": 3,
   "id": "80d6d04d-207f-441f-b82b-2ee78122a22d",
   "metadata": {},
   "outputs": [
    {
     "data": {
      "text/plain": [
       "2.0949510339313795"
      ]
     },
     "execution_count": 3,
     "metadata": {},
     "output_type": "execute_result"
    }
   ],
   "source": [
    "sum(x)"
   ]
  },
  {
   "cell_type": "code",
   "execution_count": 4,
   "id": "df04cb19-af94-4953-b592-21ac0dbfca56",
   "metadata": {},
   "outputs": [
    {
     "data": {
      "text/plain": [
       "1.5412705442829489"
      ]
     },
     "execution_count": 4,
     "metadata": {},
     "output_type": "execute_result"
    }
   ],
   "source": [
    "sum(x.*x)"
   ]
  },
  {
   "cell_type": "code",
   "execution_count": null,
   "id": "6377ef32-8f0c-415e-b387-83eed276cc6e",
   "metadata": {},
   "outputs": [],
   "source": []
  }
 ],
 "metadata": {
  "kernelspec": {
   "display_name": "Julia 1.6.3",
   "language": "julia",
   "name": "julia-1.6"
  },
  "language_info": {
   "file_extension": ".jl",
   "mimetype": "application/julia",
   "name": "julia",
   "version": "1.6.3"
  }
 },
 "nbformat": 4,
 "nbformat_minor": 5
}

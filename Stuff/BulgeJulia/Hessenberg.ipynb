{
 "cells": [
  {
   "cell_type": "markdown",
   "id": "1d3e422f-1d2d-4fe9-961d-ca3f050fc8b7",
   "metadata": {},
   "source": [
    "# Householder and Givens Tools\n",
    "\n",
    "The plan is to implement a number of things in pure Julia to provide access to the AD tools.\n",
    "\n",
    "1. Single step in place two-sided Householder reduction\n",
    "1. XXX"
   ]
  },
  {
   "cell_type": "markdown",
   "id": "3d6458f1-d463-47fe-94d1-77787050f57f",
   "metadata": {},
   "source": [
    "## Householder"
   ]
  },
  {
   "cell_type": "markdown",
   "id": "1c57de02-6ce5-496c-9592-f821273042d5",
   "metadata": {
    "jp-MarkdownHeadingCollapsed": true,
    "tags": []
   },
   "source": [
    "## Householder Start"
   ]
  },
  {
   "cell_type": "code",
   "execution_count": 87,
   "id": "b85498e0-aab0-4abf-b349-41789c2abbe6",
   "metadata": {},
   "outputs": [
    {
     "name": "stdout",
     "output_type": "stream",
     "text": [
      "3.589387267483526e-15"
     ]
    },
    {
     "data": {
      "text/plain": [
       "5×5 Matrix{Float64}:\n",
       "  0.0134093     1.11518      0.194692      0.120225  -0.461721\n",
       "  1.08501       1.81417      0.88617      -0.505577   0.0925293\n",
       "  1.54373e-17   1.32182      0.698382      0.747266  -0.00751425\n",
       "  7.72658e-17  -1.66533e-16  0.12028      -0.216856   0.224815\n",
       " -7.82153e-17  -3.88578e-16  1.38778e-17   0.191219   0.293834"
      ]
     },
     "execution_count": 87,
     "metadata": {},
     "output_type": "execute_result"
    }
   ],
   "source": [
    "using LinearAlgebra\n",
    "m=5;\n",
    "A = rand(m,m); H=copy(A)\n",
    "v=zeros(m)\n",
    "# 1st column\n",
    "i=1\n",
    "v=zeros(m)\n",
    "v[i+1:m] = H[i+1:m,i]\n",
    "v[i+1]-=norm(v)\n",
    "v /= norm(v)\n",
    "H -= 2.0*(H*v)*v'\n",
    "H -= 2.0*v*(H'*v)'\n",
    "# 2nd column\n",
    "i=2\n",
    "v=zeros(m)\n",
    "v[i+1:m] = H[i+1:m,i]\n",
    "v[i+1]-=norm(v)\n",
    "v /= norm(v)\n",
    "H -= 2.0*(H*v)*v'\n",
    "H -= 2.0*v*(H'*v)'\n",
    "# 3rd column \n",
    "# with mutation and fixed storage for v as an m vector\n",
    "i=3\n",
    "#v=0*v\n",
    "v[i+1:m] = H[i+1:m,i]\n",
    "v[i+1]-=norm(v[i+1:m])\n",
    "v[i+1:m] /= norm(v[i+1:m])\n",
    "H[i+1:m,i:m] -= 2.0*v[i+1:m]*(H[i+1:m,i:m]'*v[i+1:m])'\n",
    "H[1:m,i+1:m] -= 2.0*(H[1:m,i+1:m]*v[i+1:m])*v[i+1:m]'\n",
    "# Check\n",
    "print(norm(eigen(A).values-eigen(H).values))\n",
    "H"
   ]
  },
  {
   "cell_type": "markdown",
   "id": "c9689b86-f0a8-450a-b523-d8939e857eb7",
   "metadata": {
    "jp-MarkdownHeadingCollapsed": true,
    "tags": []
   },
   "source": [
    "## Loop Script"
   ]
  },
  {
   "cell_type": "code",
   "execution_count": 88,
   "id": "f70e6bb1-aa94-4e7a-bb4c-a137cecc2c5a",
   "metadata": {},
   "outputs": [
    {
     "name": "stdout",
     "output_type": "stream",
     "text": [
      "2.16724662841394e-15"
     ]
    },
    {
     "data": {
      "text/plain": [
       "5×5 Matrix{Float64}:\n",
       "  0.826014     0.814989     0.501048      0.345439    0.0581925\n",
       "  1.37216      1.40698      0.425821      1.11297    -0.158519\n",
       " -5.55112e-17  1.17193      0.31592       0.241514   -0.534538\n",
       "  0.0          0.0          0.606833     -0.0662567  -0.509651\n",
       " -2.22045e-16  1.11022e-16  2.22045e-16  -0.416923    0.0215552"
      ]
     },
     "execution_count": 88,
     "metadata": {},
     "output_type": "execute_result"
    }
   ],
   "source": [
    "using LinearAlgebra\n",
    "m=5;\n",
    "A = rand(m,m); H=copy(A)\n",
    "v=zeros(m)\n",
    "for i in 1:m-2\n",
    "    v[i+1:m] = H[i+1:m,i]\n",
    "    v[i+1]-=norm(v[i+1:m])\n",
    "    v[i+1:m] /= norm(v[i+1:m])\n",
    "    H[i+1:m,i:m] -= 2.0*v[i+1:m]*(H[i+1:m,i:m]'*v[i+1:m])'\n",
    "    H[1:m,i+1:m] -= 2.0*(H[1:m,i+1:m]*v[i+1:m])*v[i+1:m]'\n",
    "end\n",
    "# Check\n",
    "print(norm(eigen(A).values-eigen(H).values))\n",
    "H"
   ]
  },
  {
   "cell_type": "markdown",
   "id": "00e5e108-ed35-44d1-9f00-d3e0fe6a08fb",
   "metadata": {
    "tags": []
   },
   "source": [
    "## In place function with workspace."
   ]
  },
  {
   "cell_type": "markdown",
   "id": "a11ac878-3f09-40e5-bea6-47cb7a164223",
   "metadata": {},
   "source": [
    "The fixed size workspace is called v. It is a full size m vector. \n",
    "\n",
    "Note: I can use a smaller \"end\" value \"k\" for the bulge structure. "
   ]
  },
  {
   "cell_type": "code",
   "execution_count": 54,
   "id": "17cb6ec6-9bc1-48ac-bb5b-7cceb7fd144c",
   "metadata": {},
   "outputs": [
    {
     "data": {
      "text/plain": [
       "HessPosUp (generic function with 1 method)"
      ]
     },
     "execution_count": 54,
     "metadata": {},
     "output_type": "execute_result"
    }
   ],
   "source": [
    "function HessPosDown(H,v,i,k)\n",
    "    # Downwards lower triangular Householder variant with positive subdiagonal. \n",
    "    # bottom subdiagonal sign can be -\n",
    "    v[i+1:k] = H[i+1:k,i]\n",
    "    v[i+1]-=norm(v[i+1:k])\n",
    "    v[i+1:k] /= norm(v[i+1:k])\n",
    "    H[i+1:k,i:k] -= 2.0*v[i+1:k]*(H[i+1:k,i:k]'*v[i+1:k])'\n",
    "    H[1:k,i+1:k] -= 2.0*(H[1:k,i+1:k]*v[i+1:k])*v[i+1:k]'\n",
    "end\n",
    "\n",
    "function HessPosUp(H,v,i,k)\n",
    "    # Upwards lower triangular Householder variant with positive subdiagonal. \n",
    "    # top subdiagonal sign can be -\n",
    "    v[i+1:k] = H[i,i+1:k]\n",
    "    v[i+1]-=norm(v[i+1:k])\n",
    "    v[i+1:k] /= norm(v[i+1:k])\n",
    "    H[i+1:k,i:k] -= 2.0*v[i+1:k]*(H[i+1:k,i:k]'*v[i+1:k])'\n",
    "    H[1:k,i+1:k] -= 2.0*(H[1:k,i+1:k]*v[i+1:k])*v[i+1:k]'\n",
    "end"
   ]
  },
  {
   "cell_type": "code",
   "execution_count": 76,
   "id": "36ebf00f-dea5-4b34-bc94-c5e10e874f2b",
   "metadata": {},
   "outputs": [],
   "source": [
    "using LinearAlgebra\n",
    "m=4\n",
    "A=rand(m,m); HD = copy(A); HU = copy(A); v=zeros(m)\n",
    "# Downwards variant\n",
    "for i in 1:1:m-2\n",
    "    HessPosDown(HD,v,i,m)\n",
    "end\n",
    "# Fix ultimate subdiagonal sign if needed \n",
    "if HD[m,m-1]<0 \n",
    "        HD[m,1:m]*=-1;HD[1:m,m]*=-1 \n",
    "end\n",
    "triu!(HD,-1)\n",
    "println(\"eval diff down: \",norm(eigen(HD).values - eigen(A).values))"
   ]
  },
  {
   "cell_type": "code",
   "execution_count": 78,
   "id": "0891c30e-148f-45f2-ab95-bd81907693f8",
   "metadata": {},
   "outputs": [
    {
     "data": {
      "text/plain": [
       "4×4 Matrix{Float64}:\n",
       " 0.455758  0.548601    0.861171  NaN\n",
       " 0.99836   0.606171    0.705193  NaN\n",
       " 0.823653  0.770931    0.434828  NaN\n",
       " 0.12408   0.505592  NaN         NaN"
      ]
     },
     "execution_count": 78,
     "metadata": {},
     "output_type": "execute_result"
    }
   ],
   "source": [
    "using LinearAlgebra\n",
    "m=4\n",
    "A=rand(m,m); HD = copy(A); HU = copy(A); v=zeros(m)\n",
    "# Upwards variant\n",
    "for i in m-1:m-1\n",
    "    HessPosDown(HU,v,i,m)\n",
    "end\n",
    "HU"
   ]
  },
  {
   "cell_type": "code",
   "execution_count": 72,
   "id": "f5b7dd1f-0f82-4259-97d3-39a3ca3f3763",
   "metadata": {},
   "outputs": [
    {
     "name": "stdout",
     "output_type": "stream",
     "text": [
      "eval diff down: 5.453105385130469e-16\n",
      "eval diff up: 0.0\n",
      "0.0\n"
     ]
    }
   ],
   "source": [
    "println(\"eval diff down: \",norm(eigen(HD).values - eigen(A).values))\n",
    "println(\"eval diff up: \",norm(eigen(HU).values - eigen(A).values))\n",
    "println(norm(A-HU))"
   ]
  },
  {
   "cell_type": "code",
   "execution_count": 71,
   "id": "631a4b4a-4ed7-4b48-a7a3-b4588798e6d0",
   "metadata": {},
   "outputs": [
    {
     "data": {
      "text/plain": [
       "4×4 Matrix{Float64}:\n",
       " 0.572427  0.468067    0.641378  NaN\n",
       " 0.902801  0.717841    0.575609  NaN\n",
       " 0.371599  0.351586    0.899509  NaN\n",
       " 0.829578  0.161262  NaN         NaN"
      ]
     },
     "execution_count": 71,
     "metadata": {},
     "output_type": "execute_result"
    }
   ],
   "source": [
    "HU"
   ]
  },
  {
   "cell_type": "code",
   "execution_count": 30,
   "id": "ce6fc1d2-5c25-471e-8ce8-49421121af20",
   "metadata": {},
   "outputs": [
    {
     "name": "stdout",
     "output_type": "stream",
     "text": [
      "eval diff: 4.994769877343149e-15\n"
     ]
    },
    {
     "data": {
      "text/plain": [
       "7×7 Matrix{Float64}:\n",
       " 0.793949  1.74034  0.88086   0.0583797  -0.111496   -0.327828  -0.0778597\n",
       " 1.22369   2.15831  0.541881  0.881448   -0.323069    0.115179   0.213928\n",
       " 0.0       1.69135  0.801177  0.24762    -0.212174    0.110208   0.254577\n",
       " 0.0       0.0      0.438226  0.278147    0.417774    0.133067   0.0961536\n",
       " 0.0       0.0      0.0       0.658582    0.0424085   0.194908   0.303863\n",
       " 0.0       0.0      0.0       0.0         0.290043    0.170293  -0.469382\n",
       " 0.0       0.0      0.0       0.0         0.0        -0.532372   0.210992"
      ]
     },
     "execution_count": 30,
     "metadata": {},
     "output_type": "execute_result"
    }
   ],
   "source": [
    "using LinearAlgebra, PlotlyJS\n",
    "m=7;\n",
    "A = rand(m,m); H=copy(A); v=zeros(m);\n",
    "for i in 1:m-2\n",
    "    Hess1(H,v,i,m)\n",
    "end\n",
    "H=triu(H,-1)\n",
    "println(\"eval diff: \",norm(eigen(H).values -eigen(A).values))\n",
    "H"
   ]
  },
  {
   "cell_type": "markdown",
   "id": "07eb7362-7e75-44bd-b692-1f74ee4423af",
   "metadata": {},
   "source": [
    "# Multiple Shifts\n",
    "\n",
    "I need to build the first column of the product \n",
    "\n",
    "$$\n",
    "(H-\\mu_1 I)(H-\\mu_2 I) ... (H-\\mu_p I)\n",
    "$$\n",
    "\n",
    "I am going to input a list of shifts \"mu\", the Hessenberg matrix H and a workspace \"col\" for the output. I also need to last row but we will do that later. "
   ]
  },
  {
   "cell_type": "code",
   "execution_count": 16,
   "id": "d1f24613-df2b-4e4d-bcc1-f4f303480628",
   "metadata": {},
   "outputs": [
    {
     "data": {
      "text/plain": [
       "LastRowFromShifts (generic function with 1 method)"
      ]
     },
     "execution_count": 16,
     "metadata": {},
     "output_type": "execute_result"
    }
   ],
   "source": [
    "function FirstColFromShifts(H, mu)\n",
    "    # H is a Hessenberg matrix and mus is a list of p shifts \n",
    "    # output is in the first p+1 entries of col \n",
    "    p = size(mu)[1]\n",
    "    col = H[:,1]; col[1]-=mu[1]\n",
    "    for i in 2:p\n",
    "        col =H*col-mu[i]*col\n",
    "    end\n",
    "    col\n",
    "end\n",
    "\n",
    "function LastRowFromShifts(H, mu)\n",
    "    # H is a Hessenberg matrix and mus is a list of p shifts \n",
    "    # output is in the last p+1 entries of row \n",
    "    p = size(mu)[1]\n",
    "    m=size(H)[1]\n",
    "    row = H[m,:]; row[m]-=mu[1]\n",
    "    for i in 2:p\n",
    "        row =H'*row-mu[i]*row\n",
    "    end\n",
    "    row\n",
    "end"
   ]
  },
  {
   "cell_type": "code",
   "execution_count": 17,
   "id": "50e79526-8d53-4c02-87cf-7a60a0abdc53",
   "metadata": {},
   "outputs": [
    {
     "data": {
      "text/plain": [
       "5×5 Matrix{Float64}:\n",
       "  4.98381  -3.39309   -0.103377  -2.68368   -1.40058\n",
       " -1.34573   4.45099   -2.36094   -0.589802  -1.22046\n",
       "  0.117    -1.46573    3.60625   -0.105566  -1.4393\n",
       "  0.0       0.168866  -1.92965    5.68155   -1.55354\n",
       "  0.0       0.0        0.327647  -3.26221    4.6509"
      ]
     },
     "execution_count": 17,
     "metadata": {},
     "output_type": "execute_result"
    }
   ],
   "source": [
    "using LinearAlgebra\n",
    "(m,p)=(5,2) \n",
    "H=triu(rand(m,m),-1) \n",
    "col=zeros(m) \n",
    "mu=zeros(p); mu[1]=2; mu[2]=3 \n",
    "FirstCol = FirstColFromShifts(H,mu) \n",
    "LastRow = LastRowFromShifts(H,mu) \n",
    "ShiftProd=H-mu[1]*I\n",
    "for i in 2:p\n",
    "    ShiftProd=ShiftProd*(H-mu[i]*I)\n",
    "end\n",
    "ShiftProd"
   ]
  },
  {
   "cell_type": "code",
   "execution_count": 20,
   "id": "12786cf3-d0ea-4677-bf2c-99184c67b9aa",
   "metadata": {},
   "outputs": [
    {
     "data": {
      "text/plain": [
       "2×5 adjoint(::Matrix{Float64}) with eltype Float64:\n",
       " 4.98381  -1.34573  0.117      0.0      0.0\n",
       " 0.0       0.0      0.327647  -3.26221  4.6509"
      ]
     },
     "execution_count": 20,
     "metadata": {},
     "output_type": "execute_result"
    }
   ],
   "source": [
    "[FirstCol LastRow]'"
   ]
  },
  {
   "cell_type": "code",
   "execution_count": 24,
   "id": "5b4f081d-42b9-4158-98e9-ffeb1fe6ce36",
   "metadata": {},
   "outputs": [
    {
     "ename": "LoadError",
     "evalue": "UndefVarError: a11 not defined",
     "output_type": "error",
     "traceback": [
      "UndefVarError: a11 not defined",
      "",
      "Stacktrace:",
      " [1] top-level scope",
      "   @ In[24]:2",
      " [2] eval",
      "   @ .\\boot.jl:360 [inlined]",
      " [3] include_string(mapexpr::typeof(REPL.softscope), mod::Module, code::String, filename::String)",
      "   @ Base .\\loading.jl:1116"
     ]
    }
   ],
   "source": []
  },
  {
   "cell_type": "code",
   "execution_count": null,
   "id": "6d2c5957-8992-4bc4-b2a6-e329f3e63122",
   "metadata": {},
   "outputs": [],
   "source": []
  }
 ],
 "metadata": {
  "kernelspec": {
   "display_name": "Julia 1.6.3",
   "language": "julia",
   "name": "julia-1.6"
  },
  "language_info": {
   "file_extension": ".jl",
   "mimetype": "application/julia",
   "name": "julia",
   "version": "1.6.3"
  }
 },
 "nbformat": 4,
 "nbformat_minor": 5
}

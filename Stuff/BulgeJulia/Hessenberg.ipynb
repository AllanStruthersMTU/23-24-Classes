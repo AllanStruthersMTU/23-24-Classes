{
 "cells": [
  {
   "cell_type": "markdown",
   "id": "1d3e422f-1d2d-4fe9-961d-ca3f050fc8b7",
   "metadata": {},
   "source": [
    "# Householder and Givens Tools\n",
    "\n",
    "The plan is to implement a number of things in pure Julia to provide access to the AD tools.\n",
    "\n",
    "1. Single step in place two-sided Householder reduction\n",
    "1. XXX"
   ]
  },
  {
   "cell_type": "code",
   "execution_count": 104,
   "id": "b85498e0-aab0-4abf-b349-41789c2abbe6",
   "metadata": {},
   "outputs": [
    {
     "data": {
      "text/plain": [
       "4×4 Matrix{Float64}:\n",
       "  0.259098     -0.865233   -0.537316   0.00115405\n",
       " -1.43298       1.74446    -0.185918   0.259714\n",
       "  0.0           0.0797151   0.250835   0.198617\n",
       " -1.11022e-16   0.131313   -0.102626  -0.228004"
      ]
     },
     "execution_count": 104,
     "metadata": {},
     "output_type": "execute_result"
    }
   ],
   "source": [
    "using Pkg\n",
    "# Pkg.add(\"Gadfly\")\n",
    "using LinearAlgebra, Gadfly\n",
    "m=4;\n",
    "A = rand(m,m); H=copy(A)\n",
    "v=zeros(m)\n",
    "v[2:m] = H[2:m,1];\n",
    "v[2]+=norm(v);\n",
    "v = v/norm(v);\n",
    "H = H - 2.0*(H*v)*v';\n",
    "H = H - 2.0*v*(H'*v)';\n",
    "norm(eigen(A).values-eigen(H).values)\n",
    "H"
   ]
  },
  {
   "cell_type": "code",
   "execution_count": 54,
   "id": "ec3fa2ff-3121-4c62-8e2b-253330bf4093",
   "metadata": {},
   "outputs": [
    {
     "data": {
      "text/plain": [
       "4-element Vector{ComplexF64}:\n",
       " -0.2699678680770858 - 0.23689486356907233im\n",
       " -0.2699678680770858 + 0.23689486356907233im\n",
       "  0.5259899376667638 + 0.0im\n",
       "  1.8432171191001872 + 0.0im"
      ]
     },
     "execution_count": 54,
     "metadata": {},
     "output_type": "execute_result"
    }
   ],
   "source": [
    "eigen(A).values"
   ]
  },
  {
   "cell_type": "code",
   "execution_count": 32,
   "id": "e24fd2c4-abc1-410d-8972-9395010b6e30",
   "metadata": {},
   "outputs": [
    {
     "data": {
      "text/plain": [
       "4.619472857234462e-16"
      ]
     },
     "execution_count": 32,
     "metadata": {},
     "output_type": "execute_result"
    }
   ],
   "source": [
    "u=rand(m);\n",
    "UU=u*u'\n",
    "norm(H*UU-(H*u)*u')\n",
    "norm(UU*H - u*(H'*u)' )"
   ]
  },
  {
   "cell_type": "markdown",
   "id": "a002ca18-3f6a-40c7-b506-388e22b8f28d",
   "metadata": {},
   "source": [
    "Eigenvectors in the eigen command are in the columns of the output."
   ]
  },
  {
   "cell_type": "code",
   "execution_count": 34,
   "id": "da39a66e-d727-4fc8-ad3c-133463622f65",
   "metadata": {},
   "outputs": [
    {
     "data": {
      "text/plain": [
       "2.277987190955421e-15"
      ]
     },
     "execution_count": 34,
     "metadata": {},
     "output_type": "execute_result"
    }
   ],
   "source": [
    "using LinearAlgebra\n",
    "(lambda, V)=eigen(A)\n",
    "\n",
    "norm(A*V[:,1] -lambda[1]*V[:,1])"
   ]
  },
  {
   "cell_type": "markdown",
   "id": "933d2c18-1eac-442f-9567-ad790f103242",
   "metadata": {},
   "source": [
    "You can call out individual entries of a matrix or vector using indices and "
   ]
  },
  {
   "cell_type": "code",
   "execution_count": 35,
   "id": "2a48903a-08a7-4aab-9ee1-c283a68f2af1",
   "metadata": {},
   "outputs": [
    {
     "data": {
      "text/plain": [
       "3×3 Matrix{Float64}:\n",
       " -0.566934   1.68297    1.33585\n",
       "  1.28433   -0.475388   1.14267\n",
       " -0.586654   0.633992  -0.382523"
      ]
     },
     "execution_count": 35,
     "metadata": {},
     "output_type": "execute_result"
    }
   ],
   "source": [
    "A"
   ]
  },
  {
   "cell_type": "code",
   "execution_count": 38,
   "id": "08dead75-0d5c-4ec2-9d9a-8466bbbb2a03",
   "metadata": {},
   "outputs": [
    {
     "data": {
      "text/plain": [
       "1.142665811032841"
      ]
     },
     "execution_count": 38,
     "metadata": {},
     "output_type": "execute_result"
    }
   ],
   "source": [
    "(i,j)=(2,3)\n",
    "A[i,j]"
   ]
  },
  {
   "cell_type": "code",
   "execution_count": null,
   "id": "5a998f06-9153-4ea9-8c4f-248085d9404b",
   "metadata": {},
   "outputs": [],
   "source": []
  }
 ],
 "metadata": {
  "kernelspec": {
   "display_name": "Julia 1.6.3",
   "language": "julia",
   "name": "julia-1.6"
  },
  "language_info": {
   "file_extension": ".jl",
   "mimetype": "application/julia",
   "name": "julia",
   "version": "1.6.3"
  }
 },
 "nbformat": 4,
 "nbformat_minor": 5
}

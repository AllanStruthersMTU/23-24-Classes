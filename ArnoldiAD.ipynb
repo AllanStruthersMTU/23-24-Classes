{
 "cells": [
  {
   "cell_type": "markdown",
   "id": "86cb8507-dbd1-4893-8f02-6ce888a1ce12",
   "metadata": {},
   "source": [
    "# Basic Arnoldi\n",
    "\n",
    "From ChatGPT precursor"
   ]
  },
  {
   "cell_type": "code",
   "execution_count": 41,
   "id": "4ddb9a68-ed02-4b78-9d8e-0c2a36a3534f",
   "metadata": {},
   "outputs": [
    {
     "data": {
      "text/plain": [
       "ArnoldiStd (generic function with 1 method)"
      ]
     },
     "execution_count": 41,
     "metadata": {},
     "output_type": "execute_result"
    }
   ],
   "source": [
    "using LinearAlgebra\n",
    "function ArnoldiStd(A, v, m)            # A is nxn and v is an n vector \n",
    "    n = size(A,1)\n",
    "    Q = Matrix{Float64}(undef, n, m+1)  # Orthogonal vectors\n",
    "    H = zeros(Float64, m+1, m)          # Upper Hessenberg matrix\n",
    "    # Store v in first column of Q\n",
    "    Q[:, 1] = v\n",
    "    for k = 1:m # Arnoldi iteration\n",
    "        w = A*Q[:, k]\n",
    "        for j = 1:k # Orthogonalization using modified Gram-Schmidt\n",
    "            H[j, k] = dot(Q[:, j], w)\n",
    "            w -= H[j, k] * Q[:, j]\n",
    "        end\n",
    "        H[k+1, k] = norm(w)\n",
    "        Q[:, k+1] = w / H[k+1, k]\n",
    "    end\n",
    "    return Q, H\n",
    "end"
   ]
  },
  {
   "cell_type": "markdown",
   "id": "217fc09d-25be-4544-a2b2-efc4eb7d7963",
   "metadata": {},
   "source": [
    "## AD Directional Derivative Code\n",
    "Forward Diff was abandoned in favor of writing a self contained efficiient code. Below is the first derivative code. The first column of B contains v. The remainng columns contains b directions perpendicular to v."
   ]
  },
  {
   "cell_type": "code",
   "execution_count": 74,
   "id": "ff1ae898-16dd-4f8d-b6c2-fd8da77d08f5",
   "metadata": {},
   "outputs": [
    {
     "data": {
      "text/plain": [
       "ArnoldiDD (generic function with 1 method)"
      ]
     },
     "execution_count": 74,
     "metadata": {},
     "output_type": "execute_result"
    }
   ],
   "source": [
    "using LinearAlgebra\n",
    "function ArnoldiDD(A, v, dv, m)            # A is nxn and v and dv are n vectors \n",
    "    n = size(A,1)\n",
    "    Q = zeros(Float64, n, m+1)  # Orthogonal vectors\n",
    "    dQ= zeros(Float64, n, m+1)  # Directional Derivative of Q\n",
    "    H = zeros(Float64, m+1, m)  # Upper Hessenberg matrix\n",
    "    dH= zeros(Float64, m+1, m)  # Directional Derivative of H\n",
    "    # Store v and dv in first column of Q and dQ\n",
    "     Q[:, 1] = v\n",
    "    dQ[:, 1] = dv\n",
    "    for k = 1:m # Arnoldi iteration\n",
    "        w = A*Q[:, k]; dw=A*dQ[:,k]\n",
    "        for j = 1:k # Orthogonalization using modified Gram-Schmidt\n",
    "            dH[j, k] = dot(dQ[:, j], w)+dot(Q[:, j], dw)\n",
    "            H[j, k] = dot(Q[:, j], w)\n",
    "            dw -=dH[j,k]*Q[:,j]+H[j,k]*dQ[:,j]\n",
    "            w -= H[j, k]*Q[:, j]\n",
    "        end\n",
    "        dH[k+1, k] = dot(w,dw)/norm(w)\n",
    "        H[k+1, k] = norm(w)\n",
    "        dQ[:,k+1] = dw/H[k+1,k]- w*dH[k+1,k]/H[k+1,k]^2\n",
    "        Q[:, k+1] = w / H[k+1, k]\n",
    "    end\n",
    "    return Q, dQ, H, dH\n",
    "end"
   ]
  },
  {
   "cell_type": "code",
   "execution_count": 102,
   "id": "6ac8ab9b-da78-4f00-a1ad-cbee7aff6829",
   "metadata": {},
   "outputs": [
    {
     "data": {
      "text/plain": [
       "(1.6891950538468234e-13, 1.7961591862316718e-16)"
      ]
     },
     "execution_count": 102,
     "metadata": {},
     "output_type": "execute_result"
    }
   ],
   "source": [
    "using MMGet, SparseArrays\n",
    "A = mmget(\"https://math.nist.gov/pub/MatrixMarket2/Harwell-Boeing/bcsstruc1/bcsstk01.mtx.gz\", keep_files = false)\n",
    "(b, m) = (1,12)\n",
    "n = size(A,1)\n",
    "B = (qr(rand(n,b+1)).Q)*Matrix(1.0I, b+1, b+1) # The Q field converts to thick by default\n",
    "(v, dv) = (B[:,1], B[:,2])\n",
    "(Q,H) = ArnoldiStd(A, v, m)\n",
    "(Qn,dQn,Hn,dHn) = ArnoldiDD(A, v, dv, m)\n",
    "# A*Q[:,1:m] = Q*H so A*dQ[:,1:m] = dQ*H+Q*dH\n",
    "# Q'*Q = I so dQ'*Q + Q'*dQ = 0 i.e W=Q'*dQ is skew\n",
    "W = Qn'*dQn\n",
    "(norm(W+W'),norm(dQn*H+Qn*dHn-A*dQn[:,1:m])/norm(A*dQn))\n",
    "# Residuals check out appropriately. "
   ]
  },
  {
   "cell_type": "markdown",
   "id": "e93fc465-68bb-431c-a2f2-48e64fdf6276",
   "metadata": {},
   "source": [
    "## More Directions\n",
    "The next thing to do is to add additional directions.  "
   ]
  },
  {
   "cell_type": "code",
   "execution_count": 163,
   "id": "d38feab5-ad7d-4a01-aa43-c5585a85660f",
   "metadata": {},
   "outputs": [
    {
     "data": {
      "text/plain": [
       "ArnoldiGrad (generic function with 1 method)"
      ]
     },
     "execution_count": 163,
     "metadata": {},
     "output_type": "execute_result"
    }
   ],
   "source": [
    "using LinearAlgebra\n",
    "function ArnoldiGrad(A, v, dV, m)       # A is nxn, v is an n vector, and dV is an nxb array \n",
    "    n = size(A,1); b=size(dV,2)\n",
    "    Q = zeros(Float64, n, m+1)  # Orthogonal vectors\n",
    "    dQ= zeros(Float64, n, m+1, b)  # Directional Derivatives of Q\n",
    "    H = zeros(Float64, m+1, m)  # Upper Hessenberg matrix\n",
    "    dH= zeros(Float64, m+1, m, b)  # Directional Derivative of H\n",
    "    # Store v in first column of Q and dV in dQ\n",
    "    # writing out 1:b for clarity\n",
    "     Q[:,1] = v\n",
    "    dQ[:,1,1:b] = dV\n",
    "    for k = 1:m # Arnoldi iteration\n",
    "        w = A*Q[:, k]; dw=A*dQ[:,k,1:b]\n",
    "        for j = 1:k # Orthogonalization using modified Gram-Schmidt\n",
    "            H[j, k] = w'*Q[:, j]\n",
    "            for bb in 1:b\n",
    "                dH[j, k, bb] = w'*dQ[:, j, bb] + Q[:, j]'*dw[:,bb]\n",
    "                dw[:,bb] -=dH[j,k,bb]*Q[:,j]+H[j,k]*dQ[:,j,bb]\n",
    "            end\n",
    "            w -= H[j, k]*Q[:, j]\n",
    "        end\n",
    "        H[k+1, k] = norm(w)\n",
    "        # Updating dH\n",
    "        for bb in 1:b\n",
    "            dH[k+1, k,bb] = w'*dw[:,bb]/norm(w)\n",
    "            dQ[:,k+1,bb] = dw[:,bb]/H[k+1,k]- w*dH[k+1,k,bb]/H[k+1,k]^2\n",
    "        end\n",
    "        Q[:, k+1] = w / H[k+1, k]\n",
    "    end\n",
    "    return Q, dQ, H, dH\n",
    "end"
   ]
  },
  {
   "cell_type": "code",
   "execution_count": 164,
   "id": "b6876c34-7706-4dd7-8d15-259e486b8a7c",
   "metadata": {},
   "outputs": [
    {
     "data": {
      "text/plain": [
       "(1, 5.451953497470235e-15, 1.3351636685026925e-16)"
      ]
     },
     "metadata": {},
     "output_type": "display_data"
    },
    {
     "data": {
      "text/plain": [
       "(2, 1.4755992111031775e-15, 8.613382833727093e-17)"
      ]
     },
     "metadata": {},
     "output_type": "display_data"
    },
    {
     "data": {
      "text/plain": [
       "(3, 6.562571889100335e-15, 8.290973954752038e-17)"
      ]
     },
     "metadata": {},
     "output_type": "display_data"
    },
    {
     "data": {
      "text/plain": [
       "(4, 1.4093795945673038e-15, 9.334826963587998e-17)"
      ]
     },
     "metadata": {},
     "output_type": "display_data"
    }
   ],
   "source": [
    "using MMGet, SparseArrays\n",
    "A = mmget(\"https://math.nist.gov/pub/MatrixMarket2/Harwell-Boeing/bcsstruc1/bcsstk01.mtx.gz\", keep_files = false)\n",
    "(b, m) = (4,5)\n",
    "n = size(A,1)\n",
    "B = (qr(rand(n,b+1)).Q)*Matrix(1.0I, b+1, b+1) # The Q field converts to thick by default\n",
    "(v, dV) = (B[:,1], B[:,2:b+1])\n",
    "(Q,H) = ArnoldiStd(A, v, m)\n",
    "(Qn,dQn,Hn,dHn) = ArnoldiGrad(A, v, dV, m)\n",
    "# A*Q[:,1:m] = Q*H so A*dQ[:,1:m,bb] = dQ[:,:,bb]*H+Q*dH[:,:,bb]\n",
    "# Q'*Q = I so dQ'*Q + Q'*dQ = 0 i.e W=Q'*dQ[:,:,bb] is skew\n",
    "for bb in 1:b\n",
    "    dQ = dQn[:,:,bb]\n",
    "    dH = dHn[:,:,bb]\n",
    "    W= Qn'*dQ\n",
    "    SkewNorm=norm(W+W')\n",
    "    ResNorm =norm(dQ*H+Qn*dH-A*dQ[:,1:m])/norm(A*Qn) \n",
    "    display((bb,SkewNorm,ResNorm))\n",
    "end\n",
    "# Residuals check out appropriately. "
   ]
  },
  {
   "cell_type": "markdown",
   "id": "caf98fc8-05aa-47a0-b04c-72381e7febf4",
   "metadata": {},
   "source": [
    "## Break\n",
    "Checking that I understand the contraction order. "
   ]
  },
  {
   "cell_type": "code",
   "execution_count": 141,
   "id": "6d3bdd4d-2a33-4f92-8ace-9e44b73aed56",
   "metadata": {},
   "outputs": [
    {
     "data": {
      "text/plain": [
       "(31, [31;;], [3 4 5; 6 8 10; 12 16 20], [3 6 12; 4 8 16; 5 10 20])"
      ]
     },
     "execution_count": 141,
     "metadata": {},
     "output_type": "execute_result"
    }
   ],
   "source": [
    "using LinearAlgebra\n",
    "v1=[1 2 4]\n",
    "v2=[3 4 5]\n",
    "(dot(v1,v2),v1*v2',v1'*v2,v2'*v1)"
   ]
  },
  {
   "cell_type": "code",
   "execution_count": 38,
   "id": "7f6a0067-4f79-4f39-922d-9aada7026e1a",
   "metadata": {},
   "outputs": [
    {
     "data": {
      "text/plain": [
       "Arnoldi3 (generic function with 1 method)"
      ]
     },
     "execution_count": 38,
     "metadata": {},
     "output_type": "execute_result"
    }
   ],
   "source": [
    "function ArnoldiAD1(A, B, m) #B is assumed to be an n\n",
    "    \n",
    "    n = length(v)\n",
    "    Q = Matrix{Float64}(undef, n, m+1)  # Matrix to store orthogonalized vectors\n",
    "    H = zeros(Float64, m+1, m)          # Upper Hessenberg matrix\n",
    "\n",
    "    # Skipping normalizing initial vector and store it in Q\n",
    "    Q[:, 1] = v\n",
    "\n",
    "    for k = 1:m\n",
    "        # Arnoldi iteration\n",
    "        w = A*Q[:, k]\n",
    "        for j = 1:k\n",
    "            # Orthogonalization using modified Gram-Schmidt\n",
    "            H[j, k] = dot(Q[:, j], w)\n",
    "            w -= H[j, k] * Q[:, j]\n",
    "        end\n",
    "        H[k+1, k] = norm(w)\n",
    "        Q[:, k+1] = w / H[k+1, k]\n",
    "    end\n",
    "    return Q, H"
   ]
  },
  {
   "cell_type": "markdown",
   "id": "19ac2088-4cda-4a0a-bfe1-cceafa8eafe1",
   "metadata": {},
   "source": [
    "## Messed Up "
   ]
  },
  {
   "cell_type": "code",
   "execution_count": 60,
   "id": "92ba3bed-2a36-4a8a-be5f-413d56cded70",
   "metadata": {},
   "outputs": [
    {
     "data": {
      "text/plain": [
       "ArnoldiADGrad (generic function with 1 method)"
      ]
     },
     "execution_count": 60,
     "metadata": {},
     "output_type": "execute_result"
    }
   ],
   "source": [
    "using LinearAlgebra\n",
    "function ArnoldiADGrad(A, B, m)         # A is nxn and B is a nx(b+1)\n",
    "    (n,b) = (size(A,1),size(B,2)-1)\n",
    "    QdQ = zeros(Float64, n, b+1, m+1)     # Orthogonal vectors and 1st Derivatives \n",
    "    HdH = zeros(Float64, b+1, m+1, m)     # Upper Hessenberg matrix and 1st Derivatives\n",
    "    # Storing initial vectors\n",
    "    QdQ[:,:,1] = B\n",
    "    for k = 1:m # Arnoldi iteration\n",
    "        wdw = A*QdQ[:,:,k]\n",
    "        w = wdw[:,k]\n",
    "        for j = 1:k\n",
    "            # Orthogonalization using modified Gram-Schmidt\n",
    "            HdH[1,j, k] = dot(QdQ[:,1, j], w)\n",
    "            w-= HdH[1,j, k] * QdQ[:,1, j]\n",
    "        end\n",
    "        HdH[1,k+1, k] = norm(w)\n",
    "        QdQ[:,1, k+1] = w / HdH[1,k+1, k]\n",
    "    end\n",
    "    return QdQ[:,1,:], HdH[1,:,:] #AAS Friday 3rd Should be original Q and H\n",
    "end"
   ]
  },
  {
   "cell_type": "markdown",
   "id": "a25c3628-5e42-4a80-aad9-03cc21dd51f6",
   "metadata": {},
   "source": [
    "Testing standard input output form using a package from https://github.com/CHLOzzz/MMGet/blob/main/README.md to grab a MatrixMarket matrix.  keep_files = true preserves files. "
   ]
  },
  {
   "cell_type": "code",
   "execution_count": 72,
   "id": "92147496-ecbd-4690-8d58-b6be4a437ae5",
   "metadata": {},
   "outputs": [
    {
     "data": {
      "text/plain": [
       "5×4 Matrix{Float64}:\n",
       " 0.0  -1.04475e9   -7.7486e-7    2.19047e-6\n",
       " 0.0  -1.59788e9   -7.25979e8    3.17395e-6\n",
       " 0.0  -7.25979e8  NaN          NaN\n",
       " 0.0   0.0        NaN          NaN\n",
       " 0.0   0.0          0.0        NaN"
      ]
     },
     "execution_count": 72,
     "metadata": {},
     "output_type": "execute_result"
    }
   ],
   "source": [
    "using MMGet, SparseArrays\n",
    "A = mmget(\"https://math.nist.gov/pub/MatrixMarket2/Harwell-Boeing/bcsstruc1/bcsstk01.mtx.gz\", keep_files = false)\n",
    "(b, m) = (3,4)\n",
    "n = size(A,1)\n",
    "B = (qr(rand(n,b+1)).Q)*Matrix(1.0I, b+1, b+1) # The Q field converts to thick by default\n",
    "(Qn,Hn)=ArnoldiADGrad(A, B, m)\n",
    "(Q,H) = ArnoldiStd(A, B[:,1], m)\n",
    "Qn-Q\n",
    "Hn-H"
   ]
  },
  {
   "cell_type": "code",
   "execution_count": 6,
   "id": "c7d1608e-8004-4132-8b45-e21b5cfcd87e",
   "metadata": {},
   "outputs": [
    {
     "ename": "LoadError",
     "evalue": "DimensionMismatch: first dimension of B, 2, must equal one of the dimensions of Q, (48, 48)",
     "output_type": "error",
     "traceback": [
      "DimensionMismatch: first dimension of B, 2, must equal one of the dimensions of Q, (48, 48)",
      "",
      "Stacktrace:",
      " [1] qsize_check(Q::LinearAlgebra.QRCompactWYQ{Float64, Matrix{Float64}, Matrix{Float64}}, B::Matrix{Float64})",
      "   @ LinearAlgebra C:\\Users\\AllanStruthers\\AppData\\Local\\Programs\\Julia-1.10.0\\share\\julia\\stdlib\\v1.10\\LinearAlgebra\\src\\abstractq.jl:522",
      " [2] *(Q::LinearAlgebra.QRCompactWYQ{Float64, Matrix{Float64}, Matrix{Float64}}, B::Matrix{Float64})",
      "   @ LinearAlgebra C:\\Users\\AllanStruthers\\AppData\\Local\\Programs\\Julia-1.10.0\\share\\julia\\stdlib\\v1.10\\LinearAlgebra\\src\\abstractq.jl:175",
      " [3] top-level scope",
      "   @ In[6]:5"
     ]
    }
   ],
   "source": [
    "# @time (Q, H) = Arnoldi1(A,v,m)\n",
    "# (norm(A*Q[:,1:m] - Q*H)/norm(A),norm(Q'*Q-I),H[m+1,m])"
   ]
  },
  {
   "cell_type": "markdown",
   "id": "05bff757-f011-4a54-9092-cb95dd6ab078",
   "metadata": {},
   "source": [
    "Testing reduced output form.  Only bottom entry of H. "
   ]
  },
  {
   "cell_type": "code",
   "execution_count": 131,
   "id": "5aee8ebf-7495-4d79-8a5e-2b6364af3b12",
   "metadata": {},
   "outputs": [
    {
     "data": {
      "text/plain": [
       "f (generic function with 1 method)"
      ]
     },
     "execution_count": 131,
     "metadata": {},
     "output_type": "execute_result"
    }
   ],
   "source": [
    "using MMGet, LinearAlgebra, SparseArrays\n",
    "A = mmget(\"https://math.nist.gov/pub/MatrixMarket2/Harwell-Boeing/bcsstruc1/bcsstk01.mtx.gz\", keep_files = false)\n",
    "n=size(A,1)\n",
    "#A=rand(n,n)\n",
    "function f(y)\n",
    "    \n",
    "    n = 48\n",
    "    Q = Matrix{Float64}(undef, n, m+1)  # Matrix to store orthogonalized vectors\n",
    "    H = zeros(Float64, m+1, m)          # Upper Hessenberg matrix\n",
    "\n",
    "    # Normalizing initial vector and store it in Q\n",
    "    v = b + G*y\n",
    "    Q[:, 1] = v/sqrt(v'*v)\n",
    "    for k = 1:m\n",
    "        # Arnoldi iteration\n",
    "        w = A*Q[:, k]\n",
    "        for j = 1:k\n",
    "            # Orthogonalization using modified Gram-Schmidt\n",
    "            H[j, k] = Q[:, j]'*w\n",
    "            w -= H[j, k] * Q[:, j]\n",
    "        end\n",
    "        H[k+1, k] = sqrt(w'*w)\n",
    "        Q[:, k+1] = w / H[k+1, k]\n",
    "    end\n",
    "    return H[m+1,m]\n",
    "end"
   ]
  },
  {
   "cell_type": "code",
   "execution_count": 133,
   "id": "d5d2ce97-2501-4a5d-9c1a-3dad9420fc29",
   "metadata": {},
   "outputs": [
    {
     "ename": "LoadError",
     "evalue": "MethodError: no method matching Float64(::ForwardDiff.Dual{ForwardDiff.Tag{typeof(f), Float64}, Float64, 3})\n\n\u001b[0mClosest candidates are:\n\u001b[0m  (::Type{T})(::Real, \u001b[91m::RoundingMode\u001b[39m) where T<:AbstractFloat\n\u001b[0m\u001b[90m   @\u001b[39m \u001b[90mBase\u001b[39m \u001b[90m\u001b[4mrounding.jl:207\u001b[24m\u001b[39m\n\u001b[0m  (::Type{T})(::T) where T<:Number\n\u001b[0m\u001b[90m   @\u001b[39m \u001b[90mCore\u001b[39m \u001b[90m\u001b[4mboot.jl:792\u001b[24m\u001b[39m\n\u001b[0m  Float64(\u001b[91m::UInt8\u001b[39m)\n\u001b[0m\u001b[90m   @\u001b[39m \u001b[90mBase\u001b[39m \u001b[90m\u001b[4mfloat.jl:165\u001b[24m\u001b[39m\n\u001b[0m  ...\n",
     "output_type": "error",
     "traceback": [
      "MethodError: no method matching Float64(::ForwardDiff.Dual{ForwardDiff.Tag{typeof(f), Float64}, Float64, 3})\n\n\u001b[0mClosest candidates are:\n\u001b[0m  (::Type{T})(::Real, \u001b[91m::RoundingMode\u001b[39m) where T<:AbstractFloat\n\u001b[0m\u001b[90m   @\u001b[39m \u001b[90mBase\u001b[39m \u001b[90m\u001b[4mrounding.jl:207\u001b[24m\u001b[39m\n\u001b[0m  (::Type{T})(::T) where T<:Number\n\u001b[0m\u001b[90m   @\u001b[39m \u001b[90mCore\u001b[39m \u001b[90m\u001b[4mboot.jl:792\u001b[24m\u001b[39m\n\u001b[0m  Float64(\u001b[91m::UInt8\u001b[39m)\n\u001b[0m\u001b[90m   @\u001b[39m \u001b[90mBase\u001b[39m \u001b[90m\u001b[4mfloat.jl:165\u001b[24m\u001b[39m\n\u001b[0m  ...\n",
      "",
      "Stacktrace:",
      "  [1] convert(::Type{Float64}, x::ForwardDiff.Dual{ForwardDiff.Tag{typeof(f), Float64}, Float64, 3})",
      "    @ Base .\\number.jl:7",
      "  [2] setindex!",
      "    @ Base .\\array.jl:1024 [inlined]",
      "  [3] macro expansion",
      "    @ Base .\\multidimensional.jl:960 [inlined]",
      "  [4] macro expansion",
      "    @ Base .\\cartesian.jl:64 [inlined]",
      "  [5] _unsafe_setindex!(::IndexLinear, ::Matrix{Float64}, ::Vector{ForwardDiff.Dual{ForwardDiff.Tag{typeof(f), Float64}, Float64, 3}}, ::Base.Slice{Base.OneTo{Int64}}, ::Int64)",
      "    @ Base .\\multidimensional.jl:955",
      "  [6] _setindex!",
      "    @ .\\multidimensional.jl:944 [inlined]",
      "  [7] setindex!",
      "    @ .\\abstractarray.jl:1393 [inlined]",
      "  [8] f(y::Vector{ForwardDiff.Dual{ForwardDiff.Tag{typeof(f), Float64}, Float64, 3}})",
      "    @ Main .\\In[131]:13",
      "  [9] vector_mode_dual_eval!",
      "    @ C:\\Users\\AllanStruthers\\.julia\\packages\\ForwardDiff\\PcZ48\\src\\apiutils.jl:24 [inlined]",
      " [10] vector_mode_gradient(f::typeof(f), x::Vector{Float64}, cfg::ForwardDiff.GradientConfig{ForwardDiff.Tag{typeof(f), Float64}, Float64, 3, Vector{ForwardDiff.Dual{ForwardDiff.Tag{typeof(f), Float64}, Float64, 3}}})",
      "    @ ForwardDiff C:\\Users\\AllanStruthers\\.julia\\packages\\ForwardDiff\\PcZ48\\src\\gradient.jl:89",
      " [11] gradient(f::Function, x::Vector{Float64}, cfg::ForwardDiff.GradientConfig{ForwardDiff.Tag{typeof(f), Float64}, Float64, 3, Vector{ForwardDiff.Dual{ForwardDiff.Tag{typeof(f), Float64}, Float64, 3}}}, ::Val{true})",
      "    @ ForwardDiff C:\\Users\\AllanStruthers\\.julia\\packages\\ForwardDiff\\PcZ48\\src\\gradient.jl:19",
      " [12] gradient(f::Function, x::Vector{Float64}, cfg::ForwardDiff.GradientConfig{ForwardDiff.Tag{typeof(f), Float64}, Float64, 3, Vector{ForwardDiff.Dual{ForwardDiff.Tag{typeof(f), Float64}, Float64, 3}}})",
      "    @ ForwardDiff C:\\Users\\AllanStruthers\\.julia\\packages\\ForwardDiff\\PcZ48\\src\\gradient.jl:17",
      " [13] top-level scope",
      "    @ In[133]:3"
     ]
    }
   ],
   "source": [
    "y=zeros(s)\n",
    "f(y)\n",
    "ForwardDiff.gradient(f,y)"
   ]
  },
  {
   "cell_type": "code",
   "execution_count": null,
   "id": "cdd867ac-a4ac-4703-bcad-ab645fc67aee",
   "metadata": {},
   "outputs": [],
   "source": []
  }
 ],
 "metadata": {
  "kernelspec": {
   "display_name": "Julia 1.10.0",
   "language": "julia",
   "name": "julia-1.10"
  },
  "language_info": {
   "file_extension": ".jl",
   "mimetype": "application/julia",
   "name": "julia",
   "version": "1.10.0"
  }
 },
 "nbformat": 4,
 "nbformat_minor": 5
}

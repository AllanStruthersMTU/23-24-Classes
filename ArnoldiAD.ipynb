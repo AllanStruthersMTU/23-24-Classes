{
 "cells": [
  {
   "cell_type": "markdown",
   "id": "86cb8507-dbd1-4893-8f02-6ce888a1ce12",
   "metadata": {},
   "source": [
    "# Basic Arnoldi\n",
    "\n",
    "From ChatGPT precusrsor"
   ]
  },
  {
   "cell_type": "code",
   "execution_count": 38,
   "id": "8a5b4384-dd1e-4891-8a79-3a77e7df1c47",
   "metadata": {},
   "outputs": [
    {
     "data": {
      "text/plain": [
       "Arnoldi3 (generic function with 1 method)"
      ]
     },
     "execution_count": 38,
     "metadata": {},
     "output_type": "execute_result"
    }
   ],
   "source": [
    "using LinearAlgebra\n",
    "\n",
    "function Arnoldi1(A, v, m)\n",
    "    n = length(v)\n",
    "    Q = Matrix{Float64}(undef, n, m+1)  # Matrix to store orthogonalized vectors\n",
    "    H = zeros(Float64, m+1, m)          # Upper Hessenberg matrix\n",
    "\n",
    "    # Skipping normalizing initial vector and store it in Q\n",
    "    Q[:, 1] = v\n",
    "\n",
    "    for k = 1:m\n",
    "        # Arnoldi iteration\n",
    "        w = A*Q[:, k]\n",
    "        for j = 1:k\n",
    "            # Orthogonalization using modified Gram-Schmidt\n",
    "            H[j, k] = dot(Q[:, j], w)\n",
    "            w -= H[j, k] * Q[:, j]\n",
    "        end\n",
    "        H[k+1, k] = norm(w)\n",
    "        Q[:, k+1] = w / H[k+1, k]\n",
    "    end\n",
    "    return Q, H\n",
    "end\n",
    "\n",
    "function Arnoldi2(A, v, m)\n",
    "    n = length(v)\n",
    "    Q = Matrix{Float64}(undef, n, m+1)  # Matrix to store orthogonalized vectors\n",
    "    H = zeros(Float64, m+1, m)          # Upper Hessenberg matrix\n",
    "\n",
    "    # Skipping normalizing initial vector and store it in Q\n",
    "    Q[:, 1] = v\n",
    "\n",
    "    for k = 1:m\n",
    "        # Arnoldi iteration\n",
    "        w = A*Q[:, k]\n",
    "        for j = 1:k\n",
    "            # Orthogonalization using modified Gram-Schmidt\n",
    "            H[j, k] = dot(Q[:, j], w)\n",
    "            w -= H[j, k] * Q[:, j]\n",
    "        end\n",
    "        H[k+1, k] = norm(w)\n",
    "        Q[:, k+1] = w / H[k+1, k]\n",
    "    end\n",
    "    return H[m+1,m]\n",
    "end\n",
    "\n",
    "function Arnoldi3(v)\n",
    "    n = length(v)\n",
    "    Q = Matrix{Float64}(undef, n, m+1)  # Matrix to store orthogonalized vectors\n",
    "    H = zeros(Float64, m+1, m)          # Upper Hessenberg matrix\n",
    "\n",
    "    # Skipping normalizing initial vector and store it in Q\n",
    "    Q[:, 1] = v\n",
    "\n",
    "    for k = 1:m\n",
    "        # Arnoldi iteration\n",
    "        w = A*Q[:, k]\n",
    "        for j = 1:k\n",
    "            # Orthogonalization using modified Gram-Schmidt\n",
    "            H[j, k] = dot(Q[:, j], w)\n",
    "            w -= H[j, k] * Q[:, j]\n",
    "        end\n",
    "        H[k+1, k] = norm(w)\n",
    "        Q[:, k+1] = w / H[k+1, k]\n",
    "    end\n",
    "    return H[m+1,m]\n",
    "end"
   ]
  },
  {
   "cell_type": "markdown",
   "id": "a25c3628-5e42-4a80-aad9-03cc21dd51f6",
   "metadata": {},
   "source": [
    "Testing standard input output form using a package from https://github.com/CHLOzzz/MMGet/blob/main/README.md to grab a MatrixMarket matrix.  keep_files = true preserves files. "
   ]
  },
  {
   "cell_type": "code",
   "execution_count": 48,
   "id": "de3b1e36-584f-49ed-a92b-b4e446ff1ddb",
   "metadata": {},
   "outputs": [
    {
     "name": "stdout",
     "output_type": "stream",
     "text": [
      "  0.000065 seconds (57 allocations: 25.047 KiB)\n"
     ]
    },
    {
     "data": {
      "text/plain": [
       "(5.598770116509044e-17, 4.195961757412974e-15, 5.041896356673027e8)"
      ]
     },
     "execution_count": 48,
     "metadata": {},
     "output_type": "execute_result"
    }
   ],
   "source": [
    "using MMGet\n",
    "A = mmget(\"https://math.nist.gov/pub/MatrixMarket2/Harwell-Boeing/bcsstruc1/bcsstk01.mtx.gz\", keep_files = false)\n",
    "m = 4\n",
    "v=rand(size(A,1)); v=v/norm(v)\n",
    "@time (Q, H) = Arnoldi1(A,v,m)\n",
    "(norm(A*Q[:,1:m] - Q*H)/norm(A),norm(Q'*Q-I),H[m+1,m])"
   ]
  },
  {
   "cell_type": "markdown",
   "id": "05bff757-f011-4a54-9092-cb95dd6ab078",
   "metadata": {},
   "source": [
    "Testing reduced output form.  Only bottom entry of H. "
   ]
  },
  {
   "cell_type": "code",
   "execution_count": 44,
   "id": "ac5f03f3-10ec-4f26-9b7a-5405c38e34b3",
   "metadata": {},
   "outputs": [
    {
     "name": "stdout",
     "output_type": "stream",
     "text": [
      "  0.000051 seconds (55 allocations: 24.969 KiB)\n"
     ]
    },
    {
     "data": {
      "text/plain": [
       "5.373380082111145e8"
      ]
     },
     "execution_count": 44,
     "metadata": {},
     "output_type": "execute_result"
    }
   ],
   "source": [
    "using MMGet\n",
    "A = mmget(\"https://math.nist.gov/pub/MatrixMarket2/Harwell-Boeing/bcsstruc1/bcsstk01.mtx.gz\", keep_files = false)\n",
    "m = 4\n",
    "v=rand(size(A,1)); v=v/norm(v)\n",
    "@time Arnoldi2(A,v,m)"
   ]
  },
  {
   "cell_type": "markdown",
   "id": "8a1d8497-8533-4fa8-81bc-4f383e8bc7de",
   "metadata": {},
   "source": [
    "Testing reduced inout form. "
   ]
  },
  {
   "cell_type": "code",
   "execution_count": 50,
   "id": "9793b9ba-29e5-41cc-8105-50540983ca3e",
   "metadata": {},
   "outputs": [
    {
     "name": "stdout",
     "output_type": "stream",
     "text": [
      "  0.000151 seconds (326 allocations: 30.000 KiB)\n"
     ]
    },
    {
     "data": {
      "text/plain": [
       "5.480437507309493e8"
      ]
     },
     "execution_count": 50,
     "metadata": {},
     "output_type": "execute_result"
    }
   ],
   "source": [
    "using MMGet\n",
    "A = mmget(\"https://math.nist.gov/pub/MatrixMarket2/Harwell-Boeing/bcsstruc1/bcsstk01.mtx.gz\", keep_files = false)\n",
    "m = 4\n",
    "v=rand(size(A,1)); v=v/norm(v)\n",
    "@time Arnoldi3(v)"
   ]
  },
  {
   "cell_type": "markdown",
   "id": "9bd7f10b-8b4d-4ac4-a893-b46d3f297ca4",
   "metadata": {},
   "source": [
    "testing ForwardDiff "
   ]
  },
  {
   "cell_type": "code",
   "execution_count": 75,
   "id": "9dfaf3ff-2fe9-481a-8150-dec960512fa6",
   "metadata": {},
   "outputs": [
    {
     "name": "stdout",
     "output_type": "stream",
     "text": [
      "  0.009211 seconds (2.38 k allocations: 179.688 KiB, 98.23% compilation time)\n",
      "  0.013132 seconds (6.17 k allocations: 429.750 KiB, 99.75% compilation time: 100% of which was recompilation)\n"
     ]
    },
    {
     "data": {
      "text/plain": [
       "0.0"
      ]
     },
     "metadata": {},
     "output_type": "display_data"
    },
    {
     "name": "stdout",
     "output_type": "stream",
     "text": [
      "  0.922469 seconds (1.88 M allocations: 115.893 MiB, 2.71% gc time, 99.97% compilation time)\n"
     ]
    },
    {
     "data": {
      "text/plain": [
       "5×5 Matrix{Float64}:\n",
       " 1.0  0.0  0.0  0.0  0.0\n",
       " 0.0  1.0  0.0  0.0  0.0\n",
       " 0.0  0.0  1.0  0.0  0.0\n",
       " 0.0  0.0  0.0  1.0  0.0\n",
       " 0.0  0.0  0.0  0.0  1.0"
      ]
     },
     "execution_count": 75,
     "metadata": {},
     "output_type": "execute_result"
    }
   ],
   "source": [
    "using ForwardDiff\n",
    "function f(x)\n",
    "    0.5*x'*x\n",
    "end\n",
    "b=rand(5)\n",
    "@time f(b)\n",
    "@time y=ForwardDiff.gradient(f,b)\n",
    "display(norm(y-b))\n",
    "@time y=ForwardDiff.hessian(f,b)"
   ]
  },
  {
   "cell_type": "code",
   "execution_count": 101,
   "id": "741d1603-5202-42ae-a286-f323ad5b6bc9",
   "metadata": {},
   "outputs": [
    {
     "data": {
      "text/plain": [
       "(4.9978955538653266e8, 5.178845003143101e8)"
      ]
     },
     "execution_count": 101,
     "metadata": {},
     "output_type": "execute_result"
    }
   ],
   "source": [
    "using MMGet, LinearAlgebra, SparseArrays\n",
    "A = mmget(\"https://math.nist.gov/pub/MatrixMarket2/Harwell-Boeing/bcsstruc1/bcsstk01.mtx.gz\", keep_files = false)\n",
    "n=size(A,1)\n",
    "(m,s) = (4,3)\n",
    "bG = (qr(rand(n,m+1)).Q)*Matrix(1.0I, m+1, m+1)\n",
    "b=bG[:,1]\n",
    "G=bG[:,2:s+1]\n",
    "function f(y)\n",
    "    Arnoldi2(A, b + G*y,m)\n",
    "end\n",
    "(f(zeros(s)),f(0.1*rand(s)))"
   ]
  },
  {
   "cell_type": "code",
   "execution_count": 131,
   "id": "5aee8ebf-7495-4d79-8a5e-2b6364af3b12",
   "metadata": {},
   "outputs": [
    {
     "data": {
      "text/plain": [
       "f (generic function with 1 method)"
      ]
     },
     "execution_count": 131,
     "metadata": {},
     "output_type": "execute_result"
    }
   ],
   "source": [
    "using MMGet, LinearAlgebra, SparseArrays\n",
    "A = mmget(\"https://math.nist.gov/pub/MatrixMarket2/Harwell-Boeing/bcsstruc1/bcsstk01.mtx.gz\", keep_files = false)\n",
    "n=size(A,1)\n",
    "#A=rand(n,n)\n",
    "function f(y)\n",
    "    \n",
    "    n = 48\n",
    "    Q = Matrix{Float64}(undef, n, m+1)  # Matrix to store orthogonalized vectors\n",
    "    H = zeros(Float64, m+1, m)          # Upper Hessenberg matrix\n",
    "\n",
    "    # Normalizing initial vector and store it in Q\n",
    "    v = b + G*y\n",
    "    Q[:, 1] = v/sqrt(v'*v)\n",
    "    for k = 1:m\n",
    "        # Arnoldi iteration\n",
    "        w = A*Q[:, k]\n",
    "        for j = 1:k\n",
    "            # Orthogonalization using modified Gram-Schmidt\n",
    "            H[j, k] = Q[:, j]'*w\n",
    "            w -= H[j, k] * Q[:, j]\n",
    "        end\n",
    "        H[k+1, k] = sqrt(w'*w)\n",
    "        Q[:, k+1] = w / H[k+1, k]\n",
    "    end\n",
    "    return H[m+1,m]\n",
    "end"
   ]
  },
  {
   "cell_type": "code",
   "execution_count": 133,
   "id": "d5d2ce97-2501-4a5d-9c1a-3dad9420fc29",
   "metadata": {},
   "outputs": [
    {
     "ename": "LoadError",
     "evalue": "MethodError: no method matching Float64(::ForwardDiff.Dual{ForwardDiff.Tag{typeof(f), Float64}, Float64, 3})\n\n\u001b[0mClosest candidates are:\n\u001b[0m  (::Type{T})(::Real, \u001b[91m::RoundingMode\u001b[39m) where T<:AbstractFloat\n\u001b[0m\u001b[90m   @\u001b[39m \u001b[90mBase\u001b[39m \u001b[90m\u001b[4mrounding.jl:207\u001b[24m\u001b[39m\n\u001b[0m  (::Type{T})(::T) where T<:Number\n\u001b[0m\u001b[90m   @\u001b[39m \u001b[90mCore\u001b[39m \u001b[90m\u001b[4mboot.jl:792\u001b[24m\u001b[39m\n\u001b[0m  Float64(\u001b[91m::UInt8\u001b[39m)\n\u001b[0m\u001b[90m   @\u001b[39m \u001b[90mBase\u001b[39m \u001b[90m\u001b[4mfloat.jl:165\u001b[24m\u001b[39m\n\u001b[0m  ...\n",
     "output_type": "error",
     "traceback": [
      "MethodError: no method matching Float64(::ForwardDiff.Dual{ForwardDiff.Tag{typeof(f), Float64}, Float64, 3})\n\n\u001b[0mClosest candidates are:\n\u001b[0m  (::Type{T})(::Real, \u001b[91m::RoundingMode\u001b[39m) where T<:AbstractFloat\n\u001b[0m\u001b[90m   @\u001b[39m \u001b[90mBase\u001b[39m \u001b[90m\u001b[4mrounding.jl:207\u001b[24m\u001b[39m\n\u001b[0m  (::Type{T})(::T) where T<:Number\n\u001b[0m\u001b[90m   @\u001b[39m \u001b[90mCore\u001b[39m \u001b[90m\u001b[4mboot.jl:792\u001b[24m\u001b[39m\n\u001b[0m  Float64(\u001b[91m::UInt8\u001b[39m)\n\u001b[0m\u001b[90m   @\u001b[39m \u001b[90mBase\u001b[39m \u001b[90m\u001b[4mfloat.jl:165\u001b[24m\u001b[39m\n\u001b[0m  ...\n",
      "",
      "Stacktrace:",
      "  [1] convert(::Type{Float64}, x::ForwardDiff.Dual{ForwardDiff.Tag{typeof(f), Float64}, Float64, 3})",
      "    @ Base .\\number.jl:7",
      "  [2] setindex!",
      "    @ Base .\\array.jl:1024 [inlined]",
      "  [3] macro expansion",
      "    @ Base .\\multidimensional.jl:960 [inlined]",
      "  [4] macro expansion",
      "    @ Base .\\cartesian.jl:64 [inlined]",
      "  [5] _unsafe_setindex!(::IndexLinear, ::Matrix{Float64}, ::Vector{ForwardDiff.Dual{ForwardDiff.Tag{typeof(f), Float64}, Float64, 3}}, ::Base.Slice{Base.OneTo{Int64}}, ::Int64)",
      "    @ Base .\\multidimensional.jl:955",
      "  [6] _setindex!",
      "    @ .\\multidimensional.jl:944 [inlined]",
      "  [7] setindex!",
      "    @ .\\abstractarray.jl:1393 [inlined]",
      "  [8] f(y::Vector{ForwardDiff.Dual{ForwardDiff.Tag{typeof(f), Float64}, Float64, 3}})",
      "    @ Main .\\In[131]:13",
      "  [9] vector_mode_dual_eval!",
      "    @ C:\\Users\\AllanStruthers\\.julia\\packages\\ForwardDiff\\PcZ48\\src\\apiutils.jl:24 [inlined]",
      " [10] vector_mode_gradient(f::typeof(f), x::Vector{Float64}, cfg::ForwardDiff.GradientConfig{ForwardDiff.Tag{typeof(f), Float64}, Float64, 3, Vector{ForwardDiff.Dual{ForwardDiff.Tag{typeof(f), Float64}, Float64, 3}}})",
      "    @ ForwardDiff C:\\Users\\AllanStruthers\\.julia\\packages\\ForwardDiff\\PcZ48\\src\\gradient.jl:89",
      " [11] gradient(f::Function, x::Vector{Float64}, cfg::ForwardDiff.GradientConfig{ForwardDiff.Tag{typeof(f), Float64}, Float64, 3, Vector{ForwardDiff.Dual{ForwardDiff.Tag{typeof(f), Float64}, Float64, 3}}}, ::Val{true})",
      "    @ ForwardDiff C:\\Users\\AllanStruthers\\.julia\\packages\\ForwardDiff\\PcZ48\\src\\gradient.jl:19",
      " [12] gradient(f::Function, x::Vector{Float64}, cfg::ForwardDiff.GradientConfig{ForwardDiff.Tag{typeof(f), Float64}, Float64, 3, Vector{ForwardDiff.Dual{ForwardDiff.Tag{typeof(f), Float64}, Float64, 3}}})",
      "    @ ForwardDiff C:\\Users\\AllanStruthers\\.julia\\packages\\ForwardDiff\\PcZ48\\src\\gradient.jl:17",
      " [13] top-level scope",
      "    @ In[133]:3"
     ]
    }
   ],
   "source": [
    "y=zeros(s)\n",
    "f(y)\n",
    "ForwardDiff.gradient(f,y)"
   ]
  },
  {
   "cell_type": "code",
   "execution_count": null,
   "id": "cdd867ac-a4ac-4703-bcad-ab645fc67aee",
   "metadata": {},
   "outputs": [],
   "source": []
  }
 ],
 "metadata": {
  "kernelspec": {
   "display_name": "Julia 1.10.0",
   "language": "julia",
   "name": "julia-1.10"
  },
  "language_info": {
   "file_extension": ".jl",
   "mimetype": "application/julia",
   "name": "julia",
   "version": "1.10.0"
  }
 },
 "nbformat": 4,
 "nbformat_minor": 5
}

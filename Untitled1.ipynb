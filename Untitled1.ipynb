{
 "cells": [
  {
   "cell_type": "code",
   "execution_count": 12,
   "id": "82c9498a-50bf-4de9-b855-62e6f3948bba",
   "metadata": {},
   "outputs": [
    {
     "ename": "LoadError",
     "evalue": "MethodError: reducing over an empty collection is not allowed; consider supplying `init` to the reducer",
     "output_type": "error",
     "traceback": [
      "MethodError: reducing over an empty collection is not allowed; consider supplying `init` to the reducer",
      "",
      "Stacktrace:",
      "  [1] reduce_empty(op::Base.MappingRF{var\"#25#27\"{Matrix{Float64}, Int64}, Base.BottomRF{typeof(Base.add_sum)}}, ::Type{Int64})",
      "    @ Base .\\reduce.jl:361",
      "  [2] reduce_empty_iter",
      "    @ .\\reduce.jl:384 [inlined]",
      "  [3] reduce_empty_iter",
      "    @ .\\reduce.jl:383 [inlined]",
      "  [4] foldl_impl",
      "    @ .\\reduce.jl:49 [inlined]",
      "  [5] mapfoldl_impl",
      "    @ .\\reduce.jl:44 [inlined]",
      "  [6] mapfoldl",
      "    @ .\\reduce.jl:175 [inlined]",
      "  [7] mapreduce",
      "    @ .\\reduce.jl:307 [inlined]",
      "  [8] sum",
      "    @ .\\reduce.jl:535 [inlined]",
      "  [9] sum",
      "    @ .\\reduce.jl:564 [inlined]",
      " [10] cholesky_decomposition(A::Matrix{Float64})",
      "    @ Main .\\In[12]:11",
      " [11] top-level scope",
      "    @ In[12]:23"
     ]
    }
   ],
   "source": [
    "function cholesky_decomposition(A)\n",
    "    # Get the size of the matrix\n",
    "    n = size(A, 1)\n",
    "    # Initialize the lower triangular matrix L with zeros\n",
    "    L = zeros(eltype(A), n, n)\n",
    "\n",
    "    for i in 1:n\n",
    "        for j in 1:i\n",
    "            if i == j\n",
    "                # Diagonal elements\n",
    "                L[i, j] = sqrt(A[i, i] - sum(L[i, k]^2 for k in 1:(j-1)))\n",
    "            else\n",
    "                # Off-diagonal elements\n",
    "                L[i, j] = (A[i, j] - sum(L[i, k] * L[j, k] for k in 1:(j-1))) / L[j, j]\n",
    "            end\n",
    "        end\n",
    "    end\n",
    "    return L\n",
    "end\n",
    "\n",
    "# Example usage\n",
    "A = [4.0 12.0 -16.0; 12.0 37.0 -43.0; -16.0 -43.0 98.0]\n",
    "L = cholesky_decomposition(A)\n",
    "\n",
    "println(\"Lower triangular matrix L:\")\n",
    "println(L)\n",
    "\n",
    "println(\"Reconstructed matrix (L * L'):\")\n",
    "println(L * L')  # Should be equal to A\n"
   ]
  },
  {
   "cell_type": "code",
   "execution_count": 15,
   "id": "5113feed-cc82-417e-8671-53de056e9ee9",
   "metadata": {},
   "outputs": [
    {
     "ename": "LoadError",
     "evalue": "MethodError: reducing over an empty collection is not allowed; consider supplying `init` to the reducer",
     "output_type": "error",
     "traceback": [
      "MethodError: reducing over an empty collection is not allowed; consider supplying `init` to the reducer",
      "",
      "Stacktrace:",
      "  [1] reduce_empty(op::Base.MappingRF{var\"#34#36\"{Int64, Int64}, Base.BottomRF{typeof(Base.add_sum)}}, ::Type{Int64})",
      "    @ Base .\\reduce.jl:361",
      "  [2] reduce_empty_iter",
      "    @ Base .\\reduce.jl:384 [inlined]",
      "  [3] reduce_empty_iter",
      "    @ Base .\\reduce.jl:383 [inlined]",
      "  [4] foldl_impl",
      "    @ Base .\\reduce.jl:49 [inlined]",
      "  [5] mapfoldl_impl",
      "    @ Base .\\reduce.jl:44 [inlined]",
      "  [6] mapfoldl",
      "    @ Base .\\reduce.jl:175 [inlined]",
      "  [7] mapreduce",
      "    @ Base .\\reduce.jl:307 [inlined]",
      "  [8] sum",
      "    @ Base .\\reduce.jl:535 [inlined]",
      "  [9] sum(a::Base.Generator{UnitRange{Int64}, var\"#34#36\"{Int64, Int64}})",
      "    @ Base .\\reduce.jl:564",
      " [10] top-level scope",
      "    @ In[15]:12"
     ]
    }
   ],
   "source": [
    "n=4; A=rand(n,n); A=A*A'\n",
    "L=zeros(n,n)\n",
    "L[1,1]=sqrt(A[1,1])\n",
    "L[1,2:n] = A[1,2:n]/L[1,1]\n",
    "for i in 2:n\n",
    "    for j in 1:i\n",
    "        if i == j\n",
    "            # Diagonal elements\n",
    "            L[i, j] = sqrt(A[i, i] - sum(L[i, k]^2 for k in 1:(j-1)))\n",
    "            else\n",
    "            # Off-diagonal elements\n",
    "            L[i, j] = (A[i, j] - sum(L[i, k] * L[j, k] for k in 1:(j-1))) / L[j, j]\n",
    "        end\n",
    "    end\n",
    "end\n",
    "    L"
   ]
  },
  {
   "cell_type": "code",
   "execution_count": null,
   "id": "3d7a438d-a7aa-4a9a-ae7f-96b0a51473ae",
   "metadata": {},
   "outputs": [],
   "source": []
  }
 ],
 "metadata": {
  "kernelspec": {
   "display_name": "Julia 1.10.0",
   "language": "julia",
   "name": "julia-1.10"
  },
  "language_info": {
   "file_extension": ".jl",
   "mimetype": "application/julia",
   "name": "julia",
   "version": "1.10.0"
  }
 },
 "nbformat": 4,
 "nbformat_minor": 5
}

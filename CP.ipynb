{
 "cells": [
  {
   "cell_type": "code",
   "execution_count": 27,
   "id": "dbabad60-3991-4854-9f5b-32701ac4950a",
   "metadata": {},
   "outputs": [
    {
     "name": "stdout",
     "output_type": "stream",
     "text": [
      "[-0.96205102  0.9357394   0.8807136   0.77787767  0.60509367]\n"
     ]
    },
    {
     "data": {
      "text/plain": [
       "array([-2.96461966e-10,  9.04915254e-10,  3.10999471e-09, -1.45293643e-08,\n",
       "        4.19160262e-09])"
      ]
     },
     "execution_count": 27,
     "metadata": {},
     "output_type": "execute_result"
    }
   ],
   "source": [
    "# Ran pip install -U torch in a terminal\n",
    "# pip install -U jax did not install a working version of jax\n",
    "import torch\n",
    "from scipy.optimize import fsolve\n",
    "def f(x):\n",
    "    \"\"\" Gen Rosenbrock function.\n",
    "    Args: x (torch.Tensor): Input tensor of shape (n).\n",
    "    Returns: torch.Tensor: Output tensor of shape (1).\n",
    "    \"\"\"\n",
    "    return torch.sum(100.0 * (x[1:] - x[:-1]**2)**2 + (1 - x[:-1])**2, dim=-1)\n",
    "\n",
    "def gradf(x):\n",
    "    \"\"\" Gradient of Gen Rosenbrock function.\n",
    "    Args: x Input vector of length n.\n",
    "    conversions are needed for the torch AD engine\n",
    "    Returns: vector length n .\n",
    "    \"\"\"\n",
    "    xx=torch.tensor(x, requires_grad=True)\n",
    "    yy=f(xx)\n",
    "    yy.backward()\n",
    "    return (xx.grad).numpy()\n",
    "\n",
    "x0 = [-1.0, 1.2, 1.0, 0.1,0.4]\n",
    "# Solve the system of equations\n",
    "roots = fsolve(gradf, x0)\n",
    "print(roots)\n",
    "gradf(roots)"
   ]
  },
  {
   "cell_type": "code",
   "execution_count": null,
   "id": "21ca5b50-b062-4a74-9454-deb9f4e685ff",
   "metadata": {},
   "outputs": [],
   "source": []
  }
 ],
 "metadata": {
  "kernelspec": {
   "display_name": "Python 3",
   "language": "python",
   "name": "python3"
  },
  "language_info": {
   "codemirror_mode": {
    "name": "ipython",
    "version": 3
   },
   "file_extension": ".py",
   "mimetype": "text/x-python",
   "name": "python",
   "nbconvert_exporter": "python",
   "pygments_lexer": "ipython3",
   "version": "3.8.8"
  }
 },
 "nbformat": 4,
 "nbformat_minor": 5
}

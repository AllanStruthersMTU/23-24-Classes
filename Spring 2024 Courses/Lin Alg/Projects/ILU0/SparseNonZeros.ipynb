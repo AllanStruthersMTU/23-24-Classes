{
 "cells": [
  {
   "cell_type": "markdown",
   "id": "c3da2f59-1c47-4564-98c4-dc53029121ea",
   "metadata": {},
   "source": [
    "# Nonzero locations in Sparse matrices!"
   ]
  },
  {
   "cell_type": "markdown",
   "id": "fb15f3b3-49dc-4c77-b6aa-a4a12ce53ae2",
   "metadata": {},
   "source": [
    "We can locate/find the nonzero entries in a sparse matrix in at least two ways.  "
   ]
  },
  {
   "cell_type": "code",
   "execution_count": 10,
   "id": "5e793111-6de9-424f-91fd-eae8ee8e3789",
   "metadata": {},
   "outputs": [
    {
     "data": {
      "text/plain": [
       "59×59 SparseMatrixCSC{Float64, Int64} with 313 stored entries:\n",
       "⎡⠑⢄⠈⠢⡀⠀⠀⠀⠀⠀⠀⠀⠀⠀⠀⠀⠀⠀⠀⠀⠀⠀⠀⠀⠀⠀⠀⠀⠀⠀⎤\n",
       "⎢⠀⠀⠑⢄⠈⠢⡀⠐⢄⠀⠀⠀⠀⠀⠀⠀⠀⠀⠀⠀⠀⠀⠀⠀⠀⠀⠀⠀⠀⠀⎥\n",
       "⎢⠀⠀⠀⠀⠑⣤⠬⠆⠀⠑⣀⣀⡀⠀⠀⠄⠀⠀⠀⠀⠀⠀⠀⠀⠀⠀⠀⠀⠀⠀⎥\n",
       "⎢⠀⠀⠀⠀⠀⠈⠳⣄⠀⠀⣿⣿⡇⠀⠀⠀⠀⠀⠀⠀⠀⠀⠀⠀⠀⠀⠀⠀⠀⠀⎥\n",
       "⎢⠀⠀⠀⠀⠀⠀⠀⠀⠑⢄⣿⣿⡏⠢⡀⠀⠀⠀⠀⠀⠀⠀⠀⠀⠀⠀⠀⠀⠀⠀⎥\n",
       "⎢⠀⠀⠀⠀⠀⠀⠀⠀⠀⠀⠻⣍⠁⠀⠈⠐⢄⠀⠢⡀⠀⠀⠀⠀⠀⠀⠀⠀⠀⠀⎥\n",
       "⎢⠀⠀⠀⠀⠀⠀⠀⢀⣀⣀⠀⠈⠓⢄⠀⠀⠀⠑⠀⠈⢢⠤⠤⠄⠀⠀⠀⠀⠀⠀⎥\n",
       "⎢⠀⠀⠀⠀⠀⠀⠀⢸⣿⣿⠀⠀⠀⠀⠑⢄⠀⠀⠀⠀⠀⠑⢄⠀⠀⠀⠀⠀⠀⠀⎥\n",
       "⎢⠀⠀⠀⠀⠀⠀⠀⢸⣿⣿⠀⠀⠀⠀⠀⠀⠑⢄⠑⢄⠀⠀⠀⠀⠀⠀⠀⠀⠀⠀⎥\n",
       "⎢⠀⠀⠀⠀⠀⠀⠀⠈⠉⠉⠀⠀⠀⠀⠀⠀⠀⠀⠑⢄⢡⣤⣤⠰⠒⠒⡄⠀⠀⠀⎥\n",
       "⎢⡀⠀⠀⠀⠀⠀⠀⠀⠀⠀⠀⠀⠀⠀⠀⠀⠀⠀⠀⠀⢹⣿⣿⠀⠑⠄⡇⠀⠀⠀⎥\n",
       "⎢⠈⠢⡀⠀⠀⠀⠀⠀⠀⠀⠀⠀⠀⠀⠀⠀⠀⠀⠀⠀⢸⣿⣿⢄⠀⠀⡇⠀⠀⠀⎥\n",
       "⎢⠀⠀⠀⠀⠀⠀⠀⠀⠀⠀⠀⠀⠀⠤⠤⠘⢍⠉⠀⠀⠀⠀⠀⠀⠑⢄⠀⠀⠀⠁⎥\n",
       "⎢⠀⠀⠀⠀⠀⠀⠀⠀⠀⠀⠀⠀⠠⡀⠀⠀⠀⠑⠀⠀⠀⠀⠀⠀⠀⠀⠱⣄⠀⠀⎥\n",
       "⎣⠀⠀⠀⠀⠀⠀⠀⠀⠀⠀⠀⠀⠀⠈⠢⠀⠀⠀⠀⠀⠀⠀⠀⠀⠀⠀⠀⠈⠳⠄⎦"
      ]
     },
     "execution_count": 10,
     "metadata": {},
     "output_type": "execute_result"
    }
   ],
   "source": [
    "using MatrixMarket, SparseArrays\n",
    "cd(\"C:\\\\Users\\\\AllanStruthers\\\\Desktop\\\\GitHub\\\\23-24-Classes\\\\Spring 2024 Courses\\\\Lin Alg\\\\Projects\\\\ILU0\")\n",
    "A=mmread(\"ILU0Test.mtx\")"
   ]
  },
  {
   "cell_type": "raw",
   "id": "ceb7a581-6754-4c2b-a400-f7dee070f458",
   "metadata": {},
   "source": [
    "There is no need to have such a large test matrix  "
   ]
  },
  {
   "cell_type": "code",
   "execution_count": 37,
   "id": "bac6b16d-4ed8-4d00-a462-cc7f64010944",
   "metadata": {},
   "outputs": [
    {
     "data": {
      "text/plain": [
       "6×5 SparseMatrixCSC{Float64, Int64} with 14 stored entries:\n",
       " 7.2  -1.0  -1.0  -1.0  -1.0\n",
       " 1.0   8.2    ⋅     ⋅     ⋅ \n",
       "  ⋅    1.0   8.2    ⋅     ⋅ \n",
       "  ⋅     ⋅    1.0   8.2    ⋅ \n",
       "  ⋅     ⋅     ⋅    1.0   8.2\n",
       "  ⋅     ⋅     ⋅     ⋅    1.0"
      ]
     },
     "execution_count": 37,
     "metadata": {},
     "output_type": "execute_result"
    }
   ],
   "source": [
    "B=copy(A[11:16,11:15])"
   ]
  },
  {
   "cell_type": "markdown",
   "id": "1b89d5e0-4133-48c5-961f-0cd9fb20c172",
   "metadata": {},
   "source": [
    "\"findnz\" gives you a tuple containing the $i_k$, $j_k$, and $B_{i_k,j_k}$ for k in 1:nnz(B).  The order of the entries is down the first column, then down the second column, then down the third column etc.  This is because the B matrix is in compressed column CSC format. "
   ]
  },
  {
   "cell_type": "code",
   "execution_count": 38,
   "id": "41efb1e3-b78a-4786-b552-34cf91a4610e",
   "metadata": {},
   "outputs": [
    {
     "data": {
      "text/plain": [
       "6×5 Matrix{Float64}:\n",
       " 7.2  -1.0  -1.0  -1.0  -1.0\n",
       " 1.0   8.2   0.0   0.0   0.0\n",
       " 0.0   1.0   8.2   0.0   0.0\n",
       " 0.0   0.0   1.0   8.2   0.0\n",
       " 0.0   0.0   0.0   1.0   8.2\n",
       " 0.0   0.0   0.0   0.0   1.0"
      ]
     },
     "execution_count": 38,
     "metadata": {},
     "output_type": "execute_result"
    }
   ],
   "source": [
    "(m, n) = size(B)\n",
    "DenseB1 = zeros(m,n);\n",
    "(is, js, bs) = findnz(B)\n",
    "for k in 1:nnz(B)\n",
    "    DenseB1[is[k],js[k]]=bs[k]\n",
    "end\n",
    "DenseB1"
   ]
  },
  {
   "cell_type": "markdown",
   "id": "ebc50533-5995-41cf-9218-46c40d7d8aad",
   "metadata": {},
   "source": [
    "You can reconstruct a dense matrix directly out of the fields of a sparse matrix B.  The fields are: dimensions B.m and B.n; vector of values B.nzval stored in the column order described above; vector of column pointers B.colptr which locate the nonzero values in the B.nzval; and vector of row indices B.rowval. "
   ]
  },
  {
   "cell_type": "markdown",
   "id": "700b7dae-ca1a-4e08-9a85-3ace1f64854f",
   "metadata": {},
   "source": [
    "So you can display the nonzero entries in each column as follows."
   ]
  },
  {
   "cell_type": "code",
   "execution_count": 47,
   "id": "25b558e1-ca27-467a-9f0d-8e4ca20e6507",
   "metadata": {},
   "outputs": [
    {
     "data": {
      "text/plain": [
       "2-element Vector{Float64}:\n",
       " 7.2\n",
       " 1.0"
      ]
     },
     "metadata": {},
     "output_type": "display_data"
    },
    {
     "data": {
      "text/plain": [
       "3-element Vector{Float64}:\n",
       " -1.0\n",
       "  8.2\n",
       "  1.0"
      ]
     },
     "metadata": {},
     "output_type": "display_data"
    },
    {
     "data": {
      "text/plain": [
       "3-element Vector{Float64}:\n",
       " -1.0\n",
       "  8.2\n",
       "  1.0"
      ]
     },
     "metadata": {},
     "output_type": "display_data"
    },
    {
     "data": {
      "text/plain": [
       "3-element Vector{Float64}:\n",
       " -1.0\n",
       "  8.2\n",
       "  1.0"
      ]
     },
     "metadata": {},
     "output_type": "display_data"
    },
    {
     "data": {
      "text/plain": [
       "3-element Vector{Float64}:\n",
       " -1.0\n",
       "  8.2\n",
       "  1.0"
      ]
     },
     "metadata": {},
     "output_type": "display_data"
    }
   ],
   "source": [
    "(m, n) = size(B)\n",
    "# Extracting fields from sparse matrix B\n",
    "vals = B.nzval\n",
    "cols = B.colptr\n",
    "for j in 1:B.n\n",
    "    display(vals[cols[j]:cols[j+1]-1])\n",
    "end"
   ]
  },
  {
   "cell_type": "markdown",
   "id": "a70a9461-4c25-4988-ae5a-0183a130e7e2",
   "metadata": {},
   "source": [
    "Incorporating the rowval field lets you reconstruct the dense matrix.  "
   ]
  },
  {
   "cell_type": "code",
   "execution_count": 64,
   "id": "aa89ba52-02f9-4237-b60e-374b513cc0ad",
   "metadata": {},
   "outputs": [
    {
     "data": {
      "text/plain": [
       "6×5 Matrix{Float64}:\n",
       " 7.2  -1.0  -1.0  -1.0  -1.0\n",
       " 1.0   8.2   0.0   0.0   0.0\n",
       " 0.0   1.0   8.2   0.0   0.0\n",
       " 0.0   0.0   1.0   8.2   0.0\n",
       " 0.0   0.0   0.0   1.0   8.2\n",
       " 0.0   0.0   0.0   0.0   1.0"
      ]
     },
     "execution_count": 64,
     "metadata": {},
     "output_type": "execute_result"
    }
   ],
   "source": [
    "(m, n) = size(B)\n",
    "DenseB2 = zeros(m,n);\n",
    "vals = B.nzval\n",
    "cols = B.colptr\n",
    "rows = B.rowval \n",
    "for j in 1:B.n\n",
    "    for k in cols[j]:cols[j+1]-1\n",
    "        i = rows[k]\n",
    "        b = vals[k]\n",
    "        DenseB2[i,j] = b\n",
    "    end\n",
    "end\n",
    "DenseB2"
   ]
  },
  {
   "cell_type": "code",
   "execution_count": 60,
   "id": "e33e4f3a-38a6-4160-a405-9f352d14a9af",
   "metadata": {},
   "outputs": [
    {
     "data": {
      "text/plain": [
       "6-element Vector{Int64}:\n",
       "  1\n",
       "  3\n",
       "  6\n",
       "  9\n",
       " 12\n",
       " 15"
      ]
     },
     "execution_count": 60,
     "metadata": {},
     "output_type": "execute_result"
    }
   ],
   "source": [
    "cols"
   ]
  },
  {
   "cell_type": "code",
   "execution_count": 59,
   "id": "eabc5d96-9fc4-4a66-b7db-57a22fa7e082",
   "metadata": {},
   "outputs": [
    {
     "data": {
      "text/plain": [
       "6×5 Matrix{Float64}:\n",
       "  1.0   0.0   0.0  0.0  0.0\n",
       " -1.0   0.0   0.0  0.0  0.0\n",
       "  0.0  -1.0   0.0  0.0  0.0\n",
       "  0.0   8.2   0.0  0.0  0.0\n",
       "  0.0   1.0   0.0  0.0  0.0\n",
       "  0.0   0.0  -1.0  0.0  0.0"
      ]
     },
     "execution_count": 59,
     "metadata": {},
     "output_type": "execute_result"
    }
   ],
   "source": [
    "DenseB2"
   ]
  },
  {
   "cell_type": "code",
   "execution_count": null,
   "id": "01079453-c80f-44d5-966d-f77b2b0ff6cb",
   "metadata": {},
   "outputs": [],
   "source": []
  }
 ],
 "metadata": {
  "kernelspec": {
   "display_name": "Julia 1.10.0",
   "language": "julia",
   "name": "julia-1.10"
  },
  "language_info": {
   "file_extension": ".jl",
   "mimetype": "application/julia",
   "name": "julia",
   "version": "1.10.0"
  }
 },
 "nbformat": 4,
 "nbformat_minor": 5
}

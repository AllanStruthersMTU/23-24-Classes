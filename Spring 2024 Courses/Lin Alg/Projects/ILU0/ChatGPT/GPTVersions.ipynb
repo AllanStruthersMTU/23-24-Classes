{
 "cells": [
  {
   "cell_type": "markdown",
   "id": "86cb8507-dbd1-4893-8f02-6ce888a1ce12",
   "metadata": {},
   "source": [
    "# Pivoting"
   ]
  },
  {
   "cell_type": "markdown",
   "id": "5465ff83-9d88-4a2d-b59a-14c9dc69a723",
   "metadata": {},
   "source": [
    "From ChatGPT\n",
    "Did not run because indmax has been deprecated in favor of argmax. I am pretty sure it is not going to work with argmax because it returns a CartesianIndex.  I had to cast CartesianIndex to a Tuple."
   ]
  },
  {
   "cell_type": "code",
   "execution_count": 104,
   "id": "8a5b4384-dd1e-4891-8a79-3a77e7df1c47",
   "metadata": {},
   "outputs": [
    {
     "data": {
      "text/plain": [
       "lu_complete_pivoting! (generic function with 1 method)"
      ]
     },
     "execution_count": 104,
     "metadata": {},
     "output_type": "execute_result"
    }
   ],
   "source": [
    "function lu_complete_pivoting!(A)\n",
    "    n = size(A, 1)\n",
    "    p = collect(1:n) # Permutation vector for rows\n",
    "    q = collect(1:n) # Permutation vector for columns\n",
    "    for k = 1:n-1\n",
    "        # Find the index (i,j) of the pivot element\n",
    "        # Edited to argmax since indmax is deprecated\n",
    "        # Cast to Tuple because argmax returned a CartesianIndex structure\n",
    "        # Original code was \"i_max, j_max = argmax(abs.(A[k:n, k:n]))\" \n",
    "        i_max, j_max = Tuple(argmax(abs.(A[k:n, k:n])))\n",
    "        i_max += k - 1\n",
    "        j_max += k - 1\n",
    "\n",
    "        if i_max != k\n",
    "            A[[k, i_max], :] = A[[i_max, k], :]\n",
    "            p[[k, i_max]] = p[[i_max, k]]\n",
    "        end\n",
    "\n",
    "        if j_max != k\n",
    "            A[:, [k, j_max]] = A[:, [j_max, k]]\n",
    "            q[[k, j_max]] = q[[j_max, k]]\n",
    "        end\n",
    "\n",
    "        for i = k+1:n\n",
    "            A[i, k] /= A[k, k]\n",
    "            for j = k+1:n\n",
    "                A[i, j] -= A[i, k] * A[k, j]\n",
    "            end\n",
    "        end\n",
    "    end\n",
    "    return A, p, q\n",
    "end"
   ]
  },
  {
   "cell_type": "markdown",
   "id": "a25c3628-5e42-4a80-aad9-03cc21dd51f6",
   "metadata": {},
   "source": [
    "Testing"
   ]
  },
  {
   "cell_type": "code",
   "execution_count": 127,
   "id": "d8c5c55b-fa64-4aae-92c2-e86277c4caa6",
   "metadata": {},
   "outputs": [
    {
     "name": "stdout",
     "output_type": "stream",
     "text": [
      "||A0[p,q]-L*U|| = 1.3597399555105182e-16\n",
      "||P'*A0*Q-L*U|| = 1.3597399555105182e-16\n"
     ]
    }
   ],
   "source": [
    "using LinearAlgebra, SparseArrays\n",
    "m=5\n",
    "A0=rand(m,m)\n",
    "b=rand(m)\n",
    "A=copy(A0)\n",
    "LU, p, q = lu_complete_pivoting!(A)\n",
    "# reconstruct L and U\n",
    "L=tril(LU,-1)+I; U=triu(LU)\n",
    "println(\"||A0[p,q]-L*U|| = \", norm(A0[p,q]-L*U))\n",
    "# Contruct P and Q \n",
    "Id=1.0*sparse(I, m, m)\n",
    "P=copy(Id)\n",
    "Q=copy(Id)\n",
    "P=P[:,p]\n",
    "Q=Q[:,q]\n",
    "println(\"||P'*A0*Q-L*U|| = \", norm(P'*A0*Q-L*U))"
   ]
  },
  {
   "cell_type": "markdown",
   "id": "c3da2f59-1c47-4564-98c4-dc53029121ea",
   "metadata": {},
   "source": [
    "# ILU0"
   ]
  },
  {
   "cell_type": "markdown",
   "id": "ed35f4c1-fa31-4993-a515-1c892733fcd4",
   "metadata": {},
   "source": [
    "ChatGPT gave me an LU not an ILU0 that worked on and returned sparse arrays.  It "
   ]
  },
  {
   "cell_type": "code",
   "execution_count": 130,
   "id": "c1008dc6-c7b6-43e4-bc04-350ebad3a1f0",
   "metadata": {},
   "outputs": [
    {
     "data": {
      "text/plain": [
       "Ailu0 (generic function with 1 method)"
      ]
     },
     "execution_count": 130,
     "metadata": {},
     "output_type": "execute_result"
    }
   ],
   "source": [
    "using LinearAlgebra, SparseArrays\n",
    "# modified type test\n",
    "# originally \"function Ailu0(A::SparseMatrixCSC{T, Int} where T)\"\n",
    "# Explicitly typed the spzeros to Float64 in decleration of L and U \n",
    "function Ailu0(A)\n",
    "    n = size(A, 1)\n",
    "    L = spzeros(Float64, n, n)\n",
    "    U = spzeros(Float64, n, n)\n",
    "    \n",
    "    for k = 1:n\n",
    "        L[k, k] = 1.0\n",
    "        U[k, k] = A[k, k] - dot(L[k, 1:k-1], U[1:k-1, k])\n",
    "        for i = k+1:n\n",
    "            L[i, k] = (A[i, k] - dot(L[i, 1:k-1], U[1:k-1, k])) / U[k, k]\n",
    "        end\n",
    "        for j = k+1:n\n",
    "            U[k, j] = A[k, j] - dot(L[k, 1:k-1], U[1:k-1, j])\n",
    "        end\n",
    "    end\n",
    "    \n",
    "    return L, U\n",
    "end"
   ]
  },
  {
   "cell_type": "markdown",
   "id": "22c970b3-c246-43fc-909d-3b31f514050d",
   "metadata": {},
   "source": [
    "The fill in is clear on our test matrix. "
   ]
  },
  {
   "cell_type": "code",
   "execution_count": 138,
   "id": "5e793111-6de9-424f-91fd-eae8ee8e3789",
   "metadata": {},
   "outputs": [
    {
     "data": {
      "text/plain": [
       "59×59 SparseMatrixCSC{Float64, Int64} with 313 stored entries:\n",
       "⎡⠑⢄⠈⠢⡀⠀⠀⠀⠀⠀⠀⠀⠀⠀⠀⠀⠀⠀⠀⠀⠀⠀⠀⠀⠀⠀⠀⠀⠀⠀⎤\n",
       "⎢⠀⠀⠑⢄⠈⠢⡀⠐⢄⠀⠀⠀⠀⠀⠀⠀⠀⠀⠀⠀⠀⠀⠀⠀⠀⠀⠀⠀⠀⠀⎥\n",
       "⎢⠀⠀⠀⠀⠑⣤⠬⠆⠀⠑⣀⣀⡀⠀⠀⠄⠀⠀⠀⠀⠀⠀⠀⠀⠀⠀⠀⠀⠀⠀⎥\n",
       "⎢⠀⠀⠀⠀⠀⠈⠳⣄⠀⠀⣿⣿⡇⠀⠀⠀⠀⠀⠀⠀⠀⠀⠀⠀⠀⠀⠀⠀⠀⠀⎥\n",
       "⎢⠀⠀⠀⠀⠀⠀⠀⠀⠑⢄⣿⣿⡏⠢⡀⠀⠀⠀⠀⠀⠀⠀⠀⠀⠀⠀⠀⠀⠀⠀⎥\n",
       "⎢⠀⠀⠀⠀⠀⠀⠀⠀⠀⠀⠻⣍⠁⠀⠈⠐⢄⠀⠢⡀⠀⠀⠀⠀⠀⠀⠀⠀⠀⠀⎥\n",
       "⎢⠀⠀⠀⠀⠀⠀⠀⢀⣀⣀⠀⠈⠓⢄⠀⠀⠀⠑⠀⠈⢢⠤⠤⠄⠀⠀⠀⠀⠀⠀⎥\n",
       "⎢⠀⠀⠀⠀⠀⠀⠀⢸⣿⣿⠀⠀⠀⠀⠑⢄⠀⠀⠀⠀⠀⠑⢄⠀⠀⠀⠀⠀⠀⠀⎥\n",
       "⎢⠀⠀⠀⠀⠀⠀⠀⢸⣿⣿⠀⠀⠀⠀⠀⠀⠑⢄⠑⢄⠀⠀⠀⠀⠀⠀⠀⠀⠀⠀⎥\n",
       "⎢⠀⠀⠀⠀⠀⠀⠀⠈⠉⠉⠀⠀⠀⠀⠀⠀⠀⠀⠑⢄⢡⣤⣤⠰⠒⠒⡄⠀⠀⠀⎥\n",
       "⎢⡀⠀⠀⠀⠀⠀⠀⠀⠀⠀⠀⠀⠀⠀⠀⠀⠀⠀⠀⠀⢹⣿⣿⠀⠑⠄⡇⠀⠀⠀⎥\n",
       "⎢⠈⠢⡀⠀⠀⠀⠀⠀⠀⠀⠀⠀⠀⠀⠀⠀⠀⠀⠀⠀⢸⣿⣿⢄⠀⠀⡇⠀⠀⠀⎥\n",
       "⎢⠀⠀⠀⠀⠀⠀⠀⠀⠀⠀⠀⠀⠀⠤⠤⠘⢍⠉⠀⠀⠀⠀⠀⠀⠑⢄⠀⠀⠀⠁⎥\n",
       "⎢⠀⠀⠀⠀⠀⠀⠀⠀⠀⠀⠀⠀⠠⡀⠀⠀⠀⠑⠀⠀⠀⠀⠀⠀⠀⠀⠱⣄⠀⠀⎥\n",
       "⎣⠀⠀⠀⠀⠀⠀⠀⠀⠀⠀⠀⠀⠀⠈⠢⠀⠀⠀⠀⠀⠀⠀⠀⠀⠀⠀⠀⠈⠳⠄⎦"
      ]
     },
     "metadata": {},
     "output_type": "display_data"
    },
    {
     "data": {
      "text/plain": [
       "59×59 SparseMatrixCSC{Float64, Int64} with 606 stored entries:\n",
       "⎡⠑⢄⠀⠀⠀⠀⠀⠀⠀⠀⠀⠀⠀⠀⠀⠀⠀⠀⠀⠀⠀⠀⠀⠀⠀⠀⠀⠀⠀⠀⎤\n",
       "⎢⠀⠀⠑⢄⠀⠀⠀⠀⠀⠀⠀⠀⠀⠀⠀⠀⠀⠀⠀⠀⠀⠀⠀⠀⠀⠀⠀⠀⠀⠀⎥\n",
       "⎢⠀⠀⠀⠀⠑⣄⠀⠀⠀⠀⠀⠀⠀⠀⠀⠀⠀⠀⠀⠀⠀⠀⠀⠀⠀⠀⠀⠀⠀⠀⎥\n",
       "⎢⠀⠀⠀⠀⠀⠈⠳⣄⠀⠀⠀⠀⠀⠀⠀⠀⠀⠀⠀⠀⠀⠀⠀⠀⠀⠀⠀⠀⠀⠀⎥\n",
       "⎢⠀⠀⠀⠀⠀⠀⠀⠀⠑⢄⠀⠀⠀⠀⠀⠀⠀⠀⠀⠀⠀⠀⠀⠀⠀⠀⠀⠀⠀⠀⎥\n",
       "⎢⠀⠀⠀⠀⠀⠀⠀⠀⠀⠀⠳⣄⠀⠀⠀⠀⠀⠀⠀⠀⠀⠀⠀⠀⠀⠀⠀⠀⠀⠀⎥\n",
       "⎢⠀⠀⠀⠀⠀⠀⠀⢀⣀⣀⣀⣈⣓⣄⠀⠀⠀⠀⠀⠀⠀⠀⠀⠀⠀⠀⠀⠀⠀⠀⎥\n",
       "⎢⠀⠀⠀⠀⠀⠀⠀⢸⣿⣿⣿⣿⣿⣿⣷⣄⠀⠀⠀⠀⠀⠀⠀⠀⠀⠀⠀⠀⠀⠀⎥\n",
       "⎢⠀⠀⠀⠀⠀⠀⠀⢸⣿⣿⣿⣿⣿⣿⣿⣿⣷⣄⠀⠀⠀⠀⠀⠀⠀⠀⠀⠀⠀⠀⎥\n",
       "⎢⠀⠀⠀⠀⠀⠀⠀⠈⠉⠉⠉⠉⠉⠉⠉⠉⠉⠉⠑⢄⠀⠀⠀⠀⠀⠀⠀⠀⠀⠀⎥\n",
       "⎢⡀⠀⢀⠀⠀⣀⣀⣀⠀⠀⣀⣀⡀⠀⢀⣀⣀⣀⣀⣀⣱⣄⠀⠀⠀⠀⠀⠀⠀⠀⎥\n",
       "⎢⠈⠢⡀⠑⢄⠈⠻⡇⠑⢄⣿⣿⡏⠢⣼⣿⣿⣿⣿⣿⣿⣿⣷⣄⠀⠀⠀⠀⠀⠀⎥\n",
       "⎢⠀⠀⠀⠀⠀⠀⠀⠀⠀⠀⠀⠀⠀⠤⠤⠼⢿⣿⣿⣿⣿⣿⣿⣿⣷⣄⠀⠀⠀⠀⎥\n",
       "⎢⠀⠀⠀⠀⠀⠀⠀⠀⠀⠀⠀⠀⠠⡀⠠⠤⠤⠽⠿⠿⢿⣿⣿⣿⣿⣿⡷⣄⠀⠀⎥\n",
       "⎣⠀⠀⠀⠀⠀⠀⠀⠀⠀⠀⠀⠀⠀⠈⠻⠿⠿⠿⠿⠿⠿⠿⠿⠿⠿⠿⠇⠈⠳⠄⎦"
      ]
     },
     "metadata": {},
     "output_type": "display_data"
    },
    {
     "data": {
      "text/plain": [
       "59×59 SparseMatrixCSC{Float64, Int64} with 428 stored entries:\n",
       "⎡⠑⢄⠈⠢⡀⠀⠀⠀⠀⠀⠀⠀⠀⠀⠀⠀⠀⠀⠀⠀⠀⠀⠀⠀⠀⠀⠀⠀⠀⠀⎤\n",
       "⎢⠀⠀⠑⢄⠈⠢⡀⠐⢄⠀⠀⠀⠀⠀⠀⠀⠀⠀⠀⠀⠀⠀⠀⠀⠀⠀⠀⠀⠀⠀⎥\n",
       "⎢⠀⠀⠀⠀⠑⢤⣬⡆⠀⠑⣀⣀⡀⠀⠀⡄⠀⠀⠀⠀⠀⠀⠀⠀⠀⠀⠀⠀⠀⠀⎥\n",
       "⎢⠀⠀⠀⠀⠀⠀⠙⢇⠀⠀⣿⣿⡇⠀⠀⡇⠀⠀⠀⠀⠀⠀⠀⠀⠀⠀⠀⠀⠀⠀⎥\n",
       "⎢⠀⠀⠀⠀⠀⠀⠀⠀⠑⢄⣿⣿⡏⠢⡀⠀⠀⠀⠀⠀⠀⠀⠀⠀⠀⠀⠀⠀⠀⠀⎥\n",
       "⎢⠀⠀⠀⠀⠀⠀⠀⠀⠀⠀⠙⢿⡇⠀⢸⢰⣄⠀⣦⡀⠀⠀⠀⠀⠀⠀⠀⠀⠀⠀⎥\n",
       "⎢⠀⠀⠀⠀⠀⠀⠀⠀⠀⠀⠀⠀⠑⢄⣘⣘⣛⣓⣛⣛⣢⣤⣤⡄⠀⠀⠀⠀⠀⠀⎥\n",
       "⎢⠀⠀⠀⠀⠀⠀⠀⠀⠀⠀⠀⠀⠀⠀⠙⢿⣿⣿⣿⣿⣿⣿⣿⡇⠀⠀⠀⠀⠀⠀⎥\n",
       "⎢⠀⠀⠀⠀⠀⠀⠀⠀⠀⠀⠀⠀⠀⠀⠀⠀⠙⢿⣿⣿⣿⣿⣿⡇⠀⠀⠀⠀⠀⠀⎥\n",
       "⎢⠀⠀⠀⠀⠀⠀⠀⠀⠀⠀⠀⠀⠀⠀⠀⠀⠀⠀⠙⢍⢩⣭⣭⠱⠒⠒⡄⠀⠀⠀⎥\n",
       "⎢⠀⠀⠀⠀⠀⠀⠀⠀⠀⠀⠀⠀⠀⠀⠀⠀⠀⠀⠀⠀⠙⢿⣿⣀⣱⣄⡇⠀⠀⠀⎥\n",
       "⎢⠀⠀⠀⠀⠀⠀⠀⠀⠀⠀⠀⠀⠀⠀⠀⠀⠀⠀⠀⠀⠀⠀⠙⢿⣿⣿⡇⠀⠀⠀⎥\n",
       "⎢⠀⠀⠀⠀⠀⠀⠀⠀⠀⠀⠀⠀⠀⠀⠀⠀⠀⠀⠀⠀⠀⠀⠀⠀⠙⢿⡇⠀⠀⡇⎥\n",
       "⎢⠀⠀⠀⠀⠀⠀⠀⠀⠀⠀⠀⠀⠀⠀⠀⠀⠀⠀⠀⠀⠀⠀⠀⠀⠀⠀⠑⢄⠀⡇⎥\n",
       "⎣⠀⠀⠀⠀⠀⠀⠀⠀⠀⠀⠀⠀⠀⠀⠀⠀⠀⠀⠀⠀⠀⠀⠀⠀⠀⠀⠀⠀⠑⠇⎦"
      ]
     },
     "metadata": {},
     "output_type": "display_data"
    },
    {
     "data": {
      "text/plain": [
       "5.752123344641334e-17"
      ]
     },
     "execution_count": 138,
     "metadata": {},
     "output_type": "execute_result"
    }
   ],
   "source": [
    "using MatrixMarket\n",
    "A=mmread(\"C:\\\\Users\\\\AllanStruthers\\\\Desktop\\\\GitHub\\\\23-24-Classes\\\\Spring 2024 Courses\\\\Lin Alg\\\\Projects\\\\ILU0\\\\ILU0Test.mtx\")\n",
    "(L,U) = Ailu0(A)\n",
    "display(A)\n",
    "display(L)\n",
    "display(U)\n",
    "norm(A-L*U)"
   ]
  },
  {
   "cell_type": "markdown",
   "id": "c7575c58-a757-4a6b-99b3-9e2fdc3aab05",
   "metadata": {},
   "source": [
    "To make this code (as is an ILU0) requires a lot of if conditions.  This is fine if you have it done this way.  Just be prepared for questions about efficiency.  "
   ]
  },
  {
   "cell_type": "code",
   "execution_count": null,
   "id": "bac6b16d-4ed8-4d00-a462-cc7f64010944",
   "metadata": {},
   "outputs": [],
   "source": []
  }
 ],
 "metadata": {
  "kernelspec": {
   "display_name": "Julia 1.10.0",
   "language": "julia",
   "name": "julia-1.10"
  },
  "language_info": {
   "file_extension": ".jl",
   "mimetype": "application/julia",
   "name": "julia",
   "version": "1.10.0"
  }
 },
 "nbformat": 4,
 "nbformat_minor": 5
}

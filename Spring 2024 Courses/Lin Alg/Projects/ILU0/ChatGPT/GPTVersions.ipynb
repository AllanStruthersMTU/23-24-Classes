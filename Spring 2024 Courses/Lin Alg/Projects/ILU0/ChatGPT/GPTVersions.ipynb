{
 "cells": [
  {
   "cell_type": "code",
   "execution_count": 12,
   "id": "c1008dc6-c7b6-43e4-bc04-350ebad3a1f0",
   "metadata": {},
   "outputs": [
    {
     "ename": "LoadError",
     "evalue": "UndefVarError: `T` not defined",
     "output_type": "error",
     "traceback": [
      "UndefVarError: `T` not defined",
      "",
      "Stacktrace:",
      " [1] top-level scope",
      "   @ In[12]:2"
     ]
    }
   ],
   "source": [
    "using LinearAlgebra, SparseArrays\n",
    "function Ailu0(A::SparseMatrixCSC{T, Int} where T)\n",
    "    n = size(A, 1)\n",
    "    L = spzeros(T, n, n)\n",
    "    U = spzeros(T, n, n)\n",
    "    \n",
    "    for k = 1:n\n",
    "        L[k, k] = 1.0\n",
    "        U[k, k] = A[k, k] - dot(L[k, 1:k-1], U[1:k-1, k])\n",
    "        for i = k+1:n\n",
    "            L[i, k] = (A[i, k] - dot(L[i, 1:k-1], U[1:k-1, k])) / U[k, k]\n",
    "        end\n",
    "        for j = k+1:n\n",
    "            U[k, j] = A[k, j] - dot(L[k, 1:k-1], U[1:k-1, j])\n",
    "        end\n",
    "    end\n",
    "    \n",
    "    return L, U\n",
    "end"
   ]
  },
  {
   "cell_type": "code",
   "execution_count": 10,
   "id": "5e793111-6de9-424f-91fd-eae8ee8e3789",
   "metadata": {},
   "outputs": [
    {
     "ename": "LoadError",
     "evalue": "UndefVarError: `T` not defined",
     "output_type": "error",
     "traceback": [
      "UndefVarError: `T` not defined",
      "",
      "Stacktrace:",
      " [1] Ailu0(A::SparseMatrixCSC{Float64, Int64})",
      "   @ Main .\\In[3]:4",
      " [2] top-level scope",
      "   @ In[10]:3"
     ]
    }
   ],
   "source": [
    "using MatrixMarket\n",
    "A=mmread(\"C:\\\\Users\\\\AllanStruthers\\\\Desktop\\\\GitHub\\\\23-24-Classes\\\\Spring 2024 Courses\\\\Lin Alg\\\\Projects\\\\ILU0\\\\ILU0Test.mtx\")\n",
    "(L,U) = Ailu0(A)"
   ]
  },
  {
   "cell_type": "code",
   "execution_count": 11,
   "id": "5fedf492-5b75-49e1-a190-c8bfe7e8bfb2",
   "metadata": {},
   "outputs": [
    {
     "data": {
      "text/plain": [
       "59×59 SparseMatrixCSC{Float64, Int64} with 312 stored entries:\n",
       "⎡⠑⢄⠈⠢⡀⠀⠀⠀⠀⠀⠀⠀⠀⠀⠀⠀⠀⠀⠀⠀⠀⠀⠀⠀⠀⠀⠀⠀⠀⠀⎤\n",
       "⎢⠀⠀⠑⢄⠈⠢⡀⠐⢄⠀⠀⠀⠀⠀⠀⠀⠀⠀⠀⠀⠀⠀⠀⠀⠀⠀⠀⠀⠀⠀⎥\n",
       "⎢⠀⠀⠀⠀⠑⣠⠬⠆⠀⠑⣀⣀⡀⠀⠀⠄⠀⠀⠀⠀⠀⠀⠀⠀⠀⠀⠀⠀⠀⠀⎥\n",
       "⎢⠀⠀⠀⠀⠀⠈⠳⣄⠀⠀⣿⣿⡇⠀⠀⠀⠀⠀⠀⠀⠀⠀⠀⠀⠀⠀⠀⠀⠀⠀⎥\n",
       "⎢⠀⠀⠀⠀⠀⠀⠀⠀⠑⢄⣿⣿⡏⠢⡀⠀⠀⠀⠀⠀⠀⠀⠀⠀⠀⠀⠀⠀⠀⠀⎥\n",
       "⎢⠀⠀⠀⠀⠀⠀⠀⠀⠀⠀⠻⣍⠁⠀⠈⠐⢄⠀⠢⡀⠀⠀⠀⠀⠀⠀⠀⠀⠀⠀⎥\n",
       "⎢⠀⠀⠀⠀⠀⠀⠀⢀⣀⣀⠀⠈⠓⢄⠀⠀⠀⠑⠀⠈⢢⠤⠤⠄⠀⠀⠀⠀⠀⠀⎥\n",
       "⎢⠀⠀⠀⠀⠀⠀⠀⢸⣿⣿⠀⠀⠀⠀⠑⢄⠀⠀⠀⠀⠀⠑⢄⠀⠀⠀⠀⠀⠀⠀⎥\n",
       "⎢⠀⠀⠀⠀⠀⠀⠀⢸⣿⣿⠀⠀⠀⠀⠀⠀⠑⢄⠑⢄⠀⠀⠀⠀⠀⠀⠀⠀⠀⠀⎥\n",
       "⎢⠀⠀⠀⠀⠀⠀⠀⠈⠉⠉⠀⠀⠀⠀⠀⠀⠀⠀⠑⢄⢡⣤⣤⠰⠒⠒⡄⠀⠀⠀⎥\n",
       "⎢⡀⠀⠀⠀⠀⠀⠀⠀⠀⠀⠀⠀⠀⠀⠀⠀⠀⠀⠀⠀⢹⣿⣿⠀⠑⠄⡇⠀⠀⠀⎥\n",
       "⎢⠈⠢⡀⠀⠀⠀⠀⠀⠀⠀⠀⠀⠀⠀⠀⠀⠀⠀⠀⠀⢸⣿⣿⢄⠀⠀⡇⠀⠀⠀⎥\n",
       "⎢⠀⠀⠀⠀⠀⠀⠀⠀⠀⠀⠀⠀⠀⠤⠤⠘⢍⠉⠀⠀⠀⠀⠀⠀⠑⢄⠀⠀⠀⠁⎥\n",
       "⎢⠀⠀⠀⠀⠀⠀⠀⠀⠀⠀⠀⠀⠠⡀⠀⠀⠀⠑⠀⠀⠀⠀⠀⠀⠀⠀⠱⣄⠀⠀⎥\n",
       "⎣⠀⠀⠀⠀⠀⠀⠀⠀⠀⠀⠀⠀⠀⠈⠢⠀⠀⠀⠀⠀⠀⠀⠀⠀⠀⠀⠀⠈⠳⠄⎦"
      ]
     },
     "execution_count": 11,
     "metadata": {},
     "output_type": "execute_result"
    }
   ],
   "source": [
    "A"
   ]
  },
  {
   "cell_type": "code",
   "execution_count": null,
   "id": "bac6b16d-4ed8-4d00-a462-cc7f64010944",
   "metadata": {},
   "outputs": [],
   "source": []
  }
 ],
 "metadata": {
  "kernelspec": {
   "display_name": "Julia 1.10.0",
   "language": "julia",
   "name": "julia-1.10"
  },
  "language_info": {
   "file_extension": ".jl",
   "mimetype": "application/julia",
   "name": "julia",
   "version": "1.10.0"
  }
 },
 "nbformat": 4,
 "nbformat_minor": 5
}

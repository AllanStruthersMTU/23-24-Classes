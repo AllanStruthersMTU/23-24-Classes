{
 "cells": [
  {
   "cell_type": "code",
   "execution_count": 36,
   "id": "a50d042a-c9b7-4944-8373-535123e30f4b",
   "metadata": {},
   "outputs": [
    {
     "data": {
      "text/plain": [
       "MPAD (generic function with 1 method)"
      ]
     },
     "execution_count": 36,
     "metadata": {},
     "output_type": "execute_result"
    }
   ],
   "source": [
    "using LinearAlgebra\n",
    "\n",
    "function MP(A,alphas)\n",
    "    n=size(alphas)[1]\n",
    "    m=size(A)[1]\n",
    "    Id = Matrix{Float64}(I, m, m)\n",
    "    CMat=alphas[n]*Id\n",
    "    for i in n-1:-1:1\n",
    "        CMat=A*CMat + alphas[i]*Id\n",
    "    end\n",
    "    CMat\n",
    "end\n",
    "\n",
    "function MPAD(A,dA,alphas)\n",
    "    n=size(alphas)[1]\n",
    "    m=size(A)[1]\n",
    "    Id = Matrix{Float64}(I, m, m)\n",
    "    dCMat=0.0*Id\n",
    "    CMat=alphas[n]*Id\n",
    "    for i in n-1:-1:1\n",
    "        dCMat=dA*CMat + A*dCMat\n",
    "        CMat=A*CMat + alphas[i]*Id\n",
    "    end\n",
    "    (CMat, dCMat)\n",
    "end"
   ]
  },
  {
   "cell_type": "code",
   "execution_count": 41,
   "id": "8ca8fbad-bc20-435e-ac5a-5b1360303905",
   "metadata": {},
   "outputs": [
    {
     "data": {
      "text/plain": [
       "1.8450152272379406e-5"
      ]
     },
     "execution_count": 41,
     "metadata": {},
     "output_type": "execute_result"
    }
   ],
   "source": [
    "m=3\n",
    "A=rand(m,m)\n",
    "dA=rand(m,m)\n",
    "alphas=[1.0, 2.0, 3.0]\n",
    "alphas[3]\n",
    "(CMat, dCMat)=MPAD(A,dA,alphas)\n",
    "h=0.000001;\n",
    "norm(MP(A,alphas)-(CMat + h*dCMat))"
   ]
  },
  {
   "cell_type": "code",
   "execution_count": null,
   "id": "94fd0029-e911-4314-9c83-2722030d1f28",
   "metadata": {},
   "outputs": [],
   "source": []
  }
 ],
 "metadata": {
  "kernelspec": {
   "display_name": "Julia 1.10.0",
   "language": "julia",
   "name": "julia-1.10"
  },
  "language_info": {
   "file_extension": ".jl",
   "mimetype": "application/julia",
   "name": "julia",
   "version": "1.10.0"
  }
 },
 "nbformat": 4,
 "nbformat_minor": 5
}

{
 "cells": [
  {
   "cell_type": "markdown",
   "id": "d08a31fc-96ae-4568-b0fe-a9aa44cb10ad",
   "metadata": {},
   "source": [
    "# Julia QR\n",
    "Julia (along with any other high performance library) avoids extraneous computations. The underlying return format for efficient QR code is probably not what you expect. The structure access \".\" tools compute the pieces you need.  Full documentation is available. "
   ]
  },
  {
   "cell_type": "code",
   "execution_count": 17,
   "id": "1521a258-1bb6-4854-b1de-ca0d111df7d3",
   "metadata": {},
   "outputs": [
    {
     "name": "stdout",
     "output_type": "stream",
     "text": [
      "  0.000097 seconds (4 allocations: 1.062 KiB)\n"
     ]
    },
    {
     "data": {
      "text/plain": [
       "LinearAlgebra.QRCompactWY{Float64, Matrix{Float64}, Matrix{Float64}}\n",
       "Q factor: 12×12 LinearAlgebra.QRCompactWYQ{Float64, Matrix{Float64}, Matrix{Float64}}\n",
       "R factor:\n",
       "5×5 Matrix{Float64}:\n",
       " -1.94014  -1.3964   -1.31087   -1.32257   -1.73393\n",
       "  0.0       1.19548   0.637559   0.652273   0.0449904\n",
       "  0.0       0.0       1.01946    0.733805   0.0376774\n",
       "  0.0       0.0       0.0        1.2369     0.198064\n",
       "  0.0       0.0       0.0        0.0       -0.823469"
      ]
     },
     "metadata": {},
     "output_type": "display_data"
    },
    {
     "data": {
      "text/plain": [
       "12×12 LinearAlgebra.QRCompactWYQ{Float64, Matrix{Float64}, Matrix{Float64}}"
      ]
     },
     "metadata": {},
     "output_type": "display_data"
    },
    {
     "data": {
      "text/plain": [
       "12×5 Matrix{Float64}:\n",
       " 0.75553    0.988342    0.677606   0.318105  0.681149\n",
       " 0.503631   0.0979114   0.177423   0.483035  0.568144\n",
       " 0.652626   0.659893    0.021569   0.180648  0.884162\n",
       " 0.873095   0.333092    0.451952   0.345081  0.42291\n",
       " 0.515644   0.645258    0.706527   0.180684  0.591742\n",
       " 0.852132   0.356585    0.63535    0.931728  0.561555\n",
       " 0.0836054  0.00987046  0.80298    0.721608  0.495263\n",
       " 0.148895   0.265778    0.0192824  0.920664  0.499717\n",
       " 0.386606   0.469451    0.398514   0.70423   0.272126\n",
       " 0.67277    0.140243    0.258973   0.129591  0.857502\n",
       " 0.0701236  0.855856    0.648833   0.879609  0.00351888\n",
       " 0.351097   0.509411    0.523393   0.448626  0.10031"
      ]
     },
     "metadata": {},
     "output_type": "display_data"
    }
   ],
   "source": [
    "using LinearAlgebra\n",
    "(m,n)=(12,5)\n",
    "A=rand(m,n)\n",
    "display(@time QROut=qr(A))\n",
    "display(QROut.Q)\n",
    "display(Matrix(QROut))"
   ]
  },
  {
   "cell_type": "markdown",
   "id": "473f85b3-6e40-41fe-a805-5e9f4d53c734",
   "metadata": {},
   "source": [
    "It is worth noting that the Q factor acts like a square matrix!  It is much faster to use the implicit Q factor than it is to build the Q and then multiply. "
   ]
  },
  {
   "cell_type": "code",
   "execution_count": 37,
   "id": "91353846-c87e-4dcb-bac1-5c3e6b532710",
   "metadata": {},
   "outputs": [
    {
     "name": "stdout",
     "output_type": "stream",
     "text": [
      "  0.000585 seconds (5 allocations: 251.266 KiB)\n",
      "  0.000035 seconds (1 allocation: 32 bytes)\n",
      "  0.000333 seconds (4 allocations: 10.156 KiB)\n",
      "  0.001007 seconds (4 allocations: 255.984 KiB)\n",
      "  0.000016 seconds (2 allocations: 9.828 KiB)\n",
      "  0.000086 seconds (2 allocations: 10.062 KiB)\n"
     ]
    }
   ],
   "source": [
    "using LinearAlgebra\n",
    "(m,n)=(1234,25)\n",
    "A=rand(m,n); vm=rand(m); vn=vm[1:n];\n",
    "@time QROut=qr(A)\n",
    "@time Q=QROut.Q\n",
    "@time uFast=Q*vn\n",
    "@time uSlow=Matrix(Q)*vn\n",
    "@time norm(uFast-uSlow)\n",
    "@time Q*vm;"
   ]
  },
  {
   "cell_type": "markdown",
   "id": "bda34075-86b4-4a89-afde-90cc73db3176",
   "metadata": {},
   "source": [
    "The \"extra\" columns of \"Q\" span the orthogonal complement of the columns space of A.  This could be useful if you want an efficient way to efficiently expand the column space of A.     "
   ]
  },
  {
   "cell_type": "code",
   "execution_count": 56,
   "id": "d1b01367-ba17-4fc8-9ea3-ed5344da5380",
   "metadata": {},
   "outputs": [
    {
     "name": "stdout",
     "output_type": "stream",
     "text": [
      "  0.000008 seconds (3 allocations: 160 bytes)\n",
      "  0.000008 seconds (2 allocations: 160 bytes)\n",
      "  0.000110 seconds (3 allocations: 19.875 KiB)\n",
      "  0.000295 seconds (2 allocations: 272 bytes)\n"
     ]
    }
   ],
   "source": [
    "using SparseArrays\n",
    "@time em = spzeros(m)\n",
    "@time em[m]=1.0\n",
    "@time uPerp=Q*em\n",
    "@time A'*uPerp;"
   ]
  },
  {
   "cell_type": "markdown",
   "id": "a1ee172b-a4fb-413e-b4d9-b04cbcf6dd2e",
   "metadata": {},
   "source": [
    "Sparse arrays are stored quite differently from dense arrays! Julia gives you a bad cartoon."
   ]
  },
  {
   "cell_type": "code",
   "execution_count": 66,
   "id": "6afe58ba-3d73-4ee4-baba-0a1a42d8ef0f",
   "metadata": {},
   "outputs": [
    {
     "name": "stdout",
     "output_type": "stream",
     "text": [
      "  0.005030 seconds (2 allocations: 22.049 MiB)\n",
      "  0.000032 seconds (18 allocations: 47.328 KiB)\n"
     ]
    },
    {
     "data": {
      "text/plain": [
       "1234×2342 SparseMatrixCSC{Float64, Int64} with 2 stored entries:\n",
       "⎡⠁⠀⠀⠀⠀⠀⠀⠀⠀⠀⠀⠀⠀⠀⠀⠀⠀⠀⠀⠀⠀⠀⠀⠀⠀⠀⠀⠀⠀⠀⠀⠀⠀⠀⠀⠀⠀⠀⠀⠀⎤\n",
       "⎢⠀⠀⠀⠀⠀⠀⠀⠀⠀⠀⠀⠀⠀⠀⠀⠀⠀⠀⠀⠀⠀⠀⠀⠀⠀⠀⠀⠀⠀⠀⠀⠀⠀⠀⠀⠀⠀⠀⠀⠀⎥\n",
       "⎢⠀⠀⠀⠀⠀⠀⠀⠀⠀⠀⠀⠀⠀⠀⠀⠀⠀⠀⠀⠀⠀⠀⠀⠀⠀⠀⠀⠀⠀⠀⠀⠀⠀⠀⠀⠀⠀⠀⠀⠀⎥\n",
       "⎢⠀⠀⠀⠀⠀⠀⠀⠀⠀⠀⠀⠀⠀⠀⠀⠀⠀⠀⠀⠀⠀⠀⠀⠀⠀⠀⠀⠀⠀⠀⠀⠀⠀⠀⠀⠀⠀⠀⠀⠀⎥\n",
       "⎢⠀⠀⠀⠀⠀⠀⠀⠀⠀⠀⠀⠀⠀⠀⠀⠀⠀⠀⠀⠀⠀⠀⠀⠀⠀⠀⠀⠀⠀⠀⠀⠀⠀⠀⠀⠀⠀⠀⠀⠀⎥\n",
       "⎢⠀⠀⠀⠀⠀⠀⠀⠀⠀⠀⠀⠀⠀⠀⠀⠀⠀⠀⠀⠀⠀⠀⠀⠀⠀⠀⠀⠀⠀⠀⠀⠀⠀⠀⠀⠀⠀⠀⠀⠀⎥\n",
       "⎢⠀⠀⠀⠀⠀⠀⠀⠀⠀⠀⠀⠀⠀⠀⠀⠀⠀⠀⠀⠀⠀⠀⠀⠀⠀⠀⠀⠀⠀⠀⠀⠀⠀⠀⠀⠀⠀⠀⠀⠀⎥\n",
       "⎢⠀⠀⠀⠀⠀⠀⠀⠀⠀⠀⠀⠀⠀⠀⠀⠀⠀⠀⠀⠀⠀⠀⠀⠀⠀⠀⠀⠀⠀⠀⠀⠀⠀⠀⠀⠀⠀⠀⠀⠀⎥\n",
       "⎢⠀⠀⠀⠀⠀⠀⠀⠀⠀⠀⠀⠀⠀⠀⠀⠀⠀⠀⠀⠀⠀⠀⠀⠀⠀⠀⠀⠀⠀⠀⠀⠀⠀⠀⠀⠀⠀⠀⠀⠀⎥\n",
       "⎢⠀⠀⠀⠀⠀⠀⠀⠀⠀⠀⠀⠀⠀⠀⠀⠀⠀⠀⠀⠀⠀⠀⠀⠀⠀⠀⠀⠀⠀⠀⠀⠀⠀⠀⠀⠀⠀⠀⠀⠀⎥\n",
       "⎣⠀⠀⠀⠀⠀⠀⠀⠀⠀⠀⠀⠀⠀⠀⠀⠀⠀⠀⠀⠀⠀⠀⠀⠀⠀⠀⠀⠀⠀⠀⠀⠀⠀⠀⠀⠀⠀⠀⠀⠐⎦"
      ]
     },
     "execution_count": 66,
     "metadata": {},
     "output_type": "execute_result"
    }
   ],
   "source": [
    "(m,n)=(1234,2342)\n",
    "@time A=zeros(m,n); A[m,n]=2.3; A[1,1]=3.4\n",
    "@time As=sparse([m,1],[n,1],[2.3,3.4])"
   ]
  },
  {
   "cell_type": "code",
   "execution_count": null,
   "id": "b9fdb0a2-dc69-42a4-948c-6d5c4103bfc4",
   "metadata": {},
   "outputs": [],
   "source": []
  }
 ],
 "metadata": {
  "kernelspec": {
   "display_name": "Julia 1.10.0",
   "language": "julia",
   "name": "julia-1.10"
  },
  "language_info": {
   "file_extension": ".jl",
   "mimetype": "application/julia",
   "name": "julia",
   "version": "1.10.0"
  }
 },
 "nbformat": 4,
 "nbformat_minor": 5
}

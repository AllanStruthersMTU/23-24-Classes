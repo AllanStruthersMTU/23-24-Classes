{
 "cells": [
  {
   "cell_type": "markdown",
   "id": "e09d6a92-7432-427b-aa0c-2a21282932f4",
   "metadata": {},
   "source": [
    "I was asked to provide a test problem for the 5627 folks ILU0 code. I found a Julia package\n",
    "https://docs.juliahub.com/ILUZero/mqvry/0.2.0/\n",
    "which should provide a test. "
   ]
  },
  {
   "cell_type": "code",
   "execution_count": 53,
   "id": "9dda21a0-0faa-4e55-87bd-178fa5240356",
   "metadata": {},
   "outputs": [
    {
     "data": {
      "text/plain": [
       "7681.156902274253"
      ]
     },
     "execution_count": 53,
     "metadata": {},
     "output_type": "execute_result"
    }
   ],
   "source": [
    "using IncompleteLU, LinearAlgebra, SparseArrays,MatrixMarket\n",
    "cd(\"C:\\\\Users\\\\AllanStruthers\\\\Desktop\\\\GitHub\\\\23-24-Classes\\\\Spring 2024 Courses\\\\Lin Alg\\\\Projects\\\\ILU0\")\n",
    "A=mmread(\"ILU0Test.mtx\")\n",
    "m=size(A)[1];\n",
    "for i in 1:m\n",
    "    A[i,i]=1000.0\n",
    "end\n",
    "fact = ilu(A, τ = 0)\n",
    "L= fact.L\n",
    "U = fact.U\n",
    "norm(A)"
   ]
  },
  {
   "cell_type": "code",
   "execution_count": 58,
   "id": "129f56a0-6025-48b9-9042-b559b5c197aa",
   "metadata": {},
   "outputs": [
    {
     "data": {
      "text/plain": [
       "59-element Vector{Float64}:\n",
       " 0.0\n",
       " 0.0\n",
       " 0.0\n",
       " 0.0\n",
       " 0.0\n",
       " 0.0\n",
       " 0.0\n",
       " 0.0\n",
       " 0.0\n",
       " 0.0\n",
       " 0.0\n",
       " 0.0\n",
       " 0.0\n",
       " ⋮\n",
       " 0.0\n",
       " 0.0\n",
       " 0.0\n",
       " 0.0\n",
       " 0.0\n",
       " 0.0\n",
       " 0.0\n",
       " 0.0\n",
       " 0.0\n",
       " 0.0\n",
       " 0.0\n",
       " 0.0"
      ]
     },
     "execution_count": 58,
     "metadata": {},
     "output_type": "execute_result"
    }
   ],
   "source": [
    "Vector(diag(L))"
   ]
  },
  {
   "cell_type": "code",
   "execution_count": null,
   "id": "78388e53-bfb1-4f7d-803f-830ce4813eea",
   "metadata": {},
   "outputs": [],
   "source": []
  }
 ],
 "metadata": {
  "kernelspec": {
   "display_name": "Julia 1.10.0",
   "language": "julia",
   "name": "julia-1.10"
  },
  "language_info": {
   "file_extension": ".jl",
   "mimetype": "application/julia",
   "name": "julia",
   "version": "1.10.0"
  }
 },
 "nbformat": 4,
 "nbformat_minor": 5
}

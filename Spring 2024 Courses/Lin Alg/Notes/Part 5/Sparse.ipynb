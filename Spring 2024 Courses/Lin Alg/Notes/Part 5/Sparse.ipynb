{
 "cells": [
  {
   "cell_type": "code",
   "execution_count": 2,
   "id": "9dda21a0-0faa-4e55-87bd-178fa5240356",
   "metadata": {},
   "outputs": [
    {
     "data": {
      "text/plain": [
       "5×5 SparseMatrixCSC{Float64, Int64} with 9 stored entries:\n",
       " 10.0   0.812771    ⋅     ⋅          ⋅ \n",
       "   ⋅   10.6191      ⋅     ⋅          ⋅ \n",
       "   ⋅     ⋅        10.0   0.830245    ⋅ \n",
       "   ⋅     ⋅          ⋅   10.0        0.767333\n",
       "   ⋅     ⋅          ⋅    0.297225  10.0"
      ]
     },
     "metadata": {},
     "output_type": "display_data"
    },
    {
     "data": {
      "text/plain": [
       "5×5 Matrix{Float64}:\n",
       " 10.0   0.812771   0.0   0.0        0.0\n",
       "  0.0  10.6191     0.0   0.0        0.0\n",
       "  0.0   0.0       10.0   0.830245   0.0\n",
       "  0.0   0.0        0.0  10.0        0.767333\n",
       "  0.0   0.0        0.0   0.297225  10.0"
      ]
     },
     "metadata": {},
     "output_type": "display_data"
    },
    {
     "data": {
      "text/plain": [
       "6-element Vector{Int64}:\n",
       "  1\n",
       "  2\n",
       "  4\n",
       "  5\n",
       "  8\n",
       " 10"
      ]
     },
     "metadata": {},
     "output_type": "display_data"
    },
    {
     "data": {
      "text/plain": [
       "9-element Vector{Int64}:\n",
       " 1\n",
       " 1\n",
       " 2\n",
       " 3\n",
       " 3\n",
       " 4\n",
       " 5\n",
       " 4\n",
       " 5"
      ]
     },
     "metadata": {},
     "output_type": "display_data"
    },
    {
     "data": {
      "text/plain": [
       "9-element Vector{Float64}:\n",
       " 10.0\n",
       "  0.8127712410528551\n",
       " 10.619051476757555\n",
       " 10.0\n",
       "  0.8302452760859647\n",
       " 10.0\n",
       "  0.29722453352043976\n",
       "  0.767333088429108\n",
       " 10.0"
      ]
     },
     "metadata": {},
     "output_type": "display_data"
    }
   ],
   "source": [
    "using SparseArrays, LinearAlgebra \n",
    "m=5;\n",
    "b=rand(m)\n",
    "A = sprand(m, m, 1/m) + 10.0*I\n",
    "display(A)\n",
    "display(Matrix(A))\n",
    "display(A.colptr)\n",
    "display(A.rowval)\n",
    "display(A.nzval)"
   ]
  },
  {
   "cell_type": "code",
   "execution_count": 4,
   "id": "e538fbb1-c8d1-4706-8e28-7c8572d0d9fe",
   "metadata": {},
   "outputs": [
    {
     "name": "stdout",
     "output_type": "stream",
     "text": [
      "  0.000415 seconds (20 allocations: 166.391 KiB)\n",
      "  0.000308 seconds\n",
      "  0.000055 seconds (1 allocation: 7.938 KiB)\n"
     ]
    }
   ],
   "source": [
    "using ILUZero, BenchmarkTools, LinearAlgebra, SparseArrays\n",
    "m=1000;\n",
    "b=rand(m)\n",
    "A = sprand(m, m, 5/m) + 10I\n",
    "B=copy(A)\n",
    "fact = @time ilu0(A)\n",
    "updated_fact= ilu0(B)\n",
    "B[1,1]=3.4\n",
    "@time ilu0!(updated_fact, B)\n",
    "@time fact\\b;"
   ]
  },
  {
   "cell_type": "code",
   "execution_count": null,
   "id": "2d1f484c-76a0-4f36-9bfe-340a23ed91ed",
   "metadata": {},
   "outputs": [],
   "source": []
  }
 ],
 "metadata": {
  "kernelspec": {
   "display_name": "Julia 1.10.0",
   "language": "julia",
   "name": "julia-1.10"
  },
  "language_info": {
   "file_extension": ".jl",
   "mimetype": "application/julia",
   "name": "julia",
   "version": "1.10.0"
  }
 },
 "nbformat": 4,
 "nbformat_minor": 5
}

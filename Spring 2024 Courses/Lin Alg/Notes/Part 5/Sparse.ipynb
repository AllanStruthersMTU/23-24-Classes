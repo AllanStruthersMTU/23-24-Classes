{
 "cells": [
  {
   "cell_type": "code",
   "execution_count": 13,
   "id": "9dda21a0-0faa-4e55-87bd-178fa5240356",
   "metadata": {},
   "outputs": [
    {
     "data": {
      "text/plain": [
       "5×5 Matrix{Float64}:\n",
       " 10.0        0.0   0.0      0.942044    0.0\n",
       "  0.0       10.0   0.0      0.0250054   0.0\n",
       "  0.321033   0.0  10.7046   0.0         0.0\n",
       "  0.0        0.0   0.0     10.0         0.170343\n",
       "  0.0        0.0   0.0      0.0        10.0"
      ]
     },
     "metadata": {},
     "output_type": "display_data"
    },
    {
     "data": {
      "text/plain": [
       "6-element Vector{Int64}:\n",
       "  1\n",
       "  3\n",
       "  4\n",
       "  5\n",
       "  8\n",
       " 10"
      ]
     },
     "metadata": {},
     "output_type": "display_data"
    },
    {
     "data": {
      "text/plain": [
       "9-element Vector{Int64}:\n",
       " 1\n",
       " 3\n",
       " 2\n",
       " 3\n",
       " 1\n",
       " 2\n",
       " 4\n",
       " 4\n",
       " 5"
      ]
     },
     "metadata": {},
     "output_type": "display_data"
    },
    {
     "data": {
      "text/plain": [
       "9-element Vector{Float64}:\n",
       " 10.0\n",
       "  0.3210328009499285\n",
       " 10.0\n",
       " 10.704551982580314\n",
       "  0.9420439112650415\n",
       "  0.025005418980597938\n",
       " 10.0\n",
       "  0.17034253337877125\n",
       " 10.0"
      ]
     },
     "metadata": {},
     "output_type": "display_data"
    }
   ],
   "source": [
    "using SparseArrays\n",
    "m=5;\n",
    "b=rand(m)\n",
    "A = sprand(m, m, 1/m) + 10.0*I\n",
    "display(Matrix(A))\n",
    "display(A.colptr)\n",
    "display(A.rowval)\n",
    "display(A.nzval)"
   ]
  },
  {
   "cell_type": "code",
   "execution_count": null,
   "id": "e538fbb1-c8d1-4706-8e28-7c8572d0d9fe",
   "metadata": {},
   "outputs": [],
   "source": [
    "using ILUZero, BenchmarkTools, LinearAlgebra, SparseArrays\n",
    "m=1000;\n",
    "b=rand(m)\n",
    "A = sprand(m, m, 5/m) + 10I\n",
    "B=copy(A)\n",
    "fact = @time ilu0(A)\n",
    "updated_fact= ilu0(B)\n",
    "B[1,1]=3.4\n",
    "@time ilu0!(updated_fact, B)\n",
    "@time fact\\b;"
   ]
  }
 ],
 "metadata": {
  "kernelspec": {
   "display_name": "Julia 1.10.0",
   "language": "julia",
   "name": "julia-1.10"
  },
  "language_info": {
   "file_extension": ".jl",
   "mimetype": "application/julia",
   "name": "julia",
   "version": "1.10.0"
  }
 },
 "nbformat": 4,
 "nbformat_minor": 5
}

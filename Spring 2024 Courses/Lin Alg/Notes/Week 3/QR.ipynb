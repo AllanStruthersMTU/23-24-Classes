{
 "cells": [
  {
   "cell_type": "markdown",
   "id": "d08a31fc-96ae-4568-b0fe-a9aa44cb10ad",
   "metadata": {},
   "source": [
    "# Julia QR\n",
    "Julia (along with any other high performance library) avoids extraneous computations. The underlying return format for efficient QR code is probably not what you expect. The structure access \".\" tools compute the pieces you need.  Full documentation is available. "
   ]
  },
  {
   "cell_type": "code",
   "execution_count": 1,
   "id": "1521a258-1bb6-4854-b1de-ca0d111df7d3",
   "metadata": {},
   "outputs": [
    {
     "name": "stdout",
     "output_type": "stream",
     "text": [
      "  0.065220 seconds (77.46 k allocations: 5.018 MiB, 99.79% compilation time)\n"
     ]
    },
    {
     "data": {
      "text/plain": [
       "12×12 LinearAlgebra.QRCompactWYQ{Float64, Matrix{Float64}, Matrix{Float64}}"
      ]
     },
     "metadata": {},
     "output_type": "display_data"
    },
    {
     "data": {
      "text/plain": [
       "12×5 Matrix{Float64}:\n",
       " 0.991736   0.444736   0.838895   0.283683   0.808687\n",
       " 0.0971169  0.402128   0.294043   0.960827   0.548582\n",
       " 0.156443   0.0604203  0.632355   0.250303   0.630161\n",
       " 0.172287   0.30577    0.0581267  0.305484   0.419571\n",
       " 0.874268   0.963673   0.961341   0.0945897  0.107062\n",
       " 0.903079   0.936769   0.255614   0.0701265  0.504467\n",
       " 0.646611   0.14039    0.280426   0.682581   0.982301\n",
       " 0.1134     0.207517   0.410462   0.509712   0.975198\n",
       " 0.9255     0.941063   0.579335   0.672515   0.441378\n",
       " 0.121809   0.695961   0.3097     0.714781   0.723043\n",
       " 0.472171   0.384835   0.651229   0.0646235  0.687732\n",
       " 0.343396   0.243096   0.2441     0.856875   0.30162"
      ]
     },
     "metadata": {},
     "output_type": "display_data"
    }
   ],
   "source": [
    "using LinearAlgebra\n",
    "(m,n)=(12,5)\n",
    "A=rand(m,n)\n",
    "@time QROut=qr(A)\n",
    "display(QROut.Q)\n",
    "display(Matrix(QROut))"
   ]
  },
  {
   "cell_type": "markdown",
   "id": "473f85b3-6e40-41fe-a805-5e9f4d53c734",
   "metadata": {},
   "source": [
    "It is worth noting that the Q factor acts like a square matrix!  It is much faster to use the implicit Q factor than it is to build the Q and then multiply. "
   ]
  },
  {
   "cell_type": "code",
   "execution_count": 7,
   "id": "97369c68-e518-4ac2-bc13-86893ccfb2c3",
   "metadata": {},
   "outputs": [
    {
     "name": "stdout",
     "output_type": "stream",
     "text": [
      "  0.000727 seconds (5 allocations: 251.266 KiB)\n",
      "  0.000015 seconds (1 allocation: 32 bytes)\n",
      "  0.000800 seconds (3 allocations: 246.172 KiB)\n"
     ]
    }
   ],
   "source": [
    "using LinearAlgebra\n",
    "(m,n)=(1234,25)\n",
    "A=rand(m,n); vm=rand(m); vn=vm[1:n];\n",
    "@time QROut=qr(A)\n",
    "@time Q=QROut.Q\n",
    "@time QMat=Matrix(Q);"
   ]
  },
  {
   "cell_type": "code",
   "execution_count": 8,
   "id": "348b074a-1d8a-4229-8c34-44ff6fbaeb37",
   "metadata": {},
   "outputs": [
    {
     "name": "stdout",
     "output_type": "stream",
     "text": [
      "  0.000156 seconds (4 allocations: 10.156 KiB)\n",
      "  0.000304 seconds (1 allocation: 9.812 KiB)\n",
      "  0.000016 seconds (2 allocations: 9.828 KiB)\n"
     ]
    },
    {
     "data": {
      "text/plain": [
       "7.367591498653301e-16"
      ]
     },
     "metadata": {},
     "output_type": "display_data"
    },
    {
     "name": "stdout",
     "output_type": "stream",
     "text": [
      "  0.000105 seconds (2 allocations: 10.062 KiB)\n"
     ]
    }
   ],
   "source": [
    "@time uFast=Q*vn\n",
    "@time uSlow=QMat*vn\n",
    "display(@time norm(uFast-uSlow))\n",
    "@time Q*vm;"
   ]
  },
  {
   "cell_type": "markdown",
   "id": "bda34075-86b4-4a89-afde-90cc73db3176",
   "metadata": {},
   "source": [
    "The \"extra\" columns of \"Q\" span the orthogonal complement of the columns space of A.  This could be useful if you want an efficient way to efficiently expand the column space of A.     "
   ]
  },
  {
   "cell_type": "code",
   "execution_count": 11,
   "id": "d1b01367-ba17-4fc8-9ea3-ed5344da5380",
   "metadata": {},
   "outputs": [
    {
     "name": "stdout",
     "output_type": "stream",
     "text": [
      "  0.000007 seconds (3 allocations: 160 bytes)\n",
      "  0.000011 seconds (2 allocations: 160 bytes)\n",
      "  0.000162 seconds (3 allocations: 19.875 KiB)\n",
      "  0.000318 seconds (3 allocations: 288 bytes)\n"
     ]
    },
    {
     "data": {
      "text/plain": [
       "1.4106118103708833e-15"
      ]
     },
     "execution_count": 11,
     "metadata": {},
     "output_type": "execute_result"
    }
   ],
   "source": [
    "using SparseArrays\n",
    "m=1234\n",
    "@time em = spzeros(m)\n",
    "@time em[m]=1.0\n",
    "@time uPerp=Q*em\n",
    "@time norm(A'*uPerp)"
   ]
  },
  {
   "cell_type": "markdown",
   "id": "a1ee172b-a4fb-413e-b4d9-b04cbcf6dd2e",
   "metadata": {},
   "source": [
    "Sparse arrays are stored quite differently from dense arrays! Julia gives you a bad cartoon of a sparse matrix."
   ]
  },
  {
   "cell_type": "code",
   "execution_count": 15,
   "id": "6afe58ba-3d73-4ee4-baba-0a1a42d8ef0f",
   "metadata": {},
   "outputs": [
    {
     "name": "stdout",
     "output_type": "stream",
     "text": [
      "  0.005802 seconds (2 allocations: 22.049 MiB)\n",
      "  0.000062 seconds (18 allocations: 47.328 KiB)\n",
      "  0.002175 seconds (1 allocation: 9.812 KiB)\n",
      "  0.000014 seconds (1 allocation: 9.812 KiB)\n"
     ]
    },
    {
     "data": {
      "text/plain": [
       "0.0"
      ]
     },
     "execution_count": 15,
     "metadata": {},
     "output_type": "execute_result"
    }
   ],
   "source": [
    "using SparseArrays\n",
    "(m,n)=(1234,2342)\n",
    "v=rand(n)\n",
    "@time A=zeros(m,n); A[m,n]=2.3; A[1,1]=3.4\n",
    "@time As=sparse([m,1],[n,1],[2.3,3.4])\n",
    "@time u=A*v\n",
    "@time w=As*v;\n",
    "norm(w-u)"
   ]
  },
  {
   "cell_type": "code",
   "execution_count": null,
   "id": "b9fdb0a2-dc69-42a4-948c-6d5c4103bfc4",
   "metadata": {},
   "outputs": [],
   "source": []
  }
 ],
 "metadata": {
  "kernelspec": {
   "display_name": "Julia 1.10.0",
   "language": "julia",
   "name": "julia-1.10"
  },
  "language_info": {
   "file_extension": ".jl",
   "mimetype": "application/julia",
   "name": "julia",
   "version": "1.10.0"
  }
 },
 "nbformat": 4,
 "nbformat_minor": 5
}

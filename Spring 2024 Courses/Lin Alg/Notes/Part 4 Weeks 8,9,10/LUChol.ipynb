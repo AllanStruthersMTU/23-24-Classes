{
 "cells": [
  {
   "cell_type": "code",
   "execution_count": 94,
   "id": "a50d042a-c9b7-4944-8373-535123e30f4b",
   "metadata": {},
   "outputs": [
    {
     "data": {
      "text/plain": [
       "\"Decompositions\""
      ]
     },
     "metadata": {},
     "output_type": "display_data"
    },
    {
     "name": "stdout",
     "output_type": "stream",
     "text": [
      "  0.033033 seconds (4 allocations: 5.174 MiB)\n",
      "  0.019478 seconds (3 allocations: 5.168 MiB)\n"
     ]
    },
    {
     "data": {
      "text/plain": [
       "\"Solves\""
      ]
     },
     "metadata": {},
     "output_type": "display_data"
    },
    {
     "name": "stdout",
     "output_type": "stream",
     "text": [
      "  0.035414 seconds (4 allocations: 5.181 MiB)\n",
      "  0.000880 seconds (1 allocation: 6.562 KiB)\n",
      "  0.001469 seconds (1 allocation: 6.562 KiB)\n"
     ]
    }
   ],
   "source": [
    "using LinearAlgebra\n",
    "m=823\n",
    "A=rand(m,m); A=A*A'+I\n",
    "x=rand(m);b=A*x;\n",
    "display(\"Decompositions\")\n",
    "@time DecompLU=lu(A)\n",
    "@time DecompC=cholesky(A)\n",
    "display(\"Solves\")\n",
    "@time xBS = A\\b\n",
    "@time xLU = DecompLU\\b\n",
    "@time xC = DecompC\\b;"
   ]
  },
  {
   "cell_type": "code",
   "execution_count": 95,
   "id": "8ca8fbad-bc20-435e-ac5a-5b1360303905",
   "metadata": {},
   "outputs": [
    {
     "name": "stdout",
     "output_type": "stream",
     "text": [
      "  0.217535 seconds (2 allocations: 5.168 MiB, 98.54% gc time)\n",
      "  0.009052 seconds (2 allocations: 5.168 MiB)\n"
     ]
    },
    {
     "data": {
      "text/plain": [
       "(169245.771182808, 3.905772347932769e7)"
      ]
     },
     "execution_count": 95,
     "metadata": {},
     "output_type": "execute_result"
    }
   ],
   "source": [
    "@time L=DecompLU.L\n",
    "@time U=DecompLU.U\n",
    "(norm(A-L'*L),norm(A-U'*U))"
   ]
  },
  {
   "cell_type": "code",
   "execution_count": 97,
   "id": "6a34224a-e680-4a75-94db-d1ea03fdfc70",
   "metadata": {},
   "outputs": [
    {
     "data": {
      "text/plain": [
       "\"LUs\""
      ]
     },
     "metadata": {},
     "output_type": "display_data"
    },
    {
     "name": "stdout",
     "output_type": "stream",
     "text": [
      "  0.023004 seconds (4 allocations: 2.966 MiB)\n",
      "  0.024709 seconds (4 allocations: 2.966 MiB)\n",
      "  0.019134 seconds (4 allocations: 2.966 MiB)\n"
     ]
    },
    {
     "data": {
      "text/plain": [
       "\"Chols\""
      ]
     },
     "metadata": {},
     "output_type": "display_data"
    },
    {
     "name": "stdout",
     "output_type": "stream",
     "text": [
      "  0.029061 seconds (3 allocations: 2.961 MiB, 53.50% gc time)\n",
      "  0.016997 seconds (3 allocations: 2.961 MiB)\n",
      "  0.017816 seconds (3 allocations: 2.961 MiB)\n",
      "  0.016877 seconds (3 allocations: 2.961 MiB)\n"
     ]
    },
    {
     "data": {
      "text/plain": [
       "\"Solves\""
      ]
     },
     "metadata": {},
     "output_type": "display_data"
    },
    {
     "name": "stdout",
     "output_type": "stream",
     "text": [
      "  0.028031 seconds (4 allocations: 2.971 MiB)\n",
      "  0.055788 seconds (8 allocations: 3.275 MiB)\n",
      "  0.003826 seconds (1 allocation: 5.000 KiB)\n",
      "  0.000582 seconds (1 allocation: 5.000 KiB)\n",
      "  0.001513 seconds (1 allocation: 5.000 KiB)\n",
      "  0.001701 seconds (1 allocation: 5.000 KiB)\n",
      "  0.001296 seconds (1 allocation: 5.000 KiB)\n"
     ]
    }
   ],
   "source": [
    "using LinearAlgebra\n",
    "m=623\n",
    "A=rand(m,m); A=A*A'+I\n",
    "HA = Hermitian(A)\n",
    "SA=Symmetric(A)\n",
    "x=rand(m);b=A*x;\n",
    "display(\"LUs\")\n",
    "@time DecompLU=lu(A)\n",
    "@time HDecompLU=lu(HA)\n",
    "@time SDecompLU=lu(SA)\n",
    "display(\"Chols\")\n",
    "@time DecompC=cholesky(A)\n",
    "@time DecompC=cholesky(A,check=false)\n",
    "@time HDecompC=cholesky(HA)\n",
    "@time SDecompC=cholesky(SA)\n",
    "display(\"Solves\")\n",
    "@time xBS = A\\b\n",
    "@time xHBS = HA\\b\n",
    "@time xLU = DecompLU\\b\n",
    "@time xHLU = HDecompLU\\b\n",
    "@time xC = DecompC\\b;\n",
    "@time xHC = HDecompC\\b;\n",
    "@time xSC = SDecompC\\b;"
   ]
  },
  {
   "cell_type": "code",
   "execution_count": 99,
   "id": "ea7f5d2c-e910-446c-b782-946ab888d410",
   "metadata": {},
   "outputs": [
    {
     "data": {
      "text/plain": [
       "\"Herm\""
      ]
     },
     "metadata": {},
     "output_type": "display_data"
    },
    {
     "name": "stdout",
     "output_type": "stream",
     "text": [
      "  0.048258 seconds (7 allocations: 1.575 MiB, 41.59% gc time)\n",
      "  0.000283 seconds (1 allocation: 3.438 KiB)\n"
     ]
    },
    {
     "data": {
      "text/plain": [
       "\"Plain\""
      ]
     },
     "metadata": {},
     "output_type": "display_data"
    },
    {
     "name": "stdout",
     "output_type": "stream",
     "text": [
      "  0.011082 seconds (3 allocations: 1.365 MiB)\n",
      "  0.000372 seconds (1 allocation: 3.438 KiB)\n"
     ]
    },
    {
     "data": {
      "text/plain": [
       "\"Sym\""
      ]
     },
     "metadata": {},
     "output_type": "display_data"
    },
    {
     "name": "stdout",
     "output_type": "stream",
     "text": [
      "  0.031046 seconds (7 allocations: 1.575 MiB)\n",
      "  0.000584 seconds (1 allocation: 3.438 KiB)\n"
     ]
    }
   ],
   "source": [
    "using LinearAlgebra\n",
    "m=423\n",
    "A=rand(m,m); A=A*A'+I\n",
    "HA = Hermitian(A)\n",
    "SA = Symmetric(A)\n",
    "x=rand(m);b=A*x;\n",
    "display(\"Herm\")\n",
    "@time fHA=factorize(HA)\n",
    "@time xJH=fHA\\b;\n",
    "display(\"Plain\")\n",
    "@time fA=factorize(A)\n",
    "@time xJ=fA\\b;\n",
    "display(\"Sym\")\n",
    "@time fSA=factorize(SA)\n",
    "@time xJS=fSA\\b;"
   ]
  },
  {
   "cell_type": "code",
   "execution_count": 102,
   "id": "43c768e7-023c-4dfd-bab8-ac84947a5fff",
   "metadata": {},
   "outputs": [
    {
     "data": {
      "text/plain": [
       "Cholesky{Float64, Matrix{Float64}}\n",
       "U factor:\n",
       "423×423 UpperTriangular{Float64, Matrix{Float64}}:\n",
       " 11.7392  8.8576   8.7057   8.72877  …   8.56003     8.66972      9.14226\n",
       "   ⋅      7.83131  2.90747  3.04338      3.55267     3.20215      3.14075\n",
       "   ⋅       ⋅       7.3344   2.43366      2.44044     2.64809      2.31923\n",
       "   ⋅       ⋅        ⋅       6.90776      1.91627     1.7508       1.8013\n",
       "   ⋅       ⋅        ⋅        ⋅           1.27538     1.85591      1.79357\n",
       "   ⋅       ⋅        ⋅        ⋅       …   1.18891     0.769558     1.60334\n",
       "   ⋅       ⋅        ⋅        ⋅           0.562447    0.751604     0.683709\n",
       "   ⋅       ⋅        ⋅        ⋅           0.370928    0.702389     0.9948\n",
       "   ⋅       ⋅        ⋅        ⋅           0.924006    0.292209     0.698481\n",
       "   ⋅       ⋅        ⋅        ⋅           0.266975    0.905164     0.828161\n",
       "   ⋅       ⋅        ⋅        ⋅       …   0.814268    1.16259      0.860869\n",
       "   ⋅       ⋅        ⋅        ⋅           0.576301   -0.06091      0.509537\n",
       "   ⋅       ⋅        ⋅        ⋅           0.251987    0.275031     0.3989\n",
       "  ⋮                                  ⋱   ⋮                       \n",
       "   ⋅       ⋅        ⋅        ⋅           0.24363    -0.00928423  -0.139838\n",
       "   ⋅       ⋅        ⋅        ⋅          -0.0871352  -0.193448    -0.127882\n",
       "   ⋅       ⋅        ⋅        ⋅           0.041361   -0.676935     0.0307121\n",
       "   ⋅       ⋅        ⋅        ⋅           0.240113    0.0909276   -0.263459\n",
       "   ⋅       ⋅        ⋅        ⋅       …   0.356678   -0.0639438    0.131102\n",
       "   ⋅       ⋅        ⋅        ⋅          -0.281382   -0.0187522    0.0374152\n",
       "   ⋅       ⋅        ⋅        ⋅           0.0886381  -0.518412     0.274492\n",
       "   ⋅       ⋅        ⋅        ⋅           0.449555    0.404887     0.0653919\n",
       "   ⋅       ⋅        ⋅        ⋅           0.0186419   0.175664     0.0121867\n",
       "   ⋅       ⋅        ⋅        ⋅       …   2.58161     0.100199     0.172207\n",
       "   ⋅       ⋅        ⋅        ⋅            ⋅          2.65091      0.0550109\n",
       "   ⋅       ⋅        ⋅        ⋅            ⋅           ⋅           2.47002"
      ]
     },
     "execution_count": 102,
     "metadata": {},
     "output_type": "execute_result"
    }
   ],
   "source": [
    "fA"
   ]
  },
  {
   "cell_type": "code",
   "execution_count": null,
   "id": "94fd0029-e911-4314-9c83-2722030d1f28",
   "metadata": {},
   "outputs": [],
   "source": []
  }
 ],
 "metadata": {
  "kernelspec": {
   "display_name": "Julia 1.10.0",
   "language": "julia",
   "name": "julia-1.10"
  },
  "language_info": {
   "file_extension": ".jl",
   "mimetype": "application/julia",
   "name": "julia",
   "version": "1.10.0"
  }
 },
 "nbformat": 4,
 "nbformat_minor": 5
}

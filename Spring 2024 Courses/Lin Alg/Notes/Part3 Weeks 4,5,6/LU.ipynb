{
 "cells": [
  {
   "cell_type": "code",
   "execution_count": null,
   "id": "a50d042a-c9b7-4944-8373-535123e30f4b",
   "metadata": {},
   "outputs": [],
   "source": [
    "using LinearAlgebra\n"
   ]
  }
 ],
 "metadata": {
  "kernelspec": {
   "display_name": "Julia 1.10.0",
   "language": "julia",
   "name": "julia-1.10"
  },
  "language_info": {
   "file_extension": ".jl",
   "mimetype": "application/julia",
   "name": "julia",
   "version": "1.10.0"
  }
 },
 "nbformat": 4,
 "nbformat_minor": 5
}

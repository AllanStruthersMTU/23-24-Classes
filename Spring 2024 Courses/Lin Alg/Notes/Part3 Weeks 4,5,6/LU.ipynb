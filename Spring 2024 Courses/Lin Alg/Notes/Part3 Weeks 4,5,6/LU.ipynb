{
 "cells": [
  {
   "cell_type": "code",
   "execution_count": 33,
   "id": "a50d042a-c9b7-4944-8373-535123e30f4b",
   "metadata": {},
   "outputs": [
    {
     "data": {
      "text/plain": [
       "LU{Float64, Matrix{Float64}, Vector{Int64}}\n",
       "L factor:\n",
       "5×5 Matrix{Float64}:\n",
       " 1.0       0.0        0.0       0.0       0.0\n",
       " 0.316288  1.0        0.0       0.0       0.0\n",
       " 0.239308  0.57801    1.0       0.0       0.0\n",
       " 0.535349  0.267829  -0.715924  1.0       0.0\n",
       " 0.716114  0.978684   0.887182  0.320959  1.0\n",
       "U factor:\n",
       "5×5 Matrix{Float64}:\n",
       " 0.497052  0.0541711   0.0897168  0.0110534   0.490481\n",
       " 0.0       0.897827    0.933688   0.0378094   0.140377\n",
       " 0.0       0.0        -0.463745   0.75545     0.251034\n",
       " 0.0       0.0         0.0        0.782688    0.620795\n",
       " 0.0       0.0         0.0        0.0        -0.436213"
      ]
     },
     "execution_count": 33,
     "metadata": {},
     "output_type": "execute_result"
    }
   ],
   "source": [
    "using LinearAlgebra\n",
    "m=5\n",
    "A=rand(m,m)\n",
    "hmm = lu(A)"
   ]
  },
  {
   "cell_type": "code",
   "execution_count": 34,
   "id": "8ca8fbad-bc20-435e-ac5a-5b1360303905",
   "metadata": {},
   "outputs": [
    {
     "data": {
      "text/plain": [
       "5-element Vector{Int64}:\n",
       " 3\n",
       " 5\n",
       " 2\n",
       " 4\n",
       " 1"
      ]
     },
     "execution_count": 34,
     "metadata": {},
     "output_type": "execute_result"
    }
   ],
   "source": [
    "L=hmm.L;\n",
    "U=hmm.U;\n",
    "p=hmm.p"
   ]
  },
  {
   "cell_type": "code",
   "execution_count": 36,
   "id": "9349dc78-62d5-441c-b1c3-b4073a85f56b",
   "metadata": {},
   "outputs": [
    {
     "data": {
      "text/plain": [
       "5×5 Matrix{Float64}:\n",
       " 0.355946  0.917482   0.566607   0.966351   0.474375\n",
       " 0.118949  0.531916   0.0974056  0.779949   0.44955\n",
       " 0.497052  0.0541711  0.0897168  0.0110534  0.490481\n",
       " 0.266096  0.269465   0.630104   0.257888   0.741248\n",
       " 0.157212  0.914961   0.962064   0.0413055  0.29551"
      ]
     },
     "metadata": {},
     "output_type": "display_data"
    },
    {
     "data": {
      "text/plain": [
       "5×5 Matrix{Float64}:\n",
       " 0.497052  0.0541711  0.0897168  0.0110534  0.490481\n",
       " 0.157212  0.914961   0.962064   0.0413055  0.29551\n",
       " 0.118949  0.531916   0.0974056  0.779949   0.44955\n",
       " 0.266096  0.269465   0.630104   0.257888   0.741248\n",
       " 0.355946  0.917482   0.566607   0.966351   0.474375"
      ]
     },
     "metadata": {},
     "output_type": "display_data"
    },
    {
     "data": {
      "text/plain": [
       "5×5 Matrix{Float64}:\n",
       " 0.497052  0.0541711  0.0897168  0.0110534  0.490481\n",
       " 0.157212  0.914961   0.962064   0.0413055  0.29551\n",
       " 0.118949  0.531916   0.0974056  0.779949   0.44955\n",
       " 0.266096  0.269465   0.630104   0.257888   0.741248\n",
       " 0.355946  0.917482   0.566607   0.966351   0.474375"
      ]
     },
     "metadata": {},
     "output_type": "display_data"
    }
   ],
   "source": [
    "display(A)\n",
    "display(L*U)\n",
    "display(A[p,:])"
   ]
  },
  {
   "cell_type": "code",
   "execution_count": null,
   "id": "4b67e116-2afc-41f6-bb6a-45414cc86720",
   "metadata": {},
   "outputs": [],
   "source": []
  }
 ],
 "metadata": {
  "kernelspec": {
   "display_name": "Julia 1.10.0",
   "language": "julia",
   "name": "julia-1.10"
  },
  "language_info": {
   "file_extension": ".jl",
   "mimetype": "application/julia",
   "name": "julia",
   "version": "1.10.0"
  }
 },
 "nbformat": 4,
 "nbformat_minor": 5
}

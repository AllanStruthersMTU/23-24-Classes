{
 "cells": [
  {
   "cell_type": "code",
   "execution_count": 9,
   "id": "a50d042a-c9b7-4944-8373-535123e30f4b",
   "metadata": {},
   "outputs": [
    {
     "data": {
      "text/plain": [
       "LU{Float64, Matrix{Float64}, Vector{Int64}}\n",
       "L factor:\n",
       "4×4 Matrix{Float64}:\n",
       " 1.0          0.0        0.0       0.0\n",
       " 0.00396093   1.0        0.0       0.0\n",
       " 0.400582     0.429111   1.0       0.0\n",
       " 0.95522     -0.514902  -0.431209  1.0\n",
       "U factor:\n",
       "4×4 Matrix{Float64}:\n",
       " 0.886442  0.901278   0.407111  0.220543\n",
       " 0.0       0.62411    0.363152  0.152536\n",
       " 0.0       0.0       -0.145723  0.191711\n",
       " 0.0       0.0        0.0       0.666002"
      ]
     },
     "execution_count": 9,
     "metadata": {},
     "output_type": "execute_result"
    }
   ],
   "source": [
    "using LinearAlgebra\n",
    "m=4\n",
    "A=rand(m,m);\n",
    "hmm = lu(A)"
   ]
  },
  {
   "cell_type": "code",
   "execution_count": 26,
   "id": "8ca8fbad-bc20-435e-ac5a-5b1360303905",
   "metadata": {},
   "outputs": [
    {
     "data": {
      "text/plain": [
       "4×4 Matrix{Float64}:\n",
       " 1.0          0.0        0.0       0.0\n",
       " 0.00396093   1.0        0.0       0.0\n",
       " 0.400582     0.429111   1.0       0.0\n",
       " 0.95522     -0.514902  -0.431209  1.0"
      ]
     },
     "metadata": {},
     "output_type": "display_data"
    },
    {
     "data": {
      "text/plain": [
       "4×4 Matrix{Float64}:\n",
       " 0.886442  0.901278   0.407111  0.220543\n",
       " 0.0       0.62411    0.363152  0.152536\n",
       " 0.0       0.0       -0.145723  0.191711\n",
       " 0.0       0.0        0.0       0.666002"
      ]
     },
     "metadata": {},
     "output_type": "display_data"
    },
    {
     "data": {
      "text/plain": [
       "4-element Vector{Int64}:\n",
       " 3\n",
       " 2\n",
       " 1\n",
       " 4"
      ]
     },
     "execution_count": 26,
     "metadata": {},
     "output_type": "execute_result"
    }
   ],
   "source": [
    "L=hmm.L; display(L)\n",
    "U=hmm.U; display(U)\n",
    "p=hmm.p"
   ]
  },
  {
   "cell_type": "code",
   "execution_count": 30,
   "id": "9349dc78-62d5-441c-b1c3-b4073a85f56b",
   "metadata": {},
   "outputs": [
    {
     "data": {
      "text/plain": [
       "4×4 Matrix{Float64}:\n",
       " 0.355093    0.628849  0.173191  0.345511\n",
       " 0.00351114  0.62768   0.364764  0.153409\n",
       " 0.886442    0.901278  0.407111  0.220543\n",
       " 0.846747    0.539564  0.26473   0.715461"
      ]
     },
     "metadata": {},
     "output_type": "display_data"
    },
    {
     "data": {
      "text/plain": [
       "4×4 Matrix{Float64}:\n",
       " 0.886442    0.901278  0.407111  0.220543\n",
       " 0.00351114  0.62768   0.364764  0.153409\n",
       " 0.355093    0.628849  0.173191  0.345511\n",
       " 0.846747    0.539564  0.26473   0.715461"
      ]
     },
     "metadata": {},
     "output_type": "display_data"
    }
   ],
   "source": [
    "display(A)\n",
    "display(L*U)"
   ]
  },
  {
   "cell_type": "code",
   "execution_count": null,
   "id": "4b67e116-2afc-41f6-bb6a-45414cc86720",
   "metadata": {},
   "outputs": [],
   "source": []
  }
 ],
 "metadata": {
  "kernelspec": {
   "display_name": "Julia 1.10.0",
   "language": "julia",
   "name": "julia-1.10"
  },
  "language_info": {
   "file_extension": ".jl",
   "mimetype": "application/julia",
   "name": "julia",
   "version": "1.10.0"
  }
 },
 "nbformat": 4,
 "nbformat_minor": 5
}

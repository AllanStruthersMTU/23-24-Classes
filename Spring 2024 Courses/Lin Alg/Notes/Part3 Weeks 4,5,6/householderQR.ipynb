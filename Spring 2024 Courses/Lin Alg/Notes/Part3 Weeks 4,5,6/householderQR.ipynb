{
 "cells": [
  {
   "cell_type": "markdown",
   "id": "d08a31fc-96ae-4568-b0fe-a9aa44cb10ad",
   "metadata": {},
   "source": [
    "# Householder QR in Julia\n",
    "Here is a direct translation of the mathematica code from our notes"
   ]
  },
  {
   "cell_type": "code",
   "execution_count": 60,
   "id": "1521a258-1bb6-4854-b1de-ca0d111df7d3",
   "metadata": {},
   "outputs": [
    {
     "name": "stdout",
     "output_type": "stream",
     "text": [
      "  0.077910 seconds (21.61 k allocations: 1.345 MiB, 99.94% compilation time)\n"
     ]
    },
    {
     "data": {
      "text/plain": [
       "5×3 Matrix{Float64}:\n",
       " 0.810261   1.29357e-311   1.29357e-311\n",
       " 0.176054  -0.826512       1.29357e-311\n",
       " 0.351454  -0.0279266     -0.985048\n",
       " 0.249925  -0.402929      -0.150858\n",
       " 0.355668  -0.392104       0.0832051"
      ]
     },
     "execution_count": 60,
     "metadata": {},
     "output_type": "execute_result"
    }
   ],
   "source": [
    "using LinearAlgebra, BenchmarkTools\n",
    "\n",
    "function HouseVec(a)\n",
    "    v=copy(a)\n",
    "    v[1]+=sign(a[1])*norm(a)\n",
    "    return v/norm(v)\n",
    "end\n",
    "\n",
    "function MyQR(A)\n",
    "    (m,n)=size(A)\n",
    "    V=similar(A)\n",
    "    for i in 1:n\n",
    "        v=HouseVec(A[i:m,i]); V[i:m,i]=v\n",
    "        for j in i:n\n",
    "            A[i:m,j]=A[i:m,j]-2.0*dot(v,A[i:m,j])*v\n",
    "        end\n",
    "    end\n",
    "    return V\n",
    "end\n",
    "\n",
    "(m,n)=(5,3)\n",
    "A=rand(m,n)\n",
    "@time V=MyQR(A)\n",
    "A\n",
    "V"
   ]
  },
  {
   "cell_type": "code",
   "execution_count": 52,
   "id": "ab18d2c7-d144-4003-b75e-ef2dfff857c2",
   "metadata": {},
   "outputs": [
    {
     "data": {
      "text/plain": [
       "BenchmarkTools.Trial: 10000 samples with 1 evaluation.\n",
       " Range \u001b[90m(\u001b[39m\u001b[36m\u001b[1mmin\u001b[22m\u001b[39m … \u001b[35mmax\u001b[39m\u001b[90m):  \u001b[39m\u001b[36m\u001b[1m243.700 μs\u001b[22m\u001b[39m … \u001b[35m 1.446 ms\u001b[39m  \u001b[90m┊\u001b[39m GC \u001b[90m(\u001b[39mmin … max\u001b[90m): \u001b[39m0.00% … 31.68%\n",
       " Time  \u001b[90m(\u001b[39m\u001b[34m\u001b[1mmedian\u001b[22m\u001b[39m\u001b[90m):     \u001b[39m\u001b[34m\u001b[1m288.500 μs              \u001b[22m\u001b[39m\u001b[90m┊\u001b[39m GC \u001b[90m(\u001b[39mmedian\u001b[90m):    \u001b[39m0.00%\n",
       " Time  \u001b[90m(\u001b[39m\u001b[32m\u001b[1mmean\u001b[22m\u001b[39m ± \u001b[32mσ\u001b[39m\u001b[90m):   \u001b[39m\u001b[32m\u001b[1m308.798 μs\u001b[22m\u001b[39m ± \u001b[32m68.328 μs\u001b[39m  \u001b[90m┊\u001b[39m GC \u001b[90m(\u001b[39mmean ± σ\u001b[90m):  \u001b[39m2.85% ±  8.07%\n",
       "\n",
       "  \u001b[39m \u001b[39m \u001b[39m \u001b[39m▂\u001b[39m▄\u001b[39m▅\u001b[39m▇\u001b[39m█\u001b[34m▇\u001b[39m\u001b[39m▅\u001b[39m▄\u001b[32m▃\u001b[39m\u001b[39m▂\u001b[39m▂\u001b[39m▁\u001b[39m▁\u001b[39m▁\u001b[39m \u001b[39m▁\u001b[39m \u001b[39m \u001b[39m \u001b[39m \u001b[39m \u001b[39m \u001b[39m \u001b[39m \u001b[39m \u001b[39m \u001b[39m \u001b[39m \u001b[39m \u001b[39m \u001b[39m \u001b[39m▁\u001b[39m▁\u001b[39m▁\u001b[39m▁\u001b[39m \u001b[39m \u001b[39m \u001b[39m \u001b[39m \u001b[39m \u001b[39m \u001b[39m \u001b[39m \u001b[39m \u001b[39m \u001b[39m \u001b[39m \u001b[39m \u001b[39m \u001b[39m \u001b[39m \u001b[39m \u001b[39m \u001b[39m \u001b[39m \u001b[39m \u001b[39m \u001b[39m▂\n",
       "  \u001b[39m▂\u001b[39m▅\u001b[39m█\u001b[39m█\u001b[39m█\u001b[39m█\u001b[39m█\u001b[39m█\u001b[34m█\u001b[39m\u001b[39m█\u001b[39m█\u001b[32m█\u001b[39m\u001b[39m█\u001b[39m█\u001b[39m█\u001b[39m█\u001b[39m█\u001b[39m█\u001b[39m█\u001b[39m▇\u001b[39m▇\u001b[39m▇\u001b[39m▇\u001b[39m▆\u001b[39m▇\u001b[39m▇\u001b[39m▆\u001b[39m▆\u001b[39m▆\u001b[39m▆\u001b[39m▆\u001b[39m▆\u001b[39m▇\u001b[39m█\u001b[39m█\u001b[39m█\u001b[39m█\u001b[39m█\u001b[39m█\u001b[39m█\u001b[39m▇\u001b[39m▇\u001b[39m▇\u001b[39m▇\u001b[39m▇\u001b[39m▆\u001b[39m▆\u001b[39m▆\u001b[39m▆\u001b[39m▆\u001b[39m▆\u001b[39m▆\u001b[39m▆\u001b[39m▆\u001b[39m▅\u001b[39m▄\u001b[39m▄\u001b[39m▅\u001b[39m▄\u001b[39m▅\u001b[39m \u001b[39m█\n",
       "  244 μs\u001b[90m        \u001b[39m\u001b[90mHistogram: \u001b[39m\u001b[90m\u001b[1mlog(\u001b[22m\u001b[39m\u001b[90mfrequency\u001b[39m\u001b[90m\u001b[1m)\u001b[22m\u001b[39m\u001b[90m by time\u001b[39m       587 μs \u001b[0m\u001b[1m<\u001b[22m\n",
       "\n",
       " Memory estimate\u001b[90m: \u001b[39m\u001b[33m2.14 MiB\u001b[39m, allocs estimate\u001b[90m: \u001b[39m\u001b[33m2208\u001b[39m."
      ]
     },
     "execution_count": 52,
     "metadata": {},
     "output_type": "execute_result"
    }
   ],
   "source": [
    "using BenchmarkTools\n",
    "(m,n)=(125,32)\n",
    "@benchmark MyQR(A) setup=(A=rand(m,n))"
   ]
  },
  {
   "cell_type": "code",
   "execution_count": null,
   "id": "3867ea70-5d92-4c7c-a1e1-b79f21b4cd8f",
   "metadata": {},
   "outputs": [],
   "source": []
  }
 ],
 "metadata": {
  "kernelspec": {
   "display_name": "Julia 1.10.0",
   "language": "julia",
   "name": "julia-1.10"
  },
  "language_info": {
   "file_extension": ".jl",
   "mimetype": "application/julia",
   "name": "julia",
   "version": "1.10.0"
  }
 },
 "nbformat": 4,
 "nbformat_minor": 5
}

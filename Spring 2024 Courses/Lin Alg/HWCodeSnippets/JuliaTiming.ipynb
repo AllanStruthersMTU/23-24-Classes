{
 "cells": [
  {
   "cell_type": "code",
   "execution_count": 6,
   "id": "c92f367f-2d11-472a-a108-7ac3128f36d1",
   "metadata": {},
   "outputs": [
    {
     "name": "stdout",
     "output_type": "stream",
     "text": [
      "  0.005937 seconds (7 allocations: 568.047 KiB)\n"
     ]
    }
   ],
   "source": [
    "using LinearAlgebra\n",
    "m=236\n",
    "A=rand(m,m)\n",
    "@time qr(A);"
   ]
  },
  {
   "cell_type": "code",
   "execution_count": 5,
   "id": "305c6f50-68be-4597-8fe8-d0504d122d83",
   "metadata": {},
   "outputs": [
    {
     "data": {
      "text/plain": [
       "0.0056992"
      ]
     },
     "execution_count": 5,
     "metadata": {},
     "output_type": "execute_result"
    }
   ],
   "source": [
    "m=234;\n",
    "A=rand(m,m);\n",
    "t=(@timed qr(A))[2]"
   ]
  },
  {
   "cell_type": "code",
   "execution_count": 8,
   "id": "93e8591a-1b27-4352-a4f3-d567f366d0df",
   "metadata": {},
   "outputs": [
    {
     "data": {
      "text/plain": [
       "11×2 Matrix{Float64}:\n",
       "  600.0  0.0118495\n",
       "  720.0  0.0174174\n",
       "  864.0  0.0261216\n",
       " 1036.0  0.0561595\n",
       " 1244.0  0.0924954\n",
       " 1492.0  0.126954\n",
       " 1791.0  0.246418\n",
       " 2149.0  0.378729\n",
       " 2579.0  0.581015\n",
       " 3095.0  1.00654\n",
       " 3715.0  1.74534"
      ]
     },
     "execution_count": 8,
     "metadata": {},
     "output_type": "execute_result"
    }
   ],
   "source": [
    "using LinearAlgebra\n",
    "\n",
    "Data = Array{Float64}(undef, 11, 2)\n",
    "for p in 1:11\n",
    "    m=floor(Int,500*1.2^p)\n",
    "    A=rand(m,m)\n",
    "    t=(@timed qr(A))[2]\n",
    "    t=(@timed qr(A))[2]\n",
    "    Data[p,1]=m; Data[p,2]=t\n",
    "end\n",
    "Data"
   ]
  },
  {
   "cell_type": "code",
   "execution_count": 9,
   "id": "2942c1df-ff46-460b-96dc-cb614c16f560",
   "metadata": {},
   "outputs": [],
   "source": [
    "using DelimitedFiles\n",
    "writedlm( \"TimingData.csv\",Data, ',')"
   ]
  },
  {
   "cell_type": "code",
   "execution_count": 10,
   "id": "7f1aca78-eb0d-4302-a74a-d91e6faaa299",
   "metadata": {},
   "outputs": [
    {
     "data": {
      "text/plain": [
       "\"C:\\\\Users\\\\AllanStruthers\\\\Desktop\""
      ]
     },
     "execution_count": 10,
     "metadata": {},
     "output_type": "execute_result"
    }
   ],
   "source": [
    "pwd()"
   ]
  },
  {
   "cell_type": "code",
   "execution_count": 112,
   "id": "31f559a9-b8f3-4750-8e57-4535e13eaa23",
   "metadata": {},
   "outputs": [
    {
     "data": {
      "text/plain": [
       "\"C:\\\\Users\\\\AllanStruthers\\\\Desktop\\\\GitHub\""
      ]
     },
     "execution_count": 112,
     "metadata": {},
     "output_type": "execute_result"
    }
   ],
   "source": [
    "cd(\"C:\\\\Users\\\\AllanStruthers\\\\Desktop\\\\GitHub\")\n",
    "pwd()"
   ]
  },
  {
   "cell_type": "code",
   "execution_count": null,
   "id": "aaee5dbf-37f5-47cb-9d0d-2c317aed3548",
   "metadata": {},
   "outputs": [],
   "source": []
  }
 ],
 "metadata": {
  "kernelspec": {
   "display_name": "Julia 1.10.0",
   "language": "julia",
   "name": "julia-1.10"
  },
  "language_info": {
   "file_extension": ".jl",
   "mimetype": "application/julia",
   "name": "julia",
   "version": "1.10.0"
  }
 },
 "nbformat": 4,
 "nbformat_minor": 5
}

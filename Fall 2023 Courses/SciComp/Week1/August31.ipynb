{
 "cells": [
  {
   "cell_type": "markdown",
   "id": "1d3e422f-1d2d-4fe9-961d-ca3f050fc8b7",
   "metadata": {},
   "source": [
    "## Text\n",
    "\n",
    "You can use Markdown cells to put words and math into a notebook\n",
    "e.g.\n",
    "$$ \\int_0^1 $$\n",
    "\n",
    "This is a markdown cell. "
   ]
  },
  {
   "cell_type": "markdown",
   "id": "ba40f54d-5ce2-4dea-af11-0547d5ac5c67",
   "metadata": {},
   "source": [
    "You can make matrices and use all sorts of linear algebra tools.  Help is usually easily findable on the web. The command norm gives the eucildean norm (square all the entries, add them up, and take the square root) of a vector.\n",
    "\n",
    "Note the commands to add missing packages.  "
   ]
  },
  {
   "cell_type": "code",
   "execution_count": 39,
   "id": "b85498e0-aab0-4abf-b349-41789c2abbe6",
   "metadata": {},
   "outputs": [
    {
     "data": {
      "text/plain": [
       "2.2887833992611187e-16"
      ]
     },
     "execution_count": 39,
     "metadata": {},
     "output_type": "execute_result"
    }
   ],
   "source": [
    "## Pkg.add(\"Distributions\") # If you don't already have it installed.\n",
    "using Pkg\n",
    "# Pkg.add(\"LinearSolve\")\n",
    "m=3;n=3\n",
    "using Distributions, LinearSolve\n",
    "A=rand(Uniform(-1,2), m,n)\n",
    "x=rand(Uniform(-1,2), n)\n",
    "b=A*x\n",
    "prob = LinearProblem(A, b)\n",
    "sol = solve(prob)\n",
    "norm(sol.u - x)"
   ]
  },
  {
   "cell_type": "markdown",
   "id": "a002ca18-3f6a-40c7-b506-388e22b8f28d",
   "metadata": {},
   "source": [
    "Eigenvectors in the eigen command are in the columns of the output."
   ]
  },
  {
   "cell_type": "code",
   "execution_count": 34,
   "id": "da39a66e-d727-4fc8-ad3c-133463622f65",
   "metadata": {},
   "outputs": [
    {
     "data": {
      "text/plain": [
       "2.277987190955421e-15"
      ]
     },
     "execution_count": 34,
     "metadata": {},
     "output_type": "execute_result"
    }
   ],
   "source": [
    "using LinearAlgebra\n",
    "(lambda, V)=eigen(A)\n",
    "\n",
    "norm(A*V[:,1] -lambda[1]*V[:,1])"
   ]
  },
  {
   "cell_type": "markdown",
   "id": "933d2c18-1eac-442f-9567-ad790f103242",
   "metadata": {},
   "source": [
    "You can call out individual entries of a matrix or vector using indices and square brackets [].  A colon : means \"all\".  You get a range using the range notation 2:3. "
   ]
  },
  {
   "cell_type": "code",
   "execution_count": 35,
   "id": "2a48903a-08a7-4aab-9ee1-c283a68f2af1",
   "metadata": {},
   "outputs": [
    {
     "data": {
      "text/plain": [
       "3×3 Matrix{Float64}:\n",
       " -0.566934   1.68297    1.33585\n",
       "  1.28433   -0.475388   1.14267\n",
       " -0.586654   0.633992  -0.382523"
      ]
     },
     "execution_count": 35,
     "metadata": {},
     "output_type": "execute_result"
    }
   ],
   "source": [
    "A"
   ]
  },
  {
   "cell_type": "code",
   "execution_count": 38,
   "id": "08dead75-0d5c-4ec2-9d9a-8466bbbb2a03",
   "metadata": {},
   "outputs": [
    {
     "data": {
      "text/plain": [
       "1.142665811032841"
      ]
     },
     "execution_count": 38,
     "metadata": {},
     "output_type": "execute_result"
    }
   ],
   "source": [
    "(i,j)=(2,3)\n",
    "A[i,j]"
   ]
  },
  {
   "cell_type": "code",
   "execution_count": null,
   "id": "5a998f06-9153-4ea9-8c4f-248085d9404b",
   "metadata": {},
   "outputs": [],
   "source": []
  }
 ],
 "metadata": {
  "kernelspec": {
   "display_name": "Julia 1.6.3",
   "language": "julia",
   "name": "julia-1.6"
  },
  "language_info": {
   "file_extension": ".jl",
   "mimetype": "application/julia",
   "name": "julia",
   "version": "1.6.3"
  }
 },
 "nbformat": 4,
 "nbformat_minor": 5
}

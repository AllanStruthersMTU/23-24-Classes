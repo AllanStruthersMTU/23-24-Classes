{
 "cells": [
  {
   "cell_type": "markdown",
   "id": "5dc4b91e-085e-43a6-99ac-a70045e0c066",
   "metadata": {
    "tags": []
   },
   "source": [
    "# Python Timing\n",
    "Algorithm 23.1 Cholesky Decomposition"
   ]
  },
  {
   "cell_type": "code",
   "execution_count": 1,
   "id": "af1d1222-79ca-4d7e-9f61-ee6ddadd19d2",
   "metadata": {
    "tags": []
   },
   "outputs": [],
   "source": [
    "import numpy as np\n",
    "import scipy.linalg\n",
    "import time \n",
    "\n",
    "# define Cholesky Decomposition Algorithm 23.1 T&B \n",
    "def Cholesky(A):\n",
    "    R = np.triu(A)\n",
    "    m = np.shape(R)[0]\n",
    "    # Note Zero indexing\n",
    "    for k in range(0, m):\n",
    "        for j in range(k + 1, m):\n",
    "            R[j,j:m] = R[j,j:m]-(R[k,j:m]*(R[k,j])/R[k,k])\n",
    "        R[k,k:m] = R[k,k:m]/np.sqrt(R[k,k])\n",
    "    return R"
   ]
  },
  {
   "cell_type": "markdown",
   "id": "91fdfe1b-65ba-4819-9f65-774c3bb0683d",
   "metadata": {},
   "source": [
    "## Testing\n",
    "For SPD A the output R should be upper triangular and satisfy the decomposition to reasonable accuracy."
   ]
  },
  {
   "cell_type": "code",
   "execution_count": 2,
   "id": "c25b39d1-579c-46ce-a27e-d4992fcb6f5e",
   "metadata": {},
   "outputs": [
    {
     "name": "stdout",
     "output_type": "stream",
     "text": [
      "||res||= 2.0629843876450832e-14 & ||lower T||= 0.0\n"
     ]
    }
   ],
   "source": [
    "# make SPD random matrix\n",
    "m = 23\n",
    "A = np.random.rand(m, m); A = np.transpose(A)@A\n",
    "R = Cholesky(A)\n",
    "Residual = A-np.transpose(R)@R;\n",
    "print(\"||res||=\",np.linalg.norm(Residual),\"& ||lower T||=\",np.linalg.norm(np.tril(R,-1)))"
   ]
  },
  {
   "cell_type": "markdown",
   "id": "01bd1bfd-c5de-447c-9089-2cc8bab41ad2",
   "metadata": {},
   "source": [
    "# Timing\n",
    "Home built code versus a built in."
   ]
  },
  {
   "cell_type": "code",
   "execution_count": 3,
   "id": "7ae810d4-24a5-4b18-a100-937e3407abe0",
   "metadata": {},
   "outputs": [
    {
     "name": "stdout",
     "output_type": "stream",
     "text": [
      "Home Grown 0.03847669999993286 Sec\n",
      "scipy 1st time  0.0012411000000156491 Sec\n",
      "scipy 2nd time  0.00040029999991020304 Sec\n"
     ]
    }
   ],
   "source": [
    "m=122;\n",
    "A = np.random.rand(m, m); A = np.transpose(A)@A\n",
    "tic = time.perf_counter()\n",
    "R = Cholesky(A)\n",
    "toc=time.perf_counter();\n",
    "print(\"Home Grown\",toc-tic, \"Sec\")\n",
    "A = np.random.rand(m, m); A = np.transpose(A)@A\n",
    "tic = time.perf_counter()\n",
    "R = scipy.linalg.cholesky(A, lower=False)\n",
    "toc=time.perf_counter();\n",
    "print(\"scipy 1st time \",toc-tic, \"Sec\")\n",
    "A = np.random.rand(m, m); A = np.transpose(A)@A\n",
    "tic = time.perf_counter()\n",
    "R = scipy.linalg.cholesky(A, lower=False)\n",
    "toc=time.perf_counter();\n",
    "print(\"scipy 2nd time \",toc-tic, \"Sec\")"
   ]
  },
  {
   "cell_type": "markdown",
   "id": "89c67cd5-5497-469f-800a-d79eaf1628c8",
   "metadata": {},
   "source": [
    "# Scaling with Dimension"
   ]
  },
  {
   "cell_type": "code",
   "execution_count": 4,
   "id": "025ea87c-0d03-4a87-ab56-97bd0e81776b",
   "metadata": {},
   "outputs": [
    {
     "name": "stdout",
     "output_type": "stream",
     "text": [
      "2 0.00011529999994763784\n",
      "4 0.00015840000003208843\n",
      "8 0.00021519999995689432\n",
      "16 0.0014899000000241358\n",
      "32 0.0025756999999657637\n",
      "64 0.012395900000001348\n",
      "128 0.037652500000035616\n",
      "256 0.17993219999993926\n",
      "512 0.5435144999999011\n",
      "1024 2.1801845999999614\n",
      "2048 10.64202899999998\n"
     ]
    },
    {
     "ename": "KeyboardInterrupt",
     "evalue": "",
     "output_type": "error",
     "traceback": [
      "\u001b[1;31m---------------------------------------------------------------------------\u001b[0m",
      "\u001b[1;31mKeyboardInterrupt\u001b[0m                         Traceback (most recent call last)",
      "\u001b[1;32m~\\AppData\\Local\\Temp/ipykernel_5456/2768588083.py\u001b[0m in \u001b[0;36m<module>\u001b[1;34m\u001b[0m\n\u001b[0;32m      3\u001b[0m     \u001b[0mA\u001b[0m \u001b[1;33m=\u001b[0m \u001b[0mnp\u001b[0m\u001b[1;33m.\u001b[0m\u001b[0mrandom\u001b[0m\u001b[1;33m.\u001b[0m\u001b[0mrand\u001b[0m\u001b[1;33m(\u001b[0m\u001b[0mm\u001b[0m\u001b[1;33m,\u001b[0m \u001b[0mm\u001b[0m\u001b[1;33m)\u001b[0m\u001b[1;33m;\u001b[0m \u001b[0mA\u001b[0m \u001b[1;33m=\u001b[0m \u001b[0mnp\u001b[0m\u001b[1;33m.\u001b[0m\u001b[0mtranspose\u001b[0m\u001b[1;33m(\u001b[0m\u001b[0mA\u001b[0m\u001b[1;33m)\u001b[0m\u001b[1;33m@\u001b[0m\u001b[0mA\u001b[0m\u001b[1;33m\u001b[0m\u001b[1;33m\u001b[0m\u001b[0m\n\u001b[0;32m      4\u001b[0m     \u001b[0mtic\u001b[0m \u001b[1;33m=\u001b[0m \u001b[0mtime\u001b[0m\u001b[1;33m.\u001b[0m\u001b[0mperf_counter\u001b[0m\u001b[1;33m(\u001b[0m\u001b[1;33m)\u001b[0m\u001b[1;33m\u001b[0m\u001b[1;33m\u001b[0m\u001b[0m\n\u001b[1;32m----> 5\u001b[1;33m     \u001b[0mR\u001b[0m \u001b[1;33m=\u001b[0m \u001b[0mCholesky\u001b[0m\u001b[1;33m(\u001b[0m\u001b[0mA\u001b[0m\u001b[1;33m)\u001b[0m\u001b[1;33m\u001b[0m\u001b[1;33m\u001b[0m\u001b[0m\n\u001b[0m\u001b[0;32m      6\u001b[0m     \u001b[0mtoc\u001b[0m\u001b[1;33m=\u001b[0m\u001b[0mtime\u001b[0m\u001b[1;33m.\u001b[0m\u001b[0mperf_counter\u001b[0m\u001b[1;33m(\u001b[0m\u001b[1;33m)\u001b[0m\u001b[1;33m;\u001b[0m\u001b[1;33m\u001b[0m\u001b[1;33m\u001b[0m\u001b[0m\n\u001b[0;32m      7\u001b[0m     \u001b[0mprint\u001b[0m\u001b[1;33m(\u001b[0m\u001b[0mm\u001b[0m\u001b[1;33m,\u001b[0m \u001b[0mtoc\u001b[0m\u001b[1;33m-\u001b[0m\u001b[0mtic\u001b[0m\u001b[1;33m)\u001b[0m\u001b[1;33m\u001b[0m\u001b[1;33m\u001b[0m\u001b[0m\n",
      "\u001b[1;32m~\\AppData\\Local\\Temp/ipykernel_5456/734227908.py\u001b[0m in \u001b[0;36mCholesky\u001b[1;34m(A)\u001b[0m\n\u001b[0;32m     10\u001b[0m     \u001b[1;32mfor\u001b[0m \u001b[0mk\u001b[0m \u001b[1;32min\u001b[0m \u001b[0mrange\u001b[0m\u001b[1;33m(\u001b[0m\u001b[1;36m0\u001b[0m\u001b[1;33m,\u001b[0m \u001b[0mm\u001b[0m\u001b[1;33m)\u001b[0m\u001b[1;33m:\u001b[0m\u001b[1;33m\u001b[0m\u001b[1;33m\u001b[0m\u001b[0m\n\u001b[0;32m     11\u001b[0m         \u001b[1;32mfor\u001b[0m \u001b[0mj\u001b[0m \u001b[1;32min\u001b[0m \u001b[0mrange\u001b[0m\u001b[1;33m(\u001b[0m\u001b[0mk\u001b[0m \u001b[1;33m+\u001b[0m \u001b[1;36m1\u001b[0m\u001b[1;33m,\u001b[0m \u001b[0mm\u001b[0m\u001b[1;33m)\u001b[0m\u001b[1;33m:\u001b[0m\u001b[1;33m\u001b[0m\u001b[1;33m\u001b[0m\u001b[0m\n\u001b[1;32m---> 12\u001b[1;33m             \u001b[0mR\u001b[0m\u001b[1;33m[\u001b[0m\u001b[0mj\u001b[0m\u001b[1;33m,\u001b[0m\u001b[0mj\u001b[0m\u001b[1;33m:\u001b[0m\u001b[0mm\u001b[0m\u001b[1;33m]\u001b[0m \u001b[1;33m=\u001b[0m \u001b[0mR\u001b[0m\u001b[1;33m[\u001b[0m\u001b[0mj\u001b[0m\u001b[1;33m,\u001b[0m\u001b[0mj\u001b[0m\u001b[1;33m:\u001b[0m\u001b[0mm\u001b[0m\u001b[1;33m]\u001b[0m\u001b[1;33m-\u001b[0m\u001b[1;33m(\u001b[0m\u001b[0mR\u001b[0m\u001b[1;33m[\u001b[0m\u001b[0mk\u001b[0m\u001b[1;33m,\u001b[0m\u001b[0mj\u001b[0m\u001b[1;33m:\u001b[0m\u001b[0mm\u001b[0m\u001b[1;33m]\u001b[0m\u001b[1;33m*\u001b[0m\u001b[1;33m(\u001b[0m\u001b[0mR\u001b[0m\u001b[1;33m[\u001b[0m\u001b[0mk\u001b[0m\u001b[1;33m,\u001b[0m\u001b[0mj\u001b[0m\u001b[1;33m]\u001b[0m\u001b[1;33m)\u001b[0m\u001b[1;33m/\u001b[0m\u001b[0mR\u001b[0m\u001b[1;33m[\u001b[0m\u001b[0mk\u001b[0m\u001b[1;33m,\u001b[0m\u001b[0mk\u001b[0m\u001b[1;33m]\u001b[0m\u001b[1;33m)\u001b[0m\u001b[1;33m\u001b[0m\u001b[1;33m\u001b[0m\u001b[0m\n\u001b[0m\u001b[0;32m     13\u001b[0m         \u001b[0mR\u001b[0m\u001b[1;33m[\u001b[0m\u001b[0mk\u001b[0m\u001b[1;33m,\u001b[0m\u001b[0mk\u001b[0m\u001b[1;33m:\u001b[0m\u001b[0mm\u001b[0m\u001b[1;33m]\u001b[0m \u001b[1;33m=\u001b[0m \u001b[0mR\u001b[0m\u001b[1;33m[\u001b[0m\u001b[0mk\u001b[0m\u001b[1;33m,\u001b[0m\u001b[0mk\u001b[0m\u001b[1;33m:\u001b[0m\u001b[0mm\u001b[0m\u001b[1;33m]\u001b[0m\u001b[1;33m/\u001b[0m\u001b[0mnp\u001b[0m\u001b[1;33m.\u001b[0m\u001b[0msqrt\u001b[0m\u001b[1;33m(\u001b[0m\u001b[0mR\u001b[0m\u001b[1;33m[\u001b[0m\u001b[0mk\u001b[0m\u001b[1;33m,\u001b[0m\u001b[0mk\u001b[0m\u001b[1;33m]\u001b[0m\u001b[1;33m)\u001b[0m\u001b[1;33m\u001b[0m\u001b[1;33m\u001b[0m\u001b[0m\n\u001b[0;32m     14\u001b[0m     \u001b[1;32mreturn\u001b[0m \u001b[0mR\u001b[0m\u001b[1;33m\u001b[0m\u001b[1;33m\u001b[0m\u001b[0m\n",
      "\u001b[1;31mKeyboardInterrupt\u001b[0m: "
     ]
    }
   ],
   "source": [
    "for p in range(1,13):\n",
    "    m=2**p\n",
    "    A = np.random.rand(m, m); A = np.transpose(A)@A\n",
    "    tic = time.perf_counter()\n",
    "    R = Cholesky(A)\n",
    "    toc=time.perf_counter();\n",
    "    print(m, toc-tic)"
   ]
  },
  {
   "cell_type": "markdown",
   "id": "91d9831e-3a3a-449a-8535-faaaab12a12f",
   "metadata": {},
   "source": [
    "I am going to combine all the timings in a Mathematica plot. I am running it twice to make sure there is nothing funnny happening!"
   ]
  },
  {
   "cell_type": "code",
   "execution_count": null,
   "id": "1601a98b-5273-4627-ba5e-d747981fe799",
   "metadata": {},
   "outputs": [],
   "source": []
  }
 ],
 "metadata": {
  "kernelspec": {
   "display_name": "Python 3 (ipykernel)",
   "language": "python",
   "name": "python3"
  },
  "language_info": {
   "codemirror_mode": {
    "name": "ipython",
    "version": 3
   },
   "file_extension": ".py",
   "mimetype": "text/x-python",
   "name": "python",
   "nbconvert_exporter": "python",
   "pygments_lexer": "ipython3",
   "version": "3.9.7"
  }
 },
 "nbformat": 4,
 "nbformat_minor": 5
}

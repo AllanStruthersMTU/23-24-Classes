{
 "cells": [
  {
   "cell_type": "markdown",
   "id": "844eb305-6b00-4511-b92f-3f7ceebe43d7",
   "metadata": {},
   "source": [
    "# Julia Timing\n",
    "Algorithm 23.1 Cholesky Decomposition"
   ]
  },
  {
   "cell_type": "code",
   "execution_count": 1,
   "id": "cc513bcf-7c0c-4233-9bad-ef7afee72250",
   "metadata": {},
   "outputs": [
    {
     "data": {
      "text/plain": [
       "Cholesky (generic function with 1 method)"
      ]
     },
     "execution_count": 1,
     "metadata": {},
     "output_type": "execute_result"
    }
   ],
   "source": [
    "using LinearAlgebra\n",
    "function Cholesky(A)\n",
    "    R = triu(A)\n",
    "    m = size(A)[1] \n",
    "    # Note standard indexing\n",
    "    for k in 1:m\n",
    "        for j in (k + 1):m\n",
    "            R[j,j:m] = R[j,j:m]-(R[k,j:m]*(R[k,j])/R[k,k])\n",
    "        end\n",
    "        R[k,k:m] = R[k,k:m]/sqrt(R[k,k])\n",
    "    end\n",
    "    return R\n",
    "end"
   ]
  },
  {
   "cell_type": "markdown",
   "id": "29cb69d9-1d67-461b-8385-fc01108486e1",
   "metadata": {},
   "source": [
    "# Testing\n",
    "For SPD A the output R should be upper triangular and satisfy the decomposition to reasonable accuracy."
   ]
  },
  {
   "cell_type": "code",
   "execution_count": 2,
   "id": "2ee64821-6424-40a6-a55e-f7eae5ce1cdd",
   "metadata": {},
   "outputs": [
    {
     "name": "stdout",
     "output_type": "stream",
     "text": [
      "||res||=6.115149809437315e-13& ||lower T||=0.0"
     ]
    }
   ],
   "source": [
    "# make SPD random matrix\n",
    "m = 123\n",
    "A = randn(m, m); A = A'*A\n",
    "R = Cholesky(A)\n",
    "Residual = A-R'*R;\n",
    "print(\"||res||=\",norm(Residual),\"& ||lower T||=\",norm(tril(R,-1)))"
   ]
  },
  {
   "cell_type": "markdown",
   "id": "d010151e-21ef-41aa-86ad-d8663a2a1b1e",
   "metadata": {},
   "source": [
    "# Timing Home built vs built-in"
   ]
  },
  {
   "cell_type": "code",
   "execution_count": 3,
   "id": "2ac10c36-0074-4890-be34-6aed91744f62",
   "metadata": {},
   "outputs": [
    {
     "name": "stdout",
     "output_type": "stream",
     "text": [
      "Homemade 1st   0.037985 seconds (37.15 k allocations: 15.146 MiB, 85.91% gc time)\n",
      "Homemade 2nd   0.008195 seconds (37.15 k allocations: 15.146 MiB)\n",
      "Library 1st   0.050030 seconds (100.91 k allocations: 6.291 MiB, 97.61% compilation time)\n",
      "Library 2nd   0.001021 seconds (5 allocations: 116.469 KiB)\n"
     ]
    }
   ],
   "source": [
    "m=122;\n",
    "A = randn(m, m); A = A'*A\n",
    "print(\"Homemade 1st \")\n",
    "@time R = Cholesky(A)\n",
    "A = randn(m, m); A = A'*A\n",
    "print(\"Homemade 2nd \")\n",
    "@time R = Cholesky(A)\n",
    "print(\"Library 1st \")\n",
    "@time R = cholesky(A)\n",
    "A = randn(m, m); A = A'*A\n",
    "print(\"Library 2nd \")\n",
    "@time R = cholesky(A);"
   ]
  },
  {
   "cell_type": "markdown",
   "id": "5e2d74f2-799a-4a2e-8159-6611fd5d12eb",
   "metadata": {},
   "source": [
    "# Scaling with Dimension"
   ]
  },
  {
   "cell_type": "code",
   "execution_count": 4,
   "id": "6f0afb77-a4c0-4f45-8e28-386186923206",
   "metadata": {},
   "outputs": [
    {
     "name": "stdout",
     "output_type": "stream",
     "text": [
      "2\t  0.000009 seconds (4 allocations: 192 bytes)\n",
      "4\t  0.000006 seconds (4 allocations: 288 bytes)\n",
      "8\t  0.000003 seconds (4 allocations: 704 bytes)\n",
      "16\t  0.000005 seconds (4 allocations: 2.203 KiB)\n",
      "32\t  0.000009 seconds (4 allocations: 8.203 KiB)\n",
      "64\t  0.000273 seconds (5 allocations: 32.156 KiB)\n",
      "128\t  0.001231 seconds (5 allocations: 128.156 KiB)\n",
      "256\t  0.001661 seconds (5 allocations: 512.156 KiB)\n",
      "512\t  0.004989 seconds (5 allocations: 2.000 MiB)\n",
      "1024\t  0.017334 seconds (5 allocations: 8.000 MiB)\n",
      "2048\t  0.088282 seconds (5 allocations: 32.000 MiB, 6.88% gc time)\n",
      "4096\t  0.419546 seconds (5 allocations: 128.000 MiB, 15.54% gc time)\n"
     ]
    }
   ],
   "source": [
    "using LinearAlgebra\n",
    "for p in 1:12\n",
    "    m=2^p\n",
    "    A=randn(m,m)\n",
    "    A=A'*A;\n",
    "    print(m,\"\\t\")\n",
    "    @time cholesky(A) \n",
    "end"
   ]
  },
  {
   "cell_type": "code",
   "execution_count": null,
   "id": "938eac82-f1b8-4b6b-9d28-7bda3b222855",
   "metadata": {},
   "outputs": [],
   "source": []
  }
 ],
 "metadata": {
  "kernelspec": {
   "display_name": "Julia 1.6.3",
   "language": "julia",
   "name": "julia-1.6"
  },
  "language_info": {
   "file_extension": ".jl",
   "mimetype": "application/julia",
   "name": "julia",
   "version": "1.6.3"
  }
 },
 "nbformat": 4,
 "nbformat_minor": 5
}

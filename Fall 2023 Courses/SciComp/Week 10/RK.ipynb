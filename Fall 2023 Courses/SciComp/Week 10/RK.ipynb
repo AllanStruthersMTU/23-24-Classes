{
 "cells": [
  {
   "cell_type": "markdown",
   "id": "d2027132-9923-4ece-9149-e38f8dbd4d81",
   "metadata": {},
   "source": [
    "# Solving ODEs Numerically Using an Explicit RK Scheme\n",
    "We are going to learn how to solve and plot an ODE\n",
    "$$y' = f(y)$$\n",
    "in Julia.\n",
    "\n",
    "The first thing we are going to do is learn why we can focus on 1st order autonomous ODEs.\n",
    "\n",
    "### Eliminating an explicit time variable t\n",
    "\n",
    "If I have a non-autonomous ode \n",
    "$$z' = g(t,z)$$\n",
    "then I can simply define \n",
    "$y = [t, z]$ and $f(y)=[1,g(y)]$\n",
    "to convert to an autonomous system with one more variable. \n",
    "\n",
    "### Eliminating Second Derivatives\n",
    "\n",
    "If I have a second order ODE \n",
    "$$z'' = g(z,z')$$\n",
    "in an $n$ dimensional vector variable $z$ then I can simply define \n",
    "$y = [z, z']$ and $f(y)=[y[n+1:2n],g(y)]$\n",
    "and convert to a first order system with vectors of length $2 n$. \n",
    "\n",
    "### Explicit Euler Scheme\n",
    "The explicit Euler scheme just approximates the ODE \n",
    "$$y'=f(y)$$\n",
    "over a step of length $h_n$ starting at $y_n$\n",
    "with the slope (given by $f(y_n)$) \n",
    "at the start of the step.  This gives\n",
    "$$\n",
    "y_{n+1} = y_n + h_n f(y_n) \n",
    "$$\n",
    "with $y_0$ defined by the initial condition. This is essentially\n",
    "the *right hand rule* for approximating integrals from Calculus. The fanciest\n",
    "integratiuon rule you learned in Calculus was probably *Simpson's Rule*\n",
    "\n",
    "Euler's method is easy to implement.  Obvious questions are:\n",
    "   - How big should $h_n$ be?\n",
    "   - Is it worth doing something fancier?\n",
    " I guess we should implement Euler's method first.\n",
    " \n",
    " We have some questions to think about first:\n",
    "  - How do we want to store the ys?\n",
    "  - Do we want to explicitly store t?\n",
    "  - Do we want to save the values of h?\n",
    "  \n",
    " Answers: \n",
    "  - How do we want to store the ys?  2D Array size times MaxSteps\n",
    "  - Do we want to explicitly store t?   Store t.\n",
    "  - Do we want to save the values of h? Compute $h_n = t_{n+1}-t_{n}$"
   ]
  },
  {
   "cell_type": "code",
   "execution_count": 4,
   "id": "ff202494-e23b-415d-a079-219e95cbcedb",
   "metadata": {},
   "outputs": [
    {
     "data": {
      "text/plain": [
       "EulerStep (generic function with 1 method)"
      ]
     },
     "execution_count": 4,
     "metadata": {},
     "output_type": "execute_result"
    }
   ],
   "source": [
    "function EulerStep(f,y,h)\n",
    "    k1=f(y)\n",
    "    y + h*k1\n",
    "end"
   ]
  },
  {
   "cell_type": "markdown",
   "id": "9233f100-ce1f-4af6-9d35-ff5d3f7edabe",
   "metadata": {},
   "source": [
    "### Explicit MidPoint Scheme\n",
    "The explicit MidPoint scheme for the ODE \n",
    "$$y'=f(y)$$\n",
    "over a step of length $h_n$ starting at $y_n$\n",
    "first approximates the mid point $y(t_n + 0.5 h_n)$ using an explicit Euler Step\n",
    "$$\n",
    "y_{mid} = y_n + h_n 0.5 f(y_n)\n",
    "$$\n",
    "and then\n",
    "approximates $y(t_n + h_n)$ using the slope at this approximate midpoint\n",
    "$$\n",
    "y_{n+1} = y_n + h_n f(y_{mid}). \n",
    "$$\n",
    "This is an implementation of something like the *mid-point* rule in Calculus. "
   ]
  },
  {
   "cell_type": "code",
   "execution_count": 5,
   "id": "4be3413d-e091-4c2c-979d-a3871ab3f03f",
   "metadata": {},
   "outputs": [
    {
     "data": {
      "text/plain": [
       "MidStep (generic function with 1 method)"
      ]
     },
     "execution_count": 5,
     "metadata": {},
     "output_type": "execute_result"
    }
   ],
   "source": [
    "function MidStep(f,y,h)\n",
    "    k1 = f(y)\n",
    "    z2 = y + 0.5*h*k1\n",
    "    k2 = f(z2)\n",
    "    y + h*k2\n",
    "end"
   ]
  },
  {
   "cell_type": "markdown",
   "id": "8104545f-2982-414c-948f-0cfd4be17d76",
   "metadata": {},
   "source": [
    "### Explicit Trapezoid Scheme\n",
    "The explicit Trapezoid scheme for the ODE \n",
    "$$y'=f(y)$$\n",
    "over a step of length $h_n$ starting at $y_n$\n",
    "approximates the end point $y(t_n + h_n)$ using an explicit Euler step\n",
    "$$\n",
    "y_{end} = y_n + h_n f(y_n)\n",
    "$$\n",
    "then\n",
    "approximates $y(t_n + h_n)$ using the average of the slopes at the start and the slope at the end\n",
    "$$\n",
    "y_{n+1} = y_n + h_n (0.5 f(y_{n})+ 0.5 f(y_{end})) \n",
    "$$\n",
    "This is an implementation of something like the *trapezoid* rule in Calculus. "
   ]
  },
  {
   "cell_type": "code",
   "execution_count": 6,
   "id": "d2404198-c2f9-4075-9a88-a4a8e6da00ee",
   "metadata": {},
   "outputs": [
    {
     "data": {
      "text/plain": [
       "TrapStep (generic function with 1 method)"
      ]
     },
     "execution_count": 6,
     "metadata": {},
     "output_type": "execute_result"
    }
   ],
   "source": [
    "function TrapStep(f,y,h)\n",
    "    k1 = f(y)\n",
    "    z2 = y + 1.0*h*k1\n",
    "    k2 = f(z2)\n",
    "    y + h*(0.5*k1 + 0.5*k2)\n",
    "end"
   ]
  },
  {
   "cell_type": "markdown",
   "id": "687df875-a360-4fab-803a-746e0fedde63",
   "metadata": {},
   "source": [
    "### General Explicit RK scheme\n",
    "A general RK scheme is defined by a strictly lower triangular matrix \n",
    "$A$ which specifies the sequential evaluations of the internal slopes\n",
    "from the function $f$ and a vector $b$ which specifies how to \n",
    "average the slopes together to compute $y_{n+1}$. The size of the vector \n",
    "$b$ (or equivalently the square matrix $A$) is the number of internal stages and \n",
    "measures how complicated the scheme is.  \n",
    "\n",
    "The standard \n",
    "terminology uses $z_i$ for the sequentially computed internal stages \n",
    "and $k_i = f(z_i)$ for the internal stage slopes through\n",
    "$$\n",
    "z_i = y_n + h_n \\left( \\sum_{j=1}^{s} a_{i,j} k_j \\right)  \n",
    "\\quad\n",
    "\\mbox{with}\n",
    "\\quad\n",
    "k_i = f(z_i)\n",
    "$$\n",
    "and the external step is computed from the stage slopes through\n",
    "$$\n",
    "y_{n+1} = y_n + h_n \\sum_{j=1}^s b_j k_j\n",
    "$$\n",
    "\n",
    "In the real world solvers include two different $b$ vectors.  One is used to advance the scheme and the other is used to adjust the step size $h_n$ to control the error. \n",
    "\n",
    "We are going to write a solver for either the mid point or trapezoid rule and one of the rk schemes from the wiki page. \n",
    "\n",
    "Then we are going to write a general solver which performs a general RK step from a Butcher Tableau.  We are going to store the data as a structure."
   ]
  },
  {
   "cell_type": "markdown",
   "id": "144bdc31-4b8f-4321-ae3a-3c93c9de541f",
   "metadata": {},
   "source": [
    "# Code"
   ]
  },
  {
   "cell_type": "markdown",
   "id": "02243863-b608-414d-b60d-a53a9e02d896",
   "metadata": {},
   "source": [
    "### Data acquisition and Data Structure\n",
    "\n",
    "Mathpix can digitize the arrays on wikipedia accurately.   The process is screen grab the array you want and import it into MathPix. Copying and pasting one of the simple \n",
    "formats into a Jupyter notebook givse some thing that requires minimal editing.\n",
    "I filled in the missing zeros and deleted commas and spare brackets. \n",
    "\n",
    "Here is a definition of a suitable structure.  A toy example for the Trap rule with a placeholder for bHat is included.  I am going to build a real example from the Wiki page. You access the pieces of the structure using the \".\" syntax.\n"
   ]
  },
  {
   "cell_type": "code",
   "execution_count": 16,
   "id": "750afbc1-8ef7-4654-8c6d-a7d039065895",
   "metadata": {},
   "outputs": [
    {
     "data": {
      "text/plain": [
       "RKTable([0.0 0.0; 1.0 0.0], [0.5, 0.5], [0.0, 0.0])"
      ]
     },
     "execution_count": 16,
     "metadata": {},
     "output_type": "execute_result"
    }
   ],
   "source": [
    "struct RKTable\n",
    "    A::Matrix{Float64}\n",
    "    b::Vector{Float64}\n",
    "    bHat::Vector{Float64}\n",
    "end\n",
    "\n",
    "TrapTable = RKTable([\n",
    "    [0 0]\n",
    "    [1 0]],\n",
    "    [1/2,1/2],[0,0])"
   ]
  },
  {
   "cell_type": "markdown",
   "id": "6f274fb5-809f-4138-9f9a-fd7386d64e7d",
   "metadata": {},
   "source": [
    "## MathPix import\n",
    "There is an AI tool called MathPix that can parse the data for RK methods from the wiki page.\n",
    "\n",
    "Here is one way to use it. "
   ]
  },
  {
   "cell_type": "code",
   "execution_count": null,
   "id": "486da3b4-966f-4272-bf54-435cc7571a78",
   "metadata": {},
   "outputs": [],
   "source": [
    "A =\n",
    "b =\n",
    "bHat = \n",
    "RKTable(A,b,bHat)"
   ]
  },
  {
   "cell_type": "markdown",
   "id": "1f2920ca-c49d-4c2d-ad84-078c39760e00",
   "metadata": {},
   "source": [
    "## General Stepper\n",
    "The general explicit RK stepper is going to take a \"yOld\", an \"f\" and an \"h\" and advance yOld to two different approximations y and yHat using a specified RK scheme "
   ]
  },
  {
   "cell_type": "code",
   "execution_count": 36,
   "id": "d02b051d-7951-4390-bf82-8a4bea3d7659",
   "metadata": {},
   "outputs": [
    {
     "data": {
      "text/plain": [
       "RKStep (generic function with 1 method)"
      ]
     },
     "execution_count": 36,
     "metadata": {},
     "output_type": "execute_result"
    }
   ],
   "source": [
    "function RKStep(y,h,f,scheme::RKTable)\n",
    "    A=scheme.A; b=scheme.b; bHat=scheme.bHat;s=size(A)[1]\n",
    "end"
   ]
  },
  {
   "cell_type": "code",
   "execution_count": 46,
   "id": "6684647b-4cb8-413b-8f54-895df7dbb475",
   "metadata": {},
   "outputs": [
    {
     "data": {
      "text/plain": [
       "2×2 Matrix{Float64}:\n",
       " 0.0  0.0\n",
       " 0.0  0.0"
      ]
     },
     "execution_count": 46,
     "metadata": {},
     "output_type": "execute_result"
    }
   ],
   "source": [
    "function f(y)\n",
    "    sin(y)\n",
    "end\n",
    "RKStep([1.0,2.0],0.1,f,TrapTable)"
   ]
  },
  {
   "cell_type": "code",
   "execution_count": 47,
   "id": "95181175-6b15-4121-9dbf-7dffa55bce44",
   "metadata": {},
   "outputs": [
    {
     "ename": "LoadError",
     "evalue": "MethodError: no method matching sin(::Vector{Float64})\n\u001b[0mClosest candidates are:\n\u001b[0m  sin(\u001b[91m::Float16\u001b[39m) at math.jl:1159\n\u001b[0m  sin(\u001b[91m::ComplexF16\u001b[39m) at math.jl:1160\n\u001b[0m  sin(\u001b[91m::Complex{T}\u001b[39m) where T at complex.jl:831\n\u001b[0m  ...",
     "output_type": "error",
     "traceback": [
      "MethodError: no method matching sin(::Vector{Float64})\n\u001b[0mClosest candidates are:\n\u001b[0m  sin(\u001b[91m::Float16\u001b[39m) at math.jl:1159\n\u001b[0m  sin(\u001b[91m::ComplexF16\u001b[39m) at math.jl:1160\n\u001b[0m  sin(\u001b[91m::Complex{T}\u001b[39m) where T at complex.jl:831\n\u001b[0m  ...",
      "",
      "Stacktrace:",
      " [1] top-level scope",
      "   @ In[47]:1",
      " [2] eval",
      "   @ .\\boot.jl:360 [inlined]",
      " [3] include_string(mapexpr::typeof(REPL.softscope), mod::Module, code::String, filename::String)",
      "   @ Base .\\loading.jl:1116"
     ]
    }
   ],
   "source": [
    "sin([1.0, 2.0])"
   ]
  },
  {
   "cell_type": "code",
   "execution_count": null,
   "id": "97420f80-b975-4ef1-be6b-1b1875a48396",
   "metadata": {},
   "outputs": [],
   "source": []
  }
 ],
 "metadata": {
  "kernelspec": {
   "display_name": "Julia 1.6.3",
   "language": "julia",
   "name": "julia-1.6"
  },
  "language_info": {
   "file_extension": ".jl",
   "mimetype": "application/julia",
   "name": "julia",
   "version": "1.6.3"
  }
 },
 "nbformat": 4,
 "nbformat_minor": 5
}

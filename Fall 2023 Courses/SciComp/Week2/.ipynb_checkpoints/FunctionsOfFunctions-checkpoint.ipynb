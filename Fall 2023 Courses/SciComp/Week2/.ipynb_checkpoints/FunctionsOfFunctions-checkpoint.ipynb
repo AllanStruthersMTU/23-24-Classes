{
 "cells": [
  {
   "cell_type": "markdown",
   "id": "9199b1bf-1467-415a-9cc8-09e8d9e81fb7",
   "metadata": {},
   "source": [
    "$$\n",
    "A+ h dA+ \\dots  = (U+h dU+\\cdots) (S + h dS + \\cdots  )(V+ h dV+\\cdots)^\\top\n",
    "$$\n",
    "\n",
    "$$\n",
    "A+ h dA+ \\dots  = U(I + h X +\\cdots) (S + h dS + \\cdots  )(I + h dY+\\cdots)^\\top V^\\top\n",
    "$$\n",
    "\n",
    "$$\n",
    "I + h X + \\frac{1}{2} h^2 X^2 +\\frac{1}{3!} h^3 X^3 + \\cdots = e^{h X}\n",
    "$$"
   ]
  },
  {
   "cell_type": "code",
   "execution_count": 55,
   "id": "55819364-9db5-4869-a4e9-3eb784c464b0",
   "metadata": {},
   "outputs": [
    {
     "name": "stdout",
     "output_type": "stream",
     "text": [
      "[1.0103946377291662, 3.8149098100665975]\n",
      "[1.0350283622991006, 3.749324315457279]\n",
      "[1.0347004920976974, 3.7524673548688283]\n",
      "[1.034699357519849, 3.7524763426099947]\n",
      "[1.0346993575109908, 3.7524763426815335]\n",
      "[1.0346993575109908, 3.7524763426815335]\n",
      "[1.0346993575109908, 3.7524763426815335]\n",
      "[1.0346993575109908, 3.7524763426815335]\n",
      "[1.0346993575109908, 3.7524763426815335]\n"
     ]
    }
   ],
   "source": [
    "function f(x)\n",
    "    [sin(4*x[1]+sin(x[1]+x[2])), cos(4*x[1]-sin(x[2]))]\n",
    "end\n",
    "\n",
    "function g(f,x)\n",
    "    f(x)\n",
    "end\n",
    "\n",
    "using ForwardDiff, LinearAlgebra\n",
    "x=[1.2,3.4]\n",
    "for i in 1:9\n",
    "    A=ForwardDiff.jacobian(f,x)\n",
    "    b=f(x)\n",
    "    x=x-A\\b\n",
    "    println(x)\n",
    "end"
   ]
  },
  {
   "cell_type": "code",
   "execution_count": 11,
   "id": "317535a6-dfc9-484b-8f6e-94afdc0c0b6b",
   "metadata": {},
   "outputs": [
    {
     "data": {
      "text/plain": [
       "2-element Vector{Float64}:\n",
       " -0.6168358932761486\n",
       "  0.3364571078632582"
      ]
     },
     "metadata": {},
     "output_type": "display_data"
    },
    {
     "data": {
      "text/plain": [
       "2-element Vector{Float64}:\n",
       " -0.6168358932761486\n",
       "  0.3364571078632582"
      ]
     },
     "execution_count": 11,
     "metadata": {},
     "output_type": "execute_result"
    }
   ],
   "source": [
    "x=[1.2, 3.4]\n",
    "display(f(x))\n",
    "g(f,x)"
   ]
  },
  {
   "cell_type": "code",
   "execution_count": 12,
   "id": "95e6e708-a267-4c3c-bafa-2ab79a719011",
   "metadata": {},
   "outputs": [
    {
     "data": {
      "text/plain": [
       "(2,)"
      ]
     },
     "execution_count": 12,
     "metadata": {},
     "output_type": "execute_result"
    }
   ],
   "source": [
    "size(x)"
   ]
  },
  {
   "cell_type": "markdown",
   "id": "51d96d5c-071e-4dc0-93fd-545252c3f902",
   "metadata": {},
   "source": [
    "Jacobian is $\\partial f_i /\\partial x_j$"
   ]
  },
  {
   "cell_type": "code",
   "execution_count": 10,
   "id": "2ee83399-0c09-4f0f-9159-11bb7ae50aab",
   "metadata": {},
   "outputs": [
    {
     "data": {
      "text/plain": [
       "2×2 Matrix{Float64}:\n",
       " -3.06009  0.0882743\n",
       "  3.7668   0.910433"
      ]
     },
     "execution_count": 10,
     "metadata": {},
     "output_type": "execute_result"
    }
   ],
   "source": [
    "using ForwardDiff\n",
    "ForwardDiff.jacobian(f,x)"
   ]
  },
  {
   "cell_type": "code",
   "execution_count": 19,
   "id": "b1a51515-e8a9-4fce-9e82-8fafe93bbec6",
   "metadata": {},
   "outputs": [
    {
     "data": {
      "text/plain": [
       "Rosen (generic function with 1 method)"
      ]
     },
     "execution_count": 19,
     "metadata": {},
     "output_type": "execute_result"
    }
   ],
   "source": [
    "function Rosen(x)\n",
    "    sum=0.0\n",
    "    n=size(x)-1\n",
    "    print(n)\n",
    "    for i in 1:n\n",
    "        sum = 100*(x[i + 1] - x[i]^2)^2 + (1.0 - x[i])^2\n",
    "    end\n",
    "    sum\n",
    "end"
   ]
  },
  {
   "cell_type": "code",
   "execution_count": null,
   "id": "309d71ef-fade-4d4b-b458-a61a3f18ec0b",
   "metadata": {},
   "outputs": [],
   "source": []
  },
  {
   "cell_type": "markdown",
   "id": "7d10e4d1-3508-453f-ad36-f5502f892caf",
   "metadata": {},
   "source": [
    "# Schur Decomposition"
   ]
  },
  {
   "cell_type": "code",
   "execution_count": 46,
   "id": "0e76f87a-2883-4f5a-9393-6e7a262634b3",
   "metadata": {},
   "outputs": [
    {
     "data": {
      "text/plain": [
       "3×3 Matrix{Float64}:\n",
       "  0.381951  0.863462  -0.329464\n",
       " -0.807905  0.138847  -0.572722\n",
       " -0.448779  0.484927   0.750628"
      ]
     },
     "execution_count": 46,
     "metadata": {},
     "output_type": "execute_result"
    }
   ],
   "source": [
    "using LinearAlgebra\n",
    "m=9\n",
    "b=3\n",
    "A=rand(m,m)\n",
    "A=hessenberg(A).H\n",
    "B=A[1:b,1:b]\n",
    "decomp = schur(B)\n",
    "LittleQ=decomp.Z\n",
    "LittleT=decomp.T\n",
    "BigQ = 1.0*Matrix(I,m,m)\n",
    "BigQ[1:b,1:b]=LittleQ\n"
   ]
  },
  {
   "cell_type": "code",
   "execution_count": 45,
   "id": "ab2d922d-b820-4edf-9f57-36d30a8666b4",
   "metadata": {},
   "outputs": [
    {
     "data": {
      "text/plain": [
       "3×3 Matrix{Float64}:\n",
       "  0.304461  0.78873   -0.534049\n",
       " -0.887014  0.4391     0.142815\n",
       "  0.347144  0.430228   0.833304"
      ]
     },
     "execution_count": 45,
     "metadata": {},
     "output_type": "execute_result"
    }
   ],
   "source": [
    "BigQ = 1.0*Matrix(I,m,m)\n",
    "BigQ[1:b,1:b]=LittleQ"
   ]
  },
  {
   "cell_type": "code",
   "execution_count": null,
   "id": "4074f1b8-e710-433e-89f1-f135b0336fb8",
   "metadata": {},
   "outputs": [],
   "source": []
  }
 ],
 "metadata": {
  "kernelspec": {
   "display_name": "Julia 1.6.3",
   "language": "julia",
   "name": "julia-1.6"
  },
  "language_info": {
   "file_extension": ".jl",
   "mimetype": "application/julia",
   "name": "julia",
   "version": "1.6.3"
  }
 },
 "nbformat": 4,
 "nbformat_minor": 5
}

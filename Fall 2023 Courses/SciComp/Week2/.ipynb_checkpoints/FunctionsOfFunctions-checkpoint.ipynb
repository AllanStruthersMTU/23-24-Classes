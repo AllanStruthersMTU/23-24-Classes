{
 "cells": [
  {
   "cell_type": "code",
   "execution_count": 6,
   "id": "55819364-9db5-4869-a4e9-3eb784c464b0",
   "metadata": {},
   "outputs": [
    {
     "data": {
      "text/plain": [
       "g (generic function with 1 method)"
      ]
     },
     "execution_count": 6,
     "metadata": {},
     "output_type": "execute_result"
    }
   ],
   "source": [
    "function f(x)\n",
    "    [sin(4*x[1]+sin(x[1]+x[2])), cos(4*x[1]-sin(x[2]))]\n",
    "end\n",
    "\n",
    "function g(f,x)\n",
    "    f(x)\n",
    "end"
   ]
  },
  {
   "cell_type": "code",
   "execution_count": 7,
   "id": "317535a6-dfc9-484b-8f6e-94afdc0c0b6b",
   "metadata": {},
   "outputs": [
    {
     "data": {
      "text/plain": [
       "2-element Vector{Float64}:\n",
       " -0.6168358932761486\n",
       "  0.3364571078632582"
      ]
     },
     "metadata": {},
     "output_type": "display_data"
    },
    {
     "data": {
      "text/plain": [
       "2-element Vector{Float64}:\n",
       " -0.6168358932761486\n",
       "  0.3364571078632582"
      ]
     },
     "execution_count": 7,
     "metadata": {},
     "output_type": "execute_result"
    }
   ],
   "source": [
    "x=[1.2, 3.4]\n",
    "display(f(x))\n",
    "g(f,x)"
   ]
  },
  {
   "cell_type": "code",
   "execution_count": 10,
   "id": "2ee83399-0c09-4f0f-9159-11bb7ae50aab",
   "metadata": {},
   "outputs": [
    {
     "data": {
      "text/plain": [
       "2×2 Matrix{Float64}:\n",
       " -3.06009  0.0882743\n",
       "  3.7668   0.910433"
      ]
     },
     "execution_count": 10,
     "metadata": {},
     "output_type": "execute_result"
    }
   ],
   "source": [
    "using ForwardDiff\n",
    "ForwardDiff.jacobian(f,x)"
   ]
  },
  {
   "cell_type": "code",
   "execution_count": null,
   "id": "b1a51515-e8a9-4fce-9e82-8fafe93bbec6",
   "metadata": {},
   "outputs": [],
   "source": []
  }
 ],
 "metadata": {
  "kernelspec": {
   "display_name": "Julia 1.6.3",
   "language": "julia",
   "name": "julia-1.6"
  },
  "language_info": {
   "file_extension": ".jl",
   "mimetype": "application/julia",
   "name": "julia",
   "version": "1.6.3"
  }
 },
 "nbformat": 4,
 "nbformat_minor": 5
}

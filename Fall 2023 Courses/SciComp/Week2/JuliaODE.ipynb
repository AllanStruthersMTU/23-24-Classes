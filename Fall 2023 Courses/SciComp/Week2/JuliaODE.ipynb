{
 "cells": [
  {
   "cell_type": "code",
   "execution_count": null,
   "id": "8b971da7-d645-4762-ba1a-278172a7b307",
   "metadata": {},
   "outputs": [],
   "source": []
  },
  {
   "cell_type": "markdown",
   "id": "8a70e2ef-5eff-4bad-8de7-710a1579ba1b",
   "metadata": {},
   "source": [
    "## Julia ODE Benchmark\n",
    "\n",
    "1. I am going to use the example from the discussion in the performance location of the Julia ODE write up.  \n",
    "    1. I am going to use the speed up tricks there.\n",
    "    1. I am going to compare to Python with what seems to be the default set up in Python\n",
    "1. To be fair I am going to implement the Python example directly in Julia.\n",
    "1. This seems fair\n",
    "    1. Implement the Julia example in Python \n",
    "    1. Implement the Python example in Julia\n",
    "    \n",
    "They can not be in the same notebook.  I do not know how to have more than one kernel per notebook!"
   ]
  },
  {
   "cell_type": "code",
   "execution_count": 31,
   "id": "36831ec2-1fa4-4695-a1f9-b58eaab2826e",
   "metadata": {},
   "outputs": [],
   "source": [
    "using StaticArrays\n",
    "function lorenz(u, p, t)\n",
    "    dx = 10.0 * (u[2] - u[1])\n",
    "    dy = u[1] * (28.0 - u[3]) - u[2]\n",
    "    dz = u[1] * u[2] - (8 / 3) * u[3]\n",
    "    [dx, dy, dz]\n",
    "end\n",
    "function lorenz!(du, u, p, t)\n",
    "    du[1] = 10.0 * (u[2] - u[1])\n",
    "    du[2] = u[1] * (28.0 - u[3]) - u[2]\n",
    "    du[3] = u[1] * u[2] - (8 / 3) * u[3]\n",
    "    nothing\n",
    "end\n",
    "function lorenz_static(u, p, t)\n",
    "    dx = 10.0 * (u[2] - u[1])\n",
    "    dy = u[1] * (28.0 - u[3]) - u[2]\n",
    "    dz = u[1] * u[2] - (8 / 3) * u[3]\n",
    "    SA[dx, dy, dz]\n",
    "end\n",
    "\n",
    "using Suppressor \n",
    "@suppress_err using DifferentialEquations, BenchmarkTools\n",
    "u0 = [1.0; 0.0; 0.0]; u0SA =SA[1.0; 0.0; 0.0]\n",
    "tspan = (0.0, 100.0)\n",
    "prob = ODEProblem(lorenz, u0, tspan)\n",
    "prob! = ODEProblem(lorenz!, u0, tspan, inplace=true)\n",
    "probStatic = ODEProblem(lorenz_static, u0, tspan, inplace=true)\n",
    "probStaticStatic = ODEProblem(lorenz_static, u0SA, tspan, inplace=true)\n",
    "probStaticStaticOnlyEnd = ODEProblem(lorenz_static, u0SA, tspan,inplace=true,save_everystep = false);"
   ]
  },
  {
   "cell_type": "code",
   "execution_count": 33,
   "id": "f6c27f6e-e229-4100-b918-ce64569a4cd2",
   "metadata": {},
   "outputs": [
    {
     "name": "stdout",
     "output_type": "stream",
     "text": [
      "  4.517 ms (100176 allocations: 10.81 MiB)\n",
      "  930.200 μs (11771 allocations: 1.37 MiB)\n",
      "  1.619 ms (34040 allocations: 3.75 MiB)\n",
      "  467.500 μs (1361 allocations: 454.06 KiB)\n",
      "  281.100 μs (47 allocations: 5.52 KiB)\n"
     ]
    }
   ],
   "source": [
    "alg=Tsit5()\n",
    "@suppress_err ( @btime solve(prob, alg))\n",
    "@suppress_err ( @btime solve(prob!, alg))\n",
    "@suppress_err ( @btime solve(probStatic, alg))\n",
    "@suppress_err ( @btime solve(probStaticStatic, alg))\n",
    "@suppress_err ( @btime solve(probStaticStaticOnlyEnd, alg));"
   ]
  },
  {
   "cell_type": "markdown",
   "id": "7fe14e33-c3f7-4b70-8d07-fda68e0418fc",
   "metadata": {},
   "source": [
    "Julia will pick an algorithm if we do not tell it what algorithm to use. It may be faster.  It may not!"
   ]
  },
  {
   "cell_type": "code",
   "execution_count": 32,
   "id": "eb0f6535-1143-4ddb-89b6-a3b09162bcf9",
   "metadata": {},
   "outputs": [
    {
     "name": "stdout",
     "output_type": "stream",
     "text": [
      "  4.277 ms (102806 allocations: 11.12 MiB)\n",
      "  781.200 μs (11819 allocations: 1.40 MiB)\n",
      "  1.578 ms (34065 allocations: 3.78 MiB)\n",
      "  424.600 μs (1383 allocations: 486.95 KiB)\n",
      "  256.600 μs (61 allocations: 6.09 KiB)\n"
     ]
    }
   ],
   "source": [
    "@suppress_err ( @btime solve(prob))\n",
    "@suppress_err ( @btime solve(prob!))\n",
    "@suppress_err ( @btime solve(probStatic))\n",
    "@suppress_err ( @btime solve(probStaticStatic))\n",
    "@suppress_err ( @btime solve(probStaticStaticOnlyEnd));"
   ]
  },
  {
   "cell_type": "markdown",
   "id": "b8838a3c-1acd-4453-b29d-8389adab7ddf",
   "metadata": {},
   "source": [
    "We are going to understand what \"stiff\" means. But first we need an example. "
   ]
  },
  {
   "cell_type": "code",
   "execution_count": 34,
   "id": "2ce17156-4343-4605-808f-0b2cfd07317d",
   "metadata": {},
   "outputs": [
    {
     "name": "stderr",
     "output_type": "stream",
     "text": [
      "┌ Warning: Interrupted. Larger maxiters is needed. If you are using an integrator for non-stiff ODEs or an automatic switching algorithm (the default), you may want to consider using a method for stiff equations. See the solver pages for more details (e.g. https://docs.sciml.ai/DiffEqDocs/stable/solvers/ode_solve/#Stiff-Problems).\n",
      "└ @ SciMLBase C:\\Users\\struther\\.julia\\packages\\SciMLBase\\QqtZA\\src\\integrator_interface.jl:504\n"
     ]
    },
    {
     "data": {
      "text/plain": [
       "retcode: MaxIters\n",
       "Interpolation: specialized 4th order \"free\" interpolation\n",
       "t: 999997-element Vector{Float64}:\n",
       "   0.0\n",
       "   0.0014148468219250373\n",
       "   0.0020449182545311173\n",
       "   0.0031082402716566307\n",
       "   0.004077787050059496\n",
       "   0.005515332443361059\n",
       "   0.007190040962774541\n",
       "   0.009125372578778032\n",
       "   0.011053912492732977\n",
       "   0.012779077276958607\n",
       "   0.014024022307121159\n",
       "   0.015243850666599433\n",
       "   0.01653506083093412\n",
       "   ⋮\n",
       " 627.2190396080226\n",
       " 627.2195546456298\n",
       " 627.2200696831143\n",
       " 627.2205847204418\n",
       " 627.2210997576807\n",
       " 627.221614794865\n",
       " 627.2221298319947\n",
       " 627.2226448690358\n",
       " 627.2231599060223\n",
       " 627.2236749429201\n",
       " 627.2241899796951\n",
       " 627.2247050163814\n",
       "u: 999997-element Vector{Vector{Float64}}:\n",
       " [1.0, 0.0, 0.0]\n",
       " [0.9999434113193613, 3.283958829839966e-5, 2.374909234028646e-5]\n",
       " [0.9999182177783585, 3.5542680136344576e-5, 4.6239541505020636e-5]\n",
       " [0.999875715036629, 3.630246933484973e-5, 8.798249403609502e-5]\n",
       " [0.9998369766077329, 3.646280308115454e-5, 0.00012656058918590176]\n",
       " [0.9997795672444667, 3.6466430856422276e-5, 0.00018396632467683696]\n",
       " [0.9997127287139348, 3.644727999289594e-5, 0.0002508240060722832]\n",
       " [0.9996355450022019, 3.6366816179962554e-5, 0.0003280881816181881]\n",
       " [0.9995586925734838, 3.6018927453310745e-5, 0.00040528849906290245]\n",
       " [0.9994899965196854, 3.468694637784628e-5, 0.00047531653393682193]\n",
       " [0.9994404494873531, 3.526721642493244e-5, 0.0005242832962220313]\n",
       " [0.9993919263519255, 3.5895923180181586e-5, 0.0005721777248943551]\n",
       " [0.999340590734759, 3.616481706316669e-5, 0.0006232444481779047]\n",
       " ⋮\n",
       " [0.36566020578968356, 1.7908594219716507e-6, 0.6343380033509002]\n",
       " [0.36566007868872025, 1.7908579425306873e-6, 0.634338130453343]\n",
       " [0.36565995158770825, 1.7908566067439181e-6, 0.6343382575556907]\n",
       " [0.3656598244864509, 1.7908556850316197e-6, 0.6343383846578698]\n",
       " [0.36565969738529425, 1.7908548304426676e-6, 0.6343385117598811]\n",
       " [0.3656595702844208, 1.7908538308245615e-6, 0.6343386388617541]\n",
       " [0.36565944318384036, 1.7908526460862064e-6, 0.6343387659635193]\n",
       " [0.3656593160833783, 1.7908514557618878e-6, 0.6343388930651717]\n",
       " [0.36565918898322214, 1.7908500275994653e-6, 0.634339020166756]\n",
       " [0.3656590618832008, 1.7908485265597098e-6, 0.6343391472682784]\n",
       " [0.3656589347831322, 1.7908471632050315e-6, 0.6343392743697104]\n",
       " [0.36565880768319414, 1.7908457448886525e-6, 0.6343394014710667]"
      ]
     },
     "execution_count": 34,
     "metadata": {},
     "output_type": "execute_result"
    }
   ],
   "source": [
    "function rober!(du, u, p, t)\n",
    "    y1, y2, y3 = u\n",
    "    k1, k2, k3 = p\n",
    "    du[1] = -k1 * y1 + k3 * y2 * y3\n",
    "    du[2] = k1 * y1 - k2 * y2^2 - k3 * y2 * y3\n",
    "    du[3] = k2 * y2^2\n",
    "    nothing\n",
    "end\n",
    "prob = ODEProblem(rober!, [1.0, 0.0, 0.0], (0.0, 1e6), [0.04, 3e7, 1e4])\n",
    "sol = solve(prob,Tsit5())"
   ]
  },
  {
   "cell_type": "code",
   "execution_count": 35,
   "id": "e3a87146-28e5-4a0e-b551-9734e354d30e",
   "metadata": {},
   "outputs": [
    {
     "name": "stdout",
     "output_type": "stream",
     "text": [
      "  128.800 μs (1505 allocations: 122.94 KiB)\n"
     ]
    },
    {
     "data": {
      "text/plain": [
       "retcode: Success\n",
       "Interpolation: specialized 4th order \"free\" interpolation, specialized 2nd order \"free\" stiffness-aware interpolation\n",
       "t: 86-element Vector{Float64}:\n",
       "      0.0\n",
       "      0.0014148468219250373\n",
       "      0.0020449182545311173\n",
       "      0.0031082402716566307\n",
       "      0.004077787050059496\n",
       "      0.005515332443361059\n",
       "      0.007190040962774541\n",
       "      0.009125372578778032\n",
       "      0.011053912492732977\n",
       "      0.012779077276958607\n",
       "      0.014024022307121159\n",
       "      0.015243850666599433\n",
       "      0.01653506083093412\n",
       "      ⋮\n",
       " 134150.3739391502\n",
       " 159907.25511463825\n",
       " 190651.00555599324\n",
       " 227529.00448704563\n",
       " 272100.45016950485\n",
       " 326618.040391603\n",
       " 394675.44922522793\n",
       " 483135.46322738164\n",
       " 611978.440308988\n",
       " 832001.9858022375\n",
       " 955418.4664430803\n",
       "      1.0e6\n",
       "u: 86-element Vector{Vector{Float64}}:\n",
       " [1.0, 0.0, 0.0]\n",
       " [0.9999434113193613, 3.283958829839966e-5, 2.374909234028646e-5]\n",
       " [0.9999182177783585, 3.5542680136344576e-5, 4.6239541505020636e-5]\n",
       " [0.999875715036629, 3.630246933484973e-5, 8.798249403609502e-5]\n",
       " [0.9998369766077329, 3.646280308115454e-5, 0.00012656058918590176]\n",
       " [0.9997795672444667, 3.6466430856422276e-5, 0.00018396632467683696]\n",
       " [0.9997127287139348, 3.644727999289594e-5, 0.0002508240060722832]\n",
       " [0.9996355450022019, 3.6366816179962554e-5, 0.0003280881816181881]\n",
       " [0.9995586925734838, 3.6018927453310745e-5, 0.00040528849906290245]\n",
       " [0.9994899965196854, 3.468694637784628e-5, 0.00047531653393682193]\n",
       " [0.9994404494873531, 3.526721642493244e-5, 0.0005242832962220313]\n",
       " [0.9993919263519255, 3.5895923180181586e-5, 0.0005721777248943551]\n",
       " [0.999340590734759, 3.616481706316669e-5, 0.0006232444481779047]\n",
       " ⋮\n",
       " [0.013678297757135909, 5.546095772648054e-8, 0.9863216467818872]\n",
       " [0.01164942340027988, 4.713887769781344e-8, 0.9883505294608222]\n",
       " [0.009902265903679474, 3.999931159111497e-8, 0.9900976940969896]\n",
       " [0.008396055624013717, 3.386427056245088e-8, 0.9916039105116968]\n",
       " [0.00709472115973546, 2.8578506986038415e-8, 0.9929052502617397]\n",
       " [0.005965694813086122, 2.4003683629159178e-8, 0.9940342811832121]\n",
       " [0.004977898955703416, 2.000952216783378e-8, 0.9950220810347563]\n",
       " [0.004096457020243149, 1.6451989761369902e-8, 0.995903526527749]\n",
       " [0.003254957264771347, 1.3061407517348219e-8, 0.9967450296738017]\n",
       " [0.002404458061824963, 9.640221889366491e-9, 0.9975955322979342]\n",
       " [0.002102359238323805, 8.426844227650663e-9, 0.9978976323348129]\n",
       " [0.0020114574049382313, 8.061834267515562e-9, 0.9979885345332081]"
      ]
     },
     "execution_count": 35,
     "metadata": {},
     "output_type": "execute_result"
    }
   ],
   "source": [
    "@btime sol = solve(prob)"
   ]
  },
  {
   "cell_type": "markdown",
   "id": "437cd05e-5c54-4cfc-a4e1-1f00bcb317ef",
   "metadata": {},
   "source": [
    "# Stiff means twitchy"
   ]
  }
 ],
 "metadata": {
  "kernelspec": {
   "display_name": "Julia 1.6.3",
   "language": "julia",
   "name": "julia-1.6"
  },
  "language_info": {
   "file_extension": ".jl",
   "mimetype": "application/julia",
   "name": "julia",
   "version": "1.6.3"
  }
 },
 "nbformat": 4,
 "nbformat_minor": 5
}

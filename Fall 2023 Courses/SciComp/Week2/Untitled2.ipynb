{
 "cells": [
  {
   "cell_type": "markdown",
   "id": "d2027132-9923-4ece-9149-e38f8dbd4d81",
   "metadata": {},
   "source": [
    "# Solving ODEs\n",
    "We are going to learn how to solve and plot an ODE\n",
    "$$y' = f(t,y)$$\n",
    "in Julia."
   ]
  },
  {
   "cell_type": "code",
   "execution_count": 1,
   "id": "bce9e99a-162a-4700-96a3-1abb9ea74bbe",
   "metadata": {},
   "outputs": [
    {
     "data": {
      "text/plain": [
       "(0.0, 4.0)"
      ]
     },
     "execution_count": 1,
     "metadata": {},
     "output_type": "execute_result"
    }
   ],
   "source": [
    "function f(u,p,t) \n",
    "    sin((t+u)^2)\n",
    "end\n",
    "u0 = 1.2\n",
    "tspan = (0.0,4.0)"
   ]
  },
  {
   "cell_type": "code",
   "execution_count": null,
   "id": "4c0cd7bd-2a57-4dda-874d-f15e24624055",
   "metadata": {},
   "outputs": [
    {
     "name": "stderr",
     "output_type": "stream",
     "text": [
      "\u001b[32m\u001b[1m    Updating\u001b[22m\u001b[39m registry at `C:\\Users\\struther\\.julia\\registries\\General`\n",
      "\u001b[32m\u001b[1m    Updating\u001b[22m\u001b[39m git-repo `https://github.com/JuliaRegistries/General.git`\n",
      "\u001b[32m\u001b[1m   Resolving\u001b[22m\u001b[39m package versions...\n",
      "\u001b[32m\u001b[1m   Installed\u001b[22m\u001b[39m LabelledArrays ────────── v1.9.0\n",
      "\u001b[32m\u001b[1m   Installed\u001b[22m\u001b[39m Random123 ─────────────── v1.6.1\n",
      "\u001b[32m\u001b[1m   Installed\u001b[22m\u001b[39m PositiveFactorizations ── v0.2.4\n",
      "\u001b[32m\u001b[1m   Installed\u001b[22m\u001b[39m Adapt ─────────────────── v3.7.0\n",
      "\u001b[32m\u001b[1m   Installed\u001b[22m\u001b[39m Distances ─────────────── v0.10.10\n",
      "\u001b[32m\u001b[1m   Installed\u001b[22m\u001b[39m DifferentialEquations ─── v7.2.0\n",
      "\u001b[32m\u001b[1m   Installed\u001b[22m\u001b[39m Glib_jll ──────────────── v2.76.5+0\n",
      "\u001b[32m\u001b[1m   Installed\u001b[22m\u001b[39m QuadGK ────────────────── v2.9.1\n",
      "\u001b[32m\u001b[1m   Installed\u001b[22m\u001b[39m PoissonRandom ─────────── v0.4.4\n",
      "\u001b[32m\u001b[1m   Installed\u001b[22m\u001b[39m DiffEqCallbacks ───────── v2.25.0\n",
      "\u001b[32m\u001b[1m   Installed\u001b[22m\u001b[39m JLD2 ──────────────────── v0.4.37\n",
      "\u001b[32m\u001b[1m   Installed\u001b[22m\u001b[39m DiffEqNoiseProcess ────── v5.16.0\n",
      "\u001b[32m\u001b[1m   Installed\u001b[22m\u001b[39m MPIPreferences ────────── v0.1.9\n",
      "\u001b[32m\u001b[1m   Installed\u001b[22m\u001b[39m ChainRulesCore ────────── v1.18.0\n",
      "\u001b[32m\u001b[1m   Installed\u001b[22m\u001b[39m AMD ───────────────────── v0.5.3\n",
      "\u001b[32m\u001b[1m   Installed\u001b[22m\u001b[39m ConstructionBase ──────── v1.5.4\n",
      "\u001b[32m\u001b[1m   Installed\u001b[22m\u001b[39m TreeViews ─────────────── v0.3.0\n",
      "\u001b[32m\u001b[1m   Installed\u001b[22m\u001b[39m DiffEqBase ────────────── v6.84.0\n",
      "\u001b[32m\u001b[1m   Installed\u001b[22m\u001b[39m SteadyStateDiffEq ─────── v1.12.0\n",
      "\u001b[32m\u001b[1m   Installed\u001b[22m\u001b[39m URIs ──────────────────── v1.5.1\n",
      "\u001b[32m\u001b[1m   Installed\u001b[22m\u001b[39m CodecZlib ─────────────── v0.7.3\n",
      "\u001b[32m\u001b[1m   Installed\u001b[22m\u001b[39m BoundaryValueDiffEq ───── v2.8.0\n",
      "\u001b[32m\u001b[1m   Installed\u001b[22m\u001b[39m PooledArrays ──────────── v1.4.3\n",
      "\u001b[32m\u001b[1m   Installed\u001b[22m\u001b[39m FastBroadcast ─────────── v0.1.17\n",
      "\u001b[32m\u001b[1m   Installed\u001b[22m\u001b[39m StatsAPI ──────────────── v1.7.0\n",
      "\u001b[32m\u001b[1m   Installed\u001b[22m\u001b[39m OpenSSL_jll ───────────── v1.1.23+0\n",
      "\u001b[32m\u001b[1m   Installed\u001b[22m\u001b[39m RandomNumbers ─────────── v1.5.3\n",
      "\u001b[32m\u001b[1m   Installed\u001b[22m\u001b[39m GenericSchur ──────────── v0.5.3\n",
      "\u001b[32m\u001b[1m   Installed\u001b[22m\u001b[39m XML2_jll ──────────────── v2.11.5+0\n",
      "\u001b[32m\u001b[1m   Installed\u001b[22m\u001b[39m AutoHashEquals ────────── v0.2.0\n",
      "\u001b[32m\u001b[1m   Installed\u001b[22m\u001b[39m DelayDiffEq ───────────── v5.37.0\n",
      "\u001b[32m\u001b[1m   Installed\u001b[22m\u001b[39m Setfield ──────────────── v0.8.2\n",
      "\u001b[32m\u001b[1m   Installed\u001b[22m\u001b[39m JumpProcesses ─────────── v9.3.2\n",
      "\u001b[32m\u001b[1m   Installed\u001b[22m\u001b[39m BandedMatrices ────────── v0.16.13\n",
      "\u001b[32m\u001b[1m   Installed\u001b[22m\u001b[39m MakieCore ─────────────── v0.6.8\n",
      "\u001b[32m\u001b[1m   Installed\u001b[22m\u001b[39m DEDataArrays ──────────── v0.2.4\n",
      "\u001b[32m\u001b[1m   Installed\u001b[22m\u001b[39m PreallocationTools ────── v0.3.2\n",
      "\u001b[32m\u001b[1m   Installed\u001b[22m\u001b[39m SortingAlgorithms ─────── v1.2.0\n",
      "\u001b[32m\u001b[1m   Installed\u001b[22m\u001b[39m HDF5 ──────────────────── v0.17.1\n",
      "\u001b[32m\u001b[1m   Installed\u001b[22m\u001b[39m ResettableStacks ──────── v1.1.1\n",
      "\u001b[32m\u001b[1m   Installed\u001b[22m\u001b[39m Extents ───────────────── v0.1.2\n",
      "\u001b[32m\u001b[1m   Installed\u001b[22m\u001b[39m Graphs ────────────────── v1.9.0\n",
      "\u001b[32m\u001b[1m   Installed\u001b[22m\u001b[39m Sundials ──────────────── v4.15.1\n",
      "\u001b[32m\u001b[1m   Installed\u001b[22m\u001b[39m PolynomialBases ───────── v0.4.21\n",
      "\u001b[32m\u001b[1m   Installed\u001b[22m\u001b[39m ExponentialUtilities ──── v1.23.0\n",
      "\u001b[32m\u001b[1m   Installed\u001b[22m\u001b[39m Preferences ───────────── v1.4.1\n",
      "\u001b[32m\u001b[1m   Installed\u001b[22m\u001b[39m Loess ─────────────────── v0.6.3\n",
      "\u001b[32m\u001b[1m   Installed\u001b[22m\u001b[39m libblastrampoline_jll ─── v3.1.0+2\n",
      "\u001b[32m\u001b[1m   Installed\u001b[22m\u001b[39m NonlinearSolve ────────── v0.3.22\n",
      "\u001b[32m\u001b[1m   Installed\u001b[22m\u001b[39m LevyArea ──────────────── v1.0.0\n",
      "\u001b[32m\u001b[1m   Installed\u001b[22m\u001b[39m GeoInterface ──────────── v1.3.2\n",
      "\u001b[32m\u001b[1m   Installed\u001b[22m\u001b[39m Inflate ───────────────── v0.1.4\n",
      "\u001b[32m\u001b[1m   Installed\u001b[22m\u001b[39m ArrayInterfaceGPUArrays ─ v0.2.2\n",
      "\u001b[32m\u001b[1m   Installed\u001b[22m\u001b[39m Optim ─────────────────── v1.7.8\n",
      "\u001b[32m\u001b[1m   Installed\u001b[22m\u001b[39m MuladdMacro ───────────── v0.2.4\n",
      "\u001b[32m\u001b[1m   Installed\u001b[22m\u001b[39m PDMats ────────────────── v0.11.28\n",
      "\u001b[32m\u001b[1m   Installed\u001b[22m\u001b[39m Sundials_jll ──────────── v5.2.0+1\n",
      "\u001b[32m\u001b[1m   Installed\u001b[22m\u001b[39m KLU ───────────────────── v0.4.1\n",
      "\u001b[32m\u001b[1m   Installed\u001b[22m\u001b[39m MutableArithmetics ────── v1.3.3\n",
      "\u001b[32m\u001b[1m   Installed\u001b[22m\u001b[39m StructArrays ──────────── v0.6.16\n",
      "\u001b[32m\u001b[1m   Installed\u001b[22m\u001b[39m FastClosures ──────────── v0.3.2\n",
      "\u001b[32m\u001b[1m   Installed\u001b[22m\u001b[39m Tables ────────────────── v1.11.1\n",
      "\u001b[32m\u001b[1m   Installed\u001b[22m\u001b[39m StochasticDiffEq ──────── v6.53.0\n",
      "\u001b[32m\u001b[1m   Installed\u001b[22m\u001b[39m MAT ───────────────────── v0.10.6\n",
      "\u001b[32m\u001b[1m   Installed\u001b[22m\u001b[39m OrdinaryDiffEq ────────── v6.11.2\n",
      "\u001b[32m\u001b[1m   Installed\u001b[22m\u001b[39m ColorSchemes ──────────── v3.24.0\n"
     ]
    }
   ],
   "source": [
    "import Pkg\n",
    "Pkg.add(\"DifferentialEquations\")"
   ]
  },
  {
   "cell_type": "code",
   "execution_count": null,
   "id": "7e4af37f-89c4-46ab-85bb-557e6c7f798f",
   "metadata": {},
   "outputs": [],
   "source": [
    "using DifferentialEquations\n",
    "# Define a scalar test function\n",
    "# p indicates parameters\n",
    "function f(u,p,t) \n",
    "    sin((t+u)^2)\n",
    "end\n",
    "u0 = 1.2\n",
    "tspan = (0.0,4.0)\n",
    "ivp = ODEProblem(f,u0,tspan)"
   ]
  },
  {
   "cell_type": "code",
   "execution_count": null,
   "id": "c574eacf-a803-4479-a2bf-356bd95f1bac",
   "metadata": {},
   "outputs": [],
   "source": []
  }
 ],
 "metadata": {
  "kernelspec": {
   "display_name": "Julia 1.6.3",
   "language": "julia",
   "name": "julia-1.6"
  },
  "language_info": {
   "file_extension": ".jl",
   "mimetype": "application/julia",
   "name": "julia",
   "version": "1.6.3"
  }
 },
 "nbformat": 4,
 "nbformat_minor": 5
}

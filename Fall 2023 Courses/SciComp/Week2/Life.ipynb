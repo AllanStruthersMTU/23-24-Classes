{
 "cells": [
  {
   "cell_type": "markdown",
   "id": "79e3c11d-bc9e-4bb5-ae56-b5b74f4efb3e",
   "metadata": {},
   "source": []
  },
  {
   "cell_type": "code",
   "execution_count": null,
   "id": "8638c62c-d99a-4958-9c7e-385e2bb6466a",
   "metadata": {},
   "outputs": [],
   "source": []
  },
  {
   "cell_type": "markdown",
   "id": "9e3243c4-42b0-453c-afb8-a22a57a30455",
   "metadata": {},
   "source": [
    "# Game of Life\n",
    "\n",
    "We are going to play on an nxn integer matrix with a 1 deep border of permanently dead cells around the outside. The total size of the board is (n+2)x(n+2)  A dead cell has a zero and a live cell has a 1. "
   ]
  },
  {
   "cell_type": "markdown",
   "id": "5d8b70b6-979f-421c-aab7-083f665d7734",
   "metadata": {},
   "source": [
    "## Initialization"
   ]
  },
  {
   "cell_type": "code",
   "execution_count": 13,
   "id": "4f65386d-8b1b-4abc-aa57-38be2822f833",
   "metadata": {},
   "outputs": [
    {
     "data": {
      "text/plain": [
       "8×8 Matrix{Int32}:\n",
       " 0  0  0  0  0  0  0  0\n",
       " 0  0  1  0  0  1  1  0\n",
       " 0  1  1  1  0  0  0  0\n",
       " 0  0  1  1  0  1  0  0\n",
       " 0  1  1  0  1  1  0  0\n",
       " 0  1  0  1  0  1  0  0\n",
       " 0  1  0  1  0  0  0  0\n",
       " 0  0  0  0  0  0  0  0"
      ]
     },
     "execution_count": 13,
     "metadata": {},
     "output_type": "execute_result"
    }
   ],
   "source": [
    "n=6\n",
    "Board=zeros(Int32,n+2,n+2)\n",
    "Board[2:n+1,2:n+1]=rand((0,1),n,n)\n",
    "Board"
   ]
  },
  {
   "cell_type": "markdown",
   "id": "1105b3f1-a060-4d97-9eab-38313b578531",
   "metadata": {},
   "source": [
    "## Counting Neighbors\n",
    "To minimize the amount of bookkeeping I am going to make the count array the same size as the total board. "
   ]
  },
  {
   "cell_type": "code",
   "execution_count": 15,
   "id": "b9767b3f-479a-4389-954f-038ec76db5da",
   "metadata": {},
   "outputs": [
    {
     "data": {
      "text/plain": [
       "8×8 Matrix{Int32}:\n",
       " 0  0  0  0  0  0  0  0\n",
       " 0  3  3  3  2  1  1  0\n",
       " 0  3  5  4  4  3  3  0\n",
       " 0  5  6  5  5  2  2  0\n",
       " 0  3  5  5  5  3  3  0\n",
       " 0  3  6  3  5  2  2  0\n",
       " 0  1  4  1  3  1  1  0\n",
       " 0  0  0  0  0  0  0  0"
      ]
     },
     "execution_count": 15,
     "metadata": {},
     "output_type": "execute_result"
    }
   ],
   "source": [
    "Counts=zeros(Int32,n+2,n+2)\n",
    "for i in 2:n+1\n",
    "    for j in 2:n+1\n",
    "        Counts[i,j]=(Board[i+1,j-1]+Board[i+1,j]+Board[i+1,j+1]+\n",
    "                     Board[i,  j-1]+             Board[i,j+1]+\n",
    "                     Board[i-1,j-1]+Board[i-1,j]+Board[i-1,j+1])\n",
    "    end\n",
    "end\n",
    "Counts"
   ]
  },
  {
   "cell_type": "markdown",
   "id": "f878e8e6-7f6f-4428-a270-de42897d32c4",
   "metadata": {},
   "source": [
    "It is a good idea to make functions of anything even remotely complicated. The function below assumes that the data matrices have already been set up."
   ]
  },
  {
   "cell_type": "code",
   "execution_count": 3,
   "id": "e1236a3c-b261-4606-989a-06b6ac6ae875",
   "metadata": {},
   "outputs": [
    {
     "data": {
      "text/plain": [
       "CountNeighbors (generic function with 1 method)"
      ]
     },
     "execution_count": 3,
     "metadata": {},
     "output_type": "execute_result"
    }
   ],
   "source": [
    "function CountNeighbors(Board,Counts)\n",
    "    n=size(Board)[1]-2\n",
    "    for i in 2:n+1\n",
    "        for j in 2:n+1\n",
    "        Counts[i,j]=(Board[i+1,j-1]+Board[i+1,j]+Board[i+1,j+1]+\n",
    "                     Board[i,  j-1]+             Board[i,j+1]+\n",
    "                     Board[i-1,j-1]+Board[i-1,j]+Board[i-1,j+1])\n",
    "        end\n",
    "    end\n",
    "end"
   ]
  },
  {
   "cell_type": "markdown",
   "id": "b990eabd-8e3e-4fa2-91ff-63079549c967",
   "metadata": {},
   "source": [
    "Always test functions!"
   ]
  },
  {
   "cell_type": "code",
   "execution_count": 4,
   "id": "c7a720d9-4ce1-4f52-93f6-400e0cef5b27",
   "metadata": {},
   "outputs": [
    {
     "data": {
      "text/plain": [
       "8×16 Matrix{Int64}:\n",
       " 0  0  0  0  0  0  0  0  0  0  0  0  0  0  0  0\n",
       " 0  0  0  0  0  1  1  0  0  0  0  1  2  3  2  0\n",
       " 0  0  0  0  1  0  1  0  0  2  2  3  2  6  3  0\n",
       " 0  1  1  0  1  0  1  0  0  2  2  3  2  5  2  0\n",
       " 0  1  0  0  0  1  0  0  0  2  4  4  5  5  4  0\n",
       " 0  0  0  1  1  1  1  0  0  3  4  3  5  6  4  0\n",
       " 0  1  1  0  1  1  1  0  0  1  2  4  4  5  3  0\n",
       " 0  0  0  0  0  0  0  0  0  0  0  0  0  0  0  0"
      ]
     },
     "execution_count": 4,
     "metadata": {},
     "output_type": "execute_result"
    }
   ],
   "source": [
    "n=6;\n",
    "Board=zeros(Int64,n+2,n+2); Board[2:n+1,2:n+1]=rand((0,1),n,n)\n",
    "Counts=zeros(Int64,n+2,n+2)\n",
    "CountNeighbors(Board,Counts)\n",
    "[Board Counts]"
   ]
  },
  {
   "cell_type": "markdown",
   "id": "85f59630-333b-490d-8413-f3c4b9791237",
   "metadata": {},
   "source": [
    "## Rules\n",
    "The rules are pretty simple logic based on two numbers.  The value of the Board cell (0 dead or 1 alive) and the value of the Counts cell giving the number of neighbors.  I am going to implement this as a tiny function:\n",
    "b=0 and c=3 returns 1;\n",
    "b=1 and c>3 returns 0;\n",
    "b=1 and c<2 returns 0; and\n",
    "b=1 and $2\\leq c \\leq 3$ returns 1."
   ]
  },
  {
   "cell_type": "code",
   "execution_count": 5,
   "id": "4b17bd57-511a-4aaf-92bd-c63fde568548",
   "metadata": {},
   "outputs": [
    {
     "data": {
      "text/plain": [
       "DeadOrAlive (generic function with 1 method)"
      ]
     },
     "execution_count": 5,
     "metadata": {},
     "output_type": "execute_result"
    }
   ],
   "source": [
    "function DeadOrAlive(b,c)\n",
    "    s=0; # Default is death.  So much death, what ... \n",
    "    # Death rule\n",
    "    if (b==1 && 2<=c<=3) \n",
    "        s=1\n",
    "    end\n",
    "    # Birth rule\n",
    "    if (b==0 && c==3) \n",
    "        s=1\n",
    "    end\n",
    "    s\n",
    "end"
   ]
  },
  {
   "cell_type": "markdown",
   "id": "852e0d1b-26c7-4183-8d4a-6ebc12618896",
   "metadata": {},
   "source": [
    "### Testing\n",
    "Testing the function"
   ]
  },
  {
   "cell_type": "code",
   "execution_count": 6,
   "id": "9a5d8315-ccf8-4c66-8265-f5c7809d5cf4",
   "metadata": {},
   "outputs": [
    {
     "data": {
      "text/plain": [
       "1"
      ]
     },
     "execution_count": 6,
     "metadata": {},
     "output_type": "execute_result"
    }
   ],
   "source": [
    "(b,c)=(1,2)\n",
    "DeadOrAlive(b,c)"
   ]
  },
  {
   "cell_type": "code",
   "execution_count": 7,
   "id": "3d3df62e-c9c8-43d1-b981-b149cc012221",
   "metadata": {},
   "outputs": [
    {
     "data": {
      "text/plain": [
       "1"
      ]
     },
     "execution_count": 7,
     "metadata": {},
     "output_type": "execute_result"
    }
   ],
   "source": [
    "(b,c)=(0,3)\n",
    "DeadOrAlive(b,c)"
   ]
  },
  {
   "cell_type": "code",
   "execution_count": 8,
   "id": "21971521-551a-430f-a89b-09cae154499d",
   "metadata": {},
   "outputs": [
    {
     "data": {
      "text/plain": [
       "0"
      ]
     },
     "execution_count": 8,
     "metadata": {},
     "output_type": "execute_result"
    }
   ],
   "source": [
    "(b,c)=(1,4)\n",
    "DeadOrAlive(b,c)"
   ]
  },
  {
   "cell_type": "markdown",
   "id": "f3c90db0-9454-419b-a06e-8e8b95852fcc",
   "metadata": {},
   "source": [
    "# Taking a step\n",
    "We need to apply the step to every one of the active cells in the board. Pretty OK"
   ]
  },
  {
   "cell_type": "code",
   "execution_count": null,
   "id": "efc69944-84cf-4faf-8dfc-767b3e5b06cf",
   "metadata": {},
   "outputs": [],
   "source": []
  },
  {
   "cell_type": "code",
   "execution_count": 9,
   "id": "9a73cda5-6229-43f2-bb92-06dae8e20014",
   "metadata": {},
   "outputs": [],
   "source": [
    "n=6;\n",
    "Board=zeros(Int64,n+2,n+2); Board[2:n+1,2:n+1]=rand((0,1),n,n)\n",
    "Counts=zeros(Int64,n+2,n+2)\n",
    "CountNeighbors(Board,Counts)\n",
    "for i in 2:n+1\n",
    "    for j in 2:n+1\n",
    "        Board[i,j]=DeadOrAlive(Board[i,j], Counts[i,j])\n",
    "    end    \n",
    "end"
   ]
  },
  {
   "cell_type": "markdown",
   "id": "de937709-42a8-46a6-bcc6-60ce17cbace1",
   "metadata": {},
   "source": [
    "# Functions\n",
    "We should make this a function."
   ]
  },
  {
   "cell_type": "code",
   "execution_count": 10,
   "id": "5971c53e-73f2-4b5e-b369-9dd0459fde6c",
   "metadata": {},
   "outputs": [
    {
     "data": {
      "text/plain": [
       "LifeStep (generic function with 1 method)"
      ]
     },
     "execution_count": 10,
     "metadata": {},
     "output_type": "execute_result"
    }
   ],
   "source": [
    "function LifeStep(Board,Counts)\n",
    "    n=size(Board)[1]-2\n",
    "    CountNeighbors(Board,Counts)\n",
    "    for i in 2:n+1\n",
    "        for j in 2:n+1\n",
    "            Board[i,j]=DeadOrAlive(Board[i,j], Counts[i,j])\n",
    "        end \n",
    "    end\n",
    "end"
   ]
  },
  {
   "cell_type": "markdown",
   "id": "99405ced-8274-4ab7-8e9a-21d3d9113bde",
   "metadata": {},
   "source": [
    "# Assembly\n",
    "Putting stuff together. Well it is not pretty yet.  "
   ]
  },
  {
   "cell_type": "code",
   "execution_count": 11,
   "id": "befdf715-06af-48f4-9a5b-a267438bbeb9",
   "metadata": {},
   "outputs": [
    {
     "name": "stdout",
     "output_type": "stream",
     "text": [
      "[0 0 0 0 0 0; 0 0 0 0 0 0; 0 0 0 1 1 0; 0 0 1 1 0 0; 0 0 0 0 0 0; 0 0 0 0 0 0]\n",
      "[0 0 0 0 0 0; 0 0 0 0 0 0; 0 0 1 1 1 0; 0 0 1 1 1 0; 0 0 0 0 0 0; 0 0 0 0 0 0]\n",
      "[0 0 0 0 0 0; 0 0 0 1 0 0; 0 0 1 0 1 0; 0 0 1 0 1 0; 0 0 0 1 0 0; 0 0 0 0 0 0]\n"
     ]
    }
   ],
   "source": [
    "(n,StepMax)=(4,3);\n",
    "Board=zeros(Int64,n+2,n+2); Board[2:n+1,2:n+1]=rand((0,1),n,n)\n",
    "Counts=zeros(Int64,n+2,n+2)\n",
    "for step in 1:StepMax\n",
    "    LifeStep(Board,Counts)\n",
    "    println(Board)\n",
    "end"
   ]
  },
  {
   "cell_type": "markdown",
   "id": "a7941412-a36d-451a-b15f-ff808a073ba0",
   "metadata": {},
   "source": [
    "# Pics\n",
    "we need to find a way to plot a matrix. People found a bunch of different plotting packages. I found plotjl\n",
    "    https://docs.juliaplots.org/stable/\n",
    "we should be able to configure it a lot of different ways. "
   ]
  },
  {
   "cell_type": "code",
   "execution_count": 12,
   "id": "ef99f52c-0616-45d0-bbaf-72e7fceee24b",
   "metadata": {},
   "outputs": [
    {
     "data": {
      "image/svg+xml": [
       "<?xml version=\"1.0\" encoding=\"utf-8\"?>\n",
       "<svg xmlns=\"http://www.w3.org/2000/svg\" xmlns:xlink=\"http://www.w3.org/1999/xlink\" width=\"600\" height=\"400\" viewBox=\"0 0 2400 1600\">\n",
       "<defs>\n",
       "  <clipPath id=\"clip950\">\n",
       "    <rect x=\"0\" y=\"0\" width=\"2400\" height=\"1600\"/>\n",
       "  </clipPath>\n",
       "</defs>\n",
       "<path clip-path=\"url(#clip950)\" d=\"\n",
       "M0 1600 L2400 1600 L2400 0 L0 0  Z\n",
       "  \" fill=\"#ffffff\" fill-rule=\"evenodd\" fill-opacity=\"1\"/>\n",
       "<defs>\n",
       "  <clipPath id=\"clip951\">\n",
       "    <rect x=\"480\" y=\"0\" width=\"1681\" height=\"1600\"/>\n",
       "  </clipPath>\n",
       "</defs>\n",
       "<path clip-path=\"url(#clip950)\" d=\"\n",
       "M169.121 1407.36 L2112.76 1407.36 L2112.76 126.334 L169.121 126.334  Z\n",
       "  \" fill=\"#ffffff\" fill-rule=\"evenodd\" fill-opacity=\"1\"/>\n",
       "<defs>\n",
       "  <clipPath id=\"clip952\">\n",
       "    <rect x=\"169\" y=\"126\" width=\"1945\" height=\"1282\"/>\n",
       "  </clipPath>\n",
       "</defs>\n",
       "<polyline clip-path=\"url(#clip952)\" style=\"stroke:#000000; stroke-linecap:round; stroke-linejoin:round; stroke-width:2; stroke-opacity:0.1; fill:none\" points=\"\n",
       "  495.303,1407.36 495.303,126.334 \n",
       "  \"/>\n",
       "<polyline clip-path=\"url(#clip952)\" style=\"stroke:#000000; stroke-linecap:round; stroke-linejoin:round; stroke-width:2; stroke-opacity:0.1; fill:none\" points=\"\n",
       "  1007.71,1407.36 1007.71,126.334 \n",
       "  \"/>\n",
       "<polyline clip-path=\"url(#clip952)\" style=\"stroke:#000000; stroke-linecap:round; stroke-linejoin:round; stroke-width:2; stroke-opacity:0.1; fill:none\" points=\"\n",
       "  1520.12,1407.36 1520.12,126.334 \n",
       "  \"/>\n",
       "<polyline clip-path=\"url(#clip952)\" style=\"stroke:#000000; stroke-linecap:round; stroke-linejoin:round; stroke-width:2; stroke-opacity:0.1; fill:none\" points=\"\n",
       "  2032.53,1407.36 2032.53,126.334 \n",
       "  \"/>\n",
       "<polyline clip-path=\"url(#clip950)\" style=\"stroke:#000000; stroke-linecap:round; stroke-linejoin:round; stroke-width:4; stroke-opacity:1; fill:none\" points=\"\n",
       "  169.121,1407.36 2112.76,1407.36 \n",
       "  \"/>\n",
       "<polyline clip-path=\"url(#clip950)\" style=\"stroke:#000000; stroke-linecap:round; stroke-linejoin:round; stroke-width:4; stroke-opacity:1; fill:none\" points=\"\n",
       "  495.303,1407.36 495.303,1390.54 \n",
       "  \"/>\n",
       "<polyline clip-path=\"url(#clip950)\" style=\"stroke:#000000; stroke-linecap:round; stroke-linejoin:round; stroke-width:4; stroke-opacity:1; fill:none\" points=\"\n",
       "  1007.71,1407.36 1007.71,1390.54 \n",
       "  \"/>\n",
       "<polyline clip-path=\"url(#clip950)\" style=\"stroke:#000000; stroke-linecap:round; stroke-linejoin:round; stroke-width:4; stroke-opacity:1; fill:none\" points=\"\n",
       "  1520.12,1407.36 1520.12,1390.54 \n",
       "  \"/>\n",
       "<polyline clip-path=\"url(#clip950)\" style=\"stroke:#000000; stroke-linecap:round; stroke-linejoin:round; stroke-width:4; stroke-opacity:1; fill:none\" points=\"\n",
       "  2032.53,1407.36 2032.53,1390.54 \n",
       "  \"/>\n",
       "<path clip-path=\"url(#clip950)\" d=\"M495.303 1438.28 Q491.692 1438.28 489.863 1441.84 Q488.058 1445.38 488.058 1452.51 Q488.058 1459.62 489.863 1463.18 Q491.692 1466.73 495.303 1466.73 Q498.937 1466.73 500.743 1463.18 Q502.571 1459.62 502.571 1452.51 Q502.571 1445.38 500.743 1441.84 Q498.937 1438.28 495.303 1438.28 M495.303 1434.57 Q501.113 1434.57 504.169 1439.18 Q507.247 1443.76 507.247 1452.51 Q507.247 1461.24 504.169 1465.85 Q501.113 1470.43 495.303 1470.43 Q489.493 1470.43 486.414 1465.85 Q483.359 1461.24 483.359 1452.51 Q483.359 1443.76 486.414 1439.18 Q489.493 1434.57 495.303 1434.57 Z\" fill=\"#000000\" fill-rule=\"evenodd\" fill-opacity=\"1\" /><path clip-path=\"url(#clip950)\" d=\"M982.411 1435.2 L1000.77 1435.2 L1000.77 1439.13 L986.694 1439.13 L986.694 1447.6 Q987.712 1447.26 988.731 1447.1 Q989.749 1446.91 990.768 1446.91 Q996.555 1446.91 999.934 1450.08 Q1003.31 1453.25 1003.31 1458.67 Q1003.31 1464.25 999.842 1467.35 Q996.37 1470.43 990.05 1470.43 Q987.874 1470.43 985.606 1470.06 Q983.36 1469.69 980.953 1468.95 L980.953 1464.25 Q983.036 1465.38 985.259 1465.94 Q987.481 1466.49 989.958 1466.49 Q993.962 1466.49 996.3 1464.39 Q998.638 1462.28 998.638 1458.67 Q998.638 1455.06 996.3 1452.95 Q993.962 1450.85 989.958 1450.85 Q988.083 1450.85 986.208 1451.26 Q984.356 1451.68 982.411 1452.56 L982.411 1435.2 Z\" fill=\"#000000\" fill-rule=\"evenodd\" fill-opacity=\"1\" /><path clip-path=\"url(#clip950)\" d=\"M1022.53 1438.28 Q1018.92 1438.28 1017.09 1441.84 Q1015.28 1445.38 1015.28 1452.51 Q1015.28 1459.62 1017.09 1463.18 Q1018.92 1466.73 1022.53 1466.73 Q1026.16 1466.73 1027.97 1463.18 Q1029.8 1459.62 1029.8 1452.51 Q1029.8 1445.38 1027.97 1441.84 Q1026.16 1438.28 1022.53 1438.28 M1022.53 1434.57 Q1028.34 1434.57 1031.39 1439.18 Q1034.47 1443.76 1034.47 1452.51 Q1034.47 1461.24 1031.39 1465.85 Q1028.34 1470.43 1022.53 1470.43 Q1016.72 1470.43 1013.64 1465.85 Q1010.58 1461.24 1010.58 1452.51 Q1010.58 1443.76 1013.64 1439.18 Q1016.72 1434.57 1022.53 1434.57 Z\" fill=\"#000000\" fill-rule=\"evenodd\" fill-opacity=\"1\" /><path clip-path=\"url(#clip950)\" d=\"M1479.73 1465.82 L1487.37 1465.82 L1487.37 1439.46 L1479.06 1441.12 L1479.06 1436.86 L1487.32 1435.2 L1492 1435.2 L1492 1465.82 L1499.64 1465.82 L1499.64 1469.76 L1479.73 1469.76 L1479.73 1465.82 Z\" fill=\"#000000\" fill-rule=\"evenodd\" fill-opacity=\"1\" /><path clip-path=\"url(#clip950)\" d=\"M1519.08 1438.28 Q1515.47 1438.28 1513.64 1441.84 Q1511.83 1445.38 1511.83 1452.51 Q1511.83 1459.62 1513.64 1463.18 Q1515.47 1466.73 1519.08 1466.73 Q1522.71 1466.73 1524.52 1463.18 Q1526.35 1459.62 1526.35 1452.51 Q1526.35 1445.38 1524.52 1441.84 Q1522.71 1438.28 1519.08 1438.28 M1519.08 1434.57 Q1524.89 1434.57 1527.95 1439.18 Q1531.02 1443.76 1531.02 1452.51 Q1531.02 1461.24 1527.95 1465.85 Q1524.89 1470.43 1519.08 1470.43 Q1513.27 1470.43 1510.19 1465.85 Q1507.14 1461.24 1507.14 1452.51 Q1507.14 1443.76 1510.19 1439.18 Q1513.27 1434.57 1519.08 1434.57 Z\" fill=\"#000000\" fill-rule=\"evenodd\" fill-opacity=\"1\" /><path clip-path=\"url(#clip950)\" d=\"M1549.24 1438.28 Q1545.63 1438.28 1543.8 1441.84 Q1542 1445.38 1542 1452.51 Q1542 1459.62 1543.8 1463.18 Q1545.63 1466.73 1549.24 1466.73 Q1552.88 1466.73 1554.68 1463.18 Q1556.51 1459.62 1556.51 1452.51 Q1556.51 1445.38 1554.68 1441.84 Q1552.88 1438.28 1549.24 1438.28 M1549.24 1434.57 Q1555.05 1434.57 1558.11 1439.18 Q1561.19 1443.76 1561.19 1452.51 Q1561.19 1461.24 1558.11 1465.85 Q1555.05 1470.43 1549.24 1470.43 Q1543.43 1470.43 1540.35 1465.85 Q1537.3 1461.24 1537.3 1452.51 Q1537.3 1443.76 1540.35 1439.18 Q1543.43 1434.57 1549.24 1434.57 Z\" fill=\"#000000\" fill-rule=\"evenodd\" fill-opacity=\"1\" /><path clip-path=\"url(#clip950)\" d=\"M1992.14 1465.82 L1999.78 1465.82 L1999.78 1439.46 L1991.47 1441.12 L1991.47 1436.86 L1999.73 1435.2 L2004.41 1435.2 L2004.41 1465.82 L2012.04 1465.82 L2012.04 1469.76 L1992.14 1469.76 L1992.14 1465.82 Z\" fill=\"#000000\" fill-rule=\"evenodd\" fill-opacity=\"1\" /><path clip-path=\"url(#clip950)\" d=\"M2021.54 1435.2 L2039.89 1435.2 L2039.89 1439.13 L2025.82 1439.13 L2025.82 1447.6 Q2026.84 1447.26 2027.85 1447.1 Q2028.87 1446.91 2029.89 1446.91 Q2035.68 1446.91 2039.06 1450.08 Q2042.44 1453.25 2042.44 1458.67 Q2042.44 1464.25 2038.97 1467.35 Q2035.49 1470.43 2029.17 1470.43 Q2027 1470.43 2024.73 1470.06 Q2022.48 1469.69 2020.08 1468.95 L2020.08 1464.25 Q2022.16 1465.38 2024.38 1465.94 Q2026.6 1466.49 2029.08 1466.49 Q2033.09 1466.49 2035.42 1464.39 Q2037.76 1462.28 2037.76 1458.67 Q2037.76 1455.06 2035.42 1452.95 Q2033.09 1450.85 2029.08 1450.85 Q2027.21 1450.85 2025.33 1451.26 Q2023.48 1451.68 2021.54 1452.56 L2021.54 1435.2 Z\" fill=\"#000000\" fill-rule=\"evenodd\" fill-opacity=\"1\" /><path clip-path=\"url(#clip950)\" d=\"M2061.65 1438.28 Q2058.04 1438.28 2056.21 1441.84 Q2054.41 1445.38 2054.41 1452.51 Q2054.41 1459.62 2056.21 1463.18 Q2058.04 1466.73 2061.65 1466.73 Q2065.29 1466.73 2067.09 1463.18 Q2068.92 1459.62 2068.92 1452.51 Q2068.92 1445.38 2067.09 1441.84 Q2065.29 1438.28 2061.65 1438.28 M2061.65 1434.57 Q2067.46 1434.57 2070.52 1439.18 Q2073.6 1443.76 2073.6 1452.51 Q2073.6 1461.24 2070.52 1465.85 Q2067.46 1470.43 2061.65 1470.43 Q2055.84 1470.43 2052.76 1465.85 Q2049.71 1461.24 2049.71 1452.51 Q2049.71 1443.76 2052.76 1439.18 Q2055.84 1434.57 2061.65 1434.57 Z\" fill=\"#000000\" fill-rule=\"evenodd\" fill-opacity=\"1\" /><polyline clip-path=\"url(#clip952)\" style=\"stroke:#000000; stroke-linecap:round; stroke-linejoin:round; stroke-width:2; stroke-opacity:0.1; fill:none\" points=\"\n",
       "  169.121,1156.28 2112.76,1156.28 \n",
       "  \"/>\n",
       "<polyline clip-path=\"url(#clip952)\" style=\"stroke:#000000; stroke-linecap:round; stroke-linejoin:round; stroke-width:2; stroke-opacity:0.1; fill:none\" points=\"\n",
       "  169.121,900.072 2112.76,900.072 \n",
       "  \"/>\n",
       "<polyline clip-path=\"url(#clip952)\" style=\"stroke:#000000; stroke-linecap:round; stroke-linejoin:round; stroke-width:2; stroke-opacity:0.1; fill:none\" points=\"\n",
       "  169.121,643.868 2112.76,643.868 \n",
       "  \"/>\n",
       "<polyline clip-path=\"url(#clip952)\" style=\"stroke:#000000; stroke-linecap:round; stroke-linejoin:round; stroke-width:2; stroke-opacity:0.1; fill:none\" points=\"\n",
       "  169.121,387.663 2112.76,387.663 \n",
       "  \"/>\n",
       "<polyline clip-path=\"url(#clip952)\" style=\"stroke:#000000; stroke-linecap:round; stroke-linejoin:round; stroke-width:2; stroke-opacity:0.1; fill:none\" points=\"\n",
       "  169.121,131.459 2112.76,131.459 \n",
       "  \"/>\n",
       "<polyline clip-path=\"url(#clip950)\" style=\"stroke:#000000; stroke-linecap:round; stroke-linejoin:round; stroke-width:4; stroke-opacity:1; fill:none\" points=\"\n",
       "  169.121,1407.36 169.121,126.334 \n",
       "  \"/>\n",
       "<polyline clip-path=\"url(#clip950)\" style=\"stroke:#000000; stroke-linecap:round; stroke-linejoin:round; stroke-width:4; stroke-opacity:1; fill:none\" points=\"\n",
       "  169.121,1156.28 185.942,1156.28 \n",
       "  \"/>\n",
       "<polyline clip-path=\"url(#clip950)\" style=\"stroke:#000000; stroke-linecap:round; stroke-linejoin:round; stroke-width:4; stroke-opacity:1; fill:none\" points=\"\n",
       "  169.121,900.072 185.942,900.072 \n",
       "  \"/>\n",
       "<polyline clip-path=\"url(#clip950)\" style=\"stroke:#000000; stroke-linecap:round; stroke-linejoin:round; stroke-width:4; stroke-opacity:1; fill:none\" points=\"\n",
       "  169.121,643.868 185.942,643.868 \n",
       "  \"/>\n",
       "<polyline clip-path=\"url(#clip950)\" style=\"stroke:#000000; stroke-linecap:round; stroke-linejoin:round; stroke-width:4; stroke-opacity:1; fill:none\" points=\"\n",
       "  169.121,387.663 185.942,387.663 \n",
       "  \"/>\n",
       "<polyline clip-path=\"url(#clip950)\" style=\"stroke:#000000; stroke-linecap:round; stroke-linejoin:round; stroke-width:4; stroke-opacity:1; fill:none\" points=\"\n",
       "  169.121,131.459 185.942,131.459 \n",
       "  \"/>\n",
       "<path clip-path=\"url(#clip950)\" d=\"M86.0382 1169.62 L102.358 1169.62 L102.358 1173.56 L80.4133 1173.56 L80.4133 1169.62 Q83.0753 1166.87 87.6586 1162.24 Q92.2651 1157.58 93.4456 1156.24 Q95.691 1153.72 96.5706 1151.98 Q97.4734 1150.22 97.4734 1148.53 Q97.4734 1145.78 95.5289 1144.04 Q93.6076 1142.31 90.5058 1142.31 Q88.3067 1142.31 85.8531 1143.07 Q83.4225 1143.83 80.6447 1145.39 L80.6447 1140.66 Q83.4688 1139.53 85.9225 1138.95 Q88.3762 1138.37 90.4132 1138.37 Q95.7836 1138.37 98.978 1141.06 Q102.172 1143.74 102.172 1148.23 Q102.172 1150.36 101.362 1152.28 Q100.575 1154.18 98.4687 1156.77 Q97.89 1157.45 94.7882 1160.66 Q91.6864 1163.86 86.0382 1169.62 Z\" fill=\"#000000\" fill-rule=\"evenodd\" fill-opacity=\"1\" /><path clip-path=\"url(#clip950)\" d=\"M112.219 1139 L130.575 1139 L130.575 1142.93 L116.501 1142.93 L116.501 1151.4 Q117.52 1151.06 118.538 1150.9 Q119.557 1150.71 120.575 1150.71 Q126.362 1150.71 129.742 1153.88 Q133.121 1157.05 133.121 1162.47 Q133.121 1168.05 129.649 1171.15 Q126.177 1174.23 119.857 1174.23 Q117.682 1174.23 115.413 1173.86 Q113.168 1173.49 110.76 1172.75 L110.76 1168.05 Q112.844 1169.18 115.066 1169.74 Q117.288 1170.29 119.765 1170.29 Q123.77 1170.29 126.107 1168.19 Q128.445 1166.08 128.445 1162.47 Q128.445 1158.86 126.107 1156.75 Q123.77 1154.65 119.765 1154.65 Q117.89 1154.65 116.015 1155.06 Q114.163 1155.48 112.219 1156.36 L112.219 1139 Z\" fill=\"#000000\" fill-rule=\"evenodd\" fill-opacity=\"1\" /><path clip-path=\"url(#clip950)\" d=\"M81.0614 882.792 L99.4178 882.792 L99.4178 886.728 L85.3438 886.728 L85.3438 895.2 Q86.3623 894.853 87.3808 894.69 Q88.3993 894.505 89.4178 894.505 Q95.2049 894.505 98.5845 897.677 Q101.964 900.848 101.964 906.264 Q101.964 911.843 98.4919 914.945 Q95.0197 918.024 88.7003 918.024 Q86.5243 918.024 84.2558 917.653 Q82.0105 917.283 79.6031 916.542 L79.6031 911.843 Q81.6864 912.977 83.9086 913.533 Q86.1308 914.089 88.6077 914.089 Q92.6123 914.089 94.9502 911.982 Q97.2882 909.876 97.2882 906.264 Q97.2882 902.653 94.9502 900.547 Q92.6123 898.44 88.6077 898.44 Q86.7327 898.44 84.8577 898.857 Q83.0058 899.274 81.0614 900.153 L81.0614 882.792 Z\" fill=\"#000000\" fill-rule=\"evenodd\" fill-opacity=\"1\" /><path clip-path=\"url(#clip950)\" d=\"M121.177 885.871 Q117.566 885.871 115.737 889.436 Q113.932 892.978 113.932 900.107 Q113.932 907.214 115.737 910.778 Q117.566 914.32 121.177 914.32 Q124.811 914.32 126.617 910.778 Q128.445 907.214 128.445 900.107 Q128.445 892.978 126.617 889.436 Q124.811 885.871 121.177 885.871 M121.177 882.167 Q126.987 882.167 130.043 886.774 Q133.121 891.357 133.121 900.107 Q133.121 908.834 130.043 913.44 Q126.987 918.024 121.177 918.024 Q115.367 918.024 112.288 913.44 Q109.233 908.834 109.233 900.107 Q109.233 891.357 112.288 886.774 Q115.367 882.167 121.177 882.167 Z\" fill=\"#000000\" fill-rule=\"evenodd\" fill-opacity=\"1\" /><path clip-path=\"url(#clip950)\" d=\"M80.8299 626.588 L103.052 626.588 L103.052 628.579 L90.5058 661.148 L85.6216 661.148 L97.4271 630.523 L80.8299 630.523 L80.8299 626.588 Z\" fill=\"#000000\" fill-rule=\"evenodd\" fill-opacity=\"1\" /><path clip-path=\"url(#clip950)\" d=\"M112.219 626.588 L130.575 626.588 L130.575 630.523 L116.501 630.523 L116.501 638.995 Q117.52 638.648 118.538 638.486 Q119.557 638.301 120.575 638.301 Q126.362 638.301 129.742 641.472 Q133.121 644.643 133.121 650.06 Q133.121 655.639 129.649 658.74 Q126.177 661.819 119.857 661.819 Q117.682 661.819 115.413 661.449 Q113.168 661.078 110.76 660.338 L110.76 655.639 Q112.844 656.773 115.066 657.328 Q117.288 657.884 119.765 657.884 Q123.77 657.884 126.107 655.777 Q128.445 653.671 128.445 650.06 Q128.445 646.449 126.107 644.342 Q123.77 642.236 119.765 642.236 Q117.89 642.236 116.015 642.652 Q114.163 643.069 112.219 643.949 L112.219 626.588 Z\" fill=\"#000000\" fill-rule=\"evenodd\" fill-opacity=\"1\" /><path clip-path=\"url(#clip950)\" d=\"M51.6634 401.008 L59.3023 401.008 L59.3023 374.642 L50.9921 376.309 L50.9921 372.05 L59.256 370.383 L63.9319 370.383 L63.9319 401.008 L71.5707 401.008 L71.5707 404.943 L51.6634 404.943 L51.6634 401.008 Z\" fill=\"#000000\" fill-rule=\"evenodd\" fill-opacity=\"1\" /><path clip-path=\"url(#clip950)\" d=\"M91.0151 373.462 Q87.404 373.462 85.5753 377.027 Q83.7697 380.568 83.7697 387.698 Q83.7697 394.804 85.5753 398.369 Q87.404 401.911 91.0151 401.911 Q94.6493 401.911 96.4548 398.369 Q98.2835 394.804 98.2835 387.698 Q98.2835 380.568 96.4548 377.027 Q94.6493 373.462 91.0151 373.462 M91.0151 369.758 Q96.8252 369.758 99.8808 374.365 Q102.959 378.948 102.959 387.698 Q102.959 396.425 99.8808 401.031 Q96.8252 405.614 91.0151 405.614 Q85.2049 405.614 82.1262 401.031 Q79.0707 396.425 79.0707 387.698 Q79.0707 378.948 82.1262 374.365 Q85.2049 369.758 91.0151 369.758 Z\" fill=\"#000000\" fill-rule=\"evenodd\" fill-opacity=\"1\" /><path clip-path=\"url(#clip950)\" d=\"M121.177 373.462 Q117.566 373.462 115.737 377.027 Q113.932 380.568 113.932 387.698 Q113.932 394.804 115.737 398.369 Q117.566 401.911 121.177 401.911 Q124.811 401.911 126.617 398.369 Q128.445 394.804 128.445 387.698 Q128.445 380.568 126.617 377.027 Q124.811 373.462 121.177 373.462 M121.177 369.758 Q126.987 369.758 130.043 374.365 Q133.121 378.948 133.121 387.698 Q133.121 396.425 130.043 401.031 Q126.987 405.614 121.177 405.614 Q115.367 405.614 112.288 401.031 Q109.233 396.425 109.233 387.698 Q109.233 378.948 112.288 374.365 Q115.367 369.758 121.177 369.758 Z\" fill=\"#000000\" fill-rule=\"evenodd\" fill-opacity=\"1\" /><path clip-path=\"url(#clip950)\" d=\"M52.6588 144.803 L60.2976 144.803 L60.2976 118.438 L51.9875 120.104 L51.9875 115.845 L60.2513 114.179 L64.9272 114.179 L64.9272 144.803 L72.5661 144.803 L72.5661 148.739 L52.6588 148.739 L52.6588 144.803 Z\" fill=\"#000000\" fill-rule=\"evenodd\" fill-opacity=\"1\" /><path clip-path=\"url(#clip950)\" d=\"M86.0382 144.803 L102.358 144.803 L102.358 148.739 L80.4133 148.739 L80.4133 144.803 Q83.0753 142.049 87.6586 137.419 Q92.2651 132.766 93.4456 131.424 Q95.691 128.901 96.5706 127.165 Q97.4734 125.405 97.4734 123.716 Q97.4734 120.961 95.5289 119.225 Q93.6076 117.489 90.5058 117.489 Q88.3067 117.489 85.8531 118.253 Q83.4225 119.016 80.6447 120.567 L80.6447 115.845 Q83.4688 114.711 85.9225 114.132 Q88.3762 113.554 90.4132 113.554 Q95.7836 113.554 98.978 116.239 Q102.172 118.924 102.172 123.415 Q102.172 125.544 101.362 127.466 Q100.575 129.364 98.4687 131.956 Q97.89 132.628 94.7882 135.845 Q91.6864 139.04 86.0382 144.803 Z\" fill=\"#000000\" fill-rule=\"evenodd\" fill-opacity=\"1\" /><path clip-path=\"url(#clip950)\" d=\"M112.219 114.179 L130.575 114.179 L130.575 118.114 L116.501 118.114 L116.501 126.586 Q117.52 126.239 118.538 126.077 Q119.557 125.891 120.575 125.891 Q126.362 125.891 129.742 129.063 Q133.121 132.234 133.121 137.651 Q133.121 143.229 129.649 146.331 Q126.177 149.41 119.857 149.41 Q117.682 149.41 115.413 149.039 Q113.168 148.669 110.76 147.928 L110.76 143.229 Q112.844 144.364 115.066 144.919 Q117.288 145.475 119.765 145.475 Q123.77 145.475 126.107 143.368 Q128.445 141.262 128.445 137.651 Q128.445 134.04 126.107 131.933 Q123.77 129.827 119.765 129.827 Q117.89 129.827 116.015 130.243 Q114.163 130.66 112.219 131.54 L112.219 114.179 Z\" fill=\"#000000\" fill-rule=\"evenodd\" fill-opacity=\"1\" /><g clip-path=\"url(#clip952)\">\n",
       "<image width=\"1281\" height=\"1281\" xlink:href=\"data:image/png;base64,\n",
       "iVBORw0KGgoAAAANSUhEUgAABQEAAAUBCAYAAAA8ekdsAAAgAElEQVR4nOzaUa6kMBIlUBixUJaW\n",
       "C02J+WrNqNTvtakKZ6Qv53ynwA6HDXnFvm3HtQEAAAAAsf5P9wAAAAAAgLmEgAAAAAAQTggIAAAA\n",
       "AOGEgAAAAAAQTggIAAAAAOGEgAAAAAAQTggIAAAAAOGEgAAAAAAQTggIAAAAAOGEgAAAAAAQ7ui8\n",
       "+ft6Df3u2M+p4/i00Xk/Udpad7nTY6M17+xbfbE2vfO7pGfCCvW+o3ptOuuzwj5MqveoGc/raiu8\n",
       "U6yw1k+1wtnzRJ372rrwpxWehUl8CQgAAAAA4YSAAAAAABBOCAgAAAAA4YSAAAAAABBOCAgAAAAA\n",
       "4YSAAAAAABBOCAgAAAAA4YSAAAAAABBOCAgAAAAA4fZtO67RH7+v19Dvjv38y+Gsa7Q221Zfnzv3\n",
       "HvXENZxhxtpU6+rHFXpsxr5eoT4rjJHv1PksnKF6L3Q+EzrPKGdKja46pu1ranSdZyu8H82wwt5y\n",
       "1teo7jN75nt1rbUvAQEAAAAgnBAQAAAAAMIJAQEAAAAgnBAQAAAAAMIJAQEAAAAgnBAQAAAAAMIJ\n",
       "AQEAAAAgnBAQAAAAAMIJAQEAAAAg3HHrx/tZevP39Wq57wydY5xx7+q1SVrrTivUp7on7lzzie7U\n",
       "seved9avej5653edZ7Pnws+eWu8Vxlit8wwfpSee46nvZivsw84xjq51Uk90WqGOK7w/dl1v275/\n",
       "z/gSEAAAAADCCQEBAAAAIJwQEAAAAADCCQEBAAAAIJwQEAAAAADCCQEBAAAAIJwQEAAAAADCCQEB\n",
       "AAAAIJwQEAAAAADC7dt2XN2DSPC+XsO/PfZz2jh+c2eMo7rmwueN9o+e+F7VazjjTBnV2Wdd854x\n",
       "Z/u6xlP3wqikPfNE+vs5nvpfoXred+bc9Rxe4b8rv+t8h0t6LnSee11njy8BAQAAACCcEBAAAAAA\n",
       "wgkBAQAAACCcEBAAAAAAwgkBAQAAACCcEBAAAAAAwgkBAQAAACCcEBAAAAAAwgkBAQAAACCcEBAA\n",
       "AAAAwu3bdlzdg/hf3tdr+LfHfrbcu/q+M+7dWUfWd6d/RuixGjP2dee516W6v+94ah2T5v1EM/ZM\n",
       "Z090nQErzHmFd1zgnrQznM/y3rw2XwICAAAAQDghIAAAAACEEwICAAAAQDghIAAAAACEEwICAAAA\n",
       "QDghIAAAAACEEwICAAAAQDghIAAAAACEEwICAAAAQLijewBP9L5eQ7879rP0vtXX41mq+2d0H8y4\n",
       "d5I7tblTc37WtRdmrHXn3qruR3P5rBXGeMfofFbYW53UB9ZgD/Ivqp+ZdzzxnauaLwEBAAAAIJwQ\n",
       "EAAAAADCCQEBAAAAIJwQEAAAAADCCQEBAAAAIJwQEAAAAADCCQEBAAAAIJwQEAAAAADCCQEBAAAA\n",
       "INwx46Lv6zV28/2ccftSM8a4wrz5TjP21ug1q80Y4xP31p31e2J9Rs2ozQp927X/t2183p1jhL+1\n",
       "wv4f5TkDwN/ofNfzPPqZLwEBAAAAIJwQEAAAAADCCQEBAAAAIJwQEAAAAADCCQEBAAAAIJwQEAAA\n",
       "AADCCQEBAAAAIJwQEAAAAADCCQEBAAAAINwx5aL7+dXXA/6f6v31vl6l1+t0Zy4r1HH0ms7c31XX\n",
       "cYU90zkX/cgndO3rzueMvcW/eOI7xYw5Vz83n1jvbas/m5PqyO+e2BO+BAQAAACAcEJAAAAAAAgn\n",
       "BAQAAACAcEJAAAAAAAgnBAQAAACAcEJAAAAAAAgnBAQAAACAcEJAAAAAAAgnBAQAAACAcEJAAAAA\n",
       "AAi3b9txdQ8CqPW+XsO/PfZz2jiqjM5nhbmMurOGo5LqU62z3jP6e8Z8RuixGp1neOd5m3TWJ83l\n",
       "qbrO0W3r64snznkGdazRWcdRM97NktaQ7+RLQAAAAAAIJwQEAAAAgHBCQAAAAAAIJwQEAAAAgHBC\n",
       "QAAAAAAIJwQEAAAAgHBCQAAAAAAIJwQEAAAAgHBCQAAAAAAId3QPAP7W+3oN/e7Yz5brdbozxhXm\n",
       "XX3v0TnPMDqXFfrsqZLOlOq53NG1D+2t75W0Nklz4XfW+ndPrM8T5zxD5/+Z0eut8H6kHz/v2/8D\n",
       "+BIQAAAAAMIJAQEAAAAgnBAQAAAAAMIJAQEAAAAgnBAQAAAAAMIJAQEAAAAgnBAQAAAAAMIJAQEA\n",
       "AAAgnBAQAAAAAMLt23Zc3YPg+7yv19Dvjv0svV6a0fpU66x3Z09U37tr/aijz/jTnZ5YYW302Wc9\n",
       "sd5p73BPXJunvq8nrXWSJ56jd6ywr5+6NtWq12Z0XXwJCAAAAADhhIAAAAAAEE4ICAAAAADhhIAA\n",
       "AAAAEE4ICAAAAADhhIAAAAAAEE4ICAAAAADhhIAAAAAAEE4ICAAAAADh9m07ru5BwH+8r9fwb4/9\n",
       "nDaOJxmteXW976z1qM4xdt27cx+ssIYzVK/NjLWuXpsV1mVUZ98+dV+vQI//bIXadPat/fq9Vuhd\n",
       "fpb2v7DrbH7q+cjPfAkIAAAAAOGEgAAAAAAQTggIAAAAAOGEgAAAAAAQTggIAAAAAOGEgAAAAAAQ\n",
       "TggIAAAAAOGEgAAAAAAQTggIAAAAAOGEgAAAAAAQbt+24+oeBP/mfb3Kr3nsZ/k1R9yZS9cY76he\n",
       "myfOedvWmHeXznqvcG+981lpZ/go/ciKPK+fY8YZ1fWOq2+/l/89NZLmbS7fyZeAAAAAABBOCAgA\n",
       "AAAA4YSAAAAAABBOCAgAAAAA4YSAAAAAABBOCAgAAAAA4YSAAAAAABBOCAgAAAAA4YSAAAAAABBu\n",
       "37bj6h5Egvf1Gv7tsZ/TxvGbO2McVT2XGXUcvWbXutzROZfqe6+wZ+6o3l+ddVxhz3TVu1PanhnV\n",
       "udZde2GF5zX8N0/cM0nvZjOoD9yzwnvPjHtXS/rvWj0XXwICAAAAQDghIAAAAACEEwICAAAAQDgh\n",
       "IAAAAACEEwICAAAAQDghIAAAAACEEwICAAAAQDghIAAAAACEEwICAAAAQLijewDf7n292q557Gfp\n",
       "fauvt219c+l0pydG5z2jz5Ks0GfW+rOq19q6sKoVnq/V+2uFOfNZKzz/O63wHtU5xhXq06nrHWmF\n",
       "frzjif2TtLdWGOMoXwICAAAAQDghIAAAAACEEwICAAAAQDghIAAAAACEEwICAAAAQDghIAAAAACE\n",
       "EwICAAAAQDghIAAAAACEEwICAAAAQLijewDV3tdr6HfHfk4dB/M9ca2T5nJH0rxH5zLa352S9uCd\n",
       "MXatzQp1vFOb0fl0zjut5iOSzqgZOs+9pDN31BPnfEf1vGfs6xXOlM46PrV3q1WfFUnrkrS3nqq6\n",
       "jr4EBAAAAIBwQkAAAAAACCcEBAAAAIBwQkAAAAAACCcEBAAAAIBwQkAAAAAACCcEBAAAAIBwQkAA\n",
       "AAAACCcEBAAAAIBwQkAAAAAACLdv23F1D6LD+3oN/e7Yz9Lr3bkm67vTFyP0znNU9862rdE/XWfz\n",
       "ndrMuOa3U8fvlbRnqqX1zgp7ZoUx8ll6Yn1d/2fS/l8n7YUV5pI0xlGjc/ElIAAAAACEEwICAAAA\n",
       "QDghIAAAAACEEwICAAAAQDghIAAAAACEEwICAAAAQDghIAAAAACEEwICAAAAQDghIAAAAACEO7oH\n",
       "MOJ9vYZ/e+xn6e+q77tt4/OpHuOMOiaZsS6jv72zNjzDjD3YdfbAf6PPvlPnunTeu/o5PGMu1e8U\n",
       "nWPks5J6ovOd+an9XX32eB/9rM4sZYW1nnGmdNVxlC8BAQAAACCcEBAAAAAAwgkBAQAAACCcEBAA\n",
       "AAAAwgkBAQAAACCcEBAAAAAAwgkBAQAAACCcEBAAAAAAwgkBAQAAACDcvm3HVX3R9/WqvmS5Yz/b\n",
       "7j1an84xPtGMdbHWMIe99bvq5/BoHTuf/9Z6fdV9tsK73gxP3QvVVuizJ7K3Pq96L6zw3Jqx1s6U\n",
       "n93pia4+S1oXXwICAAAAQDghIAAAAACEEwICAAAAQDghIAAAAACEEwICAAAAQDghIAAAAACEEwIC\n",
       "AAAAQDghIAAAAACEEwICAAAAQLh9246rexB8xvt6lV/z2M/ya367O3V8Yn3gE0b3oT34u6Q6zphL\n",
       "9XNz9N4zntcrWKHPqNG1t2ZIOkdnqK7PU9/Dn7hnZkjqiadaYS90nXuj1/MlIAAAAACEEwICAAAA\n",
       "QDghIAAAAACEEwICAAAAQDghIAAAAACEEwICAAAAQDghIAAAAACEEwICAAAAQDghIAAAAACEEwIC\n",
       "AAAAQLh9245r9Mfv6zX0u2M//3I4wFOMnifbNn6m3Llm5X07zahjtRXWutOMdbEXPquzPl3vZp1n\n",
       "zwr7f4U9M0PSf4UnnqN8r85+XOE502WFOqZxNv87XwICAAAAQDghIAAAAACEEwICAAAAQDghIAAA\n",
       "AACEEwICAAAAQDghIAAAAACEEwICAAAAQDghIAAAAACEEwICAAAAQLijewAp3tdr+LfHfk4bB3S7\n",
       "sxeqrbC3RuvTOZcVxrjCWo9aod4rGK3PjOe1c+931fXpXJcV6t0pqT5Jc4F/0XXmztiDne9c1XX0\n",
       "X+F7711dn+rr+RIQAAAAAMIJAQEAAAAgnBAQAAAAAMIJAQEAAAAgnBAQAAAAAMIJAQEAAAAgnBAQ\n",
       "AAAAAMIJAQEAAAAgnBAQAAAAAMId3QP4du/r1T2E/2nGGI/9bLn36H1nGJ1L5xiTzKijNaxRvf/v\n",
       "1Lv6mp1n+OgY9eNnzah3557pMmNfd11vxr07n3GjVuizFXS+h/NZnft/hZ5IejfrfMddwQr9WO3O\n",
       "+n17fXwJCAAAAADhhIAAAAAAEE4ICAAAAADhhIAAAAAAEE4ICAAAAADhhIAAAAAAEE4ICAAAAADh\n",
       "hIAAAAAAEE4ICAAAAADhjls/3s+h372v118MpcboGFcwWsfOOVff+07vrNCPK6zhqM65JNWxc4zV\n",
       "dVxhD3b2Y/W8V+jvzjN8Rj9W13yFNZyha95Pff6v0Geda5Mk6f3oqZ64hknvwk+V9m7fdd+ufvQl\n",
       "IAAAAACEEwICAAAAQDghIAAAAACEEwICAAAAQDghIAAAAACEEwICAAAAQDghIAAAAACEEwICAAAA\n",
       "QDghIAAAAACEEwICAAAAQLhjykX3s/R67+tVer1Z16w2WsfRudxZlxnX7LjejHt39uNT69M57yeq\n",
       "7se09UubT6UZtVFv/rTCc2aF98xOne+4o5LezUatsLeeaoV+rHanH1eYd+d/qWor1LvaCusyypeA\n",
       "AAAAABBOCAgAAAAA4YSAAAAAABBOCAgAAAAA4YSAAAAAABBOCAgAAAAA4YSAAAAAABBOCAgAAAAA\n",
       "4YSAAAAAABBu37bj6h7EN3tfr/JrHvtZfk1+NrqG1oV01eeZPfMcSefonX2wwnyqda71U/ts1Arz\n",
       "XkF1n62w1jPG2MU+4L/p2ted/bjCGGdI+j/TNRdfAgIAAABAOCEgAAAAAIQTAgIAAABAOCEgAAAA\n",
       "AIQTAgIAAABAOCEgAAAAAIQTAgIAAABAOCEgAAAAAIQTAgIAAABAuKN7AN/u2M+h372v19RxfKvR\n",
       "eY/Wcca9k3TWm/U9sS86z4mkeifNZQUz+rZ6De+MsfPeo6rHaM98L2tTo6uOnWdPp+pzr7M2M/7P\n",
       "PPEM78wpOuuzQj7z7TmFLwEBAAAAIJwQEAAAAADCCQEBAAAAIJwQEAAAAADCCQEBAAAAIJwQEAAA\n",
       "AADCCQEBAAAAIJwQEAAAAADCCQEBAAAAINy+bcdVfdH39aq+5LBjP4d+NzrG6uvdueYKnrjWM6ww\n",
       "Rmp0nj2jVuizzrNnVFIdZ8yleg1XqPeop+7ras6JGml17JrPCmt9h3fXGivUset5/dT/1/zO++O/\n",
       "8yUgAAAAAIQTAgIAAABAOCEgAAAAAIQTAgIAAABAOCEgAAAAAIQTAgIAAABAOCEgAAAAAIQTAgIA\n",
       "AABAOCEgAAAAAIQTAgIAAABAuOPOj9/Xa+yi+/kXQ/n3+979baXqOT9VZx1n9M7ofPRPjeo1nLEu\n",
       "K6x111nfKWku29b3LKRGWj+Oqj57ZtTxiXsrrR9H5/PEZ+EdXXW8swe71uaJ58QMT91bSZyj38mX\n",
       "gAAAAAAQTggIAAAAAOGEgAAAAAAQTggIAAAAAOGEgAAAAAAQTggIAAAAAOGEgAAAAAAQTggIAAAA\n",
       "AOGEgAAAAAAQbt+24+oeRKX39Rr63bGfU8exutE6jlJvPkHf1nCOrs9e4JtU9+MMoz3eORf7cG13\n",
       "eueJaz1jbz2xjpDOO+6/8yUgAAAAAIQTAgIAAABAOCEgAAAAAIQTAgIAAABAOCEgAAAAAIQTAgIA\n",
       "AABAOCEgAAAAAIQTAgIAAABAOCEgAAAAAITbt+24Rn/8vl5Dvzv2s+V61Bldm1HWsIY98xzVe3AG\n",
       "ffa7rmfmrGtW3pfv1Xn2dPXtnXt3WuEdYIVnV7UZ9V5hrbt07v+kdXnqOUqNzr2QtA+7+BIQAAAA\n",
       "AMIJAQEAAAAgnBAQAAAAAMIJAQEAAAAgnBAQAAAAAMIJAQEAAAAgnBAQAAAAAMIJAQEAAAAgnBAQ\n",
       "AAAAAMIdt368n0O/e1+v0uvxvazhZ1XvwTvXpEbS+Xinz7rMqGP1vDt7YoU+43fV/fPU50zS2Txq\n",
       "xpyT6pNkxlo/cc/MOB+r702NznfcFdZ6hTHyM18CAgAAAEA4ISAAAAAAhBMCAgAAAEA4ISAAAAAA\n",
       "hBMCAgAAAEA4ISAAAAAAhBMCAgAAAEA4ISAAAAAAhBMCAgAAAEA4ISAAAAAAhNu37bhGf/y+XhOH\n",
       "8rNjP1vum+bO+o3WvLon0ta6qz4z1rrTCmfP6Bir13CF9btjhTNlhTEm6dr/d1SvYecZPuPs6TrP\n",
       "0p6FPMcKe6aLdzPI03n2PHG/+hIQAAAAAMIJAQEAAAAgnBAQAAAAAMIJAQEAAAAgnBAQAAAAAMIJ\n",
       "AQEAAAAgnBAQAAAAAMIJAQEAAAAgnBAQAAAAAMLt23Zc3YPgM97Xq3sIpY797B5Cmeq1WaE2d+a8\n",
       "wnyeaHQN09bvqfOulvRMGl3rGXNeoc+69kznc2bGnFfYMyv04yhn/e9WqM8KYwTuqd7XK5wT1WP0\n",
       "JSAAAAAAhBMCAgAAAEA4ISAAAAAAhBMCAgAAAEA4ISAAAAAAhBMCAgAAAEA4ISAAAAAAhBMCAgAA\n",
       "AEA4ISAAAAAAhDu6B1Dtfb1Kr3fsZ+n1OnXOpXpdVjE676Q+e+Kcty2rx9PW5tvN6J2uNbwzlyeO\n",
       "8al7a3TeSc+PGWOsrmP1fe/c+6lrOKqrjknvMqvw35XZOt8zZ5xlXfdOOh99CQgAAAAA4YSAAAAA\n",
       "ABBOCAgAAAAA4YSAAAAAABBOCAgAAAAA4YSAAAAAABBOCAgAAAAA4YSAAAAAABBOCAgAAAAA4fZt\n",
       "O67uQfwv7+tVfs1jP0vvPXq9NNVr01nHGX02Kql/7Jn1WcPfdZ17nc/CGbrO3Kf2bSd75jmS3gur\n",
       "pfVj17tCWh3hb3X+dx01Y2/5n/LvfAkIAAAAAOGEgAAAAAAQTggIAAAAAOGEgAAAAAAQTggIAAAA\n",
       "AOGEgAAAAAAQTggIAAAAAOGEgAAAAAAQTggIAAAAAOGEgAAAAAAQbt+24xr98ft6ld782M/S680w\n",
       "OucZc+m896jqMVb32B0zxrhCj1frXMNqnft6hq59+MR9sIqk58wMendtM57XT+zHJ86ZOiu8U6zw\n",
       "LIQ/rfCfa4X3x84MoOt89CUgAAAAAIQTAgIAAABAOCEgAAAAAIQTAgIAAABAOCEgAAAAAIQTAgIA\n",
       "AABAOCEgAAAAAIQTAgIAAABAOCEgAAAAAIQ7bv14PycN43t1znn03u/rNXUc36q6Pk+tY5cnnifb\n",
       "ljXvpLl0mnH2JK1N0lz4rDu9M7oPk/rRew+fkLRn+N0Tz9FOnVmBNfys6nr7EhAAAAAAwgkBAQAA\n",
       "ACCcEBAAAAAAwgkBAQAAACCcEBAAAAAAwgkBAQAAACCcEBAAAAAAwgkBAQAAACCcEBAAAAAAwu3b\n",
       "dlzdgyDf+3oN/e7Yz6njYE1d/TN63zueOEaAb1d9lnaeoyu8c60wRj5LT6zPGj7HjP8f1fTZz3wJ\n",
       "CAAAAADhhIAAAAAAEE4ICAAAAADhhIAAAAAAEE4ICAAAAADhhIAAAAAAEE4ICAAAAADhhIAAAAAA\n",
       "EE4ICAAAAADh9m07ruqLvq/X0O+O/ay+NYsb7Z1O+pZvcmfP6N3v5NzjX1S/c3mH4xO6+vbONfms\n",
       "Gc9Ca12jc7+Oql7rznczfctsvgQEAAAAgHBCQAAAAAAIJwQEAAAAgHBCQAAAAAAIJwQEAAAAgHBC\n",
       "QAAAAAAIJwQEAAAAgHBCQAAAAAAIJwQEAAAAgHBCQAAAAAAIt2/bcVVf9H29Sq937Gfp9Wa4M+cV\n",
       "5rOCJ/bZDKN17KxP9VqPWqEnZtRmhXl36urHO0bXsHP/P/EM7+ydFXoCAP6j8x13hfcjz2H+li8B\n",
       "AQAAACCcEBAAAAAAwgkBAQAAACCcEBAAAAAAwgkBAQAAACCcEBAAAAAAwgkBAQAAACCcEBAAAAAA\n",
       "wgkBAQAAACDcMeWi+zn0u/f1mnH7UqNjHJ1zms76VF8zaa1n7K2k+qwwxqTzcYbONVyhf0Y9sY53\n",
       "+jZpravN2P/qzYqS3o86PfWdIskK766dnBVr63x/rO4dXwICAAAAQDghIAAAAACEEwICAAAAQDgh\n",
       "IAAAAACEEwICAAAAQDghIAAAAACEEwICAAAAQDghIAAAAACEEwICAAAAQLh9246rexB8xvt6td37\n",
       "2M+2e3fqqnlavTt7d9RozVfYh0n1fqrqNZxRb332szu1WWGMo564r1dY6xk6z6gVzkd+5uxZX9Ia\n",
       "Js3lqUbXsPNduPrevgQEAAAAgHBCQAAAAAAIJwQEAAAAgHBCQAAAAAAIJwQEAAAAgHBCQAAAAAAI\n",
       "JwQEAAAAgHBCQAAAAAAIJwQEAAAAgHBH9wD4nGM/2+79vl5Dv0sb4+hvO+szeu9RnWtYXe8Zknp8\n",
       "hX39VF01n7G3ntg/nWf9jHuvsIZdz4U7tUk6czuf1yu8K8Cfkvb/CrzPPMeMZ8K3r7UvAQEAAAAg\n",
       "nBAQAAAAAMIJAQEAAAAgnBAQAAAAAMIJAQEAAAAgnBAQAAAAAMIJAQEAAAAgnBAQAAAAAMIJAQEA\n",
       "AAAgnBAQAAAAAMLt23Zc1Rd9X6/S6x37WXq9p6pel21bY21G573CXEbNWOsko2t9p45d/fPUfb2C\n",
       "zrPniWeAvv1d0rNwxlyS3l2r67PCc2aF5zU1Zqz1CufjCmMc1XmGJ/VEkhWeM0l8CQgAAAAA4YSA\n",
       "AAAAABBOCAgAAAAA4YSAAAAAABBOCAgAAAAA4YSAAAAAABBOCAgAAAAA4YSAAAAAABBOCAgAAAAA\n",
       "4Y7uAfA5x34O//Z9vaaN4xvve8cKY0xzp3f5mTp+p9EzxfrBPF376847hTPgZ2rzHDPWevSantef\n",
       "NeN8tIbfaUa9rfXPfAkIAAAAAOGEgAAAAAAQTggIAAAAAOGEgAAAAAAQTggIAAAAAOGEgAAAAAAQ\n",
       "TggIAAAAAOGEgAAAAAAQTggIAAAAAOGOOz9+X6+xi+5n6fX4vNE17LxvdT+OWmGMnTr3dXW9O9fl\n",
       "ib3zVDPWsPo5vEKfrTCXzvNxhTUclTSXO1Z4b+5amzu16fqfskLf6rEaM/oxyQpzXuGdYgXee76T\n",
       "LwEBAAAAIJwQEAAAAADCCQEBAAAAIJwQEAAAAADCCQEBAAAAIJwQEAAAAADCCQEBAAAAIJwQEAAA\n",
       "AADCCQEBAAAAINwx46Lv6zV28/2ccXt+MLoudyStob79XXV9ZvQjrMheqDHj7Ek6z1YYY6cVnu3V\n",
       "/Zj03jNjjCvMe9SMtXam/KyzH1fY1yv0Y9L+hz/5EhAAAAAAwgkBAQAAACCcEBAAAAAAwgkBAQAA\n",
       "ACCcEBAAAAAAwgkBAQAAACCcEBAAAAAAwgkBAQAAACCcEBAAAAAAwgkBAQAAACDcvm3H1T0I+I/3\n",
       "9Sq/5rGf5dfks0b7YoW1fuJc7lhh3k+U1LdputZmxv7v9MTeta9/V93jnXXsXOvOs+Kpvfvtkp4f\n",
       "euzzPLv+nS8BAQAAACCcEBAAAAAAwgkBAQAAACCcEBAAAAAAwgkBAQAAACCcEBAAAAAAwgkBAQAA\n",
       "ACCcEBAAAAAAwgkBAQAAACDc0T0A+P8d+9l27/f1GvrdCmO8o3M+o7rGeKfeK9Sxy53aVPf4Cuuy\n",
       "wr5OOvdW6IkZOp9xT635t7Muv1uhPjOeH9X3XqGOK1DvzxqtY9p/Be9cz+BLQAAAAAAIJwQEAAAA\n",
       "gHBCQAAAAAAIJwQEAAAAgHBCQAAAAAAIJwQEAAAAgHBCQAAAAAAIJwQEAAAAgHBCQAAAAAAId3QP\n",
       "AGZ7X6/uIZQ59rP8mtX1mTHGUaNz6Rxjp661vnPfGdf8div04wr1XqGOSVao94y+XWHeozr3dXUd\n",
       "ZzxnqqX1Y9JeWEFSvVf4PzMqaV3uWOHs8b/wZ74EBAAAAIBwQkAAAAAACCcEBAAAAIBwQkAAAAAA\n",
       "CCcEBAAAAIBwQkAAAAAACCcEBAAAAIBwQkAAAAAACCcEBAAAAIBwx50fv69X7c33s/R6qxitY1J9\n",
       "qntn28brs0Idk3qic61XUD2XFeq9wvrdqWPafEasMOckT+3H0bnMOPeeaIV6W2vI0/nuusKZ0vm/\n",
       "sOt/SudcVvgvVc2XgAAAAAAQTggIAAAAAOGEgAAAAAAQTggIAAAAAOGEgAAAAAAQTggIAAAAAOGE\n",
       "gAAAAAAQTggIAAAAAOGEgAAAAAAQTggIAAAAAOH2bTuu7kEkeF+v4d8e+zltHN/qTn1GjdZx9N5P\n",
       "XJc7OutYfe8Zc+mqj7OH/6b6zNU7NWY8C0d1rmHSczhpLqM6+7ZT0hrCima84z7xDL9jhfqs8I77\n",
       "7XX0JSAAAAAAhBMCAgAAAEA4ISAAAAAAhBMCAgAAAEA4ISAAAAAAhBMCAgAAAEA4ISAAAAAAhBMC\n",
       "AgAAAEA4ISAAAAAAhNu37bi6BwF/4329St6Bz/AAACAASURBVK937Gfp9WYYnfOMuVTX+44V1qaa\n",
       "en/WnXqvUJ8nno8zdJ25M/qx8/nxRDPO8BXWpuvZ1Vkb72bwXJ3P6+r7ruKJ9al+zvgSEAAAAADC\n",
       "CQEBAAAAIJwQEAAAAADCCQEBAAAAIJwQEAAAAADCCQEBAAAAIJwQEAAAAADCCQEBAAAAIJwQEAAA\n",
       "AADC7dt2XKM/fl+v0psf+1l6Pfg2T9wzo3NeYS4ruNNjag5z9oxzjz9VP/+3bY3+6Xrv6az3Cvde\n",
       "YS48R+czs/O/mXeFn/k/87vq3vElIAAAAACEEwICAAAAQDghIAAAAACEEwICAAAAQDghIAAAAACE\n",
       "EwICAAAAQDghIAAAAACEEwICAAAAQDghIAAAAACE27ftuEZ//L5eE4fys2M/W+7brbreT60jfMLo\n",
       "fk3ah0+c87b1zfvOM2GFmnc942bU0fOaP3Wej9X37jx7VqjjCpwpfIJnIX9a4b/CCs+Z6nv7EhAA\n",
       "AAAAwgkBAQAAACCcEBAAAAAAwgkBAQAAACCcEBAAAAAAwgkBAQAAACCcEBAAAAAAwgkBAQAAACCc\n",
       "EBAAAAAAwgkBAQAAACDcvm3H1T2ISu/rNfS7Yz+njqPC6FxGrTDnp0rq207Vdazeg3fMGGP1NVeo\n",
       "Yyf7dX3OZv7WCufejL71/PisFc4e5yh/0hPr68wp9M+/8yUgAAAAAIQTAgIAAABAOCEgAAAAAIQT\n",
       "AgIAAABAOCEgAAAAAIQTAgIAAABAOCEgAAAAAIQTAgIAAABAOCEgAAAAAIQ77vz4fb1qb76fpddL\n",
       "M1qf6nWhzujadO6FFcbYZcacR+ttXX63wp5ZwQrP9RXq/cT9usK63Kl30nyq53LnetVjXGHPzJhL\n",
       "1xrOGOMKa9gpqY4rnKPUWKEfq83o7646+hIQAAAAAMIJAQEAAAAgnBAQAAAAAMIJAQEAAAAgnBAQ\n",
       "AAAAAMIJAQEAAAAgnBAQAAAAAMIJAQEAAAAgnBAQAAAAAMLt23Zcoz9+X6+h3x37+ZfD+bf7zrg3\n",
       "fELX3uq+d5IV6njnLB0xOpfOM7x6ztu2xl7oWutOM9Z61Iy90HXvFda60xP3Fut76v7vfC506fyv\n",
       "MCqtz55ohZ6oPveSMilfAgIAAABAOCEgAAAAAIQTAgIAAABAOCEgAAAAAIQTAgIAAABAOCEgAAAA\n",
       "AIQTAgIAAABAOCEgAAAAAIQTAgIAAABAuH3bjmv0x+/rNfS7Yz9LrzfD6BgB+Jzq58xTdT1fV1iX\n",
       "O7VJm8+IFebcSb35BH32s87/j6OS6r1t3s34ezP2a3WfPTGT8iUgAAAAAIQTAgIAAABAOCEgAAAA\n",
       "AIQTAgIAAABAOCEgAAAAAIQTAgIAAABAOCEgAAAAAIQTAgIAAABAOCEgAAAAAIQTAgIAAABAuKN7\n",
       "ANWO/Rz63ft6lV4vjfoACUbPsk4rnKPVz9Y716x2574rPAtX6J9qK6wL61vh+ZFkxr6uXsMZz8Jq\n",
       "M849Zyl/Sjofn9jfvgQEAAAAgHBCQAAAAAAIJwQEAAAAgHBCQAAAAAAIJwQEAAAAgHBCQAAAAAAI\n",
       "JwQEAAAAgHBCQAAAAAAIJwQEAAAAgHD7th1X9yAqva9Xy32P/Wy5LzzB6L4e3YczzglnQI3qtZnR\n",
       "E11rPWOMnXsrac9U13HGvaslrd8dXfXetufWnJ+t8H5UzT4AOiS94/oSEAAAAADCCQEBAAAAIJwQ\n",
       "EAAAAADCCQEBAAAAIJwQEAAAAADCCQEBAAAAIJwQEAAAAADCCQEBAAAAIJwQEAAAAADC7dt2XN2D\n",
       "qPS+Xi33Pfaz5b7wbbr24B326/pG+yxpre/srep5z9jXSWszqrNvq+/d2Y+dOp9xXfv6zn2r65PU\n",
       "O2m61trz6PP8v67xxHdXvpMvAQEAAAAgnBAQAAAAAMIJAQEAAAAgnBAQAAAAAMIJAQEAAAAgnBAQ\n",
       "AAAAAMIJAQEAAAAgnBAQAAAAAMIJAQEAAAAg3NE9gGrHfnYPgUW9r9fQ7zp7bHSMM6ywt1YYI7/r\n",
       "2od39tbovTvPlK57p+3B6jpW984d1vo7rVDHFfqRGp3vmSu8hydJe++B2WbsmS6+BAQAAACAcEJA\n",
       "AAAAAAgnBAQAAACAcEJAAAAAAAgnBAQAAACAcEJAAAAAAAgnBAQAAACAcEJAAAAAAAgnBAQAAACA\n",
       "cEJAAAAAAAh3dA8A/tb7enUPIcKxny3Xu7N+1desnvNTrbAHO8fYtbfuWGENq82Yc/XZs8JaP/Uc\n",
       "rX4ezXgWdl1v2/rOFO8Un/fEec/o76Q6Js2FGk89R7993r4EBAAAAIBwQkAAAAAACCcEBAAAAIBw\n",
       "QkAAAAAACCcEBAAAAIBwQkAAAAAACCcEBAAAAIBwQkAAAAAACCcEBAAAAIBw+7YdV/cgEryvV/k1\n",
       "j/0sv+a3u1PHFepT3Rcz5jw6xhXqzXM8sW9XOB9njLF6rdOe1zPmMyJpb/F5K+zrUTPGuML+6qz5\n",
       "qKQ6Vs+l83ldfV/4hBWeM6N8CQgAAAAA4YSAAAAAABBOCAgAAAAA4YSAAAAAABBOCAgAAAAA4YSA\n",
       "AAAAABBOCAgAAAAA4YSAAAAAABBOCAgAAAAA4Y4ZF31fr7Gb7+eM2/OFRntixjWr+2zGXFa49yj7\n",
       "/3s9cW1WmPMK+3rUCnW8M8bRa3b22eg1O8dY3eNPPKPuWKE+1WNcYc5P1XlGVV9zhXeKUSvUkc/r\n",
       "Wpu0PTOqq96+BAQAAACAcEJAAAAAAAgnBAQAAACAcEJAAAAAAAgnBAQAAACAcEJAAAAAAAgnBAQA\n",
       "AACAcEJAAAAAAAgnBAQAAACAcMeUi+7n0O/e16vt3p33HZ13dX26anNH5xhH671CHe+YsQ+rPXEv\n",
       "dFqhJ5LWMGkuM6xQn6QxrrD/+V4r9I+9UGOFOiadzfCnGf9dk/rR2fMzXwICAAAAQDghIAAAAACE\n",
       "EwICAAAAQDghIAAAAACEEwICAAAAQDghIAAAAACEEwICAAAAQDghIAAAAACEEwICAAAAQDghIAAA\n",
       "AACE27ftuEZ//L5eQ7879rPlek/VWcen3rta0lw6JdUxaS5prM13si6fNVrvO6rX5s4YO+9dTY//\n",
       "zllRo7rHq/8/3rkmv+vaM09d66T/1ys8C5/4TPAlIAAAAACEEwICAAAAQDghIAAAAACEEwICAAAA\n",
       "QDghIAAAAACEEwICAAAAQDghIAAAAACEEwICAAAAQDghIAAAAACEO7oHwM/e12vod8d+Th1Hxb1n\n",
       "zKX63tX3nWGFnugcY+e8q60wlxlrvUKPr7A2TzTjmWCtf/bU58wK7xQrnKOdnvj+2Kl63vYM6VZ4\n",
       "x7Vnfvft9fElIAAAAACEEwICAAAAQDghIAAAAACEEwICAAAAQDghIAAAAACEEwICAAAAQDghIAAA\n",
       "AACEEwICAAD/t117yXEYV7IAKgFaqJbmhRpQD96s0JlFZQUd5tU5Y0P8BUn5QgBAOCEgAAAAAIQ7\n",
       "Whvfz87m27yvV3cXPq5zrUfbHl2XO+s32vZT98Ko6j1jvn+3whmlJvgm6rHG6DwmvVPcUT0/K8z3\n",
       "DF3jnvH+WG2FPs6QtGdmnD1d47nTbte7a9paj+q8C5P266jqsfgSEAAAAADCCQEBAAAAIJwQEAAA\n",
       "AADCCQEBAAAAIJwQEAAAAADCCQEBAAAAIJwQEAAAAADCCQEBAAAAIJwQEAAAAADCHbd+vJ+TurG+\n",
       "9/Xq7gJ8hRnnRNfZk7avR+ex86x3zzxH9f5SO8/ReTY/8Xy8M9/24drurJ8z/Dt1zuNoTYz2cYWz\n",
       "p7OPM8bcta9n3OvOlJ/5EhAAAAAAwgkBAQAAACCcEBAAAAAAwgkBAQAAACCcEBAAAAAAwgkBAQAA\n",
       "ACCcEBAAAAAAwgkBAQAAACCcEBAAAAAAwgkBAQAAACDc0d2BFMd+Dv/2fb3Kn8l/Z76fY3QPzjBa\n",
       "Z519hE9IOnPt689Kqp07NdE1bu+4v3vimO9YYdzVZ/OMfa3Oaqwwjyv8T+lst3oNV6iJar4EBAAA\n",
       "AIBwQkAAAAAACCcEBAAAAIBwQkAAAAAACCcEBAAAAIBwQkAAAAAACCcEBAAAAIBwQkAAAAAACCcE\n",
       "BAAAAIBwR3cHnujYz+4uwDTv69XW9ujeGv3dnbHY1/zTaP101uMK+7Wz3c754WfVe2vWM1PYB797\n",
       "Yk1sW9a4V7gzn2hGjVnr75T2Plr9zOrn+RIQAAAAAMIJAQEAAAAgnBAQAAAAAMIJAQEAAAAgnBAQ\n",
       "AAAAAMIJAQEAAAAgnBAQAAAAAMIJAQEAAAAgnBAQAAAAAMLt23Zc3Z2Albyv1/Bvj/2c1o8qo+Pp\n",
       "HMudOR8xYywrzOMTrbAu1fW9bfXjWaGPnVaosxWsMI8z9sIo9VNjhXeKJCvs61GdY1lhHp+4t7wf\n",
       "1Vjhbp2RAXTtGV8CAgAAAEA4ISAAAAAAhBMCAgAAAEA4ISAAAAAAhBMCAgAAAEA4ISAAAAAAhBMC\n",
       "AgAAAEA4ISAAAAAAhBMCAgAAAEC4fduOq7sT8A3e16v8mcd+lrZd/bwZzxx93h3VazNjHqvbXsEK\n",
       "87NCH5PMmO9R1uU5VtjXK/RxBSu8m1W3u4rO98IuSfs6aSyr6Py/N8pd+Ay+BAQAAACAcEJAAAAA\n",
       "AAgnBAQAAACAcEJAAAAAAAgnBAQAAACAcEJAAAAAAAgnBAQAAACAcEJAAAAAAAgnBAQAAACAcEJA\n",
       "AAAAAAh3dHeAtb2vV+nzjv0sfd4Md/pYPT8zjPaxc21G215hvvmszrp1Pv7OfuWvZtwJ1XfhCvu1\n",
       "0wrvHk/UeS531kR1251nz4x5dF9/1gr7cFTSnrmjq+3Rdn0JCAAAAADhhIAAAAAAEE4ICAAAAADh\n",
       "hIAAAAAAEE4ICAAAAADhhIAAAAAAEE4ICAAAAADhhIAAAAAAEE4ICAAAAADhju4O8N+9r1d3FyIc\n",
       "+7nEM6vbHa2f0d+Ntn2nbqvnsXosd56ZpKu+05hHPqHzjFrhLhw14/6otkIfR82o29Fxz3if6bJC\n",
       "Hzvn+6l74YlWuAud4Z9tu3Meu849XwICAAAAQDghIAAAAACEEwICAAAAQDghIAAAAACEEwICAAAA\n",
       "QDghIAAAAACEEwICAAAAQDghIAAAAACEEwICAAAAQLijuwN8p2M/h373vl6lz4P/T1edjbY7o+0Z\n",
       "nrhf76zhqK46W2Fd0vbME1mX9XXehaNWeM+sHvcK5+MK+3+FPt6RtF87zRj3iDtz09XHO7rO3BXO\n",
       "8M62q+fHl4AAAAAAEE4ICAAAAADhhIAAAAAAEE4ICAAAAADhhIAAAAAAEE4ICAAAAADhhIAAAAAA\n",
       "EE4ICAAAAADhhIAAAAAAEO648+P39aptfD9Ln5dmhfm2hs/xxLV+4phXMXo+dq7haNvVZ/0d1fNo\n",
       "zzzHnbpNqovqsczY/9Vnz50xr/Du2tX2jLXuvD+6rHD2JNXttj3znSvpHa7TCvM4w7e/9/gSEAAA\n",
       "AADCCQEBAAAAIJwQEAAAAADCCQEBAAAAIJwQEAAAAADCCQEBAAAAIJwQEAAAAADCCQEBAAAAIJwQ\n",
       "EAAAAADCCQEBAAAAINy+bcc1+uP39Rr63bGfLc/jd6PzvW3WcHV31nqUmngOa1hjhXnsutfvPHMF\n",
       "K6w1v5txb464UxNdfZzhiXvhqedjtRXmcYU+8hyd/wtHdeYU1e2uwJeAAAAAABBOCAgAAAAA4YSA\n",
       "AAAAABBOCAgAAAAA4YSAAAAAABBOCAgAAAAA4YSAAAAAABBOCAgAAAAA4YSAAAAAABBu37bj6mr8\n",
       "fb26mh527OfQ7+6MZfSZ1WbMd9dYqDNaFzP2wih1VqN6rTs9cSx3VI87ab47mcfP6nzP7Hx/rB53\n",
       "Wj3ah89hL9SwZ2p01eMK75l3dNVj0n3tS0AAAAAACCcEBAAAAIBwQkAAAAAACCcEBAAAAIBwQkAA\n",
       "AAAACCcEBAAAAIBwQkAAAAAACCcEBAAAAIBwQkAAAAAACHfMeOj7epU+79jP0udt23gfR393p4/V\n",
       "z6ye7ztts77OOuOzqte685xIOqM6x7LCWo9KGstTdd4z1XWRNBZq3KkJa/idnvqfK+n9MclT5ztt\n",
       "PB18CQgAAAAA4YSAAAAAABBOCAgAAAAA4YSAAAAAABBOCAgAAAAA4YSAAAAAABBOCAgAAAAA4YSA\n",
       "AAAAABBOCAgAAAAA4fZtO67RH7+v19Dvjv0sfd4d1W2PPg9W1bWv0/aWeVzbnfvoiXOeVI+da500\n",
       "jzNUvxc+dR75nX34HN7Nftb5P3yUdzP+P0n7cFT1mH0JCAAAAADhhIAAAAAAEE4ICAAAAADhhIAA\n",
       "AAAAEE4ICAAAAADhhIAAAAAAEE4ICAAAAADhhIAAAAAAEE4ICAAAAADhhIAAAAAAEG7ftuMa/fH7\n",
       "epU2fuxn6fO2bY0+Vhsd8wpjoUb1PrjjqXVWvQ9nrOFT12aE+eYT1NnvvM/8ruueeep8V7uz/835\n",
       "2qz193riuaceP+/b72tfAgIAAABAOCEgAAAAAIQTAgIAAABAOCEgAAAAAIQTAgIAAABAOCEgAAAA\n",
       "AIQTAgIAAABAOCEgAAAAAIQTAgIAAABAuGPKQ/dzxmNb2n5fr9Ln3TE6ls75HjVjHlcY96jR+ZlR\n",
       "E9VtP1X1/MyY7+q1nlE7XX28o7PtavY130Q91ki61zvvmRWscGdWW+Edd4W9BZ+wQpYy45z49jPA\n",
       "l4AAAAAAEE4ICAAAAADhhIAAAAAAEE4ICAAAAADhhIAAAAAAEE4ICAAAAADhhIAAAAAAEE4ICAAA\n",
       "AADhhIAAAAAAEO7o7kCX9/Ua+t2xn6XPS1M9jzPaHjWjj13uzE3SuJPM2FvVa51UOzPGUv1M98z3\n",
       "Gl3rpD3D563wTrrCfq22wjvuqBXOqBnvuJ3/Z7rMqLEV5meFPo6aUbdPPMNHde6Z6rr1JSAAAAAA\n",
       "hBMCAgAAAEA4ISAAAAAAhBMCAgAAAEA4ISAAAAAAhBMCAgAAAEA4ISAAAAAAhBMCAgAAAEA4ISAA\n",
       "AAAAhNu37bhGf/y+XkO/O/bzj935PqNjviNpflZQvYZPXT/zyD898U7Ytr5xr3AfdfZxhfkZdWcs\n",
       "afuLn3Xdw0l7647qs96+5ps8dV/DX804w7v+U/gSEAAAAADCCQEBAAAAIJwQEAAAAADCCQEBAAAA\n",
       "IJwQEAAAAADCCQEBAAAAIJwQEAAAAADCCQEBAAAAIJwQEAAAAADCCQEBAAAAINzR3QG+0/t6Df3u\n",
       "2M+Wdme0Xf28VdyZcz6naw/eMdr2jBrrbDtJ9fysUI8rSBoLdarPvRn3jDP3s1aY7xXOs+q9MOP/\n",
       "TOd9Xd32Cu+4nZLezVYw4xz99hr3JSAAAAAAhBMCAgAAAEA4ISAAAAAAhBMCAgAAAEA4ISAAAAAA\n",
       "hBMCAgAAAEA4ISAAAAAAhBMCAgAAAEA4ISAAAAAAhNu37bhGf/y+XkO/O/bzj935PqNjvqN6fvTx\n",
       "OZLmccZYqq1QY3fmcYXxjOq8j1ao3WqdtdM53yucj0n7ms9KOsvu7IOu+8O+/rwnrvUT/6+vovrM\n",
       "tYb8lS8BAQAAACCcEBAAAAAAwgkBAQAAACCcEBAAAAAAwgkBAQAAACCcEBAAAAAAwgkBAQAAACCc\n",
       "EBAAAAAAwgkBAQAAACDcMeOh7+s11vh+zmh+yGgfk3TOd2fbT7TCfK+w/++cE13jmdHuCmf4qBln\n",
       "/Qrj7jJjz1TP94ya6NwzXW2vcD7a/79b4R423zVWOKNmSKqfJ+6Zp7KGzOZLQAAAAAAIJwQEAAAA\n",
       "gHBCQAAAAAAIJwQEAAAAgHBCQAAAAAAIJwQEAAAAgHBCQAAAAAAIJwQEAAAAgHBCQAAAAAAIt2/b\n",
       "cXV3osP7epU+79jP0ufNcGfMK4wnyejaJK1L9R7ctvH56WwbkqXdM87mn90Zc9c7V2c9PrF2ZjCP\n",
       "nzXj/WiUNfydvVDDPPJNut6PfAkIAAAAAOGEgAAAAAAQTggIAAAAAOGEgAAAAAAQTggIAAAAAOGE\n",
       "gAAAAAAQTggIAAAAAOGEgAAAAAAQTggIAAAAAOGEgAAAAAAQbt+24xr98ft6lTZ+7Gfp87ZtvI8z\n",
       "2u7yxDF3urMPuuZcH2tUn3nblrUPzc9zuGc+a8beqnZnrVcYTzV74XutcJ51/edyr/+uc35W+B+e\n",
       "ZIVzgt8l7ZnqevQlIAAAAACEEwICAAAAQDghIAAAAACEEwICAAAAQDghIAAAAACEEwICAAAAQDgh\n",
       "IAAAAACEEwICAAAAQDghIAAAAACEO6Y8dD9nPLa07ff1Kn1epxX6SA11+1kr9LFT0vyM7q1OK9yt\n",
       "1DDfn/fEOU96p5hhhfmpbvvO81a4N3mO6v26wrnXeUZV7/8V5nuGrnPUl4AAAAAAEE4ICAAAAADh\n",
       "hIAAAAAAEE4ICAAAAADhhIAAAAAAEE4ICAAAAADhhIAAAAAAEE4ICAAAAADhhIAAAAAAEG7ftuOq\n",
       "fuj7eg397tjP6qbLdY4laR75rNHamUE9wv9U78M7e8v9AfybpHPiznk7Op7q+ZnRx2or9HGGJ651\n",
       "mqeeZ9VWmB/+O18CAgAAAEA4ISAAAAAAhBMCAgAAAEA4ISAAAAAAhBMCAgAAAEA4ISAAAAAAhBMC\n",
       "AgAAAEA4ISAAAAAAhBMCAgAAAEC4Y8pD93Pod+/rVfq8GWa0PTpu+Ku0uq1uu/NM4bM675kV7q7O\n",
       "+VnhHYCf3TmXq+txBnVWo2tf33ledR+9168vaf8/9W7t2q8rvOvN8NQ6S+FLQAAAAAAIJwQEAAAA\n",
       "gHBCQAAAAAAIJwQEAAAAgHBCQAAAAAAIJwQEAAAAgHBCQAAAAAAIJwQEAAAAgHBCQAAAAAAIJwQE\n",
       "AAAAgHD7th3X6I/f12vod8d+lj7vjtG2VzBjfkZ1zWPnmEfNmJsV9la1O/NYPT/wT2nnbfV4kvp4\n",
       "p11nys863+Ge+v6YtGfc67/rmp8V1rqzj9XtdrfNd1ITzOZLQAAAAAAIJwQEAAAAgHBCQAAAAAAI\n",
       "JwQEAAAAgHBCQAAAAAAIJwQEAAAAgHBCQAAAAAAIJwQEAAAAgHBCQAAAAAAId3R3oMv7eg397tjP\n",
       "qf2oaHt0LHesMD9dZsx3ddsz1qWz7RXqrKsuVpibFXTO41P3VnXbnWczv6te6873oySd749dz9u2\n",
       "Ne7N6hpf4axPugudPXzCCmcZ38mXgAAAAAAQTggIAAAAAOGEgAAAAAAQTggIAAAAAOGEgAAAAAAQ\n",
       "TggIAAAAAOGEgAAAAAAQTggIAAAAAOGEgAAAAAAQ7rj14/0c+t37ev2hKzU62+4yui4zdM53dT12\n",
       "1nfnGgJzPPE+6pT0jrLCnbBCHzutsNYz9oy6+E4zzr3qGk+qR/ughv9cvzM//JUvAQEAAAAgnBAQ\n",
       "AAAAAMIJAQEAAAAgnBAQAAAAAMIJAQEAAAAgnBAQAAAAAMIJAQEAAAAgnBAQAAAAAMIJAQEAAAAg\n",
       "3DHlofs547Gl3teruwsRRtd6dL5n1M4KfRw1o49JeyFpLDOsUON8VnVNrLAH1ff6nnoXqt2fzVi/\n",
       "Fc49NcFfPXXPJLH/11e9F0ZrwpeAAAAAABBOCAgAAAAA4YSAAAAAABBOCAgAAAAA4YSAAAAAABBO\n",
       "CAgAAAAA4YSAAAAAABBOCAgAAAAA4YSAAAAAABBOCAgAAAAA4fZtO67qh76vV+nzjv38+rbvtHtn\n",
       "PJVtV7d7R/W63NE57hV07tdR1TW+Qj3O2NcrnBUA/ybpDJ/R9qjOPq5wr3fOd9I97N3jOaz1d0rL\n",
       "KVaos2/voy8BAQAAACCcEBAAAAAAwgkBAQAAACCcEBAAAAAAwgkBAQAAACCcEBAAAAAAwgkBAQAA\n",
       "ACCcEBAAAAAAwgkBAQAAACDcvm3HNfrj9/Ua+t2xn3/szn832sdqd8a8wjzCbDP2avWeWaGPdzh7\n",
       "Pst8/67rvu6UtNYrnI8r1NiMmug8e6rnfIU7c1TS/p9hRt2ucA+rM/5qhXt4hhX2dbXqMfsSEAAA\n",
       "AADCCQEBAAAAIJwQEAAAAADCCQEBAAAAIJwQEAAAAADCCQEBAAAAIJwQEAAAAADCCQEBAAAAIJwQ\n",
       "EAAAAADCHd0dGPG+Xt1dKHXsZ3cXPm7GGj5xHvndaJ2N1s4KNXZnb60wHtbWedZX7/8ZVuhjkhXm\n",
       "cYV33Bn3zArjHrXCmTKqcyydtVN9NifV9yqeeL/OGEtX7XaOZYWaqO6jLwEBAAAAIJwQEAAAAADC\n",
       "CQEBAAAAIJwQEAAAAADCCQEBAAAAIJwQEAAAAADCCQEBAAAAIJwQEAAAAADCCQEBAAAAINzR2fj7\n",
       "eg397tjP8md2mjHuLivM96jOsayw1tVm7OsnzuMdK+xXa/izO+s3Oo/Ve6vzvl6hdqrX5c4zq60w\n",
       "3yt46jx2jts7xc9WOHtmmHE2V7edpHMPPnH/r/D+eEfnfq3WNY++BAQAAACAcEJAAAAAAAgnBAQA\n",
       "AACAcEJAAAAAAAgnBAQAAACAcEJAAAAAAAgnBAQAAACAcEJAAAAAAAgnBAQAAACAcEJAAAAAAAi3\n",
       "b9txVT/0fb2GfnfsZ+nzOo2OJU31WneaUWcrjPuJOs+UFWqien7ujNl5/7MVzqjOPq5wH63Qx6d6\n",
       "4rvrDCvU7gr7sKt+Vlg/4NlWOMOrVY/Zl4AAAAAAEE4ICAAAAADhhIAAAAAAEE4ICAAAAADhhIAA\n",
       "AAAAEE4ICAAAAADhhIAAAAAAEE4ICAAAAADhhIAAAAAAEO6Y8tD9nPHYUp19fF+v0uetMN+dRud7\n",
       "dB7vrF9129SYsdajnlgTd+axa22S5nvb+sYzo90Z+7C67dFxp9XZt0s7e7ruj867cNSdMXe+A4zq\n",
       "OitmjHmFc++Ja91phXfhp+6FFVSf4U9cF18CAgAAAEA4ISAAAAAAhBMCAgAAAEA4ISAAAAAAhBMC\n",
       "AgAAAEA4ISAAAAAAhBMCAgAAAEA4ISAAAAAAhBMCAgAAAEC4o7sD/OzYz+4u/KvRPr6vV+nz7qh+\n",
       "5ow+ds7PE82Y79FnrqC6zmbMTedeoPB5vAAACmFJREFUqB7PCmPp7KNzj09I2gtJ91GnpLMnqSbu\n",
       "jGV0DTv31gpnT7XO+V7hfyE1VsgpRlW37UtAAAAAAAgnBAQAAACAcEJAAAAAAAgnBAQAAACAcEJA\n",
       "AAAAAAgnBAQAAACAcEJAAAAAAAgnBAQAAACAcEJAAAAAAAh3dHfgiY79LH3e+3q1tNttdNyjRufn\n",
       "Trtdc149N9uWVT+daz1jbb5dZ+089Xx8ohlr3XVfd0raC3fGMro2SWfKjD52vZul8Y5bw5m7ts4z\n",
       "yrrUWOE/6RPPR18CAgAAAEA4ISAAAAAAhBMCAgAAAEA4ISAAAAAAhBMCAgAAAEA4ISAAAAAAhBMC\n",
       "AgAAAEA4ISAAAAAAhBMCAgAAAEA4ISAAAAAAhNu37bi6O8FnvK9X+TOP/fz6tkeN9rG63RltrzDf\n",
       "TzVjbUZ11s8odQZ8s853BdZ2525VPzWS9mvnf4UV5mcFXWvYuX5P/U/67WvjS0AAAAAACCcEBAAA\n",
       "AIBwQkAAAAAACCcEBAAAAIBwQkAAAAAACCcEBAAAAIBwQkAAAAAACCcEBAAAAIBwQkAAAAAACLdv\n",
       "23F1dwLgG72vV/kzj/0sf+aoGeOp1jk/fNZoPa5QE9VjSTt7knSeo9aQf0o6R5PcOSeq7wX3TI0V\n",
       "3plHrbAuK8z3nXn89rPZl4AAAAAAEE4ICAAAAADhhIAAAAAAEE4ICAAAAADhhIAAAAAAEE4ICAAA\n",
       "AADhhIAAAAAAEE4ICAAAAADhhIAAAAAAEG7ftuPq7gTf5329hn537OfUfsAM6pv/YrR+qqnH7+VM\n",
       "eY7OtVZn/NWM2lGPP7vzntA1Pyv0cYYVzvBOT1zrTqPzXV23vgQEAAAAgHBCQAAAAAAIJwQEAAAA\n",
       "gHBCQAAAAAAIJwQEAAAAgHBCQAAAAAAIJwQEAAAAgHBCQAAAAAAIJwQEAAAAgHD7th1Xdycqva/X\n",
       "0O+O/Zzaj9WNzmO1p65L9Xw/dR6TzNiDo3XRtf/vqK7xzvmewV3IPz1xX6exr5kt7S6khrPnO3Xe\n",
       "69b6d9V7pvp5vgQEAAAAgHBCQAAAAAAIJwQEAAAAgHBCQAAAAAAIJwQEAAAAgHBCQAAAAAAIJwQE\n",
       "AAAAgHBCQAAAAAAIJwQEAAAAgHBCQAAAAAAIt2/bcXV34t+8r1f5M4/9LH/mt7szj13zk7bW1eN5\n",
       "Yt3OkFZno2aMO0XSOTHDCvXdaXQNR+exsyaS1jrtrK+usxm89/BXSfs17T9X0j50vz6H++hnvgQE\n",
       "AAAAgHBCQAAAAAAIJwQEAAAAgHBCQAAAAAAIJwQEAAAAgHBCQAAAAAAIJwQEAAAAgHBCQAAAAAAI\n",
       "JwQEAAAAgHDHnR+/r9fYQ/fzD11htjvrMrrWM9pOMjru6vnmd+pxfU/cMzPWr3Mek+6Z6rM+aa8+\n",
       "1Yy1XqEuVujjqM7zMWkeRz1xzNtWf1a41z/7zDtj7noHmFETSfs1aSyjfAkIAAAAAOGEgAAAAAAQ\n",
       "TggIAAAAAOGEgAAAAAAQTggIAAAAAOGEgAAAAAAQTggIAAAAAOGEgAAAAAAQTggIAAAAAOGO7g6M\n",
       "OPazuwst3tdr6Hej8zP6vDueujajqtewut0ZbQP3dO5B+/+zZsx39d3+1JqoHre1fo7OtbaGn9X5\n",
       "XyqpJlbo46jOscyoxySde+vb96svAQEAAAAgnBAQAAAAAMIJAQEAAAAgnBAQAAAAAMIJAQEAAAAg\n",
       "nBAQAAAAAMIJAQEAAAAgnBAQAAAAAMIJAQEAAAAg3L5txzX64/f1Km382M/ydkefyWdV1862rbHW\n",
       "M8Y9YoW54XdJe6ZrH2zbnHumy531Gx1P9fzM6GO1zvOxc1+vsA9XMGMvdLXdOZYVrHAvjHrqGo7q\n",
       "2lt3njmq875WZ99JllIj6T3Kl4AAAAAAEE4ICAAAAADhhIAAAAAAEE4ICAAAAADhhIAAAAAAEE4I\n",
       "CAAAAADhhIAAAAAAEE4ICAAAAADhhIAAAAAAEE4ICAAAAADh9m07rq7G39er/JnHfpa2Pfq8NOZn\n",
       "bXf2ljX8rM691dV22llfPZ4V9qA74XtVr80Tz6g7Ovf/E8+eGZ5YZ6OeWhOjutalm7pY24z/he6j\n",
       "Gl3z6EtAAAAAAAgnBAQAAACAcEJAAAAAAAgnBAQAAACAcEJAAAAAAAgnBAQAAACAcEJAAAAAAAgn\n",
       "BAQAAACAcEJAAAAAAAi3b9txjf74fb2Gfnfs5x+789/avaO6j09VXRN31rr6mTP6OEo9/q7r7On0\n",
       "xDF3sq9/1zk/M9qu9sS1vjPm6jVMmu8Z3B/r6zr31ATk6fx/PcMTz6nqe92XgAAAAAAQTggIAAAA\n",
       "AOGEgAAAAAAQTggIAAAAAOGEgAAAAAAQTggIAAAAAOGEgAAAAAAQTggIAAAAAOGEgAAAAAAQbt+2\n",
       "46p+6Pt6Df3u2M/qptuMjnnbssb9RCus9Z0+jlK3zzGjfqqpx+d44jvFCjrvGTUB/2MvrK/rneup\n",
       "NVG9Z1b4X7iCzv8enetSPe7RsfgSEAAAAADCCQEBAAAAIJwQEAAAAADCCQEBAAAAIJwQEAAAAADC\n",
       "CQEBAAAAIJwQEAAAAADCCQEBAAAAIJwQEAAAAADC7dt2XN2d6PC+Xt1d+FfHfnZ34ePurMsT54fn\n",
       "6Dyj7K3fja5N5zyu0MdqTxwz/Bcz7hn76zvNOB+r60ft/M58/y5pfpLGMmpGBrDCf6mutfYlIAAA\n",
       "AACEEwICAAAAQDghIAAAAACEEwICAAAAQDghIAAAAACEEwICAAAAQDghIAAAAACEEwICAAAAQDgh\n",
       "IAAAAACEEwICAAAAQLh9245r9Mfv61Xa+LGf5e2OPrNaZx9H277TbvUzZ/Sx2gp9HFW9V7dtjXF3\n",
       "WqF+9LFGVx9XuAvvSHqnWKFuR824P1aQ9P7Y9Q53xwp7YVTS/md99uv36rpfn/jOPKPtFd6PRsfi\n",
       "S0AAAAAACCcEBAAAAIBwQkAAAAAACCcEBAAAAIBwQkAAAAAACCcEBAAAAIBwQkAAAAAACCcEBAAA\n",
       "AIBwQkAAAAAACHd0d+CJ3ter9HnHfpa3O+OZ3250zHeMzk912zPGwu9WmHN9rNHVx84zatSMPqqJ\n",
       "7/TEMd/Rdf/PemaSFc69FfrId7LWnzXj/3W1Gf/Xk+qs874eVb2GvgQEAAAAgHBCQAAAAAAIJwQE\n",
       "AAAAgHBCQAAAAAAIJwQEAAAAgHBCQAAAAAAIJwQEAAAAgHBCQAAAAAAIJwQEAAAAgHD7th1Xdycq\n",
       "va9XS7vHfra0u21zxjw6nq75nqFzDVnf6F6orrPO/d+petx3xmytf3anj111tkIfZ+iq2xmS3ntm\n",
       "zHfSWq9gxnx31Vnne716/J21+V31PlzhnQv+ypeAAAAAABBOCAgAAAAA4YSAAAAAABBOCAgAAAAA\n",
       "4YSAAAAAABBOCAgAAAAA4YSAAAAAABBOCAgAAAAA4YSAAAAAABBu37bj6u4EAAAAADCPLwEBAAAA\n",
       "IJwQEAAAAADCCQEBAAAAIJwQEAAAAADCCQEBAAAAIJwQEAAAAADCCQEBAAAAIJwQEAAAAADCCQEB\n",
       "AAAAINz/AW7or9bxwGYkAAAAAElFTkSuQmCC\n",
       "\" transform=\"translate(500, 126)\"/>\n",
       "</g>\n",
       "<defs>\n",
       "  <clipPath id=\"clip953\">\n",
       "    <rect x=\"2160\" y=\"126\" width=\"73\" height=\"1282\"/>\n",
       "  </clipPath>\n",
       "</defs>\n",
       "<g clip-path=\"url(#clip953)\">\n",
       "<image width=\"72\" height=\"1281\" xlink:href=\"data:image/png;base64,\n",
       "iVBORw0KGgoAAAANSUhEUgAAAEgAAAUBCAYAAAAvgsdEAAALJklEQVR4nO3dwY3sRhAFQY5Q/lsh\n",
       "L6XfLQtUeSQPERYMEg9Eo4c7+/v3/H0f/tdfb3+ArxMoCBQECgKFOffftz/Dp1lQECgIFAQKc++f\n",
       "tz/Dp1lQECgIFAQKTtLBgoJAQaAgUJjrIb2yoCBQECgIFOYeD+mNBQWBgkBBoOAkHSwoCBQECgIF\n",
       "D+lgQUGgIFAQKLjuCBYUBAoCBYHCPE7SKwsKAgWBgkDBdUewoCBQECgIFOZx3bGyoCBQECgIFOY5\n",
       "/7z9GT7NgoJAQaAgUHAnHSwoCBQECgIF1x3BgoJAQaAgUPCQDhYUBAoCBYGC645gQUGgIFAQKMzP\n",
       "SXplQUGgIFAQKMxz/J70xoKCQEGgIFBwkg4WFAQKAgWBgpN0sKAgUBAoCBS83REsKAgUBAoChfk5\n",
       "Sa8sKAgUBAoCBa/gBQsKAgWBgkDBSTpYUBAoCBQECr44DBYUBAoCBYGCk3SwoCBQECgIFJykgwUF\n",
       "gYJAQaDgJB0sKAgUBAoChXnOefszfJoFBYGCQEGg4CQdLCgIFAQKAgV30sGCgkBBoCBQ8JAOFhQE\n",
       "CgIFgcL83EmvLCgIFAQKAgUn6WBBQaAgUBAoeLsjWFAQKAgUBAquO4IFBYGCQEGg4LojWFAQKAgU\n",
       "BAquO4IFBYGCQEGg4CEdLCgIFAQKAgV/cRgsKAgUBAoCBSfpYEFBoCBQECh4SAcLCgIFgYJAwUM6\n",
       "WFAQKAgUBAoe0sGCgkBBoCBQmOd6SG8sKAgUBAoCBSfpYEFBoCBQECh4SAcLCgIFgYJAwUM6WFAQ\n",
       "KAgUBArznPv2Z/g0CwoCBYGCQMFJOlhQECgIFAQKTtLBgoJAQaAgUHCSDhYUBAoCBYGCk3SwoCBQ\n",
       "ECgIFOZxkF5ZUBAoCBQECvNcJ+mNBQWBgkBBoOAkHSwoCBQECgIFD+lgQUGgIFAQKIzfV9pZUBAo\n",
       "CBQECk7SwYKCQEGgIFDwkA4WFAQKAgWBwjzn9/Zn+DQLCgIFgYJAYe71kN5YUBAoCBQECq47ggUF\n",
       "gYJAQaDguiNYUBAoCBQECnOPRht1gkBBoCBQcJIOFhQECgIFgcI8vjhcWVAQKAgUBApznaRXFhQE\n",
       "CgIFgcI87qRX6gSBgkBBoOAkHSwoCBQECgIFd9LBgoJAQaAgUPAKXlAnCBQECgIFr+AFCwoCBYGC\n",
       "QMGddLCgIFAQKAgU5l6NNuoEgYJAQaDguiNYUBAoCBQECq47ggUFgYJAQaAwj+uOlTpBoCBQECg4\n",
       "SQcLCgIFgYJAwUM6WFAQKAgUBAr+4jBYUBAoCBQECv7iMKgTBAoCBYGCf0QbLCgIFAQKAgV30sGC\n",
       "gkBBoCBQ8HvSQZ0gUBAoCBRcdwQLCgIFgYJAwXVHsKAgUBAoCBScpIMFBYGCQEGg4BW8oE4QKAgU\n",
       "BApO0sGCgkBBoCBQcCcdLCgIFAQKAgUn6WBBQaAgUBAo+NH/YEFBoCBQECj491lBnSBQECgIFFx3\n",
       "BAsKAgWBgkDBF4fBgoJAQaAgUHCSDhYUBAoCBYHCHA/plQUFgYJAQaDgLw6DOkGgIFAQKLjuCBYU\n",
       "BAoCBYGCh3SwoCBQECgIFLzdESwoCBQECgIFJ+lgQUGgIFAQKHhIBwsKAgWBgkDBn4UHdYJAQaAg\n",
       "UJjjTnplQUGgIFAQKLjuCBYUBAoCBYGCh3SwoCBQECgIFDykgwUFgYJAQaDgtzuCBQWBgkBBoOAk\n",
       "HSwoCBQECgIFD+lgQUGgIFAQKHhPOqgTBAoCBYGC96SDBQWBgkBBoOC6I1hQECgIFAQKHtLBgoJA\n",
       "QaAgUPAKXrCgIFAQKAgUnKSDBQWBgkBBoDD38ZDeWFAQKAgUBAquO4IFBYGCQEGg4LojWFAQKAgU\n",
       "BApO0sGCgkBBoCBQcJIOFhQECgIFgYKTdLCgIFAQKAgUnKSDBQWBgkBBoOAhHSwoCBQECgKFOd6T\n",
       "XllQECgIFAQKTtLBgoJAQaAgUPDFYbCgIFAQKAgU5t63P8K3WVAQKAgUBApO0sGCgkBBoCBQ8ANL\n",
       "wYKCQEGgIFBwkg4WFAQKAgWBgrc7ggUFgYJAQaDgPelgQUGgIFAQKHi7I1hQECgIFAQK7qSDBQWB\n",
       "gkBBoOBOOlhQECgIFAQK7qSDBQWBgkBBoOC6I1hQECgIFAQKvjgMFhQECgIFgYLrjmBBQaAgUBAo\n",
       "+OIwWFAQKAgUBApz3v4EH2dBQaAgUBAoOEkHCwoCBYGCQMHbHcGCgkBBoCBQcN0RLCgIFAQKAgXX\n",
       "HcGCgkBBoCBQcJIOFhQECgIFgYKTdLCgIFAQKAgUfHEYLCgIFAQKAoXxV+E7CwoCBYGCQMFJOlhQ\n",
       "ECgIFAQKvjgMFhQECgIFgYIvDoMFBYGCQEGg4CQdLCgIFAQKAgUn6WBBQaAgUBAozPF6x8qCgkBB\n",
       "oCBQcN0RLCgIFAQKAgXXHcGCgkBBoCBQcJIOFhQECgIFgYJ/RBssKAgUBAoCBf+INlhQECgIFAQK\n",
       "3u4IFhQECgIFgYIfWAoWFAQKAgWBgh9YChYUBAoCBYGCLw6DBQWBgkBBoOAVvGBBQaAgUBAo+GOW\n",
       "YEFBoCBQECg4SQcLCgIFgYJAwSt4wYKCQEGgIFDwCl6woCBQECgIFJykgwUFgYJAQaDgFbxgQUGg\n",
       "IFAQKPjtjmBBQaAgUBAouO4IFhQECgIFgYIvDoMFBYGCQEGg4CQdLCgIFAQKAgUn6WBBQaAgUBAo\n",
       "OEkHCwoCBYGCQMFDOlhQECgIFAQKrjuCBQWBgkBBoOAkHSwoCBQECgIFJ+lgQUGgIFAQKDhJBwsK\n",
       "AgWBgkDBb3cECwoCBYGCQMGP/gcLCgIFgYJAwXVHsKAgUBAoCBTmPp7SGwsKAgWBgkDBSTpYUBAo\n",
       "CBQECr44DBYUBAoCBYGCLw6DBQWBgkBBoOC6I1hQECgIFAQKvjgMFhQECgIFgYKTdLCgIFAQKAgU\n",
       "/HZHsKAgUBAoCBTmeL1jZUFBoCBQECh4uyNYUBAoCBQECnOdpFcWFAQKAgWBgpN0sKAgUBAoCBTc\n",
       "SQcLCgIFgYJAwdsdwYKCQEGgIFCY449ZVhYUBAoCBYGC645gQUGgIFAQKPiz8GBBQaAgUBAoeLsj\n",
       "WFAQKAgUBArupIMFBYGCQEGg4LojWFAQKAgUBApzHhceGwsKAgWBgkDBdUewoCBQECgIFDykgwUF\n",
       "gYJAQaDgTjpYUBAoCBQECu6kgwUFgYJAQaAw5+ckvbGgIFAQKAgUnKSDBQWBgkBBoDDXQ3plQUGg\n",
       "IFAQKDhJBwsKAgWBgkBhzs9DemNBQaAgUBAoOEkHCwoCBYGCQMGddLCgIFAQKAgUnKSDBQWBgkBB\n",
       "oOAhHSwoCBQECgIFXxwGCwoCBYGCQGHu8+ftz/BpFhQECgIFgYLrjmBBQaAgUBAoeLsjWFAQKAgU\n",
       "BApzruuOjQUFgYJAQaDgJB0sKAgUBAoChTm+OFxZUBAoCBQECk7SwYKCQEGgIFBwkg4WFAQKAgWB\n",
       "wtzrJL2xoCBQECgIFFx3BAsKAgWBgkDBK3jBgoJAQaAgUHCSDhYUBAoCBYHCXCfplQUFgYJAQaDg\n",
       "JB0sKAgUBAoChTne7lhZUBAoCBQECn6qNFhQECgIFAQK3pMOFhQECgIFgYI76WBBQaAgUBAoOEkH\n",
       "CwoCBYGCQMFDOlhQECgIFAQKvjgMFhQECgIFgYKTdLCgIFAQKAgU5vHF4cqCgkBBoCBQcJIOFhQE\n",
       "CgIFgYJX8IIFBYGCQEGgMI+T9MqCgkBBoCBQ8HZHsKAgUBAoCBR8cRgsKAgUBAoCBdcdwYKCQEGg\n",
       "IFCY+9y3P8OnWVAQKAgUBAquO4IFBYGCQEGgMI+T9MqCgkBBoCBQ+A/jb+0RKGG/3QAAAABJRU5E\n",
       "rkJggg==\n",
       "\" transform=\"translate(2161, 126)\"/>\n",
       "</g>\n",
       "<path clip-path=\"url(#clip950)\" d=\"M2280.7 1389.53 Q2277.09 1389.53 2275.26 1393.09 Q2273.45 1396.63 2273.45 1403.76 Q2273.45 1410.87 2275.26 1414.43 Q2277.09 1417.98 2280.7 1417.98 Q2284.33 1417.98 2286.14 1414.43 Q2287.97 1410.87 2287.97 1403.76 Q2287.97 1396.63 2286.14 1393.09 Q2284.33 1389.53 2280.7 1389.53 M2280.7 1385.82 Q2286.51 1385.82 2289.57 1390.43 Q2292.64 1395.01 2292.64 1403.76 Q2292.64 1412.49 2289.57 1417.1 Q2286.51 1421.68 2280.7 1421.68 Q2274.89 1421.68 2271.81 1417.1 Q2268.76 1412.49 2268.76 1403.76 Q2268.76 1395.01 2271.81 1390.43 Q2274.89 1385.82 2280.7 1385.82 Z\" fill=\"#000000\" fill-rule=\"evenodd\" fill-opacity=\"1\" /><path clip-path=\"url(#clip950)\" d=\"M2280.7 1261.43 Q2277.09 1261.43 2275.26 1264.99 Q2273.45 1268.53 2273.45 1275.66 Q2273.45 1282.77 2275.26 1286.33 Q2277.09 1289.87 2280.7 1289.87 Q2284.33 1289.87 2286.14 1286.33 Q2287.97 1282.77 2287.97 1275.66 Q2287.97 1268.53 2286.14 1264.99 Q2284.33 1261.43 2280.7 1261.43 M2280.7 1257.72 Q2286.51 1257.72 2289.57 1262.33 Q2292.64 1266.91 2292.64 1275.66 Q2292.64 1284.39 2289.57 1288.99 Q2286.51 1293.58 2280.7 1293.58 Q2274.89 1293.58 2271.81 1288.99 Q2268.76 1284.39 2268.76 1275.66 Q2268.76 1266.91 2271.81 1262.33 Q2274.89 1257.72 2280.7 1257.72 Z\" fill=\"#000000\" fill-rule=\"evenodd\" fill-opacity=\"1\" /><path clip-path=\"url(#clip950)\" d=\"M2300.86 1287.03 L2305.75 1287.03 L2305.75 1292.91 L2300.86 1292.91 L2300.86 1287.03 Z\" fill=\"#000000\" fill-rule=\"evenodd\" fill-opacity=\"1\" /><path clip-path=\"url(#clip950)\" d=\"M2316.74 1288.97 L2324.38 1288.97 L2324.38 1262.61 L2316.07 1264.27 L2316.07 1260.01 L2324.33 1258.35 L2329.01 1258.35 L2329.01 1288.97 L2336.65 1288.97 L2336.65 1292.91 L2316.74 1292.91 L2316.74 1288.97 Z\" fill=\"#000000\" fill-rule=\"evenodd\" fill-opacity=\"1\" /><path clip-path=\"url(#clip950)\" d=\"M2280.7 1133.32 Q2277.09 1133.32 2275.26 1136.89 Q2273.45 1140.43 2273.45 1147.56 Q2273.45 1154.67 2275.26 1158.23 Q2277.09 1161.77 2280.7 1161.77 Q2284.33 1161.77 2286.14 1158.23 Q2287.97 1154.67 2287.97 1147.56 Q2287.97 1140.43 2286.14 1136.89 Q2284.33 1133.32 2280.7 1133.32 M2280.7 1129.62 Q2286.51 1129.62 2289.57 1134.23 Q2292.64 1138.81 2292.64 1147.56 Q2292.64 1156.29 2289.57 1160.89 Q2286.51 1165.48 2280.7 1165.48 Q2274.89 1165.48 2271.81 1160.89 Q2268.76 1156.29 2268.76 1147.56 Q2268.76 1138.81 2271.81 1134.23 Q2274.89 1129.62 2280.7 1129.62 Z\" fill=\"#000000\" fill-rule=\"evenodd\" fill-opacity=\"1\" /><path clip-path=\"url(#clip950)\" d=\"M2300.86 1158.92 L2305.75 1158.92 L2305.75 1164.8 L2300.86 1164.8 L2300.86 1158.92 Z\" fill=\"#000000\" fill-rule=\"evenodd\" fill-opacity=\"1\" /><path clip-path=\"url(#clip950)\" d=\"M2319.96 1160.87 L2336.28 1160.87 L2336.28 1164.8 L2314.33 1164.8 L2314.33 1160.87 Q2317 1158.11 2321.58 1153.48 Q2326.19 1148.83 2327.37 1147.49 Q2329.61 1144.97 2330.49 1143.23 Q2331.39 1141.47 2331.39 1139.78 Q2331.39 1137.03 2329.45 1135.29 Q2327.53 1133.55 2324.43 1133.55 Q2322.23 1133.55 2319.77 1134.32 Q2317.34 1135.08 2314.57 1136.63 L2314.57 1131.91 Q2317.39 1130.78 2319.84 1130.2 Q2322.3 1129.62 2324.33 1129.62 Q2329.7 1129.62 2332.9 1132.3 Q2336.09 1134.99 2336.09 1139.48 Q2336.09 1141.61 2335.28 1143.53 Q2334.5 1145.43 2332.39 1148.02 Q2331.81 1148.69 2328.71 1151.91 Q2325.61 1155.11 2319.96 1160.87 Z\" fill=\"#000000\" fill-rule=\"evenodd\" fill-opacity=\"1\" /><path clip-path=\"url(#clip950)\" d=\"M2280.7 1005.22 Q2277.09 1005.22 2275.26 1008.79 Q2273.45 1012.33 2273.45 1019.46 Q2273.45 1026.56 2275.26 1030.13 Q2277.09 1033.67 2280.7 1033.67 Q2284.33 1033.67 2286.14 1030.13 Q2287.97 1026.56 2287.97 1019.46 Q2287.97 1012.33 2286.14 1008.79 Q2284.33 1005.22 2280.7 1005.22 M2280.7 1001.52 Q2286.51 1001.52 2289.57 1006.12 Q2292.64 1010.71 2292.64 1019.46 Q2292.64 1028.18 2289.57 1032.79 Q2286.51 1037.37 2280.7 1037.37 Q2274.89 1037.37 2271.81 1032.79 Q2268.76 1028.18 2268.76 1019.46 Q2268.76 1010.71 2271.81 1006.12 Q2274.89 1001.52 2280.7 1001.52 Z\" fill=\"#000000\" fill-rule=\"evenodd\" fill-opacity=\"1\" /><path clip-path=\"url(#clip950)\" d=\"M2300.86 1030.82 L2305.75 1030.82 L2305.75 1036.7 L2300.86 1036.7 L2300.86 1030.82 Z\" fill=\"#000000\" fill-rule=\"evenodd\" fill-opacity=\"1\" /><path clip-path=\"url(#clip950)\" d=\"M2330.1 1018.07 Q2333.45 1018.79 2335.33 1021.05 Q2337.23 1023.32 2337.23 1026.66 Q2337.23 1031.77 2333.71 1034.57 Q2330.19 1037.37 2323.71 1037.37 Q2321.53 1037.37 2319.22 1036.93 Q2316.93 1036.52 2314.47 1035.66 L2314.47 1031.15 Q2316.42 1032.28 2318.73 1032.86 Q2321.05 1033.44 2323.57 1033.44 Q2327.97 1033.44 2330.26 1031.7 Q2332.58 1029.97 2332.58 1026.66 Q2332.58 1023.6 2330.42 1021.89 Q2328.29 1020.15 2324.47 1020.15 L2320.45 1020.15 L2320.45 1016.31 L2324.66 1016.31 Q2328.11 1016.31 2329.94 1014.94 Q2331.76 1013.55 2331.76 1010.96 Q2331.76 1008.3 2329.87 1006.89 Q2327.99 1005.45 2324.47 1005.45 Q2322.55 1005.45 2320.35 1005.87 Q2318.15 1006.29 2315.51 1007.16 L2315.51 1003 Q2318.18 1002.26 2320.49 1001.89 Q2322.83 1001.52 2324.89 1001.52 Q2330.21 1001.52 2333.32 1003.95 Q2336.42 1006.35 2336.42 1010.48 Q2336.42 1013.35 2334.77 1015.34 Q2333.13 1017.3 2330.1 1018.07 Z\" fill=\"#000000\" fill-rule=\"evenodd\" fill-opacity=\"1\" /><path clip-path=\"url(#clip950)\" d=\"M2280.7 877.118 Q2277.09 877.118 2275.26 880.683 Q2273.45 884.225 2273.45 891.354 Q2273.45 898.461 2275.26 902.025 Q2277.09 905.567 2280.7 905.567 Q2284.33 905.567 2286.14 902.025 Q2287.97 898.461 2287.97 891.354 Q2287.97 884.225 2286.14 880.683 Q2284.33 877.118 2280.7 877.118 M2280.7 873.414 Q2286.51 873.414 2289.57 878.021 Q2292.64 882.604 2292.64 891.354 Q2292.64 900.081 2289.57 904.687 Q2286.51 909.271 2280.7 909.271 Q2274.89 909.271 2271.81 904.687 Q2268.76 900.081 2268.76 891.354 Q2268.76 882.604 2271.81 878.021 Q2274.89 873.414 2280.7 873.414 Z\" fill=\"#000000\" fill-rule=\"evenodd\" fill-opacity=\"1\" /><path clip-path=\"url(#clip950)\" d=\"M2300.86 902.72 L2305.75 902.72 L2305.75 908.599 L2300.86 908.599 L2300.86 902.72 Z\" fill=\"#000000\" fill-rule=\"evenodd\" fill-opacity=\"1\" /><path clip-path=\"url(#clip950)\" d=\"M2328.78 878.114 L2316.97 896.563 L2328.78 896.563 L2328.78 878.114 M2327.55 874.039 L2333.43 874.039 L2333.43 896.563 L2338.36 896.563 L2338.36 900.451 L2333.43 900.451 L2333.43 908.599 L2328.78 908.599 L2328.78 900.451 L2313.18 900.451 L2313.18 895.938 L2327.55 874.039 Z\" fill=\"#000000\" fill-rule=\"evenodd\" fill-opacity=\"1\" /><path clip-path=\"url(#clip950)\" d=\"M2280.7 749.016 Q2277.09 749.016 2275.26 752.581 Q2273.45 756.122 2273.45 763.252 Q2273.45 770.358 2275.26 773.923 Q2277.09 777.465 2280.7 777.465 Q2284.33 777.465 2286.14 773.923 Q2287.97 770.358 2287.97 763.252 Q2287.97 756.122 2286.14 752.581 Q2284.33 749.016 2280.7 749.016 M2280.7 745.312 Q2286.51 745.312 2289.57 749.919 Q2292.64 754.502 2292.64 763.252 Q2292.64 771.979 2289.57 776.585 Q2286.51 781.168 2280.7 781.168 Q2274.89 781.168 2271.81 776.585 Q2268.76 771.979 2268.76 763.252 Q2268.76 754.502 2271.81 749.919 Q2274.89 745.312 2280.7 745.312 Z\" fill=\"#000000\" fill-rule=\"evenodd\" fill-opacity=\"1\" /><path clip-path=\"url(#clip950)\" d=\"M2300.86 774.618 L2305.75 774.618 L2305.75 780.497 L2300.86 780.497 L2300.86 774.618 Z\" fill=\"#000000\" fill-rule=\"evenodd\" fill-opacity=\"1\" /><path clip-path=\"url(#clip950)\" d=\"M2315.98 745.937 L2334.33 745.937 L2334.33 749.872 L2320.26 749.872 L2320.26 758.345 Q2321.28 757.997 2322.3 757.835 Q2323.32 757.65 2324.33 757.65 Q2330.12 757.65 2333.5 760.821 Q2336.88 763.993 2336.88 769.409 Q2336.88 774.988 2333.41 778.09 Q2329.94 781.168 2323.62 781.168 Q2321.44 781.168 2319.17 780.798 Q2316.93 780.428 2314.52 779.687 L2314.52 774.988 Q2316.6 776.122 2318.83 776.678 Q2321.05 777.233 2323.52 777.233 Q2327.53 777.233 2329.87 775.127 Q2332.2 773.02 2332.2 769.409 Q2332.2 765.798 2329.87 763.692 Q2327.53 761.585 2323.52 761.585 Q2321.65 761.585 2319.77 762.002 Q2317.92 762.419 2315.98 763.298 L2315.98 745.937 Z\" fill=\"#000000\" fill-rule=\"evenodd\" fill-opacity=\"1\" /><path clip-path=\"url(#clip950)\" d=\"M2280.7 620.914 Q2277.09 620.914 2275.26 624.478 Q2273.45 628.02 2273.45 635.15 Q2273.45 642.256 2275.26 645.821 Q2277.09 649.362 2280.7 649.362 Q2284.33 649.362 2286.14 645.821 Q2287.97 642.256 2287.97 635.15 Q2287.97 628.02 2286.14 624.478 Q2284.33 620.914 2280.7 620.914 M2280.7 617.21 Q2286.51 617.21 2289.57 621.816 Q2292.64 626.4 2292.64 635.15 Q2292.64 643.876 2289.57 648.483 Q2286.51 653.066 2280.7 653.066 Q2274.89 653.066 2271.81 648.483 Q2268.76 643.876 2268.76 635.15 Q2268.76 626.4 2271.81 621.816 Q2274.89 617.21 2280.7 617.21 Z\" fill=\"#000000\" fill-rule=\"evenodd\" fill-opacity=\"1\" /><path clip-path=\"url(#clip950)\" d=\"M2300.86 646.515 L2305.75 646.515 L2305.75 652.395 L2300.86 652.395 L2300.86 646.515 Z\" fill=\"#000000\" fill-rule=\"evenodd\" fill-opacity=\"1\" /><path clip-path=\"url(#clip950)\" d=\"M2326.51 633.251 Q2323.36 633.251 2321.51 635.404 Q2319.68 637.557 2319.68 641.307 Q2319.68 645.034 2321.51 647.21 Q2323.36 649.362 2326.51 649.362 Q2329.66 649.362 2331.49 647.21 Q2333.34 645.034 2333.34 641.307 Q2333.34 637.557 2331.49 635.404 Q2329.66 633.251 2326.51 633.251 M2335.79 618.599 L2335.79 622.858 Q2334.03 622.025 2332.23 621.585 Q2330.45 621.145 2328.69 621.145 Q2324.06 621.145 2321.6 624.27 Q2319.17 627.395 2318.83 633.714 Q2320.19 631.701 2322.25 630.636 Q2324.31 629.548 2326.79 629.548 Q2332 629.548 2335.01 632.719 Q2338.04 635.867 2338.04 641.307 Q2338.04 646.631 2334.89 649.849 Q2331.74 653.066 2326.51 653.066 Q2320.51 653.066 2317.34 648.483 Q2314.17 643.876 2314.17 635.15 Q2314.17 626.955 2318.06 622.094 Q2321.95 617.21 2328.5 617.21 Q2330.26 617.21 2332.04 617.557 Q2333.85 617.904 2335.79 618.599 Z\" fill=\"#000000\" fill-rule=\"evenodd\" fill-opacity=\"1\" /><path clip-path=\"url(#clip950)\" d=\"M2280.7 492.811 Q2277.09 492.811 2275.26 496.376 Q2273.45 499.918 2273.45 507.047 Q2273.45 514.154 2275.26 517.719 Q2277.09 521.26 2280.7 521.26 Q2284.33 521.26 2286.14 517.719 Q2287.97 514.154 2287.97 507.047 Q2287.97 499.918 2286.14 496.376 Q2284.33 492.811 2280.7 492.811 M2280.7 489.108 Q2286.51 489.108 2289.57 493.714 Q2292.64 498.297 2292.64 507.047 Q2292.64 515.774 2289.57 520.381 Q2286.51 524.964 2280.7 524.964 Q2274.89 524.964 2271.81 520.381 Q2268.76 515.774 2268.76 507.047 Q2268.76 498.297 2271.81 493.714 Q2274.89 489.108 2280.7 489.108 Z\" fill=\"#000000\" fill-rule=\"evenodd\" fill-opacity=\"1\" /><path clip-path=\"url(#clip950)\" d=\"M2300.86 518.413 L2305.75 518.413 L2305.75 524.293 L2300.86 524.293 L2300.86 518.413 Z\" fill=\"#000000\" fill-rule=\"evenodd\" fill-opacity=\"1\" /><path clip-path=\"url(#clip950)\" d=\"M2314.75 489.733 L2336.97 489.733 L2336.97 491.723 L2324.43 524.293 L2319.54 524.293 L2331.35 493.668 L2314.75 493.668 L2314.75 489.733 Z\" fill=\"#000000\" fill-rule=\"evenodd\" fill-opacity=\"1\" /><path clip-path=\"url(#clip950)\" d=\"M2280.7 364.709 Q2277.09 364.709 2275.26 368.274 Q2273.45 371.815 2273.45 378.945 Q2273.45 386.051 2275.26 389.616 Q2277.09 393.158 2280.7 393.158 Q2284.33 393.158 2286.14 389.616 Q2287.97 386.051 2287.97 378.945 Q2287.97 371.815 2286.14 368.274 Q2284.33 364.709 2280.7 364.709 M2280.7 361.005 Q2286.51 361.005 2289.57 365.612 Q2292.64 370.195 2292.64 378.945 Q2292.64 387.672 2289.57 392.278 Q2286.51 396.862 2280.7 396.862 Q2274.89 396.862 2271.81 392.278 Q2268.76 387.672 2268.76 378.945 Q2268.76 370.195 2271.81 365.612 Q2274.89 361.005 2280.7 361.005 Z\" fill=\"#000000\" fill-rule=\"evenodd\" fill-opacity=\"1\" /><path clip-path=\"url(#clip950)\" d=\"M2300.86 390.311 L2305.75 390.311 L2305.75 396.19 L2300.86 396.19 L2300.86 390.311 Z\" fill=\"#000000\" fill-rule=\"evenodd\" fill-opacity=\"1\" /><path clip-path=\"url(#clip950)\" d=\"M2325.93 379.778 Q2322.6 379.778 2320.68 381.561 Q2318.78 383.343 2318.78 386.468 Q2318.78 389.593 2320.68 391.375 Q2322.6 393.158 2325.93 393.158 Q2329.26 393.158 2331.19 391.375 Q2333.11 389.57 2333.11 386.468 Q2333.11 383.343 2331.19 381.561 Q2329.29 379.778 2325.93 379.778 M2321.26 377.788 Q2318.25 377.047 2316.56 374.987 Q2314.89 372.927 2314.89 369.964 Q2314.89 365.82 2317.83 363.413 Q2320.79 361.005 2325.93 361.005 Q2331.09 361.005 2334.03 363.413 Q2336.97 365.82 2336.97 369.964 Q2336.97 372.927 2335.28 374.987 Q2333.62 377.047 2330.63 377.788 Q2334.01 378.575 2335.89 380.866 Q2337.78 383.158 2337.78 386.468 Q2337.78 391.491 2334.7 394.176 Q2331.65 396.862 2325.93 396.862 Q2320.21 396.862 2317.14 394.176 Q2314.08 391.491 2314.08 386.468 Q2314.08 383.158 2315.98 380.866 Q2317.88 378.575 2321.26 377.788 M2319.54 370.403 Q2319.54 373.089 2321.21 374.593 Q2322.9 376.098 2325.93 376.098 Q2328.94 376.098 2330.63 374.593 Q2332.34 373.089 2332.34 370.403 Q2332.34 367.718 2330.63 366.214 Q2328.94 364.709 2325.93 364.709 Q2322.9 364.709 2321.21 366.214 Q2319.54 367.718 2319.54 370.403 Z\" fill=\"#000000\" fill-rule=\"evenodd\" fill-opacity=\"1\" /><path clip-path=\"url(#clip950)\" d=\"M2280.7 236.607 Q2277.09 236.607 2275.26 240.171 Q2273.45 243.713 2273.45 250.843 Q2273.45 257.949 2275.26 261.514 Q2277.09 265.056 2280.7 265.056 Q2284.33 265.056 2286.14 261.514 Q2287.97 257.949 2287.97 250.843 Q2287.97 243.713 2286.14 240.171 Q2284.33 236.607 2280.7 236.607 M2280.7 232.903 Q2286.51 232.903 2289.57 237.509 Q2292.64 242.093 2292.64 250.843 Q2292.64 259.569 2289.57 264.176 Q2286.51 268.759 2280.7 268.759 Q2274.89 268.759 2271.81 264.176 Q2268.76 259.569 2268.76 250.843 Q2268.76 242.093 2271.81 237.509 Q2274.89 232.903 2280.7 232.903 Z\" fill=\"#000000\" fill-rule=\"evenodd\" fill-opacity=\"1\" /><path clip-path=\"url(#clip950)\" d=\"M2300.86 262.208 L2305.75 262.208 L2305.75 268.088 L2300.86 268.088 L2300.86 262.208 Z\" fill=\"#000000\" fill-rule=\"evenodd\" fill-opacity=\"1\" /><path clip-path=\"url(#clip950)\" d=\"M2316.07 267.37 L2316.07 263.111 Q2317.83 263.944 2319.64 264.384 Q2321.44 264.824 2323.18 264.824 Q2327.81 264.824 2330.24 261.722 Q2332.69 258.597 2333.04 252.255 Q2331.7 254.245 2329.64 255.31 Q2327.58 256.375 2325.08 256.375 Q2319.89 256.375 2316.86 253.25 Q2313.85 250.102 2313.85 244.662 Q2313.85 239.338 2317 236.121 Q2320.14 232.903 2325.38 232.903 Q2331.37 232.903 2334.52 237.509 Q2337.69 242.093 2337.69 250.843 Q2337.69 259.014 2333.8 263.898 Q2329.94 268.759 2323.39 268.759 Q2321.63 268.759 2319.82 268.412 Q2318.01 268.065 2316.07 267.37 M2325.38 252.718 Q2328.52 252.718 2330.35 250.565 Q2332.2 248.412 2332.2 244.662 Q2332.2 240.935 2330.35 238.783 Q2328.52 236.607 2325.38 236.607 Q2322.23 236.607 2320.38 238.783 Q2318.55 240.935 2318.55 244.662 Q2318.55 248.412 2320.38 250.565 Q2322.23 252.718 2325.38 252.718 Z\" fill=\"#000000\" fill-rule=\"evenodd\" fill-opacity=\"1\" /><path clip-path=\"url(#clip950)\" d=\"M2269.43 136.05 L2277.07 136.05 L2277.07 109.685 L2268.76 111.352 L2268.76 107.092 L2277.02 105.426 L2281.7 105.426 L2281.7 136.05 L2289.33 136.05 L2289.33 139.986 L2269.43 139.986 L2269.43 136.05 Z\" fill=\"#000000\" fill-rule=\"evenodd\" fill-opacity=\"1\" /><path clip-path=\"url(#clip950)\" d=\"M2298.78 134.106 L2303.66 134.106 L2303.66 139.986 L2298.78 139.986 L2298.78 134.106 Z\" fill=\"#000000\" fill-rule=\"evenodd\" fill-opacity=\"1\" /><path clip-path=\"url(#clip950)\" d=\"M2323.85 108.504 Q2320.24 108.504 2318.41 112.069 Q2316.6 115.611 2316.6 122.74 Q2316.6 129.847 2318.41 133.412 Q2320.24 136.953 2323.85 136.953 Q2327.48 136.953 2329.29 133.412 Q2331.12 129.847 2331.12 122.74 Q2331.12 115.611 2329.29 112.069 Q2327.48 108.504 2323.85 108.504 M2323.85 104.801 Q2329.66 104.801 2332.71 109.407 Q2335.79 113.99 2335.79 122.74 Q2335.79 131.467 2332.71 136.074 Q2329.66 140.657 2323.85 140.657 Q2318.04 140.657 2314.96 136.074 Q2311.9 131.467 2311.9 122.74 Q2311.9 113.99 2314.96 109.407 Q2318.04 104.801 2323.85 104.801 Z\" fill=\"#000000\" fill-rule=\"evenodd\" fill-opacity=\"1\" /><polyline clip-path=\"url(#clip950)\" style=\"stroke:#000000; stroke-linecap:round; stroke-linejoin:round; stroke-width:4; stroke-opacity:1; fill:none\" points=\"\n",
       "  2232.76,1407.36 2232.76,1407.36 2256.76,1407.36 2232.76,1407.36 2232.76,1279.26 2256.76,1279.26 2232.76,1279.26 2232.76,1151.15 2256.76,1151.15 2232.76,1151.15 \n",
       "  2232.76,1023.05 2256.76,1023.05 2232.76,1023.05 2232.76,894.948 2256.76,894.948 2232.76,894.948 2232.76,766.846 2256.76,766.846 2232.76,766.846 2232.76,638.744 \n",
       "  2256.76,638.744 2232.76,638.744 2232.76,510.641 2256.76,510.641 2232.76,510.641 2232.76,382.539 2256.76,382.539 2232.76,382.539 2232.76,254.437 2256.76,254.437 \n",
       "  2232.76,254.437 2232.76,126.334 2256.76,126.334 2232.76,126.334 \n",
       "  \"/>\n",
       "</svg>\n"
      ]
     },
     "execution_count": 12,
     "metadata": {},
     "output_type": "execute_result"
    }
   ],
   "source": [
    "using Plots\n",
    "(n,StepMax)=(123,3);\n",
    "Board=zeros(Int64,n+2,n+2); Board[2:n+1,2:n+1]=rand((0,1),n,n)\n",
    "Counts=zeros(Int64,n+2,n+2)\n",
    "for step in 1:StepMax\n",
    "    LifeStep(Board,Counts)\n",
    "end\n",
    "heatmap(Board,aspect_ratio=:equal)"
   ]
  },
  {
   "cell_type": "code",
   "execution_count": null,
   "id": "fa965154-d548-46d4-82ce-6e19be1b12ce",
   "metadata": {},
   "outputs": [],
   "source": []
  }
 ],
 "metadata": {
  "kernelspec": {
   "display_name": "Julia 1.6.3",
   "language": "julia",
   "name": "julia-1.6"
  },
  "language_info": {
   "file_extension": ".jl",
   "mimetype": "application/julia",
   "name": "julia",
   "version": "1.6.3"
  }
 },
 "nbformat": 4,
 "nbformat_minor": 5
}

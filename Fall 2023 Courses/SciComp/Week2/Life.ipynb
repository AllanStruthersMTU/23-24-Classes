{
 "cells": [
  {
   "cell_type": "markdown",
   "id": "79e3c11d-bc9e-4bb5-ae56-b5b74f4efb3e",
   "metadata": {},
   "source": []
  },
  {
   "cell_type": "code",
   "execution_count": null,
   "id": "8638c62c-d99a-4958-9c7e-385e2bb6466a",
   "metadata": {},
   "outputs": [],
   "source": []
  },
  {
   "cell_type": "markdown",
   "id": "9e3243c4-42b0-453c-afb8-a22a57a30455",
   "metadata": {},
   "source": [
    "# Game of Life\n",
    "\n",
    "We are going to play on an nxn integer matrix with a 1 deep border of permanently dead cells around the outside. The toatl sizeof teh board is (n+2)x(n+2)  A dead cell has a zero and a live cell has a 1. "
   ]
  },
  {
   "cell_type": "markdown",
   "id": "5d8b70b6-979f-421c-aab7-083f665d7734",
   "metadata": {},
   "source": [
    "## Initialization"
   ]
  },
  {
   "cell_type": "code",
   "execution_count": 5,
   "id": "4f65386d-8b1b-4abc-aa57-38be2822f833",
   "metadata": {},
   "outputs": [
    {
     "data": {
      "text/plain": [
       "8×8 Matrix{Int64}:\n",
       " 0  0  0  0  0  0  0  0\n",
       " 0  1  0  1  1  0  0  0\n",
       " 0  0  1  0  1  1  1  0\n",
       " 0  0  1  1  1  1  1  0\n",
       " 0  1  1  0  1  0  0  0\n",
       " 0  1  0  0  1  1  0  0\n",
       " 0  0  0  0  0  1  0  0\n",
       " 0  0  0  0  0  0  0  0"
      ]
     },
     "execution_count": 5,
     "metadata": {},
     "output_type": "execute_result"
    }
   ],
   "source": [
    "n=6;\n",
    "Board=zeros(Int64,n+2,n+2)\n",
    "Board[2:n+1,2:n+1]=rand((0,1),n,n)\n",
    "Board"
   ]
  },
  {
   "cell_type": "markdown",
   "id": "1105b3f1-a060-4d97-9eab-38313b578531",
   "metadata": {},
   "source": [
    "## Counting Neighbors\n",
    "To minimize the amount of bookkeeping I am going to make the count array the same size as the total board. "
   ]
  },
  {
   "cell_type": "code",
   "execution_count": 6,
   "id": "b9767b3f-479a-4389-954f-038ec76db5da",
   "metadata": {},
   "outputs": [
    {
     "data": {
      "text/plain": [
       "8×8 Matrix{Int64}:\n",
       " 0  0  0  0  0  0  0  0\n",
       " 0  1  3  3  3  4  2  0\n",
       " 0  3  4  7  6  6  3  0\n",
       " 0  4  4  6  5  6  3  0\n",
       " 0  3  4  6  5  6  3  0\n",
       " 0  2  3  3  3  3  2  0\n",
       " 0  1  1  1  3  2  2  0\n",
       " 0  0  0  0  0  0  0  0"
      ]
     },
     "execution_count": 6,
     "metadata": {},
     "output_type": "execute_result"
    }
   ],
   "source": [
    "Counts=zeros(Int64,n+2,n+2)\n",
    "for i in 2:n+1\n",
    "    for j in 2:n+1\n",
    "        Counts[i,j]=(Board[i+1,j-1]+Board[i+1,j]+Board[i+1,j+1]+\n",
    "                     Board[i,  j-1]+             Board[i,j+1]+\n",
    "                     Board[i-1,j-1]+Board[i-1,j]+Board[i-1,j+1])\n",
    "    end\n",
    "end\n",
    "Counts"
   ]
  },
  {
   "cell_type": "markdown",
   "id": "f878e8e6-7f6f-4428-a270-de42897d32c4",
   "metadata": {},
   "source": [
    "It is a good idea to make functions of anything even remotely complicated. The function below assumes that the data matrices have already been set up."
   ]
  },
  {
   "cell_type": "code",
   "execution_count": 22,
   "id": "e1236a3c-b261-4606-989a-06b6ac6ae875",
   "metadata": {},
   "outputs": [
    {
     "data": {
      "text/plain": [
       "CountNeighbors (generic function with 1 method)"
      ]
     },
     "execution_count": 22,
     "metadata": {},
     "output_type": "execute_result"
    }
   ],
   "source": [
    "function CountNeighbors(Board,Counts)\n",
    "    n=size(Board)[1]-2\n",
    "    for i in 2:n+1\n",
    "        for j in 2:n+1\n",
    "        Counts[i,j]=(Board[i+1,j-1]+Board[i+1,j]+Board[i+1,j+1]+\n",
    "                     Board[i,  j-1]+             Board[i,j+1]+\n",
    "                     Board[i-1,j-1]+Board[i-1,j]+Board[i-1,j+1])\n",
    "        end\n",
    "    end\n",
    "end"
   ]
  },
  {
   "cell_type": "markdown",
   "id": "b990eabd-8e3e-4fa2-91ff-63079549c967",
   "metadata": {},
   "source": [
    "Always test functions!"
   ]
  },
  {
   "cell_type": "code",
   "execution_count": 24,
   "id": "c7a720d9-4ce1-4f52-93f6-400e0cef5b27",
   "metadata": {},
   "outputs": [
    {
     "data": {
      "text/plain": [
       "8×16 Matrix{Int64}:\n",
       " 0  0  0  0  0  0  0  0  0  0  0  0  0  0  0  0\n",
       " 0  0  1  0  0  0  0  0  0  2  2  2  1  0  0  0\n",
       " 0  1  0  1  0  0  0  0  0  2  5  2  2  1  1  0\n",
       " 0  1  0  1  0  0  1  0  0  1  5  3  5  4  2  0\n",
       " 0  0  0  1  1  1  1  0  0  2  4  3  4  5  3  0\n",
       " 0  1  0  0  1  0  1  0  0  2  5  5  4  5  2  0\n",
       " 0  1  1  1  0  0  0  0  0  2  3  2  2  2  1  0\n",
       " 0  0  0  0  0  0  0  0  0  0  0  0  0  0  0  0"
      ]
     },
     "execution_count": 24,
     "metadata": {},
     "output_type": "execute_result"
    }
   ],
   "source": [
    "n=6;\n",
    "Board=zeros(Int64,n+2,n+2); Board[2:n+1,2:n+1]=rand((0,1),n,n)\n",
    "Counts=zeros(Int64,n+2,n+2)\n",
    "CountNeighbors(Board,Counts)\n",
    "[Board Counts]"
   ]
  },
  {
   "cell_type": "markdown",
   "id": "85f59630-333b-490d-8413-f3c4b9791237",
   "metadata": {},
   "source": [
    "## Rules\n",
    "The rules are pretty simple logic based on two numbers.  The value of the Board cell (0 dead or 1 alive) and the value of the Counts cell giving the number of neighbors.  I am going to implement this as a tiny function:\n",
    "b=0 and c=3 returns 1;\n",
    "b=1 and c>3 returns 0;\n",
    "b=1 and c<2 returns 0; and\n",
    "b=1 and $2\\leq c \\leq 3$ returns 1."
   ]
  },
  {
   "cell_type": "code",
   "execution_count": 18,
   "id": "4b17bd57-511a-4aaf-92bd-c63fde568548",
   "metadata": {},
   "outputs": [
    {
     "data": {
      "text/plain": [
       "DeadOrAlive (generic function with 1 method)"
      ]
     },
     "execution_count": 18,
     "metadata": {},
     "output_type": "execute_result"
    }
   ],
   "source": [
    "function DeadOrAlive(b,c)\n",
    "    s=0; # Default is death.  So much death, what ... \n",
    "    # Death rule\n",
    "    if (b==1 && 2<=c<=3) \n",
    "        s=1\n",
    "    end\n",
    "    # Birth rule\n",
    "    if (b==0 && c==3) \n",
    "        s=1\n",
    "    end\n",
    "    s\n",
    "end"
   ]
  },
  {
   "cell_type": "markdown",
   "id": "852e0d1b-26c7-4183-8d4a-6ebc12618896",
   "metadata": {},
   "source": [
    "### Testing\n",
    "Testing the function"
   ]
  },
  {
   "cell_type": "code",
   "execution_count": 15,
   "id": "9a5d8315-ccf8-4c66-8265-f5c7809d5cf4",
   "metadata": {},
   "outputs": [
    {
     "data": {
      "text/plain": [
       "1"
      ]
     },
     "execution_count": 15,
     "metadata": {},
     "output_type": "execute_result"
    }
   ],
   "source": [
    "(b,c)=(1,2)\n",
    "DeadOrAlive(b,c)"
   ]
  },
  {
   "cell_type": "code",
   "execution_count": 17,
   "id": "3d3df62e-c9c8-43d1-b981-b149cc012221",
   "metadata": {},
   "outputs": [
    {
     "data": {
      "text/plain": [
       "1"
      ]
     },
     "execution_count": 17,
     "metadata": {},
     "output_type": "execute_result"
    }
   ],
   "source": [
    "(b,c)=(0,3)\n",
    "DeadOrAlive(b,c)"
   ]
  },
  {
   "cell_type": "code",
   "execution_count": 20,
   "id": "21971521-551a-430f-a89b-09cae154499d",
   "metadata": {},
   "outputs": [
    {
     "data": {
      "text/plain": [
       "0"
      ]
     },
     "execution_count": 20,
     "metadata": {},
     "output_type": "execute_result"
    }
   ],
   "source": [
    "(b,c)=(1,4)\n",
    "DeadOrAlive(b,c)"
   ]
  },
  {
   "cell_type": "markdown",
   "id": "f3c90db0-9454-419b-a06e-8e8b95852fcc",
   "metadata": {},
   "source": [
    "# Taking a step\n",
    "We need to apply the step to every one of the active cells in the board. Pretty OK"
   ]
  },
  {
   "cell_type": "code",
   "execution_count": null,
   "id": "efc69944-84cf-4faf-8dfc-767b3e5b06cf",
   "metadata": {},
   "outputs": [],
   "source": []
  },
  {
   "cell_type": "code",
   "execution_count": 26,
   "id": "9a73cda5-6229-43f2-bb92-06dae8e20014",
   "metadata": {},
   "outputs": [],
   "source": [
    "n=6;\n",
    "Board=zeros(Int64,n+2,n+2); Board[2:n+1,2:n+1]=rand((0,1),n,n)\n",
    "Counts=zeros(Int64,n+2,n+2)\n",
    "CountNeighbors(Board,Counts)\n",
    "for i in 2:n+1\n",
    "    for j in 2:n+1\n",
    "        Board[i,j]=DeadOrAlive(Board[i,j], Counts[i,j])\n",
    "    end    \n",
    "end"
   ]
  },
  {
   "cell_type": "markdown",
   "id": "de937709-42a8-46a6-bcc6-60ce17cbace1",
   "metadata": {},
   "source": [
    "# Functions\n",
    "We should make this a function."
   ]
  },
  {
   "cell_type": "code",
   "execution_count": 27,
   "id": "5971c53e-73f2-4b5e-b369-9dd0459fde6c",
   "metadata": {},
   "outputs": [
    {
     "data": {
      "text/plain": [
       "LifeStep (generic function with 1 method)"
      ]
     },
     "execution_count": 27,
     "metadata": {},
     "output_type": "execute_result"
    }
   ],
   "source": [
    "function LifeStep(Board,Counts)\n",
    "    n=size(Board)[1]-2\n",
    "    CountNeighbors(Board,Counts)\n",
    "    for i in 2:n+1\n",
    "        for j in 2:n+1\n",
    "            Board[i,j]=DeadOrAlive(Board[i,j], Counts[i,j])\n",
    "        end \n",
    "    end\n",
    "end"
   ]
  },
  {
   "cell_type": "markdown",
   "id": "99405ced-8274-4ab7-8e9a-21d3d9113bde",
   "metadata": {},
   "source": [
    "# Assembly\n",
    "Putting stuff together. Well it is not pretty yet.  "
   ]
  },
  {
   "cell_type": "code",
   "execution_count": 31,
   "id": "befdf715-06af-48f4-9a5b-a267438bbeb9",
   "metadata": {},
   "outputs": [
    {
     "name": "stdout",
     "output_type": "stream",
     "text": [
      "[0 0 0 0 0 0; 0 0 1 0 0 0; 0 1 0 1 1 0; 0 1 0 1 1 0; 0 0 1 0 0 0; 0 0 0 0 0 0]\n",
      "[0 0 0 0 0 0; 0 0 1 1 0 0; 0 1 0 0 1 0; 0 1 0 0 1 0; 0 0 1 1 0 0; 0 0 0 0 0 0]\n",
      "[0 0 0 0 0 0; 0 0 1 1 0 0; 0 1 0 0 1 0; 0 1 0 0 1 0; 0 0 1 1 0 0; 0 0 0 0 0 0]\n"
     ]
    }
   ],
   "source": [
    "(n,StepMax)=(4,3);\n",
    "Board=zeros(Int64,n+2,n+2); Board[2:n+1,2:n+1]=rand((0,1),n,n)\n",
    "Counts=zeros(Int64,n+2,n+2)\n",
    "for step in 1:StepMax\n",
    "    LifeStep(Board,Counts)\n",
    "    println(Board)\n",
    "end"
   ]
  },
  {
   "cell_type": "markdown",
   "id": "a7941412-a36d-451a-b15f-ff808a073ba0",
   "metadata": {},
   "source": [
    "# Pics\n",
    "we need to find a way to plot a matrix. People found a bunch of different plotting packages. I found plotjl\n",
    "    https://docs.juliaplots.org/stable/\n",
    "we should be able to configure it a lot of different ways. "
   ]
  },
  {
   "cell_type": "code",
   "execution_count": 50,
   "id": "ef99f52c-0616-45d0-bbaf-72e7fceee24b",
   "metadata": {},
   "outputs": [
    {
     "data": {
      "image/svg+xml": [
       "<?xml version=\"1.0\" encoding=\"utf-8\"?>\n",
       "<svg xmlns=\"http://www.w3.org/2000/svg\" xmlns:xlink=\"http://www.w3.org/1999/xlink\" width=\"600\" height=\"400\" viewBox=\"0 0 2400 1600\">\n",
       "<defs>\n",
       "  <clipPath id=\"clip310\">\n",
       "    <rect x=\"0\" y=\"0\" width=\"2400\" height=\"1600\"/>\n",
       "  </clipPath>\n",
       "</defs>\n",
       "<path clip-path=\"url(#clip310)\" d=\"\n",
       "M0 1600 L2400 1600 L2400 0 L0 0  Z\n",
       "  \" fill=\"#ffffff\" fill-rule=\"evenodd\" fill-opacity=\"1\"/>\n",
       "<defs>\n",
       "  <clipPath id=\"clip311\">\n",
       "    <rect x=\"480\" y=\"0\" width=\"1681\" height=\"1600\"/>\n",
       "  </clipPath>\n",
       "</defs>\n",
       "<path clip-path=\"url(#clip310)\" d=\"\n",
       "M169.121 1407.36 L2112.76 1407.36 L2112.76 126.334 L169.121 126.334  Z\n",
       "  \" fill=\"#ffffff\" fill-rule=\"evenodd\" fill-opacity=\"1\"/>\n",
       "<defs>\n",
       "  <clipPath id=\"clip312\">\n",
       "    <rect x=\"169\" y=\"126\" width=\"1945\" height=\"1282\"/>\n",
       "  </clipPath>\n",
       "</defs>\n",
       "<polyline clip-path=\"url(#clip312)\" style=\"stroke:#000000; stroke-linecap:round; stroke-linejoin:round; stroke-width:2; stroke-opacity:0.1; fill:none\" points=\"\n",
       "  495.303,1407.36 495.303,126.334 \n",
       "  \"/>\n",
       "<polyline clip-path=\"url(#clip312)\" style=\"stroke:#000000; stroke-linecap:round; stroke-linejoin:round; stroke-width:2; stroke-opacity:0.1; fill:none\" points=\"\n",
       "  1007.71,1407.36 1007.71,126.334 \n",
       "  \"/>\n",
       "<polyline clip-path=\"url(#clip312)\" style=\"stroke:#000000; stroke-linecap:round; stroke-linejoin:round; stroke-width:2; stroke-opacity:0.1; fill:none\" points=\"\n",
       "  1520.12,1407.36 1520.12,126.334 \n",
       "  \"/>\n",
       "<polyline clip-path=\"url(#clip312)\" style=\"stroke:#000000; stroke-linecap:round; stroke-linejoin:round; stroke-width:2; stroke-opacity:0.1; fill:none\" points=\"\n",
       "  2032.53,1407.36 2032.53,126.334 \n",
       "  \"/>\n",
       "<polyline clip-path=\"url(#clip310)\" style=\"stroke:#000000; stroke-linecap:round; stroke-linejoin:round; stroke-width:4; stroke-opacity:1; fill:none\" points=\"\n",
       "  169.121,1407.36 2112.76,1407.36 \n",
       "  \"/>\n",
       "<polyline clip-path=\"url(#clip310)\" style=\"stroke:#000000; stroke-linecap:round; stroke-linejoin:round; stroke-width:4; stroke-opacity:1; fill:none\" points=\"\n",
       "  495.303,1407.36 495.303,1390.54 \n",
       "  \"/>\n",
       "<polyline clip-path=\"url(#clip310)\" style=\"stroke:#000000; stroke-linecap:round; stroke-linejoin:round; stroke-width:4; stroke-opacity:1; fill:none\" points=\"\n",
       "  1007.71,1407.36 1007.71,1390.54 \n",
       "  \"/>\n",
       "<polyline clip-path=\"url(#clip310)\" style=\"stroke:#000000; stroke-linecap:round; stroke-linejoin:round; stroke-width:4; stroke-opacity:1; fill:none\" points=\"\n",
       "  1520.12,1407.36 1520.12,1390.54 \n",
       "  \"/>\n",
       "<polyline clip-path=\"url(#clip310)\" style=\"stroke:#000000; stroke-linecap:round; stroke-linejoin:round; stroke-width:4; stroke-opacity:1; fill:none\" points=\"\n",
       "  2032.53,1407.36 2032.53,1390.54 \n",
       "  \"/>\n",
       "<path clip-path=\"url(#clip310)\" d=\"M495.303 1438.28 Q491.692 1438.28 489.863 1441.84 Q488.058 1445.38 488.058 1452.51 Q488.058 1459.62 489.863 1463.18 Q491.692 1466.73 495.303 1466.73 Q498.937 1466.73 500.743 1463.18 Q502.571 1459.62 502.571 1452.51 Q502.571 1445.38 500.743 1441.84 Q498.937 1438.28 495.303 1438.28 M495.303 1434.57 Q501.113 1434.57 504.169 1439.18 Q507.247 1443.76 507.247 1452.51 Q507.247 1461.24 504.169 1465.85 Q501.113 1470.43 495.303 1470.43 Q489.493 1470.43 486.414 1465.85 Q483.359 1461.24 483.359 1452.51 Q483.359 1443.76 486.414 1439.18 Q489.493 1434.57 495.303 1434.57 Z\" fill=\"#000000\" fill-rule=\"evenodd\" fill-opacity=\"1\" /><path clip-path=\"url(#clip310)\" d=\"M982.411 1435.2 L1000.77 1435.2 L1000.77 1439.13 L986.694 1439.13 L986.694 1447.6 Q987.712 1447.26 988.731 1447.1 Q989.749 1446.91 990.768 1446.91 Q996.555 1446.91 999.934 1450.08 Q1003.31 1453.25 1003.31 1458.67 Q1003.31 1464.25 999.842 1467.35 Q996.37 1470.43 990.05 1470.43 Q987.874 1470.43 985.606 1470.06 Q983.36 1469.69 980.953 1468.95 L980.953 1464.25 Q983.036 1465.38 985.259 1465.94 Q987.481 1466.49 989.958 1466.49 Q993.962 1466.49 996.3 1464.39 Q998.638 1462.28 998.638 1458.67 Q998.638 1455.06 996.3 1452.95 Q993.962 1450.85 989.958 1450.85 Q988.083 1450.85 986.208 1451.26 Q984.356 1451.68 982.411 1452.56 L982.411 1435.2 Z\" fill=\"#000000\" fill-rule=\"evenodd\" fill-opacity=\"1\" /><path clip-path=\"url(#clip310)\" d=\"M1022.53 1438.28 Q1018.92 1438.28 1017.09 1441.84 Q1015.28 1445.38 1015.28 1452.51 Q1015.28 1459.62 1017.09 1463.18 Q1018.92 1466.73 1022.53 1466.73 Q1026.16 1466.73 1027.97 1463.18 Q1029.8 1459.62 1029.8 1452.51 Q1029.8 1445.38 1027.97 1441.84 Q1026.16 1438.28 1022.53 1438.28 M1022.53 1434.57 Q1028.34 1434.57 1031.39 1439.18 Q1034.47 1443.76 1034.47 1452.51 Q1034.47 1461.24 1031.39 1465.85 Q1028.34 1470.43 1022.53 1470.43 Q1016.72 1470.43 1013.64 1465.85 Q1010.58 1461.24 1010.58 1452.51 Q1010.58 1443.76 1013.64 1439.18 Q1016.72 1434.57 1022.53 1434.57 Z\" fill=\"#000000\" fill-rule=\"evenodd\" fill-opacity=\"1\" /><path clip-path=\"url(#clip310)\" d=\"M1479.73 1465.82 L1487.37 1465.82 L1487.37 1439.46 L1479.06 1441.12 L1479.06 1436.86 L1487.32 1435.2 L1492 1435.2 L1492 1465.82 L1499.64 1465.82 L1499.64 1469.76 L1479.73 1469.76 L1479.73 1465.82 Z\" fill=\"#000000\" fill-rule=\"evenodd\" fill-opacity=\"1\" /><path clip-path=\"url(#clip310)\" d=\"M1519.08 1438.28 Q1515.47 1438.28 1513.64 1441.84 Q1511.83 1445.38 1511.83 1452.51 Q1511.83 1459.62 1513.64 1463.18 Q1515.47 1466.73 1519.08 1466.73 Q1522.71 1466.73 1524.52 1463.18 Q1526.35 1459.62 1526.35 1452.51 Q1526.35 1445.38 1524.52 1441.84 Q1522.71 1438.28 1519.08 1438.28 M1519.08 1434.57 Q1524.89 1434.57 1527.95 1439.18 Q1531.02 1443.76 1531.02 1452.51 Q1531.02 1461.24 1527.95 1465.85 Q1524.89 1470.43 1519.08 1470.43 Q1513.27 1470.43 1510.19 1465.85 Q1507.14 1461.24 1507.14 1452.51 Q1507.14 1443.76 1510.19 1439.18 Q1513.27 1434.57 1519.08 1434.57 Z\" fill=\"#000000\" fill-rule=\"evenodd\" fill-opacity=\"1\" /><path clip-path=\"url(#clip310)\" d=\"M1549.24 1438.28 Q1545.63 1438.28 1543.8 1441.84 Q1542 1445.38 1542 1452.51 Q1542 1459.62 1543.8 1463.18 Q1545.63 1466.73 1549.24 1466.73 Q1552.88 1466.73 1554.68 1463.18 Q1556.51 1459.62 1556.51 1452.51 Q1556.51 1445.38 1554.68 1441.84 Q1552.88 1438.28 1549.24 1438.28 M1549.24 1434.57 Q1555.05 1434.57 1558.11 1439.18 Q1561.19 1443.76 1561.19 1452.51 Q1561.19 1461.24 1558.11 1465.85 Q1555.05 1470.43 1549.24 1470.43 Q1543.43 1470.43 1540.35 1465.85 Q1537.3 1461.24 1537.3 1452.51 Q1537.3 1443.76 1540.35 1439.18 Q1543.43 1434.57 1549.24 1434.57 Z\" fill=\"#000000\" fill-rule=\"evenodd\" fill-opacity=\"1\" /><path clip-path=\"url(#clip310)\" d=\"M1992.14 1465.82 L1999.78 1465.82 L1999.78 1439.46 L1991.47 1441.12 L1991.47 1436.86 L1999.73 1435.2 L2004.41 1435.2 L2004.41 1465.82 L2012.04 1465.82 L2012.04 1469.76 L1992.14 1469.76 L1992.14 1465.82 Z\" fill=\"#000000\" fill-rule=\"evenodd\" fill-opacity=\"1\" /><path clip-path=\"url(#clip310)\" d=\"M2021.54 1435.2 L2039.89 1435.2 L2039.89 1439.13 L2025.82 1439.13 L2025.82 1447.6 Q2026.84 1447.26 2027.85 1447.1 Q2028.87 1446.91 2029.89 1446.91 Q2035.68 1446.91 2039.06 1450.08 Q2042.44 1453.25 2042.44 1458.67 Q2042.44 1464.25 2038.97 1467.35 Q2035.49 1470.43 2029.17 1470.43 Q2027 1470.43 2024.73 1470.06 Q2022.48 1469.69 2020.08 1468.95 L2020.08 1464.25 Q2022.16 1465.38 2024.38 1465.94 Q2026.6 1466.49 2029.08 1466.49 Q2033.09 1466.49 2035.42 1464.39 Q2037.76 1462.28 2037.76 1458.67 Q2037.76 1455.06 2035.42 1452.95 Q2033.09 1450.85 2029.08 1450.85 Q2027.21 1450.85 2025.33 1451.26 Q2023.48 1451.68 2021.54 1452.56 L2021.54 1435.2 Z\" fill=\"#000000\" fill-rule=\"evenodd\" fill-opacity=\"1\" /><path clip-path=\"url(#clip310)\" d=\"M2061.65 1438.28 Q2058.04 1438.28 2056.21 1441.84 Q2054.41 1445.38 2054.41 1452.51 Q2054.41 1459.62 2056.21 1463.18 Q2058.04 1466.73 2061.65 1466.73 Q2065.29 1466.73 2067.09 1463.18 Q2068.92 1459.62 2068.92 1452.51 Q2068.92 1445.38 2067.09 1441.84 Q2065.29 1438.28 2061.65 1438.28 M2061.65 1434.57 Q2067.46 1434.57 2070.52 1439.18 Q2073.6 1443.76 2073.6 1452.51 Q2073.6 1461.24 2070.52 1465.85 Q2067.46 1470.43 2061.65 1470.43 Q2055.84 1470.43 2052.76 1465.85 Q2049.71 1461.24 2049.71 1452.51 Q2049.71 1443.76 2052.76 1439.18 Q2055.84 1434.57 2061.65 1434.57 Z\" fill=\"#000000\" fill-rule=\"evenodd\" fill-opacity=\"1\" /><polyline clip-path=\"url(#clip312)\" style=\"stroke:#000000; stroke-linecap:round; stroke-linejoin:round; stroke-width:2; stroke-opacity:0.1; fill:none\" points=\"\n",
       "  169.121,1156.28 2112.76,1156.28 \n",
       "  \"/>\n",
       "<polyline clip-path=\"url(#clip312)\" style=\"stroke:#000000; stroke-linecap:round; stroke-linejoin:round; stroke-width:2; stroke-opacity:0.1; fill:none\" points=\"\n",
       "  169.121,900.072 2112.76,900.072 \n",
       "  \"/>\n",
       "<polyline clip-path=\"url(#clip312)\" style=\"stroke:#000000; stroke-linecap:round; stroke-linejoin:round; stroke-width:2; stroke-opacity:0.1; fill:none\" points=\"\n",
       "  169.121,643.868 2112.76,643.868 \n",
       "  \"/>\n",
       "<polyline clip-path=\"url(#clip312)\" style=\"stroke:#000000; stroke-linecap:round; stroke-linejoin:round; stroke-width:2; stroke-opacity:0.1; fill:none\" points=\"\n",
       "  169.121,387.663 2112.76,387.663 \n",
       "  \"/>\n",
       "<polyline clip-path=\"url(#clip312)\" style=\"stroke:#000000; stroke-linecap:round; stroke-linejoin:round; stroke-width:2; stroke-opacity:0.1; fill:none\" points=\"\n",
       "  169.121,131.459 2112.76,131.459 \n",
       "  \"/>\n",
       "<polyline clip-path=\"url(#clip310)\" style=\"stroke:#000000; stroke-linecap:round; stroke-linejoin:round; stroke-width:4; stroke-opacity:1; fill:none\" points=\"\n",
       "  169.121,1407.36 169.121,126.334 \n",
       "  \"/>\n",
       "<polyline clip-path=\"url(#clip310)\" style=\"stroke:#000000; stroke-linecap:round; stroke-linejoin:round; stroke-width:4; stroke-opacity:1; fill:none\" points=\"\n",
       "  169.121,1156.28 185.942,1156.28 \n",
       "  \"/>\n",
       "<polyline clip-path=\"url(#clip310)\" style=\"stroke:#000000; stroke-linecap:round; stroke-linejoin:round; stroke-width:4; stroke-opacity:1; fill:none\" points=\"\n",
       "  169.121,900.072 185.942,900.072 \n",
       "  \"/>\n",
       "<polyline clip-path=\"url(#clip310)\" style=\"stroke:#000000; stroke-linecap:round; stroke-linejoin:round; stroke-width:4; stroke-opacity:1; fill:none\" points=\"\n",
       "  169.121,643.868 185.942,643.868 \n",
       "  \"/>\n",
       "<polyline clip-path=\"url(#clip310)\" style=\"stroke:#000000; stroke-linecap:round; stroke-linejoin:round; stroke-width:4; stroke-opacity:1; fill:none\" points=\"\n",
       "  169.121,387.663 185.942,387.663 \n",
       "  \"/>\n",
       "<polyline clip-path=\"url(#clip310)\" style=\"stroke:#000000; stroke-linecap:round; stroke-linejoin:round; stroke-width:4; stroke-opacity:1; fill:none\" points=\"\n",
       "  169.121,131.459 185.942,131.459 \n",
       "  \"/>\n",
       "<path clip-path=\"url(#clip310)\" d=\"M86.0382 1169.62 L102.358 1169.62 L102.358 1173.56 L80.4133 1173.56 L80.4133 1169.62 Q83.0753 1166.87 87.6586 1162.24 Q92.2651 1157.58 93.4456 1156.24 Q95.691 1153.72 96.5706 1151.98 Q97.4734 1150.22 97.4734 1148.53 Q97.4734 1145.78 95.5289 1144.04 Q93.6076 1142.31 90.5058 1142.31 Q88.3067 1142.31 85.8531 1143.07 Q83.4225 1143.83 80.6447 1145.39 L80.6447 1140.66 Q83.4688 1139.53 85.9225 1138.95 Q88.3762 1138.37 90.4132 1138.37 Q95.7836 1138.37 98.978 1141.06 Q102.172 1143.74 102.172 1148.23 Q102.172 1150.36 101.362 1152.28 Q100.575 1154.18 98.4687 1156.77 Q97.89 1157.45 94.7882 1160.66 Q91.6864 1163.86 86.0382 1169.62 Z\" fill=\"#000000\" fill-rule=\"evenodd\" fill-opacity=\"1\" /><path clip-path=\"url(#clip310)\" d=\"M112.219 1139 L130.575 1139 L130.575 1142.93 L116.501 1142.93 L116.501 1151.4 Q117.52 1151.06 118.538 1150.9 Q119.557 1150.71 120.575 1150.71 Q126.362 1150.71 129.742 1153.88 Q133.121 1157.05 133.121 1162.47 Q133.121 1168.05 129.649 1171.15 Q126.177 1174.23 119.857 1174.23 Q117.682 1174.23 115.413 1173.86 Q113.168 1173.49 110.76 1172.75 L110.76 1168.05 Q112.844 1169.18 115.066 1169.74 Q117.288 1170.29 119.765 1170.29 Q123.77 1170.29 126.107 1168.19 Q128.445 1166.08 128.445 1162.47 Q128.445 1158.86 126.107 1156.75 Q123.77 1154.65 119.765 1154.65 Q117.89 1154.65 116.015 1155.06 Q114.163 1155.48 112.219 1156.36 L112.219 1139 Z\" fill=\"#000000\" fill-rule=\"evenodd\" fill-opacity=\"1\" /><path clip-path=\"url(#clip310)\" d=\"M81.0614 882.792 L99.4178 882.792 L99.4178 886.728 L85.3438 886.728 L85.3438 895.2 Q86.3623 894.853 87.3808 894.69 Q88.3993 894.505 89.4178 894.505 Q95.2049 894.505 98.5845 897.677 Q101.964 900.848 101.964 906.264 Q101.964 911.843 98.4919 914.945 Q95.0197 918.024 88.7003 918.024 Q86.5243 918.024 84.2558 917.653 Q82.0105 917.283 79.6031 916.542 L79.6031 911.843 Q81.6864 912.977 83.9086 913.533 Q86.1308 914.089 88.6077 914.089 Q92.6123 914.089 94.9502 911.982 Q97.2882 909.876 97.2882 906.264 Q97.2882 902.653 94.9502 900.547 Q92.6123 898.44 88.6077 898.44 Q86.7327 898.44 84.8577 898.857 Q83.0058 899.274 81.0614 900.153 L81.0614 882.792 Z\" fill=\"#000000\" fill-rule=\"evenodd\" fill-opacity=\"1\" /><path clip-path=\"url(#clip310)\" d=\"M121.177 885.871 Q117.566 885.871 115.737 889.436 Q113.932 892.978 113.932 900.107 Q113.932 907.214 115.737 910.778 Q117.566 914.32 121.177 914.32 Q124.811 914.32 126.617 910.778 Q128.445 907.214 128.445 900.107 Q128.445 892.978 126.617 889.436 Q124.811 885.871 121.177 885.871 M121.177 882.167 Q126.987 882.167 130.043 886.774 Q133.121 891.357 133.121 900.107 Q133.121 908.834 130.043 913.44 Q126.987 918.024 121.177 918.024 Q115.367 918.024 112.288 913.44 Q109.233 908.834 109.233 900.107 Q109.233 891.357 112.288 886.774 Q115.367 882.167 121.177 882.167 Z\" fill=\"#000000\" fill-rule=\"evenodd\" fill-opacity=\"1\" /><path clip-path=\"url(#clip310)\" d=\"M80.8299 626.588 L103.052 626.588 L103.052 628.579 L90.5058 661.148 L85.6216 661.148 L97.4271 630.523 L80.8299 630.523 L80.8299 626.588 Z\" fill=\"#000000\" fill-rule=\"evenodd\" fill-opacity=\"1\" /><path clip-path=\"url(#clip310)\" d=\"M112.219 626.588 L130.575 626.588 L130.575 630.523 L116.501 630.523 L116.501 638.995 Q117.52 638.648 118.538 638.486 Q119.557 638.301 120.575 638.301 Q126.362 638.301 129.742 641.472 Q133.121 644.643 133.121 650.06 Q133.121 655.639 129.649 658.74 Q126.177 661.819 119.857 661.819 Q117.682 661.819 115.413 661.449 Q113.168 661.078 110.76 660.338 L110.76 655.639 Q112.844 656.773 115.066 657.328 Q117.288 657.884 119.765 657.884 Q123.77 657.884 126.107 655.777 Q128.445 653.671 128.445 650.06 Q128.445 646.449 126.107 644.342 Q123.77 642.236 119.765 642.236 Q117.89 642.236 116.015 642.652 Q114.163 643.069 112.219 643.949 L112.219 626.588 Z\" fill=\"#000000\" fill-rule=\"evenodd\" fill-opacity=\"1\" /><path clip-path=\"url(#clip310)\" d=\"M51.6634 401.008 L59.3023 401.008 L59.3023 374.642 L50.9921 376.309 L50.9921 372.05 L59.256 370.383 L63.9319 370.383 L63.9319 401.008 L71.5707 401.008 L71.5707 404.943 L51.6634 404.943 L51.6634 401.008 Z\" fill=\"#000000\" fill-rule=\"evenodd\" fill-opacity=\"1\" /><path clip-path=\"url(#clip310)\" d=\"M91.0151 373.462 Q87.404 373.462 85.5753 377.027 Q83.7697 380.568 83.7697 387.698 Q83.7697 394.804 85.5753 398.369 Q87.404 401.911 91.0151 401.911 Q94.6493 401.911 96.4548 398.369 Q98.2835 394.804 98.2835 387.698 Q98.2835 380.568 96.4548 377.027 Q94.6493 373.462 91.0151 373.462 M91.0151 369.758 Q96.8252 369.758 99.8808 374.365 Q102.959 378.948 102.959 387.698 Q102.959 396.425 99.8808 401.031 Q96.8252 405.614 91.0151 405.614 Q85.2049 405.614 82.1262 401.031 Q79.0707 396.425 79.0707 387.698 Q79.0707 378.948 82.1262 374.365 Q85.2049 369.758 91.0151 369.758 Z\" fill=\"#000000\" fill-rule=\"evenodd\" fill-opacity=\"1\" /><path clip-path=\"url(#clip310)\" d=\"M121.177 373.462 Q117.566 373.462 115.737 377.027 Q113.932 380.568 113.932 387.698 Q113.932 394.804 115.737 398.369 Q117.566 401.911 121.177 401.911 Q124.811 401.911 126.617 398.369 Q128.445 394.804 128.445 387.698 Q128.445 380.568 126.617 377.027 Q124.811 373.462 121.177 373.462 M121.177 369.758 Q126.987 369.758 130.043 374.365 Q133.121 378.948 133.121 387.698 Q133.121 396.425 130.043 401.031 Q126.987 405.614 121.177 405.614 Q115.367 405.614 112.288 401.031 Q109.233 396.425 109.233 387.698 Q109.233 378.948 112.288 374.365 Q115.367 369.758 121.177 369.758 Z\" fill=\"#000000\" fill-rule=\"evenodd\" fill-opacity=\"1\" /><path clip-path=\"url(#clip310)\" d=\"M52.6588 144.803 L60.2976 144.803 L60.2976 118.438 L51.9875 120.104 L51.9875 115.845 L60.2513 114.179 L64.9272 114.179 L64.9272 144.803 L72.5661 144.803 L72.5661 148.739 L52.6588 148.739 L52.6588 144.803 Z\" fill=\"#000000\" fill-rule=\"evenodd\" fill-opacity=\"1\" /><path clip-path=\"url(#clip310)\" d=\"M86.0382 144.803 L102.358 144.803 L102.358 148.739 L80.4133 148.739 L80.4133 144.803 Q83.0753 142.049 87.6586 137.419 Q92.2651 132.766 93.4456 131.424 Q95.691 128.901 96.5706 127.165 Q97.4734 125.405 97.4734 123.716 Q97.4734 120.961 95.5289 119.225 Q93.6076 117.489 90.5058 117.489 Q88.3067 117.489 85.8531 118.253 Q83.4225 119.016 80.6447 120.567 L80.6447 115.845 Q83.4688 114.711 85.9225 114.132 Q88.3762 113.554 90.4132 113.554 Q95.7836 113.554 98.978 116.239 Q102.172 118.924 102.172 123.415 Q102.172 125.544 101.362 127.466 Q100.575 129.364 98.4687 131.956 Q97.89 132.628 94.7882 135.845 Q91.6864 139.04 86.0382 144.803 Z\" fill=\"#000000\" fill-rule=\"evenodd\" fill-opacity=\"1\" /><path clip-path=\"url(#clip310)\" d=\"M112.219 114.179 L130.575 114.179 L130.575 118.114 L116.501 118.114 L116.501 126.586 Q117.52 126.239 118.538 126.077 Q119.557 125.891 120.575 125.891 Q126.362 125.891 129.742 129.063 Q133.121 132.234 133.121 137.651 Q133.121 143.229 129.649 146.331 Q126.177 149.41 119.857 149.41 Q117.682 149.41 115.413 149.039 Q113.168 148.669 110.76 147.928 L110.76 143.229 Q112.844 144.364 115.066 144.919 Q117.288 145.475 119.765 145.475 Q123.77 145.475 126.107 143.368 Q128.445 141.262 128.445 137.651 Q128.445 134.04 126.107 131.933 Q123.77 129.827 119.765 129.827 Q117.89 129.827 116.015 130.243 Q114.163 130.66 112.219 131.54 L112.219 114.179 Z\" fill=\"#000000\" fill-rule=\"evenodd\" fill-opacity=\"1\" /><g clip-path=\"url(#clip312)\">\n",
       "<image width=\"1281\" height=\"1281\" xlink:href=\"data:image/png;base64,\n",
       "iVBORw0KGgoAAAANSUhEUgAABQEAAAUBCAYAAAA8ekdsAAAgAElEQVR4nOzaS7LbuhIlULKCA+XQ\n",
       "NFBFsBqvVa7rY9BOKIXNtdoKfBIfUju4b9txbQAAAABArP/TPQAAAAAAYC4hIAAAAACEEwICAAAA\n",
       "QDghIAAAAACEEwICAAAAQDghIAAAAACEEwICAAAAQDghIAAAAACEEwICAAAAQDghIAAAAACEO2Y0\n",
       "+r5epe0d+1na3gx35jw6n+o63pFW8xFPnPMdK9SnWue5fmK9+V6dd8+ozjOzwrleYQ2r3an3CmuY\n",
       "pLre3sO/1xPf1zvZt/A/K9w9XWP0JSAAAAAAhBMCAgAAAEA4ISAAAAAAhBMCAgAAAEA4ISAAAAAA\n",
       "hBMCAgAAAEA4ISAAAAAAhBMCAgAAAEA4ISAAAAAAhDvu/Ph9vcYa3c+/GAq/UsfPsr9/9sT6JM1l\n",
       "htE9cUdXzWfMZVTSPrszl+o7ZYU1XGGMo+7Mpbo+K9Sbn3XtiTttdqoe44wzM9rmCncPJHNmfvbE\n",
       "dwpfAgIAAABAOCEgAAAAAIQTAgIAAABAOCEgAAAAAIQTAgIAAABAOCEgAAAAAIQTAgIAAABAOCEg\n",
       "AAAAAIQTAgIAAABAuGNGo+/rNdb5fs7oPkZ1HUfbu6NzDZ+4f544523ru1PunJnRvldYw847vKvv\n",
       "FdYlTVfN7/Q7uh9nPF9Hdb0DzFi/zvcZPitpDTufhdVm3I/VPK9rdK512n/SJCu8K3T1PePMdNXH\n",
       "l4AAAAAAEE4ICAAAAADhhIAAAAAAEE4ICAAAAADhhIAAAAAAEE4ICAAAAADhhIAAAAAAEE4ICAAA\n",
       "AADhhIAAAAAAEO7oHkCKYz+Hf/u+XtPG8ZMVxphmtI531gZwtqpU3/V32qtem9H2nvp8q65P51pT\n",
       "Y8ZZGF3rzv04qnPfrnBmVhgjz1H9Xph0p8zIAJLO/xPfC30JCAAAAADhhIAAAAAAEE4ICAAAAADh\n",
       "hIAAAAAAEE4ICAAAAADhhIAAAAAAEE4ICAAAAADhhIAAAAAAEE4ICAAAAADhhIAAAAAAEG7ftuPq\n",
       "HgT/5n29hn537OfUcfD/S1qb6rmMtnenzWp3xlgtaU90WqGOnZ54R92xwrxHJa31qBWeMzOscDeP\n",
       "mvFO0dV30h7jZzPunifus7Tn+hPX8Km6nsOje8eXgAAAAAAQTggIAAAAAOGEgAAAAAAQTggIAAAA\n",
       "AOGEgAAAAAAQTggIAAAAAOGEgAAAAAAQTggIAAAAAOGEgAAAAAAQ7ugewBO9r1f3EP6oeozHfpa2\n",
       "d8foXGaMsXPeXTrrXe3OGFc419VWWEN+tsIaJt0po1a4T+6McYW1WWGfVY9xxj6rrs+MdUl6x4Vv\n",
       "ssJ/rs571F3B36reO74EBAAAAIBwQkAAAAAACCcEBAAAAIBwQkAAAAAACCcEBAAAAIBwQkAAAAAA\n",
       "CCcEBAAAAIBwQkAAAAAACCcEBAAAAIBw+7YdV/cgEryv1/Bvj/2cNo6fzBjjaJvV7d3RVe8Zqut9\n",
       "p81RSfUG6LDCOwWf53n9nWa8myWZ8W4/KqnmK+yzFe6oFerIZ62QP1TvW18CAgAAAEA4ISAAAAAA\n",
       "hBMCAgAAAEA4ISAAAAAAhBMCAgAAAEA4ISAAAAAAhBMCAgAAAEA4ISAAAAAAhBMCAgAAAEC4o3sA\n",
       "fKf39Wpp79jP8jar53LH6Hxm1GdUdZudc4FPsMdZUfWzcMbz2plZX/Var7B37Nufdb1nUqfrHN5Z\n",
       "69G+VzivK9x7Txzjnf347feULwEBAAAAIJwQEAAAAADCCQEBAAAAIJwQEAAAAADCCQEBAAAAIJwQ\n",
       "EAAAAADCCQEBAAAAIJwQEAAAAADCCQEBAAAAIJwQEAAAAADCHd0DqPa+XqXtHftZ2t62jY+xuu87\n",
       "7VXXcYbq+syYc1cd7/Q7Y49DMmfmOaqf153P1s5npjPznbreR+/0zfqq91nSf7NOK/zvSar3tj1z\n",
       "nyXpXJfqs+VLQAAAAAAIJwQEAAAAgHBCQAAAAAAIJwQEAAAAgHBCQAAAAAAIJwQEAAAAgHBCQAAA\n",
       "AAAIJwQEAAAAgHBCQAAAAAAId9z58ft61Xa+n+X9jraZpHpdtm3O2qSYsce6ztadvp94tvg8+/E5\n",
       "qte681lY3d6duXSdmaeewc7ndXXNR+eywnv4CmO8I+lZmHSHd1phLiuMsdMK/69Hx5i01jPu2853\n",
       "hRG+BAQAAACAcEJAAAAAAAgnBAQAAACAcEJAAAAAAAgnBAQAAACAcEJAAAAAAAgnBAQAAACAcEJA\n",
       "AAAAAAgnBAQAAACAcPu2HVd1o+/rVd3ksGM/2/ru0lnvaius3516V89ntO8V6shzzDgzzsJnqffP\n",
       "quvT+Zzp1FnHUZ13VNf7XtIe6+RZWKOzjtX9zuh7VNKeeKrOZ9wKkt4pqvkSEAAAAADCCQEBAAAA\n",
       "IJwQEAAAAADCCQEBAAAAIJwQEAAAAADCCQEBAAAAIJwQEAAAAADCCQEBAAAAIJwQEAAAAADC7dt2\n",
       "XF2dv69XeZvHfpa3CX+reo/b36zIXc9/Gd0X1WvduR+fehaq13rG3unajzN0zmWF956ktU6ywr5N\n",
       "63vUCmPkOWa8S42Y8U4xo+8RvgQEAAAAgHBCQAAAAAAIJwQEAAAAgHBCQAAAAAAIJwQEAAAAgHBC\n",
       "QAAAAAAIJwQEAAAAgHBCQAAAAAAIJwQEAAAAgHBCQAAAAAAId8xo9H29xjrfzxndw9cY3eOjZybJ\n",
       "nTm7K9Zm/dY347netS8696OzwK9mPAtX2OPV7z1p7xTV9Vlhzp3vzCucmVGd/8OfuG/hv3z7ufYl\n",
       "IAAAAACEEwICAAAAQDghIAAAAACEEwICAAAAQDghIAAAAACEEwICAAAAQDghIAAAAACEEwICAAAA\n",
       "QDghIAAAAACE27ftuLoHwX97X6+h3x37OXUc0M1ZAMjXeddX9z3a3h3VfXtm8qvOfUsN5/9nT6zP\n",
       "nXO9wnOm+p5KeqcYbc+XgAAAAAAQTggIAAAAAOGEgAAAAAAQTggIAAAAAOGEgAAAAAAQTggIAAAA\n",
       "AOGEgAAAAAAQTggIAAAAAOGEgAAAAAAQ7ugewBO9r9fQ7479nDoO/l8z1mW0zWppe6drPnfWL63m\n",
       "Kdy3sI4nnsPOOXe9o9zxxD3RSb3XN2MNV/g/s8J9Ro0V7qlvH6MvAQEAAAAgnBAQAAAAAMIJAQEA\n",
       "AAAgnBAQAAAAAMIJAQEAAAAgnBAQAAAAAMIJAQEAAAAgnBAQAAAAAMIJAQEAAAAg3NE9AJjtfb2+\n",
       "ur2nulPHYz+njaOq39H5dM2Fn80419Ya+JPOd4rOO8q7FOTpvFOq+17hvf6pz48uSf8VfAkIAAAA\n",
       "AOGEgAAAAAAQTggIAAAAAOGEgAAAAAAQTggIAAAAAOGEgAAAAAAQTggIAAAAAOGEgAAAAAAQTggI\n",
       "AAAAAOGEgAAAAAAQbt+24+oexJ+8r1d5m8d+lra3whh5jjv70T6DOXf4qBlnsHo+7gmY46nvj6Pz\n",
       "XmEuQL/qOyXpbk6aS6fO/9fV+9uXgAAAAAAQTggIAAAAAOGEgAAAAAAQTggIAAAAAOGEgAAAAAAQ\n",
       "TggIAAAAAOGEgAAAAAAQTggIAAAAAOGEgAAAAAAQ7ugewIhjP7uHwAO8r1f3EFqMznv0HFa3N6vN\n",
       "Lklzearqs8BzOP+fNeMMVq/NjGdhdXv2IzzbE99nZtx71XWcMUb3/Wd1nS1fAgIAAABAOCEgAAAA\n",
       "AIQTAgIAAABAOCEgAAAAAIQTAgIAAABAOCEgAAAAAIQTAgIAAABAOCEgAAAAAIQTAgIAAABAuKN7\n",
       "ACmO/eweAv9oxhq+r1dp36PtzVA9lzu66tM5Fz7rzrp0ngU+q+tOudOvffYcSWudNBdY0YznzArv\n",
       "R53/FVb4vzdqhf9c1VYY4yhfAgIAAABAOCEgAAAAAIQTAgIAAABAOCEgAAAAAIQTAgIAAABAOCEg\n",
       "AAAAAIQTAgIAAABAOCEgAAAAAIQTAgIAAABAuH3bjqt7EMD3e1+vod8d+zl1HJ80Ouc7kurD+qr3\n",
       "+Iz93Xn3dPV9Z12eeKfMWJfqNpOemTP244zn66ikmq8wl2ruxxpPfcftvHtGrVDHJJ1noeuu9yUg\n",
       "AAAAAIQTAgIAAABAOCEgAAAAAIQTAgIAAABAOCEgAAAAAIQTAgIAAABAOCEgAAAAAIQTAgIAAABA\n",
       "OCEgAAAAAIQTAgIAAABAuKN7APze+3oN/e7Yz6njgDtm7NvRNqutcLbu1GaF+fAcKzzjRvuuvqPS\n",
       "zmrXHT7DCvs2yYwzmPROkbQfO98fV6hPp676zHjHtdY1qs/WCv9nZvTbNRdfAgIAAABAOCEgAAAA\n",
       "AIQTAgIAAABAOCEgAAAAAIQTAgIAAABAOCEgAAAAAIQTAgIAAABAOCEgAAAAAIQTAgIAAABAuKN7\n",
       "ACPe16u8zWM/y9sExt051088rzPuvdE2k+qdNOcZZ2b0d53P4eo1nDGXUSvss07V9fH+WOPOnFc4\n",
       "r0lrmDSXGbrulM51mTHGzucm36nrHe5Om6OeeI/6EhAAAAAAwgkBAQAAACCcEBAAAAAAwgkBAQAA\n",
       "ACCcEBAAAAAAwgkBAQAAACCcEBAAAAAAwgkBAQAAACCcEBAAAAAAwh3dA6h27Gdpe+/rVdrettWP\n",
       "cdSduawwxlFdc0kzWscZa/hE9i2/6twTM/pe4a5wDp+j6/3RHvtZUn1WuPM6PfU502WF/1zWb30z\n",
       "znX1f9KkszDary8BAQAAACCcEBAAAAAAwgkBAQAAACCcEBAAAAAAwgkBAQAAACCcEBAAAAAAwgkB\n",
       "AQAAACCcEBAAAAAAwgkBAQAAACDcvm3H1T2IP3lfr+HfHvtZ3ma10TF2Gq3PCnPpVL3POve3tf4s\n",
       "Z7BG0lmY8Sys7tt+/Lyktel6Zs5gXX6WNO8Zc0naP0/01P+ZSXc4zzHjvv32s+BLQAAAAAAIJwQE\n",
       "AAAAgHBCQAAAAAAIJwQEAAAAgHBCQAAAAAAIJwQEAAAAgHBCQAAAAAAIJwQEAAAAgHBCQAAAAAAI\n",
       "JwQEAAAAgHD7th1X9yD+5H29hn977Oe0cfxkxhhH25wx5zvzGdG1LndUz3nb6te6ut87OvcjNazh\n",
       "7804/6Pc4c+xwnPdWtfofKcYlbQn3OE1VljrTivss84xVrMfYQ5fAgIAAABAOCEgAAAAAIQTAgIA\n",
       "AABAOCEgAAAAAIQTAgIAAABAOCEgAAAAAIQTAgIAAABAOCEgAAAAAIQTAgIAAABAuKN7ACOO/Rz+\n",
       "7ft6lbdZbXSMnUbrs8JckiSty50xdp7XaivcUU+UVu/q+axwp8yQdOfyWTPulOrnR9q912XG+X/i\n",
       "2iS9H8347zqj71FJawP4EhAAAAAA4gkBAQAAACCcEBAAAAAAwgkBAQAAACCcEBAAAAAAwgkBAQAA\n",
       "ACCcEBAAAAAAwgkBAQAAACCcEBAAAAAAwh3dA0hx7Gd5m+/r1dZe9Xyq57Jt9WOcsYbVfc+o46gV\n",
       "xvhEned6BaP16axN0v24wlzuSNo/Tzz/nazLZ61Qx873oxX244znTNd8VhjjHSuMEX7Vee99+53r\n",
       "S0AAAAAACCcEBAAAAIBwQkAAAAAACCcEBAAAAIBwQkAAAAAACCcEBAAAAIBwQkAAAAAACCcEBAAA\n",
       "AIBwQkAAAAAACLdv23F1D6LD+3oN/e7Yz9L2ZugcY3Xfo+3daXPUnb5HdY2xc6352Qp3T+daz7gr\n",
       "vl3SGq7wLOyUtNZP9cQ7ihp3zr/981mdz64k9i2swZeAAAAAABBOCAgAAAAA4YSAAAAAABBOCAgA\n",
       "AAAA4YSAAAAAABBOCAgAAAAA4YSAAAAAABBOCAgAAAAA4YSAAAAAABBOCAgAAAAA4fZtO67uQfBv\n",
       "3terewh/dOxneZtd874zl+oxzqgj32l073Serafux+r6zLjLnrg2KzwLR814znTuiRWehUl1rB7j\n",
       "nfVz9/zeE2uzihWe60lWOAszzrW74vfSnjPfvta+BAQAAACAcEJAAAAAAAgnBAQAAACAcEJAAAAA\n",
       "AAgnBAQAAACAcEJAAAAAAAgnBAQAAACAcEJAAAAAAAgnBAQAAACAcMedH7+v16Rh1Dn2s3sIX+tO\n",
       "bbrWeoU9NkP1vr1TR2emRtLeXWFPjNZ7hbmMSprLDCvUZ8Y90fn8+HZJc9m28bWunvcKZ2uG6jqu\n",
       "cP6fqrqO1uVnK7zDdd23d9q0z35WXcek/9e+BAQAAACAcEJAAAAAAAgnBAQAAACAcEJAAAAAAAgn\n",
       "BAQAAACAcEJAAAAAAAgnBAQAAACAcEJAAAAAAAgnBAQAAACAcPu2HVdX5+/rNfS7Yz+njmN1o3Wc\n",
       "YXRtrDXpus7hjDNTPZfOc/3Uu6drDe/0u0LNk85CtRlr3Xleq/vufDcb9dS7uWut78zF3cPfWuG9\n",
       "Z4UxJlnh3WyFMd7x7Xe4LwEBAAAAIJwQEAAAAADCCQEBAAAAIJwQEAAAAADCCQEBAAAAIJwQEAAA\n",
       "AADCCQEBAAAAIJwQEAAAAADCCQEBAAAAINzR2vl+dnbf5n29WvqdUe+uucC3GT1f1Wdmxhmsvivu\n",
       "jPGpz4Vq1fvRXf9ZK5zrGTrvnmor1LtTZ32q70dz4RNWWMMVxthJfZ6j63/hKF8CAgAAAEA4ISAA\n",
       "AAAAhBMCAgAAAEA4ISAAAAAAhBMCAgAAAEA4ISAAAAAAhBMCAgAAAEA4ISAAAAAAhBMCAgAAAEA4\n",
       "ISAAAAAAhNu37biqG31fr6HfHftZ3TVAhBn36Gibo9zhNTwzP6v6HPBno3t3hTtqhTGO8pxZX/Ua\n",
       "3lk/a/OdZjzjVljrFd6lOs9rF3fPd/IlIAAAAACEEwICAAAAQDghIAAAAACEEwICAAAAQDghIAAA\n",
       "AACEEwICAAAAQDghIAAAAACEEwICAAAAQDghIAAAAACE27ftuEZ//L5epZ0f+1na3gzVc9628XmP\n",
       "9r1CHYE5Ou+oUTPGOMr9+Fl31tqzkF8lvWeusG9XeH7M0PVMSqvNCvNhbZ37cYU7vJP6rM2XgAAA\n",
       "AAAQTggIAAAAAOGEgAAAAAAQTggIAAAAAOGEgAAAAAAQTggIAAAAAOGEgAAAAAAQTggIAAAAAOGE\n",
       "gAAAAAAQ7rj14/0c+t37ev3FUNY2WpttW6M+o2O8M2/4W9VnJmnfJs1l27Lm88R7dMZckupDjRX2\n",
       "xApjHJU0l22r/z/TWZ8V/lPAJ/iv8Fkr1OeJd/joXHwJCAAAAADhhIAAAAAAEE4ICAAAAADhhIAA\n",
       "AAAAEE4ICAAAAADhhIAAAAAAEE4ICAAAAADhhIAAAAAAEE4ICAAAAADhjimN7ueMZlvMmEtSfYDn\n",
       "el+vod/NuPNG+x7lXv48a/hZneeV72Stf7ZCfVYY4wrcjzWq66je/JfqffbE8+9LQAAAAAAIJwQE\n",
       "AAAAgHBCQAAAAAAIJwQEAAAAgHBCQAAAAAAIJwQEAAAAgHBCQAAAAAAIJwQEAAAAgHBCQAAAAAAI\n",
       "JwQEAAAAgHD7th1XV+fv61Xe5rGfpe2tMMZOo/VZYc4z1nrUaH1WqHfnGFeozwpWWMNO9s/vrXCP\n",
       "8rPO957qvj1nII/nzPeqvh+tdY2n5hme17/nS0AAAAAACCcEBAAAAIBwQkAAAAAACCcEBAAAAIBw\n",
       "QkAAAAAACCcEBAAAAIBwQkAAAAAACCcEBAAAAIBwQkAAAAAACLdv23F1df6+Xl1db8d+tvWdpHoN\n",
       "09ZltD5J815hzjPG2HWfzRhj0n4E1rHCHeW952crrCFrm/G+Nbofn7q/u+69O/1W1zxprWUu/MqX\n",
       "gAAAAAAQTggIAAAAAOGEgAAAAAAQTggIAAAAAOGEgAAAAAAQTggIAAAAAOGEgAAAAAAQTggIAAAA\n",
       "AOGEgAAAAAAQ7pjR6Pt6zWi2xehcjv1sa3PGGKt19t0paQ1HVc/5Tptd7VEn6Sw80YxzbU88R/Ua\n",
       "dj5nkjjXcM+M/8L+x/2suuadc37iXFbYY0l8CQgAAAAA4YSAAAAAABBOCAgAAAAA4YSAAAAAABBO\n",
       "CAgAAAAA4YSAAAAAABBOCAgAAAAA4YSAAAAAABBOCAgAAAAA4Y47P35fr7FG97O0vRmS5jI6xhX6\n",
       "vlPHznlX65xL1969M+fq89pphTsFIEHS+9FTrfD8X2GMSZzr53jqf4Vqnf+vn1jvFfgSEAAAAADC\n",
       "CQEBAAAAIJwQEAAAAADCCQEBAAAAIJwQEAAAAADCCQEBAAAAIJwQEAAAAADCCQEBAAAAIJwQEAAA\n",
       "AADCCQEBAAAAINy+bcc1+uP39Rr63bGfpe11Gp3LU1XviVX6rlZ9Fp44521bY96jOuuTdLb4rDv7\n",
       "1v5hNs+Zz/P8+L2n7sekd9zO/64rrHW1p56ZTu7wZ/AlIAAAAACEEwICAAAAQDghIAAAAACEEwIC\n",
       "AAAAQDghIAAAAACEEwICAAAAQDghIAAAAACEEwICAAAAQDghIAAAAACEO7oHMOLYz+Hfvq/XtHFU\n",
       "GR3jnXlX66rjnX4769NldM4r1PGJ67dta9xRo5Lusqfux2ozntfWhl/NuEftsxpJdazeZ2n/Z0ZV\n",
       "v7t2vuMm7e8VPLXenXfPU2v+NL4EBAAAAIBwQkAAAAAACCcEBAAAAIBwQkAAAAAACCcEBAAAAIBw\n",
       "QkAAAAAACCcEBAAAAIBwQkAAAAAACCcEBAAAAIBwx60f7+fQ797Xq6W9O212qh5jdb3vqG5zhfWb\n",
       "IWned85rl867p3OtO+/mLs5WjaR9+1RPfDezJ/gvXXfKCmcG+B/vuCTzJSAAAAAAhBMCAgAAAEA4\n",
       "ISAAAAAAhBMCAgAAAEA4ISAAAAAAhBMCAgAAAEA4ISAAAAAAhBMCAgAAAEA4ISAAAAAAhDumNLqf\n",
       "M5r9au/r1db3aL3vjPGJa5hkxvp17nE+y1rzt2bsHc+j5xjdP53PuKT96Lx+ryfux6S5pKm+K5LW\n",
       "OmkuPIcvAQEAAAAgnBAQAAAAAMIJAQEAAAAgnBAQAAAAAMIJAQEAAAAgnBAQAAAAAMIJAQEAAAAg\n",
       "nBAQAAAAAMIJAQEAAAAgnBAQAAAAAMLt23ZcXZ2/r9fQ7479bGuzc4yj7vQNPNcT754Zd/gKuuZd\n",
       "vce2rfd5zdru7MekfTbjHI5a4XwlPQs792NSHfmZta6xwvODZ/AlIAAAAACEEwICAAAAQDghIAAA\n",
       "AACEEwICAAAAQDghIAAAAACEEwICAAAAQDghIAAAAACEEwICAAAAQDghIAAAAACE27ftuKobfV+v\n",
       "od8d+1nddbnOuYz2PSqp3tu2xnwA/qT6rt+2+vtxhTEmmfEsXOGdYsY+65K0v72brW+Fs2XvAHyG\n",
       "LwEBAAAAIJwQEAAAAADCCQEBAAAAIJwQEAAAAADCCQEBAAAAIJwQEAAAAADCCQEBAAAAIJwQEAAA\n",
       "AADCCQEBAAAAINxx58fv6zXW6H7+xVCeY7SOo1aod+fesW8hzxPPdedcRvuufr491Z21XuGdYoUx\n",
       "Jqm+H9W7xoz7sXptOu8e+BdJ74VJc0ly58779rXxJSAAAAAAhBMCAgAAAEA4ISAAAAAAhBMCAgAA\n",
       "AEA4ISAAAAAAhBMCAgAAAEA4ISAAAAAAhBMCAgAAAEA4ISAAAAAAhDu6B/Dtjv3sHgL/yBp+1vt6\n",
       "Df3OusD/jJ6F0bN1p81qzvX6Ztzh9gUr6nyfqW5zhTPo/fFnd94BqlXXvHMu1fus893Mmfle3742\n",
       "vgQEAAAAgHBCQAAAAAAIJwQEAAAAgHBCQAAAAAAIJwQEAAAAgHBCQAAAAAAIJwQEAAAAgHBCQAAA\n",
       "AAAIJwQEAAAAgHBCQAAAAAAId3QP4ImO/Rz63ft6TR3HU4zWcXRdqDFjfyetYef577yjktaw2oza\n",
       "VK9h2hif+PzoXMOkOnZSx59V3ylP3d/+z3xW5/7p2uMrzHmG6nknzaVT0lx8CQgAAAAA4YSAAAAA\n",
       "ABBOCAgAAAAA4YSAAAAAABBOCAgAAAAA4YSAAAAAABBOCAgAAAAA4YSAAAAAABBOCAgAAAAA4fZt\n",
       "O67RH7+v19Dvjv1saW+G0THO0DnvUeoDczz1bHU9Z+5w96ztzp6w1jWqz+GMdVlhjPxe57le4f9M\n",
       "kqfe4Z3vR13vXCus3wp3zx0r1LxL0t3jS0AAAAAACCcEBAAAAIBwQkAAAAAACCcEBAAAAIBwQkAA\n",
       "AAAACCcEBAAAAIBwQkAAAAAACCcEBAAAAIBwQkAAAAAACHd0D2DE+3oN//bYz9K+q9vjZ531vrPP\n",
       "Rtk//Gp0nyXtnRlna9RoHe+M8Ylr+FRJa119DmfMeYU68p06907Su2vSXO606e75mTr+3hPnvG1Z\n",
       "d8+oO2P89jPjS0AAAAAACCcEBAAAAIBwQkAAAAAACCcEBAAAAIBwQkAAAAAACCcEBAAAAIBwQkAA\n",
       "AAAACCcEBAAAAIBwQkAAAAAACHd0D2DEsZ/dQ2Bh7+s19Lun7rPR+ozqrGPSXJ5KzZlthTtqxhir\n",
       "27xz3z7xXM9Y6+pn3Kgnrh8ZuvZu5/3of89zzFhD++f3up7BM/gSEAAAAADCCQEBAAAAIJwQEAAA\n",
       "AADCCQEBAAAAIJwQEAAAAADCCQEBAAAAIJwQEAAAAADCCQEBAAAAIJwQEAAAAADCCQEBAAAAINy+\n",
       "bcc1+uP39Rr63bGffzmcf+t3Rt/wqzv7cVTnvq2ezwpzGR3jjLUeNaOOK9zh1TwTfub8P6fvas7W\n",
       "zzrvvU72xXdKe3ft0nnXw9+SpXzet98VvgQEAAAAgHBCQAAAAAAIJwQEAAAAgHBCQAAAAAAIJwQE\n",
       "AAAAgHBCQAAAAAAIJwQEAAAAgHBCQAAAAAAIJwQEAAAAgHDHrR/v59Dv3tertL3R3/F51Wu9gqS5\n",
       "bFvWfFaYS/UYR89gpxXWBf6L88WvVtgTK6iuo3PweUn/AZzrGp11XGGfdZlRm6TzP8O3z9uXgAAA\n",
       "AAAQTggIAAAAAOGEgAAAAAAQTggIAAAAAOGEgAAAAAAQTggIAAAAAOGEgAAAAAAQTggIAAAAAOGE\n",
       "gAAAAAAQbt+24+rq/H29hn537OfUcXyr6uCwTqgAACAASURBVPqMtjfDCmuoPjVWONcz1rprPnfm\n",
       "krTPeI7q8+oc8C86383sXX61wjvXClb4D/DEZ2HS+/pTuaN+1nWufQkIAAAAAOGEgAAAAAAQTggI\n",
       "AAAAAOGEgAAAAAAQTggIAAAAAOGEgAAAAAAQTggIAAAAAOGEgAAAAAAQTggIAAAAAOH2bTuu7kEk\n",
       "eF+v8jaP/Szte7S9O22OutN3ter6dK71CmbsR2pYG5LNuJurOVvrW2GfjbIfP2uFvbPCnrhTx+r5\n",
       "eI+qkXQWVtiPd3T9H37qmemqoy8BAQAAACCcEBAAAAAAwgkBAQAAACCcEBAAAAAAwgkBAQAAACCc\n",
       "EBAAAAAAwgkBAQAAACCcEBAAAAAAwgkBAQAAACCcEBAAAAAAwu3bdlzdg3ia9/Ua+t2xn1PHUSFp\n",
       "LitQ7/V1rqH9s7bR9du28TVM2hN36jOqet5J9b7jqfOuVl3HFc7MCtSxxow6jlLvnyXVp3qf3alN\n",
       "V9+d74/V/a6i63k92p4vAQEAAAAgnBAQAAAAAMIJAQEAAAAgnBAQAAAAAMIJAQEAAAAgnBAQAAAA\n",
       "AMIJAQEAAAAgnBAQAAAAAMIJAQEAAAAg3NE9gGrv61Xa3rGfpe3xs+r127beNRydj322vq61vnNm\n",
       "VthnM+6AESvUhp+NrmHXHtu2OWOsbnPGWega41PrmNLvLF3/FWbcPSvcZ13tzTDj/HfdeyvUe4YV\n",
       "3sM7z3XXfuyc86gZZ6Zr3r4EBAAAAIBwQkAAAAAACCcEBAAAAIBwQkAAAAAACCcEBAAAAIBwQkAA\n",
       "AAAACCcEBAAAAIBwQkAAAAAACCcEBAAAAIBwR/cARryv1/Bvj/2cNo4qo2McnfcKc06aSyf1Wd+d\n",
       "+2zEnT3R2Te/13k/WsPPqj6DM9qcMcYVVJ/DzjqOjjHp/M+od3V90u7wrj3eOecV6v3Uc5007xWs\n",
       "8IzrfD/69rzHl4AAAAAAEE4ICAAAAADhhIAAAAAAEE4ICAAAAADhhIAAAAAAEE4ICAAAAADhhIAA\n",
       "AAAAEE4ICAAAAADhhIAAAAAAEG7ftuOqbvR9vYZ+d+xnddetfXcZnfMMo3XsHGO1zr3zxP29bfXz\n",
       "XuGOGnVnjEn7x71XY4W1rnZnXarrM2NPJI1xhbt5hbnws661vmOF54y9+1lJd8pTn4Wjku6eFZ7X\n",
       "M3z7O4UvAQEAAAAgnBAQAAAAAMIJAQEAAAAgnBAQAAAAAMIJAQEAAAAgnBAQAAAAAMIJAQEAAAAg\n",
       "nBAQAAAAAMIJAQEAAAAgnBAQAAAAAMId3QPg997Xq7S9Yz9L21ul7+o6Vre3beP16awjNUbXcMY+\n",
       "GzXad+dcku6UGXWsrk/1nlhF9bxXOP9PfVeo7jvtLFRb4R3Xs/BnK6xhkhXqs8K76wo637lWeN9b\n",
       "4Sx8O18CAgAAAEA4ISAAAAAAhBMCAgAAAEA4ISAAAAAAhBMCAgAAAEA4ISAAAAAAhBMCAgAAAEA4\n",
       "ISAAAAAAhBMCAgAAAEC4Y0qj+zn0u/f1Km3vjs6+R3X2naS6jqN7Z0bfT6WONbrqeKff0fN15xyO\n",
       "uDPG6mdcdb9PNeO5Xr2GnVZ47xnl/XF9K9Sneowz7p4V/nNV8x7+vdT7s5LONT+rXkNfAgIAAABA\n",
       "OCEgAAAAAIQTAgIAAABAOCEgAAAAAIQTAgIAAABAOCEgAAAAAIQTAgIAAABAOCEgAAAAAIQTAgIA\n",
       "AABAuH3bjqt7EJXe12vod8d+trQ3q83Kfu+oHmOa6prPqLcxfqcZ57VLZ7277tunurNvO5/D367z\n",
       "/K9Qx853s1Er1LGTPf6zpP8KK1hhT/Czrr1r7/Bfvv3d1ZeAAAAAABBOCAgAAAAA4YSAAAAAABBO\n",
       "CAgAAAAA4YSAAAAAABBOCAgAAAAA4YSAAAAAABBOCAgAAAAA4YSAAAAAABBu37bj6h5Eh/f1Gvrd\n",
       "sZ9Tx/GTFcY4qnMuo32PWqHed1TXZ9SdOlrD37tTmxXm3XVXdJ2DbVtjXUbNqONofVZ4zqT1DYxL\n",
       "e15Xc5d91oz9uMIaVo+x8/1xBU/9b//tZ8GXgAAAAAAQTggIAAAAAOGEgAAAAAAQTggIAAAAAOGE\n",
       "gAAAAAAQTggIAAAAAOGEgAAAAAAQTggIAAAAAOGEgAAAAAAQTggIAAAAAOGO7gGkeF+v8jaP/Sxv\n",
       "M8lozUfrOGMNu9yZywr7bIUxdrlTm+ozM0P1eR1tzx77vCfWfMYZVMffe2JtgPvcKTVWqE/1GGe8\n",
       "h3eqrs9T33u+fYy+BAQAAACAcEJAAAAAAAgnBAQAAACAcEJAAAAAAAgnBAQAAACAcEJAAAAAAAgn\n",
       "BAQAAACAcEJAAAAAAAgnBAQAAACAcPu2HVd1o+/rNfS7Yz+ru27tu5o6PsdovUfdWZfqtbZ31ufu\n",
       "eY6u83/HCnfPCn1XW6GOd2rjTmG2zvtxBTPuUe8U38m6fNYKz8IVxnjHt+9xXwICAAAAQDghIAAA\n",
       "AACEEwICAAAAQDghIAAAAACEEwICAAAAQDghIAAAAACEEwICAAAAQDghIAAAAACEEwICAAAAQLjj\n",
       "zo/f12vSMPgXo+ty7Odwm6O/ndE3n1W9NtZ6fdXnfwZ3Tw31qVFdxztnK+l5vcLd80Qz6u3u+Vnn\n",
       "nTKq6/1xxv0If2uFszVD9bxXmPMd3z4fXwICAAAAQDghIAAAAACEEwICAAAAQDghIAAAAACEEwIC\n",
       "AAAAQDghIAAAAACEEwICAAAAQDghIAAAAACEEwICAAAAQLjj1o/3c9IwWJU98bP39Rr6XWcdR8dY\n",
       "zd5Z3+ga3tlj1fuia39v2zP3+Iw5d65hdd+d9ek8W9V9P/Fssb47+7b6XCedmaS53LHC82iFvlew\n",
       "wv/HUSuMsVPXufYlIAAAAACEEwICAAAAQDghIAAAAACEEwICAAAAQDghIAAAAACEEwICAAAAQDgh\n",
       "IAAAAACEEwICAAAAQDghIAAAAACEEwICAAAAQLijs/P39Rr63bGfw23e+e3TjNZ728breKfNaius\n",
       "9RPr2DkXPmvGHW7/8Kvqe3TGs7DajH5nnFf+3Yw7zxp+pxXunjTV56tzXVbYE54z32nGe7g1rNFV\n",
       "R18CAgAAAEA4ISAAAAAAhBMCAgAAAEA4ISAAAAAAhBMCAgAAAEA4ISAAAAAAhBMCAgAAAEA4ISAA\n",
       "AAAAhBMCAgAAAEC4o3sAXd7Xq7S9Yz/L+x5ts7q9O23yne6s9Qq69mNaHUetcP6r1+bOnKvv5up+\n",
       "VzHj2fVE1fus853iiWu9wpxXGGOnzmdm13+KO+yfz+q8b631z7reXa0Lv/IlIAAAAACEEwICAAAA\n",
       "QDghIAAAAACEEwICAAAAQDghIAAAAACEEwICAAAAQDghIAAAAACEEwICwP9t145yHcSVLYCCxEAZ\n",
       "WgYaifffeifXdJdT8Wat7wjsctmQLQAAAMIJAQEAAAAg3NE9gGrv61V6vWM/W+4745p3rjc6b2pU\n",
       "13uFtZ6xZzr3K2tz5tVY4Vk4Y61HxzjjjNK7/JLqvZBkxpyfWMc71OdvnjPft8L5aK2fwZeAAAAA\n",
       "ABBOCAgAAAAA4YSAAAAAABBOCAgAAAAA4YSAAAAAABBOCAgAAAAA4YSAAAAAABBOCAgAAAAA4YSA\n",
       "AAAAABDuuPPj9/Uau+h+/ouh1Ki+9+ic7+isz6gV1noF1f0zo95PHCOfJZ3hnTqfR0l1rJb2XK9+\n",
       "XjtvnyNtL3RJmnPSXJ4q6ax3Rn2WNBe+y5eAAAAAABBOCAgAAAAA4YSAAAAAABBOCAgAAAAA4YSA\n",
       "AAAAABBOCAgAAAAA4YSAAAAAABBOCAgAAAAA4YSAAAAAABBOCAgAAAAA4fZtO67uQQC13ter/JrH\n",
       "frbdu8vonLdtfN53rtmleg075zxjXbp6/Kn9OKrz3Kt2Zy7VY0yqI3CP/b++zvcezyNYgy8BAQAA\n",
       "ACCcEBAAAAAAwgkBAQAAACCcEBAAAAAAwgkBAQAAACCcEBAAAAAAwgkBAQAAACCcEBAAAAAAwgkB\n",
       "AQAAACDcvm3H1T0Ifs/7epVe79jP0uuxvjs9Nto/o9fUj589cf/P6EdqVO9raw33VD8Ttm3Ofu26\n",
       "91PPiaR3haS5zNBVn879D8l8CQgAAAAA4YSAAAAAABBOCAgAAAAA4YSAAAAAABBOCAgAAAAA4YSA\n",
       "AAAAABBOCAgAAAAA4YSAAAAAABBOCAgAAAAA4Y7uAfCbjv3sHgKLel+vod/N6LEn9u1ovbftmfUZ\n",
       "pTbfd6d3O64HzNP5rsBvcoZ/1wrvj2n7v6vHZ9TRGb42XwICAAAAQDghIAAAAACEEwICAAAAQDgh\n",
       "IAAAAACEEwICAAAAQDghIAAAAACEEwICAAAAQDghIAAAAACEEwICAAAAQLijewD87X29hn537OfU\n",
       "ccAdM/pxdC+M6hzj6L1n7P8nnimddRyVVO8ZqvcMzzGjJ1bYr51n/Qr1qfbUPlvhbF6hjl3SarPC\n",
       "e3h1zWfsLe9Sz+BLQAAAAAAIJwQEAAAAgHBCQAAAAAAIJwQEAAAAgHBCQAAAAAAIJwQEAAAAgHBC\n",
       "QAAAAAAIJwQEAAAAgHBCQAAAAAAIJwQEAAAAgHBH9wBSvK/X8G+P/Sz93ei9R6/Hs6zQPyv0bvV+\n",
       "hRV19veMPbjC+ThqhbXhs641vLN+K4yx+pqe65/Z/3zDE/erc49/y5eAAAAAABBOCAgAAAAA4YSA\n",
       "AAAAABBOCAgAAAAA4YSAAAAAABBOCAgAAAAA4YSAAAAAABBOCAgAAAAA4YSAAAAAABDu6B7Ar3tf\n",
       "r6HfHfs5dRy/em9+02jfrqJrPvb1ZyucjzNUz2dGf4+OMe2sGDGjH1fYC2n7cMSdOY+u4Qp7xv6v\n",
       "UV2fJ+7BbVvjfIR/6nxXGOWd4rMVzp6unvAlIAAAAACEEwICAAAAQDghIAAAAACEEwICAAAAQDgh\n",
       "IAAAAACEEwICAAAAQDghIAAAAACEEwICAAAAQDghIAAAAACEO+78+H29am++ny33vXNv1jfaP0k9\n",
       "cWcu1furs97V15xx9nSqPnNX2DMrPGdWqOMKZvRt9TVXGONTeX78Te/wDU/9v+cMr9H1vL6j896j\n",
       "VujHFd7Nfp0vAQEAAAAgnBAQAAAAAMIJAQEAAAAgnBAQAAAAAMIJAQEAAAAgnBAQAAAAAMIJAQEA\n",
       "AAAgnBAQAAAAAMIJAQEAAAAg3NE9gC7v69V2vWM/S+/9VKM1H6139fXuqO7HzjFW1/vONTtVz7uz\n",
       "H1eo9xPN2DMz9uuorj6bMZdqK4yRzzrP0c7nRzXPwhoz6pjUZ9XS3nGrJb1TdJ49M/bgCu9mSXum\n",
       "ay6+BAQAAACAcEJAAAAAAAgnBAQAAACAcEJAAAAAAAgnBAQAAACAcEJAAAAAAAgnBAQAAACAcEJA\n",
       "AAAAAAgnBAQAAACAcEJAAAAAAAh3dN78fb2GfnfsZ+s1q1WPcYU5jxqdy7bVz6e63neuuYKuet9R\n",
       "vRc6108/8k8r9GMaz+G/rTAX4J7Od4o79x7lnPrbCu+Pae89K/xP6XoH6Mx7nnhO+BIQAAAAAMIJ\n",
       "AQEAAAAgnBAQAAAAAMIJAQEAAAAgnBAQAAAAAMIJAQEAAAAgnBAQAAAAAMIJAQEAAAAgnBAQAAAA\n",
       "AMIdt368n5OG8dn7eg3/dnSMo9ecMecVxlhtxlyqr3mnz/hNnXtB//ymFdZlhbN+hTN8Rn26+qez\n",
       "b1d4p5jhie8UK4wx7dyr1jnG6v5ZYYyjnnqOjkpaa77P/vrvfAkIAAAAAOGEgAAAAAAQTggIAAAA\n",
       "AOGEgAAAAAAQTggIAAAAAOGEgAAAAAAQTggIAAAAAOGEgAAAAAAQTggIAAAAAOH2bTuu7kH8L+/r\n",
       "NfzbYz9Lrzl6vae6szZdqntiBXf61l7424yzp/re1vp3PbHenedoUh1nqF6bFerdeYaPmrFnVlib\n",
       "FTzxPOvsx6RnprNnfU+tT9I+5G++BAQAAACAcEJAAAAAAAgnBAQAAACAcEJAAAAAAAgnBAQAAACA\n",
       "cEJAAAAAAAgnBAQAAACAcEJAAAAAAAgnBAQAAACAcEfnzd/Xa+h3x35OHQe/Y8Za67PPRuc9WscZ\n",
       "qsf41LWuNqMnnrg2SX3beYZ3ql7DpPP2zjWr3blvdc1H7925r5POnju65r3CWbaCFc6eGVbon6Qz\n",
       "ZYUxeg/n3/IlIAAAAACEEwICAAAAQDghIAAAAACEEwICAAAAQDghIAAAAACEEwICAAAAQDghIAAA\n",
       "AACEEwICAAAAQDghIAAAAACEEwICAAAAQLhjxkXf12vGZflBx3623VuffVfnWneZMefRvp1x7+pr\n",
       "PrEnZhit450zL2ltqueSVscZ/VN53zv3Tqr3Crp65869Z0haw859XW2FdUl6h2N9nf9TRunb3+RL\n",
       "QAAAAAAIJwQEAAAAgHBCQAAAAAAIJwQEAAAAgHBCQAAAAAAIJwQEAAAAgHBCQAAAAAAIJwQEAAAA\n",
       "gHBCQAAAAAAId9z58ft61d58P1vue+ferM9a80ue2I93zvAV6jM6nxXm0impjtVjnDFn71yfrTDG\n",
       "ajPWussKfdu5r1fw1DVcQdLzGvAlIAAAAADEEwICAAAAQDghIAAAAACEEwICAAAAQDghIAAAAACE\n",
       "EwICAAAAQDghIAAAAACEEwICAAAAQDghIAAAAACE27ftuLoH8b+8r1f5NY/9LL8m/92MtR6lJ2qM\n",
       "ruGdelf3hbX+rjvrN7o2zorPZuzDX/fEOfPZjLOHGvYr36DP1uYMX589+Jt8CQgAAAAA4YSAAAAA\n",
       "ABBOCAgAAAAA4YSAAAAAABBOCAgAAAAA4YSAAAAAABBOCAgAAAAA4YSAAAAAABBOCAgAAAAA4Y47\n",
       "P35fr7GL7ue/GArM6Z3RvqXGjDWsvmZnTzzxfHzinLt11dze4hs812t0vtd37tcn/p+ZsWdWeM6M\n",
       "jrG6Pkm9s219e+bO9Z64r5+q6x0gqXd8CQgAAAAA4YSAAAAAABBOCAgAAAAA4YSAAAAAABBOCAgA\n",
       "AAAA4YSAAAAAABBOCAgAAAAA4YSAAAAAABBOCAgAAAAA4YSAAAAAABBu37bjGv3x+3oN/e7Yz9Lr\n",
       "zTA6RoAO1eftDCuMcdSd51HSfFaYS7W0tea7qt9dneGfzfivsMK+7uqztHqvsF+TxvjUPkuywnOh\n",
       "S9L7oy8BAQAAACCcEBAAAAAAwgkBAQAAACCcEBAAAAAAwgkBAQAAACCcEBAAAAAAwgkBAQAAACCc\n",
       "EBAAAAAAwgkBAQAAACDc0T0AWM37epVf89jP8mtWmzHvUSvUp9qMOY+uoXp/llTHFebSefasoHoN\n",
       "V+iJUXd6Z3Q+1fPufKeo7ok7VugfWNGMM7x6v844e5KeXSvoeve4c81qSb3jS0AAAAAACCcEBAAA\n",
       "AIBwQkAAAAAACCcEBAAAAIBwQkAAAAAACCcEBAAAAIBwQkAAAAAACCcEBAAAAIBwQkAAAAAACLdv\n",
       "23GN/vh9vYZ+d+xn6fXuGL13p+o68l13+rZ6L6zQE0/d111m9CP80wpnlLPnu9LOnhV6nOfo+s91\n",
       "p7+fOMYVrPAsnDHGUUlrPUPSnqnusxXmPMqXgAAAAAAQTggIAAAAAOGEgAAAAAAQTggIAAAAAOGE\n",
       "gAAAAAAQTggIAAAAAOGEgAAAAAAQTggIAAAAAOGEgAAAAAAQbt+24xr98ft6TRzKcxz72T0EFjW6\n",
       "B/UY39D5TOjs8ep5J81lhtH6JJ2Pd9alej5JdZzhiedeZz92StoLK5z1nTxnvqu63neuyWfVPT5j\n",
       "z6wwxl/nS0AAAAAACCcEBAAAAIBwQkAAAAAACCcEBAAAAIBwQkAAAAAACCcEBAAAAIBwQkAAAAAA\n",
       "CCcEBAAAAIBwQkAAAAAACCcEBAAAAIBwx60f7+ekYXz2vl7Dvx0d4+g1u+YM/x/9+Bx3zr1RT+yf\n",
       "GXUclfQ8SuqdFfaWtf5dT6zPnTlX76+kvTDj/0zX9VbR+Q7w62b0RGe9V3iX4rvs/7/5EhAAAAAA\n",
       "wgkBAQAAACCcEBAAAAAAwgkBAQAAACCcEBAAAAAAwgkBAQAAACCcEBAAAAAAwgkBAQAAACCcEBAA\n",
       "AAAAwu3bdlzdg6j0vl6l1zv2s/R6fF91T9zxxP6ZUe8n1nHUCvW+M8aute4cY9Iadu7VFeo4aoU9\n",
       "A//FCmfKqCfOZdvWmA/f1fk/PGkfrkC91+ZLQAAAAAAIJwQEAAAAgHBCQAAAAAAIJwQEAAAAgHBC\n",
       "QAAAAAAIJwQEAAAAgHBCQAAAAAAIJwQEAAAAgHBCQAAAAAAId3Te/H29Om9Pgc41PPaz9HedRuu4\n",
       "wlyoMaMnuvZr5xhX2DMrjLFT0vmYNJcZqutz5zx5as1HzKijen/WdVbMeF5b68+S6lg9Rmf471Lv\n",
       "tfkSEAAAAADCCQEBAAAAIJwQEAAAAADCCQEBAAAAIJwQEAAAAADCCQEBAAAAIJwQEAAAAADCCQEB\n",
       "AAAAIJwQEAAAAADCHXd+/L5etTffz9LrAevo3P+jZ1nnGEfvXX0ur6J6bWas9Qp9NmpGP45es7o+\n",
       "M8bYdb1VVO+FznMvaV8/cS7b1revO8c4qnOM+rHmmivUZ1TSXPhshfMxiS8BAQAAACCcEBAAAAAA\n",
       "wgkBAQAAACCcEBAAAAAAwgkBAQAAACCcEBAAAAAAwgkBAQAAACCcEBAAAAAAwgkBAQAAACCcEBAA\n",
       "AAAAwu3bdlzdg+D3vK9Xy32P/Sy/5uhcZtyb3zSjJ6qv2TnGUdVzmXHNzjNllLOHdCu8U6xwhneZ\n",
       "sX5Jz8JRnWvduYadkvbhqCfOeRXeH2vo8f/Ol4AAAAAAEE4ICAAAAADhhIAAAAAAEE4ICAAAAADh\n",
       "hIAAAAAAEE4ICAAAAADhhIAAAAAAEE4ICAAAAADhhIAAAAAAEO7oHgBrO/Zz6Hfv6zV1HJ9Uj3H0\n",
       "emmq1zCtjknz6dwznWfFqOq1dvb8Ludeja53hTvXW+F9ptpT59J1hs+o91PPlFFJ9fGu8Js6z9EV\n",
       "3sP142/yJSAAAAAAhBMCAgAAAEA4ISAAAAAAhBMCAgAAAEA4ISAAAAAAhBMCAgAAAEA4ISAAAAAA\n",
       "hBMCAgAAAEA4ISAAAAAAhDvu/Ph9vSYN47NjP1vu+2SjNe/qiTv3TuqfJ855hs7+7lyb6nvPmEtX\n",
       "fTrX+qn7dYXzrPqsWGHOo+7sma75rHBGOXs+W2GMSdS7Rtr7I39bYV1mPK87MwD+O18CAgAAAEA4\n",
       "ISAAAAAAhBMCAgAAAEA4ISAAAAAAhBMCAgAAAEA4ISAAAAAAhBMCAgAAAEA4ISAAAAAAhBMCAgAA\n",
       "AEC449aP97P05u/rVXo91nenJ6r7cYbqHl9hziuMcdSduSSt9ehcktb6jq55dz4zR+ec9lyv3gud\n",
       "9Vnh3iucKZ1n/Qr7a4UxrrBf+U1JZxmfrbD/R/tsRj925kIr7K9fPyt8CQgAAAAA4YSAAAAAABBO\n",
       "CAgAAAAA4YSAAAAAABBOCAgAAAAA4YSAAAAAABBOCAgAAAAA4YSAAAAAABBOCAgAAAAA4YSAAAAA\n",
       "ABBu37bjqr7o+3pVX3LYsZ9t9+a7qvtM7zzHaO909sRTz9Gufa3en60wxlF35lJdnxn17updz8zP\n",
       "VljrpH09Q+e+rjaj3s4AmOOJZ0raefLr9fElIAAAAACEEwICAAAAQDghIAAAAACEEwICAAAAQDgh\n",
       "IAAAAACEEwICAAAAQDghIAAAAACEEwICAAAAQDghIAAAAACE27ftuLpu/r5eQ7879rP8mqPu3Bv+\n",
       "aUaP87fO/e/s+dud2ozOu3Nv2ddrS+tHnqPrOVN93zv3HjVjX1ffu3P/z1jDaivU56lneFf/PLXe\n",
       "SZL2VtJzxpeAAAAAABBOCAgAAAAA4YSAAAAAABBOCAgAAAAA4YSAAAAAABBOCAgAAAAA4YSAAAAA\n",
       "ABBOCAgAAAAA4YSAAAAAABDu6B5AtWM/u4dAuPf1Gv6tfvyu0XrfWcNqST0xWscZc65e6ztjTFrD\n",
       "FXTu1857j6oe44xztHrPzNjX1dec0TtdZ8+MOlbrXOsVngkrvB91WqE+K/TZCjrfXVfw1DNgRFJP\n",
       "+BIQAAAAAMIJAQEAAAAgnBAQAAAAAMIJAQEAAAAgnBAQAAAAAMIJAQEAAAAgnBAQAAAAAMIJAQEA\n",
       "AAAgnBAQAAAAAMIdd378vl5jF93P0t/NUD0X1jfaEzOuOdpnM8b4xB6fMWd1/Nudvq2u4xPXZYYZ\n",
       "Z0+1zn6srk/nnkmyQh2t33PoxxppdRydT+dzuLqOM+a8Qu8+kXX5rGtf+xIQAAAAAMIJAQEAAAAg\n",
       "nBAQAAAAAMIJAQEAAAAgnBAQAAAAAMIJAQEAAAAgnBAQAAAAAMIJAQEAAAAgnBAQAAAAAMIJAQEA\n",
       "AAAg3NE9gGrv6/Xz9z32c9o4flXXuvC/ja7NE/v2qar3q96p0fmcmbGG1WdP0lm2whhnsIa/acbZ\n",
       "07X/O93piaS9UC2tjl33vrNnquuYVO+0DGCFMSbpqrcvAQEAAAAgnBAQAAAAAMIJAQEAAAAgnBAQ\n",
       "AAAAAMIJAQEAAAAgnBAQAAAAAMIJAQEAAAAgnBAQAAAAAMIJAQEAAAAg3DHjou/rNXbz/Sy/d/U1\n",
       "O+fSqWved643OsYknX2WtBdmzGWF+lTvmRlzWWFfd61hWj+ucFaMSprLqLR+fKIVztsVzOhve6HG\n",
       "aB0794Lz8TdZl+d44lr7EhAAAAAAwgkBAQAAACCcEBAAAAAAwgkBAQAAACCcEBAAAAAAwgkBAQAA\n",
       "ACCcEBAAAAAAwgkBAQAAACCcEBAAAAAAwu3bdlzdg+D3vK9X6fWO/Sy93h3Vc5khqT6jc7lz3xnX\n",
       "/HWdc67uxxlrXa2zjqP3TjonVtFZ81+3wtnD71rhTEk6w/muFd577ujaryvUZgVp/VjtiWe4LwEB\n",
       "AAAAIJwQEAAAAADCCQEBAAAAIJwQEAAAAADCCQEBAAAAIJwQEAAAAADCCQEBAAAAIJwQEAAAAADC\n",
       "CQEBAAAAINy+bcfVPQi+4329hn97SEpiOAAACdBJREFU7Gf5NX/djDmPXpPPRmtevYZp67fCvKvP\n",
       "lBlz6erHGarrs8JcnOHft8LZQ42kte4861eoT7UVnh8zdO2ZGfV+Yh3vWGGtnT1/S6qNLwEBAAAA\n",
       "IJwQEAAAAADCCQEBAAAAIJwQEAAAAADCCQEBAAAAIJwQEAAAAADCCQEBAAAAIJwQEAAAAADCCQEB\n",
       "AAAAIJwQEAAAAADC7dt2XN2DqPS+XkO/O/Zz6jgqjM4lyQrr0impv9MkrU3SXAA6dL7DdZ7N1fOe\n",
       "MZeutXnqM7P6nWLG+q2wNuq4vq7z8c59reEz+BIQAAAAAMIJAQEAAAAgnBAQAAAAAMIJAQEAAAAg\n",
       "nBAQAAAAAMIJAQEAAAAgnBAQAAAAAMIJAQEAAAAgnBAQAAAAAMId3QMY8b5ew7899rP0mqPXu6Pz\n",
       "3tWeWMcZ/QjMcWe/VlvheTRqxhirrzljrZ3h/NMK+7VT0ryT5pLkqevSOe+n1nxE53tm57vZqM4M\n",
       "oNOv7xlfAgIAAABAOCEgAAAAAIQTAgIAAABAOCEgAAAAAIQTAgIAAABAOCEgAAAAAIQTAgIAAABA\n",
       "OCEgAAAAAIQTAgIAAABAuH3bjqvr5u/rNfS7Yz+njoPfMdoT25bVF3fmPWJGbVYYI9/11DO8ei+M\n",
       "6qxj15y3bXzeK4yR71qhJ5763sP6kt4BkuYyasbZ479Cjc5nV5c7a/3E9/BqvgQEAAAAgHBCQAAA\n",
       "AAAIJwQEAAAAgHBCQAAAAAAIJwQEAAAAgHBCQAAAAAAIJwQEAAAAgHBCQAAAAAAIJwQEAAAAgHD7\n",
       "th1X183f16v8msd+tt272uhcqDHaE09dl+o989Q6juo8H3mOJz4LO+f81D2Y9Hx94rPQnqlxp44r\n",
       "nHtdY5zREyvce1TSnnmqFZ6ZnX1bXZ8V6l3Nl4AAAAAAEE4ICAAAAADhhIAAAAAAEE4ICAAAAADh\n",
       "hIAAAAAAEE4ICAAAAADhhIAAAAAAEE4ICAAAAADhhIAAAAAAEE4ICAAAAADh9m07ru5BVHpfr6Hf\n",
       "HfvZct87OsdYfe8kT61j196aYcZ+HZVUn9G5rHA+wn+RdD52cvb8Js/Mz2bs/86aj1phbaolrfWM\n",
       "9fMs/C5n83clZQC+BAQAAACAcEJAAAAAAAgnBAQAAACAcEJAAAAAAAgnBAQAAACAcEJAAAAAAAgn\n",
       "BAQAAACAcEJAAAAAAAgnBAQAAACAcEf3AEa8r9fwb4/9bLn3nfvemQ9/q16bGWudZIV5d/XEnWt2\n",
       "WqHHV6gjz/HE5/WMOSft6xXO0WpJc7mjc627/s/wfV1r7awnXXWPz8h7uvaMLwEBAAAAIJwQEAAA\n",
       "AADCCQEBAAAAIJwQEAAAAADCCQEBAAAAIJwQEAAAAADCCQEBAAAAIJwQEAAAAADCCQEBAAAAINy+\n",
       "bcc1+uP39Rr63bGfpdebYXSMo+7Mpbo+M+pdXZ9O1XVMk1SfpDNlhq76rFCbGarr/dQ6dkpaw6R3\n",
       "uFF36u185N+a0Tud/1NG6V0gwRPPR18CAgAAAEA4ISAAAAAAhBMCAgAAAEA4ISAAAAAAhBMCAgAA\n",
       "AEA4ISAAAAAAhBMCAgAAAEA4ISAAAAAAhBMCAgAAAEC4o3sAI479HP7t+3qV3nv0enfGOKr6mjPG\n",
       "uIIV5l3dZ3f2wQr1qTajjiuoXuvR+nT244w1fOKeeaoV1rrrPaWzNp37uvN53WWFfdBphbW2hsAv\n",
       "6/yvsMIZXs2XgAAAAAAQTggIAAAAAOGEgAAAAAAQTggIAAAAAOGEgAAAAAAQTggIAAAAAOGEgAAA\n",
       "AAAQTggIAAAAAOGEgAAAAAAQTggIAAAAAOGO7gFUO/Zz6Hfv61V6PZ5jtHe2rb5/7ty7+por7IXq\n",
       "/X9HVx1nzGV0jCv0RKfO+qywr6t7Vz/WmHGmjHL2fPbUeadIOm/v0LfQq/O/64z7dp1nSWeZLwEB\n",
       "AAAAIJwQEAAAAADCCQEBAAAAIJwQEAAAAADCCQEBAAAAIJwQEAAAAADCCQEBAAAAIJwQEAAAAADC\n",
       "CQEBAAAAINy+bcfVPQiY6X29Sq937Gfp9Wa4M+fR+Yxes7M+nWNcoT78puozatvW6LPqPTNjDybt\n",
       "6xXOxxUk9eMK/d3ZO9XzTprLtj2zf1aYywrPI37XCn3WdZYm7S1fAgIAAABAOCEgAAAAAIQTAgIA\n",
       "AABAOCEgAAAAAIQTAgIAAABAOCEgAAAAAIQTAgIAAABAOCEgAAAAAIQTAgIAAABAuH3bjqt7EPAL\n",
       "3tdr6HfHfrbde9RTxzhqhbXurA/fVb23ti2rf+zXGklzGXVnbyXNe9SMs2dUUr2d4fySFfpxhTGu\n",
       "YMZz3btCjV+vjy8BAQAAACCcEBAAAAAAwgkBAQAAACCcEBAAAAAAwgkBAQAAACCcEBAAAAAAwgkB\n",
       "AQAAACCcEBAAAAAAwgkBAQAAACDcvm3HNfrj9/Ua+t2xn/9yOP/dCmNkbaM9dod+rFG9/zvXWp+R\n",
       "rrrHZ/S3MTLbnfWzNr9pxn+PpP8znXNJqmO1zrNHT/wu9fmurnc4XwICAAAAQDghIAAAAACEEwIC\n",
       "AAAAQDghIAAAAACEEwICAAAAQDghIAAAAACEEwICAAAAQDghIAAAAACEEwICAAAAQDghIAAAAACE\n",
       "O279eD9Lb/6+XqXXe6oZdaxe6yRptRntn879P3rv6jF2rnVan/26Gf04497Vntjjnc/MrvN2hhX2\n",
       "zAp1vKN63klnT2c/juqs94w9s8I+fOLZPEN1fZ5ax1H6cX2/nnP5EhAAAAAAwgkBAQAAACCcEBAA\n",
       "AAAAwgkBAQAAACCcEBAAAAAAwgkBAQAAACCcEBAAAAAAwgkBAQAAACCcEBAAAAAAwh13fvy+XmMX\n",
       "3c/S381QPZdO6sh/Mbo2o2v9VPbCc3TthTu9Uz3GFfq7c4wr1KfzrF+hPqNWeBf2vK7RWceuvXBn\n",
       "ziu8P67wn3RU5zm6wlqPWmGtV5D0XJ/h1+ftS0AAAAAACCcEBAAAAIBwQkAAAAAACCcEBAAAAIBw\n",
       "QkAAAAAACCcEBAAAAIBwQkAAAAAACCcEBAAAAIBwQkAAAAAACLdv23F1D6LS+3oN/e7Yz6njqDA6\n",
       "l1Ez5pxUb/iGFfY1n1nDGtV1XEHnWnf2bfW7wlPfPZw9NVboR2v9txWeHUln/Sr0+N+cPfyTLwEB\n",
       "AAAAIJwQEAAAAADCCQEBAAAAIJwQEAAAAADCCQEBAAAAIJwQEAAAAADCCQEBAAAAIJwQEAAAAADC\n",
       "CQEBAAAAINy+bcfVPQgAAAAAYB5fAgIAAABAOCEgAAAAAIQTAgIAAABAOCEgAAAAAIQTAgIAAABA\n",
       "OCEgAAAAAIQTAgIAAABAOCEgAAAAAIQTAgIAAABAuP8DlJMikKK2O4kAAAAASUVORK5CYII=\n",
       "\" transform=\"translate(500, 126)\"/>\n",
       "</g>\n",
       "<defs>\n",
       "  <clipPath id=\"clip313\">\n",
       "    <rect x=\"2160\" y=\"126\" width=\"73\" height=\"1282\"/>\n",
       "  </clipPath>\n",
       "</defs>\n",
       "<g clip-path=\"url(#clip313)\">\n",
       "<image width=\"72\" height=\"1281\" xlink:href=\"data:image/png;base64,\n",
       "iVBORw0KGgoAAAANSUhEUgAAAEgAAAUBCAYAAAAvgsdEAAALJklEQVR4nO3dwY3sRhAFQY5Q/lsh\n",
       "L6XfLQtUeSQPERYMEg9Eo4c7+/v3/H0f/tdfb3+ArxMoCBQECgKFOffftz/Dp1lQECgIFAQKc++f\n",
       "tz/Dp1lQECgIFAQKTtLBgoJAQaAgUJjrIb2yoCBQECgIFOYeD+mNBQWBgkBBoOAkHSwoCBQECgIF\n",
       "D+lgQUGgIFAQKLjuCBYUBAoCBYHCPE7SKwsKAgWBgkDBdUewoCBQECgIFOZx3bGyoCBQECgIFOY5\n",
       "/7z9GT7NgoJAQaAgUHAnHSwoCBQECgIF1x3BgoJAQaAgUPCQDhYUBAoCBYGC645gQUGgIFAQKMzP\n",
       "SXplQUGgIFAQKMxz/J70xoKCQEGgIFBwkg4WFAQKAgWBgpN0sKAgUBAoCBS83REsKAgUBAoChfk5\n",
       "Sa8sKAgUBAoCBa/gBQsKAgWBgkDBSTpYUBAoCBQECr44DBYUBAoCBYGCk3SwoCBQECgIFJykgwUF\n",
       "gYJAQaDgJB0sKAgUBAoChXnOefszfJoFBYGCQEGg4CQdLCgIFAQKAgV30sGCgkBBoCBQ8JAOFhQE\n",
       "CgIFgcL83EmvLCgIFAQKAgUn6WBBQaAgUBAoeLsjWFAQKAgUBAquO4IFBYGCQEGg4LojWFAQKAgU\n",
       "BAquO4IFBYGCQEGg4CEdLCgIFAQKAgV/cRgsKAgUBAoCBSfpYEFBoCBQECh4SAcLCgIFgYJAwUM6\n",
       "WFAQKAgUBAoe0sGCgkBBoCBQmOd6SG8sKAgUBAoCBSfpYEFBoCBQECh4SAcLCgIFgYJAwUM6WFAQ\n",
       "KAgUBArznPv2Z/g0CwoCBYGCQMFJOlhQECgIFAQKTtLBgoJAQaAgUHCSDhYUBAoCBYGCk3SwoCBQ\n",
       "ECgIFOZxkF5ZUBAoCBQECvNcJ+mNBQWBgkBBoOAkHSwoCBQECgIFD+lgQUGgIFAQKIzfV9pZUBAo\n",
       "CBQECk7SwYKCQEGgIFDwkA4WFAQKAgWBwjzn9/Zn+DQLCgIFgYJAYe71kN5YUBAoCBQECq47ggUF\n",
       "gYJAQaDguiNYUBAoCBQECnOPRht1gkBBoCBQcJIOFhQECgIFgcI8vjhcWVAQKAgUBApznaRXFhQE\n",
       "CgIFgcI87qRX6gSBgkBBoOAkHSwoCBQECgIFd9LBgoJAQaAgUPAKXlAnCBQECgIFr+AFCwoCBYGC\n",
       "QMGddLCgIFAQKAgU5l6NNuoEgYJAQaDguiNYUBAoCBQECq47ggUFgYJAQaAwj+uOlTpBoCBQECg4\n",
       "SQcLCgIFgYJAwUM6WFAQKAgUBAr+4jBYUBAoCBQECv7iMKgTBAoCBYGCf0QbLCgIFAQKAgV30sGC\n",
       "gkBBoCBQ8HvSQZ0gUBAoCBRcdwQLCgIFgYJAwXVHsKAgUBAoCBScpIMFBYGCQEGg4BW8oE4QKAgU\n",
       "BApO0sGCgkBBoCBQcCcdLCgIFAQKAgUn6WBBQaAgUBAo+NH/YEFBoCBQECj491lBnSBQECgIFFx3\n",
       "BAsKAgWBgkDBF4fBgoJAQaAgUHCSDhYUBAoCBYHCHA/plQUFgYJAQaDgLw6DOkGgIFAQKLjuCBYU\n",
       "BAoCBYGCh3SwoCBQECgIFLzdESwoCBQECgIFJ+lgQUGgIFAQKHhIBwsKAgWBgkDBn4UHdYJAQaAg\n",
       "UJjjTnplQUGgIFAQKLjuCBYUBAoCBYGCh3SwoCBQECgIFDykgwUFgYJAQaDgtzuCBQWBgkBBoOAk\n",
       "HSwoCBQECgIFD+lgQUGgIFAQKHhPOqgTBAoCBYGC96SDBQWBgkBBoOC6I1hQECgIFAQKHtLBgoJA\n",
       "QaAgUPAKXrCgIFAQKAgUnKSDBQWBgkBBoDD38ZDeWFAQKAgUBAquO4IFBYGCQEGg4LojWFAQKAgU\n",
       "BApO0sGCgkBBoCBQcJIOFhQECgIFgYKTdLCgIFAQKAgUnKSDBQWBgkBBoOAhHSwoCBQECgKFOd6T\n",
       "XllQECgIFAQKTtLBgoJAQaAgUPDFYbCgIFAQKAgU5t63P8K3WVAQKAgUBApO0sGCgkBBoCBQ8ANL\n",
       "wYKCQEGgIFBwkg4WFAQKAgWBgrc7ggUFgYJAQaDgPelgQUGgIFAQKHi7I1hQECgIFAQK7qSDBQWB\n",
       "gkBBoOBOOlhQECgIFAQK7qSDBQWBgkBBoOC6I1hQECgIFAQKvjgMFhQECgIFgYLrjmBBQaAgUBAo\n",
       "+OIwWFAQKAgUBApz3v4EH2dBQaAgUBAoOEkHCwoCBYGCQMHbHcGCgkBBoCBQcN0RLCgIFAQKAgXX\n",
       "HcGCgkBBoCBQcJIOFhQECgIFgYKTdLCgIFAQKAgUfHEYLCgIFAQKAoXxV+E7CwoCBYGCQMFJOlhQ\n",
       "ECgIFAQKvjgMFhQECgIFgYIvDoMFBYGCQEGg4CQdLCgIFAQKAgUn6WBBQaAgUBAozPF6x8qCgkBB\n",
       "oCBQcN0RLCgIFAQKAgXXHcGCgkBBoCBQcJIOFhQECgIFgYJ/RBssKAgUBAoCBf+INlhQECgIFAQK\n",
       "3u4IFhQECgIFgYIfWAoWFAQKAgWBgh9YChYUBAoCBYGCLw6DBQWBgkBBoOAVvGBBQaAgUBAo+GOW\n",
       "YEFBoCBQECg4SQcLCgIFgYJAwSt4wYKCQEGgIFDwCl6woCBQECgIFJykgwUFgYJAQaDgFbxgQUGg\n",
       "IFAQKPjtjmBBQaAgUBAouO4IFhQECgIFgYIvDoMFBYGCQEGg4CQdLCgIFAQKAgUn6WBBQaAgUBAo\n",
       "OEkHCwoCBYGCQMFDOlhQECgIFAQKrjuCBQWBgkBBoOAkHSwoCBQECgIFJ+lgQUGgIFAQKDhJBwsK\n",
       "AgWBgkDBb3cECwoCBYGCQMGP/gcLCgIFgYJAwXVHsKAgUBAoCBTmPp7SGwsKAgWBgkDBSTpYUBAo\n",
       "CBQECr44DBYUBAoCBYGCLw6DBQWBgkBBoOC6I1hQECgIFAQKvjgMFhQECgIFgYKTdLCgIFAQKAgU\n",
       "/HZHsKAgUBAoCBTmeL1jZUFBoCBQECh4uyNYUBAoCBQECnOdpFcWFAQKAgWBgpN0sKAgUBAoCBTc\n",
       "SQcLCgIFgYJAwdsdwYKCQEGgIFCY449ZVhYUBAoCBYGC645gQUGgIFAQKPiz8GBBQaAgUBAoeLsj\n",
       "WFAQKAgUBArupIMFBYGCQEGg4LojWFAQKAgUBApzHhceGwsKAgWBgkDBdUewoCBQECgIFDykgwUF\n",
       "gYJAQaDgTjpYUBAoCBQECu6kgwUFgYJAQaAw5+ckvbGgIFAQKAgUnKSDBQWBgkBBoDDXQ3plQUGg\n",
       "IFAQKDhJBwsKAgWBgkBhzs9DemNBQaAgUBAoOEkHCwoCBYGCQMGddLCgIFAQKAgUnKSDBQWBgkBB\n",
       "oOAhHSwoCBQECgIFXxwGCwoCBYGCQGHu8+ftz/BpFhQECgIFgYLrjmBBQaAgUBAoeLsjWFAQKAgU\n",
       "BApzruuOjQUFgYJAQaDgJB0sKAgUBAoChTm+OFxZUBAoCBQECk7SwYKCQEGgIFBwkg4WFAQKAgWB\n",
       "wtzrJL2xoCBQECgIFFx3BAsKAgWBgkDBK3jBgoJAQaAgUHCSDhYUBAoCBYHCXCfplQUFgYJAQaDg\n",
       "JB0sKAgUBAoChTne7lhZUBAoCBQECn6qNFhQECgIFAQK3pMOFhQECgIFgYI76WBBQaAgUBAoOEkH\n",
       "CwoCBYGCQMFDOlhQECgIFAQKvjgMFhQECgIFgYKTdLCgIFAQKAgU5vHF4cqCgkBBoCBQcJIOFhQE\n",
       "CgIFgYJX8IIFBYGCQEGgMI+T9MqCgkBBoCBQ8HZHsKAgUBAoCBR8cRgsKAgUBAoCBdcdwYKCQEGg\n",
       "IFCY+9y3P8OnWVAQKAgUBAquO4IFBYGCQEGgMI+T9MqCgkBBoCBQ+A/jb+0RKGG/3QAAAABJRU5E\n",
       "rkJggg==\n",
       "\" transform=\"translate(2161, 126)\"/>\n",
       "</g>\n",
       "<path clip-path=\"url(#clip310)\" d=\"M2280.7 1389.53 Q2277.09 1389.53 2275.26 1393.09 Q2273.45 1396.63 2273.45 1403.76 Q2273.45 1410.87 2275.26 1414.43 Q2277.09 1417.98 2280.7 1417.98 Q2284.33 1417.98 2286.14 1414.43 Q2287.97 1410.87 2287.97 1403.76 Q2287.97 1396.63 2286.14 1393.09 Q2284.33 1389.53 2280.7 1389.53 M2280.7 1385.82 Q2286.51 1385.82 2289.57 1390.43 Q2292.64 1395.01 2292.64 1403.76 Q2292.64 1412.49 2289.57 1417.1 Q2286.51 1421.68 2280.7 1421.68 Q2274.89 1421.68 2271.81 1417.1 Q2268.76 1412.49 2268.76 1403.76 Q2268.76 1395.01 2271.81 1390.43 Q2274.89 1385.82 2280.7 1385.82 Z\" fill=\"#000000\" fill-rule=\"evenodd\" fill-opacity=\"1\" /><path clip-path=\"url(#clip310)\" d=\"M2280.7 1261.43 Q2277.09 1261.43 2275.26 1264.99 Q2273.45 1268.53 2273.45 1275.66 Q2273.45 1282.77 2275.26 1286.33 Q2277.09 1289.87 2280.7 1289.87 Q2284.33 1289.87 2286.14 1286.33 Q2287.97 1282.77 2287.97 1275.66 Q2287.97 1268.53 2286.14 1264.99 Q2284.33 1261.43 2280.7 1261.43 M2280.7 1257.72 Q2286.51 1257.72 2289.57 1262.33 Q2292.64 1266.91 2292.64 1275.66 Q2292.64 1284.39 2289.57 1288.99 Q2286.51 1293.58 2280.7 1293.58 Q2274.89 1293.58 2271.81 1288.99 Q2268.76 1284.39 2268.76 1275.66 Q2268.76 1266.91 2271.81 1262.33 Q2274.89 1257.72 2280.7 1257.72 Z\" fill=\"#000000\" fill-rule=\"evenodd\" fill-opacity=\"1\" /><path clip-path=\"url(#clip310)\" d=\"M2300.86 1287.03 L2305.75 1287.03 L2305.75 1292.91 L2300.86 1292.91 L2300.86 1287.03 Z\" fill=\"#000000\" fill-rule=\"evenodd\" fill-opacity=\"1\" /><path clip-path=\"url(#clip310)\" d=\"M2316.74 1288.97 L2324.38 1288.97 L2324.38 1262.61 L2316.07 1264.27 L2316.07 1260.01 L2324.33 1258.35 L2329.01 1258.35 L2329.01 1288.97 L2336.65 1288.97 L2336.65 1292.91 L2316.74 1292.91 L2316.74 1288.97 Z\" fill=\"#000000\" fill-rule=\"evenodd\" fill-opacity=\"1\" /><path clip-path=\"url(#clip310)\" d=\"M2280.7 1133.32 Q2277.09 1133.32 2275.26 1136.89 Q2273.45 1140.43 2273.45 1147.56 Q2273.45 1154.67 2275.26 1158.23 Q2277.09 1161.77 2280.7 1161.77 Q2284.33 1161.77 2286.14 1158.23 Q2287.97 1154.67 2287.97 1147.56 Q2287.97 1140.43 2286.14 1136.89 Q2284.33 1133.32 2280.7 1133.32 M2280.7 1129.62 Q2286.51 1129.62 2289.57 1134.23 Q2292.64 1138.81 2292.64 1147.56 Q2292.64 1156.29 2289.57 1160.89 Q2286.51 1165.48 2280.7 1165.48 Q2274.89 1165.48 2271.81 1160.89 Q2268.76 1156.29 2268.76 1147.56 Q2268.76 1138.81 2271.81 1134.23 Q2274.89 1129.62 2280.7 1129.62 Z\" fill=\"#000000\" fill-rule=\"evenodd\" fill-opacity=\"1\" /><path clip-path=\"url(#clip310)\" d=\"M2300.86 1158.92 L2305.75 1158.92 L2305.75 1164.8 L2300.86 1164.8 L2300.86 1158.92 Z\" fill=\"#000000\" fill-rule=\"evenodd\" fill-opacity=\"1\" /><path clip-path=\"url(#clip310)\" d=\"M2319.96 1160.87 L2336.28 1160.87 L2336.28 1164.8 L2314.33 1164.8 L2314.33 1160.87 Q2317 1158.11 2321.58 1153.48 Q2326.19 1148.83 2327.37 1147.49 Q2329.61 1144.97 2330.49 1143.23 Q2331.39 1141.47 2331.39 1139.78 Q2331.39 1137.03 2329.45 1135.29 Q2327.53 1133.55 2324.43 1133.55 Q2322.23 1133.55 2319.77 1134.32 Q2317.34 1135.08 2314.57 1136.63 L2314.57 1131.91 Q2317.39 1130.78 2319.84 1130.2 Q2322.3 1129.62 2324.33 1129.62 Q2329.7 1129.62 2332.9 1132.3 Q2336.09 1134.99 2336.09 1139.48 Q2336.09 1141.61 2335.28 1143.53 Q2334.5 1145.43 2332.39 1148.02 Q2331.81 1148.69 2328.71 1151.91 Q2325.61 1155.11 2319.96 1160.87 Z\" fill=\"#000000\" fill-rule=\"evenodd\" fill-opacity=\"1\" /><path clip-path=\"url(#clip310)\" d=\"M2280.7 1005.22 Q2277.09 1005.22 2275.26 1008.79 Q2273.45 1012.33 2273.45 1019.46 Q2273.45 1026.56 2275.26 1030.13 Q2277.09 1033.67 2280.7 1033.67 Q2284.33 1033.67 2286.14 1030.13 Q2287.97 1026.56 2287.97 1019.46 Q2287.97 1012.33 2286.14 1008.79 Q2284.33 1005.22 2280.7 1005.22 M2280.7 1001.52 Q2286.51 1001.52 2289.57 1006.12 Q2292.64 1010.71 2292.64 1019.46 Q2292.64 1028.18 2289.57 1032.79 Q2286.51 1037.37 2280.7 1037.37 Q2274.89 1037.37 2271.81 1032.79 Q2268.76 1028.18 2268.76 1019.46 Q2268.76 1010.71 2271.81 1006.12 Q2274.89 1001.52 2280.7 1001.52 Z\" fill=\"#000000\" fill-rule=\"evenodd\" fill-opacity=\"1\" /><path clip-path=\"url(#clip310)\" d=\"M2300.86 1030.82 L2305.75 1030.82 L2305.75 1036.7 L2300.86 1036.7 L2300.86 1030.82 Z\" fill=\"#000000\" fill-rule=\"evenodd\" fill-opacity=\"1\" /><path clip-path=\"url(#clip310)\" d=\"M2330.1 1018.07 Q2333.45 1018.79 2335.33 1021.05 Q2337.23 1023.32 2337.23 1026.66 Q2337.23 1031.77 2333.71 1034.57 Q2330.19 1037.37 2323.71 1037.37 Q2321.53 1037.37 2319.22 1036.93 Q2316.93 1036.52 2314.47 1035.66 L2314.47 1031.15 Q2316.42 1032.28 2318.73 1032.86 Q2321.05 1033.44 2323.57 1033.44 Q2327.97 1033.44 2330.26 1031.7 Q2332.58 1029.97 2332.58 1026.66 Q2332.58 1023.6 2330.42 1021.89 Q2328.29 1020.15 2324.47 1020.15 L2320.45 1020.15 L2320.45 1016.31 L2324.66 1016.31 Q2328.11 1016.31 2329.94 1014.94 Q2331.76 1013.55 2331.76 1010.96 Q2331.76 1008.3 2329.87 1006.89 Q2327.99 1005.45 2324.47 1005.45 Q2322.55 1005.45 2320.35 1005.87 Q2318.15 1006.29 2315.51 1007.16 L2315.51 1003 Q2318.18 1002.26 2320.49 1001.89 Q2322.83 1001.52 2324.89 1001.52 Q2330.21 1001.52 2333.32 1003.95 Q2336.42 1006.35 2336.42 1010.48 Q2336.42 1013.35 2334.77 1015.34 Q2333.13 1017.3 2330.1 1018.07 Z\" fill=\"#000000\" fill-rule=\"evenodd\" fill-opacity=\"1\" /><path clip-path=\"url(#clip310)\" d=\"M2280.7 877.118 Q2277.09 877.118 2275.26 880.683 Q2273.45 884.225 2273.45 891.354 Q2273.45 898.461 2275.26 902.025 Q2277.09 905.567 2280.7 905.567 Q2284.33 905.567 2286.14 902.025 Q2287.97 898.461 2287.97 891.354 Q2287.97 884.225 2286.14 880.683 Q2284.33 877.118 2280.7 877.118 M2280.7 873.414 Q2286.51 873.414 2289.57 878.021 Q2292.64 882.604 2292.64 891.354 Q2292.64 900.081 2289.57 904.687 Q2286.51 909.271 2280.7 909.271 Q2274.89 909.271 2271.81 904.687 Q2268.76 900.081 2268.76 891.354 Q2268.76 882.604 2271.81 878.021 Q2274.89 873.414 2280.7 873.414 Z\" fill=\"#000000\" fill-rule=\"evenodd\" fill-opacity=\"1\" /><path clip-path=\"url(#clip310)\" d=\"M2300.86 902.72 L2305.75 902.72 L2305.75 908.599 L2300.86 908.599 L2300.86 902.72 Z\" fill=\"#000000\" fill-rule=\"evenodd\" fill-opacity=\"1\" /><path clip-path=\"url(#clip310)\" d=\"M2328.78 878.114 L2316.97 896.563 L2328.78 896.563 L2328.78 878.114 M2327.55 874.039 L2333.43 874.039 L2333.43 896.563 L2338.36 896.563 L2338.36 900.451 L2333.43 900.451 L2333.43 908.599 L2328.78 908.599 L2328.78 900.451 L2313.18 900.451 L2313.18 895.938 L2327.55 874.039 Z\" fill=\"#000000\" fill-rule=\"evenodd\" fill-opacity=\"1\" /><path clip-path=\"url(#clip310)\" d=\"M2280.7 749.016 Q2277.09 749.016 2275.26 752.581 Q2273.45 756.122 2273.45 763.252 Q2273.45 770.358 2275.26 773.923 Q2277.09 777.465 2280.7 777.465 Q2284.33 777.465 2286.14 773.923 Q2287.97 770.358 2287.97 763.252 Q2287.97 756.122 2286.14 752.581 Q2284.33 749.016 2280.7 749.016 M2280.7 745.312 Q2286.51 745.312 2289.57 749.919 Q2292.64 754.502 2292.64 763.252 Q2292.64 771.979 2289.57 776.585 Q2286.51 781.168 2280.7 781.168 Q2274.89 781.168 2271.81 776.585 Q2268.76 771.979 2268.76 763.252 Q2268.76 754.502 2271.81 749.919 Q2274.89 745.312 2280.7 745.312 Z\" fill=\"#000000\" fill-rule=\"evenodd\" fill-opacity=\"1\" /><path clip-path=\"url(#clip310)\" d=\"M2300.86 774.618 L2305.75 774.618 L2305.75 780.497 L2300.86 780.497 L2300.86 774.618 Z\" fill=\"#000000\" fill-rule=\"evenodd\" fill-opacity=\"1\" /><path clip-path=\"url(#clip310)\" d=\"M2315.98 745.937 L2334.33 745.937 L2334.33 749.872 L2320.26 749.872 L2320.26 758.345 Q2321.28 757.997 2322.3 757.835 Q2323.32 757.65 2324.33 757.65 Q2330.12 757.65 2333.5 760.821 Q2336.88 763.993 2336.88 769.409 Q2336.88 774.988 2333.41 778.09 Q2329.94 781.168 2323.62 781.168 Q2321.44 781.168 2319.17 780.798 Q2316.93 780.428 2314.52 779.687 L2314.52 774.988 Q2316.6 776.122 2318.83 776.678 Q2321.05 777.233 2323.52 777.233 Q2327.53 777.233 2329.87 775.127 Q2332.2 773.02 2332.2 769.409 Q2332.2 765.798 2329.87 763.692 Q2327.53 761.585 2323.52 761.585 Q2321.65 761.585 2319.77 762.002 Q2317.92 762.419 2315.98 763.298 L2315.98 745.937 Z\" fill=\"#000000\" fill-rule=\"evenodd\" fill-opacity=\"1\" /><path clip-path=\"url(#clip310)\" d=\"M2280.7 620.914 Q2277.09 620.914 2275.26 624.478 Q2273.45 628.02 2273.45 635.15 Q2273.45 642.256 2275.26 645.821 Q2277.09 649.362 2280.7 649.362 Q2284.33 649.362 2286.14 645.821 Q2287.97 642.256 2287.97 635.15 Q2287.97 628.02 2286.14 624.478 Q2284.33 620.914 2280.7 620.914 M2280.7 617.21 Q2286.51 617.21 2289.57 621.816 Q2292.64 626.4 2292.64 635.15 Q2292.64 643.876 2289.57 648.483 Q2286.51 653.066 2280.7 653.066 Q2274.89 653.066 2271.81 648.483 Q2268.76 643.876 2268.76 635.15 Q2268.76 626.4 2271.81 621.816 Q2274.89 617.21 2280.7 617.21 Z\" fill=\"#000000\" fill-rule=\"evenodd\" fill-opacity=\"1\" /><path clip-path=\"url(#clip310)\" d=\"M2300.86 646.515 L2305.75 646.515 L2305.75 652.395 L2300.86 652.395 L2300.86 646.515 Z\" fill=\"#000000\" fill-rule=\"evenodd\" fill-opacity=\"1\" /><path clip-path=\"url(#clip310)\" d=\"M2326.51 633.251 Q2323.36 633.251 2321.51 635.404 Q2319.68 637.557 2319.68 641.307 Q2319.68 645.034 2321.51 647.21 Q2323.36 649.362 2326.51 649.362 Q2329.66 649.362 2331.49 647.21 Q2333.34 645.034 2333.34 641.307 Q2333.34 637.557 2331.49 635.404 Q2329.66 633.251 2326.51 633.251 M2335.79 618.599 L2335.79 622.858 Q2334.03 622.025 2332.23 621.585 Q2330.45 621.145 2328.69 621.145 Q2324.06 621.145 2321.6 624.27 Q2319.17 627.395 2318.83 633.714 Q2320.19 631.701 2322.25 630.636 Q2324.31 629.548 2326.79 629.548 Q2332 629.548 2335.01 632.719 Q2338.04 635.867 2338.04 641.307 Q2338.04 646.631 2334.89 649.849 Q2331.74 653.066 2326.51 653.066 Q2320.51 653.066 2317.34 648.483 Q2314.17 643.876 2314.17 635.15 Q2314.17 626.955 2318.06 622.094 Q2321.95 617.21 2328.5 617.21 Q2330.26 617.21 2332.04 617.557 Q2333.85 617.904 2335.79 618.599 Z\" fill=\"#000000\" fill-rule=\"evenodd\" fill-opacity=\"1\" /><path clip-path=\"url(#clip310)\" d=\"M2280.7 492.811 Q2277.09 492.811 2275.26 496.376 Q2273.45 499.918 2273.45 507.047 Q2273.45 514.154 2275.26 517.719 Q2277.09 521.26 2280.7 521.26 Q2284.33 521.26 2286.14 517.719 Q2287.97 514.154 2287.97 507.047 Q2287.97 499.918 2286.14 496.376 Q2284.33 492.811 2280.7 492.811 M2280.7 489.108 Q2286.51 489.108 2289.57 493.714 Q2292.64 498.297 2292.64 507.047 Q2292.64 515.774 2289.57 520.381 Q2286.51 524.964 2280.7 524.964 Q2274.89 524.964 2271.81 520.381 Q2268.76 515.774 2268.76 507.047 Q2268.76 498.297 2271.81 493.714 Q2274.89 489.108 2280.7 489.108 Z\" fill=\"#000000\" fill-rule=\"evenodd\" fill-opacity=\"1\" /><path clip-path=\"url(#clip310)\" d=\"M2300.86 518.413 L2305.75 518.413 L2305.75 524.293 L2300.86 524.293 L2300.86 518.413 Z\" fill=\"#000000\" fill-rule=\"evenodd\" fill-opacity=\"1\" /><path clip-path=\"url(#clip310)\" d=\"M2314.75 489.733 L2336.97 489.733 L2336.97 491.723 L2324.43 524.293 L2319.54 524.293 L2331.35 493.668 L2314.75 493.668 L2314.75 489.733 Z\" fill=\"#000000\" fill-rule=\"evenodd\" fill-opacity=\"1\" /><path clip-path=\"url(#clip310)\" d=\"M2280.7 364.709 Q2277.09 364.709 2275.26 368.274 Q2273.45 371.815 2273.45 378.945 Q2273.45 386.051 2275.26 389.616 Q2277.09 393.158 2280.7 393.158 Q2284.33 393.158 2286.14 389.616 Q2287.97 386.051 2287.97 378.945 Q2287.97 371.815 2286.14 368.274 Q2284.33 364.709 2280.7 364.709 M2280.7 361.005 Q2286.51 361.005 2289.57 365.612 Q2292.64 370.195 2292.64 378.945 Q2292.64 387.672 2289.57 392.278 Q2286.51 396.862 2280.7 396.862 Q2274.89 396.862 2271.81 392.278 Q2268.76 387.672 2268.76 378.945 Q2268.76 370.195 2271.81 365.612 Q2274.89 361.005 2280.7 361.005 Z\" fill=\"#000000\" fill-rule=\"evenodd\" fill-opacity=\"1\" /><path clip-path=\"url(#clip310)\" d=\"M2300.86 390.311 L2305.75 390.311 L2305.75 396.19 L2300.86 396.19 L2300.86 390.311 Z\" fill=\"#000000\" fill-rule=\"evenodd\" fill-opacity=\"1\" /><path clip-path=\"url(#clip310)\" d=\"M2325.93 379.778 Q2322.6 379.778 2320.68 381.561 Q2318.78 383.343 2318.78 386.468 Q2318.78 389.593 2320.68 391.375 Q2322.6 393.158 2325.93 393.158 Q2329.26 393.158 2331.19 391.375 Q2333.11 389.57 2333.11 386.468 Q2333.11 383.343 2331.19 381.561 Q2329.29 379.778 2325.93 379.778 M2321.26 377.788 Q2318.25 377.047 2316.56 374.987 Q2314.89 372.927 2314.89 369.964 Q2314.89 365.82 2317.83 363.413 Q2320.79 361.005 2325.93 361.005 Q2331.09 361.005 2334.03 363.413 Q2336.97 365.82 2336.97 369.964 Q2336.97 372.927 2335.28 374.987 Q2333.62 377.047 2330.63 377.788 Q2334.01 378.575 2335.89 380.866 Q2337.78 383.158 2337.78 386.468 Q2337.78 391.491 2334.7 394.176 Q2331.65 396.862 2325.93 396.862 Q2320.21 396.862 2317.14 394.176 Q2314.08 391.491 2314.08 386.468 Q2314.08 383.158 2315.98 380.866 Q2317.88 378.575 2321.26 377.788 M2319.54 370.403 Q2319.54 373.089 2321.21 374.593 Q2322.9 376.098 2325.93 376.098 Q2328.94 376.098 2330.63 374.593 Q2332.34 373.089 2332.34 370.403 Q2332.34 367.718 2330.63 366.214 Q2328.94 364.709 2325.93 364.709 Q2322.9 364.709 2321.21 366.214 Q2319.54 367.718 2319.54 370.403 Z\" fill=\"#000000\" fill-rule=\"evenodd\" fill-opacity=\"1\" /><path clip-path=\"url(#clip310)\" d=\"M2280.7 236.607 Q2277.09 236.607 2275.26 240.171 Q2273.45 243.713 2273.45 250.843 Q2273.45 257.949 2275.26 261.514 Q2277.09 265.056 2280.7 265.056 Q2284.33 265.056 2286.14 261.514 Q2287.97 257.949 2287.97 250.843 Q2287.97 243.713 2286.14 240.171 Q2284.33 236.607 2280.7 236.607 M2280.7 232.903 Q2286.51 232.903 2289.57 237.509 Q2292.64 242.093 2292.64 250.843 Q2292.64 259.569 2289.57 264.176 Q2286.51 268.759 2280.7 268.759 Q2274.89 268.759 2271.81 264.176 Q2268.76 259.569 2268.76 250.843 Q2268.76 242.093 2271.81 237.509 Q2274.89 232.903 2280.7 232.903 Z\" fill=\"#000000\" fill-rule=\"evenodd\" fill-opacity=\"1\" /><path clip-path=\"url(#clip310)\" d=\"M2300.86 262.208 L2305.75 262.208 L2305.75 268.088 L2300.86 268.088 L2300.86 262.208 Z\" fill=\"#000000\" fill-rule=\"evenodd\" fill-opacity=\"1\" /><path clip-path=\"url(#clip310)\" d=\"M2316.07 267.37 L2316.07 263.111 Q2317.83 263.944 2319.64 264.384 Q2321.44 264.824 2323.18 264.824 Q2327.81 264.824 2330.24 261.722 Q2332.69 258.597 2333.04 252.255 Q2331.7 254.245 2329.64 255.31 Q2327.58 256.375 2325.08 256.375 Q2319.89 256.375 2316.86 253.25 Q2313.85 250.102 2313.85 244.662 Q2313.85 239.338 2317 236.121 Q2320.14 232.903 2325.38 232.903 Q2331.37 232.903 2334.52 237.509 Q2337.69 242.093 2337.69 250.843 Q2337.69 259.014 2333.8 263.898 Q2329.94 268.759 2323.39 268.759 Q2321.63 268.759 2319.82 268.412 Q2318.01 268.065 2316.07 267.37 M2325.38 252.718 Q2328.52 252.718 2330.35 250.565 Q2332.2 248.412 2332.2 244.662 Q2332.2 240.935 2330.35 238.783 Q2328.52 236.607 2325.38 236.607 Q2322.23 236.607 2320.38 238.783 Q2318.55 240.935 2318.55 244.662 Q2318.55 248.412 2320.38 250.565 Q2322.23 252.718 2325.38 252.718 Z\" fill=\"#000000\" fill-rule=\"evenodd\" fill-opacity=\"1\" /><path clip-path=\"url(#clip310)\" d=\"M2269.43 136.05 L2277.07 136.05 L2277.07 109.685 L2268.76 111.352 L2268.76 107.092 L2277.02 105.426 L2281.7 105.426 L2281.7 136.05 L2289.33 136.05 L2289.33 139.986 L2269.43 139.986 L2269.43 136.05 Z\" fill=\"#000000\" fill-rule=\"evenodd\" fill-opacity=\"1\" /><path clip-path=\"url(#clip310)\" d=\"M2298.78 134.106 L2303.66 134.106 L2303.66 139.986 L2298.78 139.986 L2298.78 134.106 Z\" fill=\"#000000\" fill-rule=\"evenodd\" fill-opacity=\"1\" /><path clip-path=\"url(#clip310)\" d=\"M2323.85 108.504 Q2320.24 108.504 2318.41 112.069 Q2316.6 115.611 2316.6 122.74 Q2316.6 129.847 2318.41 133.412 Q2320.24 136.953 2323.85 136.953 Q2327.48 136.953 2329.29 133.412 Q2331.12 129.847 2331.12 122.74 Q2331.12 115.611 2329.29 112.069 Q2327.48 108.504 2323.85 108.504 M2323.85 104.801 Q2329.66 104.801 2332.71 109.407 Q2335.79 113.99 2335.79 122.74 Q2335.79 131.467 2332.71 136.074 Q2329.66 140.657 2323.85 140.657 Q2318.04 140.657 2314.96 136.074 Q2311.9 131.467 2311.9 122.74 Q2311.9 113.99 2314.96 109.407 Q2318.04 104.801 2323.85 104.801 Z\" fill=\"#000000\" fill-rule=\"evenodd\" fill-opacity=\"1\" /><polyline clip-path=\"url(#clip310)\" style=\"stroke:#000000; stroke-linecap:round; stroke-linejoin:round; stroke-width:4; stroke-opacity:1; fill:none\" points=\"\n",
       "  2232.76,1407.36 2232.76,1407.36 2256.76,1407.36 2232.76,1407.36 2232.76,1279.26 2256.76,1279.26 2232.76,1279.26 2232.76,1151.15 2256.76,1151.15 2232.76,1151.15 \n",
       "  2232.76,1023.05 2256.76,1023.05 2232.76,1023.05 2232.76,894.948 2256.76,894.948 2232.76,894.948 2232.76,766.846 2256.76,766.846 2232.76,766.846 2232.76,638.744 \n",
       "  2256.76,638.744 2232.76,638.744 2232.76,510.641 2256.76,510.641 2232.76,510.641 2232.76,382.539 2256.76,382.539 2232.76,382.539 2232.76,254.437 2256.76,254.437 \n",
       "  2232.76,254.437 2232.76,126.334 2256.76,126.334 2232.76,126.334 \n",
       "  \"/>\n",
       "</svg>\n"
      ]
     },
     "execution_count": 50,
     "metadata": {},
     "output_type": "execute_result"
    }
   ],
   "source": [
    "using Plots\n",
    "(n,StepMax)=(123,3);\n",
    "Board=zeros(Int64,n+2,n+2); Board[2:n+1,2:n+1]=rand((0,1),n,n)\n",
    "Counts=zeros(Int64,n+2,n+2)\n",
    "for step in 1:StepMax\n",
    "    LifeStep(Board,Counts)\n",
    "end\n",
    "heatmap(Board,aspect_ratio=:equal)"
   ]
  },
  {
   "cell_type": "code",
   "execution_count": null,
   "id": "fa965154-d548-46d4-82ce-6e19be1b12ce",
   "metadata": {},
   "outputs": [],
   "source": []
  }
 ],
 "metadata": {
  "kernelspec": {
   "display_name": "Julia 1.6.3",
   "language": "julia",
   "name": "julia-1.6"
  },
  "language_info": {
   "file_extension": ".jl",
   "mimetype": "application/julia",
   "name": "julia",
   "version": "1.6.3"
  }
 },
 "nbformat": 4,
 "nbformat_minor": 5
}

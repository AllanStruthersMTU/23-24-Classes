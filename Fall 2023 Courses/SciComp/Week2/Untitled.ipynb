{
 "cells": [
  {
   "cell_type": "code",
   "execution_count": 8,
   "id": "7ac37fec-20e7-4073-a46f-216fc4db2893",
   "metadata": {},
   "outputs": [
    {
     "data": {
      "text/plain": [
       "4×4 Matrix{Float64}:\n",
       " 0.599588  0.054182    0.509785  0.382123\n",
       " 0.054182  0.00489618  0.046067  0.0345307\n",
       " 0.509785  0.046067    0.433433  0.324891\n",
       " 0.382123  0.0345307   0.324891  0.243531"
      ]
     },
     "metadata": {},
     "output_type": "display_data"
    },
    {
     "data": {
      "text/plain": [
       "4×4 Matrix{Float64}:\n",
       " 0.599588  0.054182    0.509785  0.382123\n",
       " 0.054182  0.00489618  0.046067  0.0345307\n",
       " 0.509785  0.046067    0.433433  0.324891\n",
       " 0.382123  0.0345307   0.324891  0.243531"
      ]
     },
     "metadata": {},
     "output_type": "display_data"
    }
   ],
   "source": [
    "m=4;\n",
    "u=rand(m)\n",
    "display(u*u')\n",
    "display(kron(u,u'))"
   ]
  },
  {
   "cell_type": "code",
   "execution_count": null,
   "id": "e05445c7-fb5a-4c4f-898f-c02e53ba4305",
   "metadata": {},
   "outputs": [],
   "source": []
  }
 ],
 "metadata": {
  "kernelspec": {
   "display_name": "Julia 1.6.3",
   "language": "julia",
   "name": "julia-1.6"
  },
  "language_info": {
   "file_extension": ".jl",
   "mimetype": "application/julia",
   "name": "julia",
   "version": "1.6.3"
  }
 },
 "nbformat": 4,
 "nbformat_minor": 5
}

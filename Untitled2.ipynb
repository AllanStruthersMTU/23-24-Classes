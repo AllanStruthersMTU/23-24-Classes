{
 "cells": [
  {
   "cell_type": "code",
   "execution_count": 1,
   "id": "be3717c9-ed29-4215-967c-78d65fd62eff",
   "metadata": {},
   "outputs": [
    {
     "name": "stdout",
     "output_type": "stream",
     "text": [
      "[0.99999336 0.9999867 ]\n"
     ]
    }
   ],
   "source": [
    "import numpy as np\n",
    "from scipy.optimize import minimize\n",
    "\n",
    "# Define the objective function\n",
    "def rosenbrock(x):\n",
    "    n=100\n",
    "    sum = 0.0\n",
    "    for i in range(1,n-1)\n",
    "    sum+= 100 * (x[1] - x[0]**2)**2 + (x[0] - 1)**2\n",
    "\n",
    "# Initial guess\n",
    "x0 = np.array([-1.2, 1.0])\n",
    "\n",
    "# Minimize the function\n",
    "res = minimize(rosenbrock, x0, method='BFGS')\n",
    "\n",
    "print(res.x) # Optimized values"
   ]
  },
  {
   "cell_type": "code",
   "execution_count": null,
   "id": "1a56986a-06f3-4131-b4e0-837da71fbf85",
   "metadata": {},
   "outputs": [],
   "source": []
  }
 ],
 "metadata": {
  "kernelspec": {
   "display_name": "Python 3",
   "language": "python",
   "name": "python3"
  },
  "language_info": {
   "codemirror_mode": {
    "name": "ipython",
    "version": 3
   },
   "file_extension": ".py",
   "mimetype": "text/x-python",
   "name": "python",
   "nbconvert_exporter": "python",
   "pygments_lexer": "ipython3",
   "version": "3.8.8"
  }
 },
 "nbformat": 4,
 "nbformat_minor": 5
}
